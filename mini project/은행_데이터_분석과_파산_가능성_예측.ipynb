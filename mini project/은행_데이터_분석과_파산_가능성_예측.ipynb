{
  "cells": [
    {
      "cell_type": "markdown",
      "id": "aQMvjmpgY6AI",
      "metadata": {
        "id": "aQMvjmpgY6AI"
      },
      "source": [
        "# 은행 데이터 분석과 파산 가능성 예측"
      ]
    },
    {
      "cell_type": "markdown",
      "id": "1avAH6R8ZGCE",
      "metadata": {
        "id": "1avAH6R8ZGCE"
      },
      "source": [
        "### 데이터 분석 목적\n",
        "- 은행별 운영 데이터를 분석하여 파산 가능성을 예측한다\n",
        "- 이를 이용해 은행별 신용도를 파악하고, 기업 운영 자금 조달 및 보관할 때 활용한다\n",
        "\n",
        "### Key Point\n",
        "- Anomaly Detection과 같이 매우 imbalanced data set을 탐색하고 분석하는 방법을 배운다\n",
        "- 통계적 검정을 통한 feature selection 방법을 배운다\n",
        "- Anomaly Detection을 다양한 방법으로 푸는 방법에 대해 배운다\n"
      ]
    },
    {
      "cell_type": "code",
      "execution_count": null,
      "id": "Le8F0kWyfvwq",
      "metadata": {
        "id": "Le8F0kWyfvwq"
      },
      "outputs": [],
      "source": [
        "!pip install shap"
      ]
    },
    {
      "cell_type": "code",
      "execution_count": null,
      "id": "6FTg_fCBZNKH",
      "metadata": {
        "colab": {
          "base_uri": "https://localhost:8080/"
        },
        "id": "6FTg_fCBZNKH",
        "outputId": "f69d1d09-f1e5-41e8-ed09-b0f9b60b66f4"
      },
      "outputs": [
        {
          "name": "stdout",
          "output_type": "stream",
          "text": [
            "Mounted at /content/drive\n"
          ]
        }
      ],
      "source": [
        "from google.colab import drive\n",
        "drive.mount('/content/drive')"
      ]
    },
    {
      "cell_type": "code",
      "execution_count": null,
      "id": "4PO9-GMJZMXK",
      "metadata": {
        "id": "4PO9-GMJZMXK"
      },
      "outputs": [],
      "source": [
        "# library for feature engineering and EDA\n",
        "import pandas as pd\n",
        "import numpy as np\n",
        "\n",
        "import seaborn as sns\n",
        "import matplotlib.pyplot as plt\n",
        "from IPython.display import Image\n",
        "from datetime import datetime\n",
        "import random\n",
        "\n",
        "# library for statistic\n",
        "from scipy import stats\n",
        "from scipy.stats import chi2_contingency, kruskal\n",
        "from scipy.stats import boxcox, norm\n",
        "from scipy.stats import skew\n",
        "from scipy.stats import kurtosis\n",
        "from scipy.stats import uniform as sp_randFloat\n",
        "from scipy.stats import randint as sp_randInt\n",
        "from statsmodels.stats.outliers_influence import variance_inflation_factor\n",
        "import statsmodels.api as sm\n",
        "from statsmodels.formula.api import ols\n",
        "\n",
        "# library for sampling\n",
        "from imblearn.combine import SMOTEENN\n",
        "from imblearn.over_sampling import SMOTE\n",
        "from imblearn.over_sampling import SVMSMOTE\n",
        "\n",
        "# library for machine learning\n",
        "import sklearn\n",
        "from sklearn.impute import KNNImputer\n",
        "from sklearn.preprocessing import LabelEncoder\n",
        "from sklearn.preprocessing import StandardScaler\n",
        "from sklearn.preprocessing import MinMaxScaler\n",
        "from sklearn.model_selection import train_test_split\n",
        "from sklearn.metrics import roc_auc_score\n",
        "from sklearn.metrics import precision_recall_fscore_support\n",
        "from sklearn.model_selection import RandomizedSearchCV\n",
        "from sklearn.model_selection import StratifiedKFold\n",
        "from sklearn.ensemble import RandomForestClassifier\n",
        "from sklearn.ensemble import IsolationForest\n",
        "from sklearn.metrics import confusion_matrix\n",
        "from sklearn.metrics import roc_curve\n",
        "\n",
        "import shap\n",
        "%matplotlib inline"
      ]
    },
    {
      "cell_type": "markdown",
      "id": "f34788f7",
      "metadata": {
        "id": "f34788f7"
      },
      "source": [
        "## 1. Data Processing 1"
      ]
    },
    {
      "cell_type": "markdown",
      "id": "06778ad5",
      "metadata": {
        "id": "06778ad5"
      },
      "source": [
        "### 1-1 Data Load"
      ]
    },
    {
      "cell_type": "code",
      "execution_count": null,
      "id": "BEwGbmAjZwE-",
      "metadata": {
        "colab": {
          "base_uri": "https://localhost:8080/"
        },
        "id": "BEwGbmAjZwE-",
        "outputId": "5eb9f90d-ad9d-45b4-df0e-81830ebac125"
      },
      "outputs": [
        {
          "name": "stdout",
          "output_type": "stream",
          "text": [
            "/content\n"
          ]
        }
      ],
      "source": [
        "!pwd\n",
        "path_lecture = \"./drive/MyDrive/MLSignature/Lecture/Part4/ch41/\"\n",
        "random_state = 1234"
      ]
    },
    {
      "cell_type": "code",
      "execution_count": null,
      "id": "A0ztDnQqZ26-",
      "metadata": {
        "colab": {
          "base_uri": "https://localhost:8080/",
          "height": 382
        },
        "id": "A0ztDnQqZ26-",
        "outputId": "a7017995-bfdd-4886-afdb-aebec1863f09"
      },
      "outputs": [
        {
          "data": {
            "text/html": [
              "\n",
              "  <div id=\"df-9a5ef662-9006-40e5-8c90-fde9da515c27\">\n",
              "    <div class=\"colab-df-container\">\n",
              "      <div>\n",
              "<style scoped>\n",
              "    .dataframe tbody tr th:only-of-type {\n",
              "        vertical-align: middle;\n",
              "    }\n",
              "\n",
              "    .dataframe tbody tr th {\n",
              "        vertical-align: top;\n",
              "    }\n",
              "\n",
              "    .dataframe thead th {\n",
              "        text-align: right;\n",
              "    }\n",
              "</style>\n",
              "<table border=\"1\" class=\"dataframe\">\n",
              "  <thead>\n",
              "    <tr style=\"text-align: right;\">\n",
              "      <th></th>\n",
              "      <th>Bankrupt?</th>\n",
              "      <th>ROA(C) before interest and depreciation before interest</th>\n",
              "      <th>ROA(A) before interest and % after tax</th>\n",
              "      <th>ROA(B) before interest and depreciation after tax</th>\n",
              "      <th>Operating Gross Margin</th>\n",
              "      <th>Realized Sales Gross Margin</th>\n",
              "      <th>Operating Profit Rate</th>\n",
              "      <th>Pre-tax net Interest Rate</th>\n",
              "      <th>After-tax net Interest Rate</th>\n",
              "      <th>Non-industry income and expenditure/revenue</th>\n",
              "      <th>...</th>\n",
              "      <th>Net Income to Total Assets</th>\n",
              "      <th>Total assets to GNP price</th>\n",
              "      <th>No-credit Interval</th>\n",
              "      <th>Gross Profit to Sales</th>\n",
              "      <th>Net Income to Stockholder's Equity</th>\n",
              "      <th>Liability to Equity</th>\n",
              "      <th>Degree of Financial Leverage (DFL)</th>\n",
              "      <th>Interest Coverage Ratio (Interest expense to EBIT)</th>\n",
              "      <th>Net Income Flag</th>\n",
              "      <th>Equity to Liability</th>\n",
              "    </tr>\n",
              "  </thead>\n",
              "  <tbody>\n",
              "    <tr>\n",
              "      <th>0</th>\n",
              "      <td>1</td>\n",
              "      <td>0.370594</td>\n",
              "      <td>0.424389</td>\n",
              "      <td>0.405750</td>\n",
              "      <td>0.601457</td>\n",
              "      <td>0.601457</td>\n",
              "      <td>0.998969</td>\n",
              "      <td>0.796887</td>\n",
              "      <td>0.808809</td>\n",
              "      <td>0.302646</td>\n",
              "      <td>...</td>\n",
              "      <td>0.716845</td>\n",
              "      <td>0.009219</td>\n",
              "      <td>0.622879</td>\n",
              "      <td>0.601453</td>\n",
              "      <td>0.827890</td>\n",
              "      <td>0.290202</td>\n",
              "      <td>0.026601</td>\n",
              "      <td>0.564050</td>\n",
              "      <td>1</td>\n",
              "      <td>0.016469</td>\n",
              "    </tr>\n",
              "    <tr>\n",
              "      <th>1</th>\n",
              "      <td>1</td>\n",
              "      <td>0.464291</td>\n",
              "      <td>0.538214</td>\n",
              "      <td>0.516730</td>\n",
              "      <td>0.610235</td>\n",
              "      <td>0.610235</td>\n",
              "      <td>0.998946</td>\n",
              "      <td>0.797380</td>\n",
              "      <td>0.809301</td>\n",
              "      <td>0.303556</td>\n",
              "      <td>...</td>\n",
              "      <td>0.795297</td>\n",
              "      <td>0.008323</td>\n",
              "      <td>0.623652</td>\n",
              "      <td>0.610237</td>\n",
              "      <td>0.839969</td>\n",
              "      <td>0.283846</td>\n",
              "      <td>0.264577</td>\n",
              "      <td>0.570175</td>\n",
              "      <td>1</td>\n",
              "      <td>0.020794</td>\n",
              "    </tr>\n",
              "    <tr>\n",
              "      <th>2</th>\n",
              "      <td>1</td>\n",
              "      <td>0.426071</td>\n",
              "      <td>0.499019</td>\n",
              "      <td>0.472295</td>\n",
              "      <td>0.601450</td>\n",
              "      <td>0.601364</td>\n",
              "      <td>0.998857</td>\n",
              "      <td>0.796403</td>\n",
              "      <td>0.808388</td>\n",
              "      <td>0.302035</td>\n",
              "      <td>...</td>\n",
              "      <td>0.774670</td>\n",
              "      <td>0.040003</td>\n",
              "      <td>0.623841</td>\n",
              "      <td>0.601449</td>\n",
              "      <td>0.836774</td>\n",
              "      <td>0.290189</td>\n",
              "      <td>0.026555</td>\n",
              "      <td>0.563706</td>\n",
              "      <td>1</td>\n",
              "      <td>0.016474</td>\n",
              "    </tr>\n",
              "    <tr>\n",
              "      <th>3</th>\n",
              "      <td>1</td>\n",
              "      <td>0.399844</td>\n",
              "      <td>0.451265</td>\n",
              "      <td>0.457733</td>\n",
              "      <td>0.583541</td>\n",
              "      <td>0.583541</td>\n",
              "      <td>0.998700</td>\n",
              "      <td>0.796967</td>\n",
              "      <td>0.808966</td>\n",
              "      <td>0.303350</td>\n",
              "      <td>...</td>\n",
              "      <td>0.739555</td>\n",
              "      <td>0.003252</td>\n",
              "      <td>0.622929</td>\n",
              "      <td>0.583538</td>\n",
              "      <td>0.834697</td>\n",
              "      <td>0.281721</td>\n",
              "      <td>0.026697</td>\n",
              "      <td>0.564663</td>\n",
              "      <td>1</td>\n",
              "      <td>0.023982</td>\n",
              "    </tr>\n",
              "    <tr>\n",
              "      <th>4</th>\n",
              "      <td>1</td>\n",
              "      <td>0.465022</td>\n",
              "      <td>0.538432</td>\n",
              "      <td>0.522298</td>\n",
              "      <td>0.598783</td>\n",
              "      <td>0.598783</td>\n",
              "      <td>0.998973</td>\n",
              "      <td>0.797366</td>\n",
              "      <td>0.809304</td>\n",
              "      <td>0.303475</td>\n",
              "      <td>...</td>\n",
              "      <td>0.795016</td>\n",
              "      <td>0.003878</td>\n",
              "      <td>0.623521</td>\n",
              "      <td>0.598782</td>\n",
              "      <td>0.839973</td>\n",
              "      <td>0.278514</td>\n",
              "      <td>0.024752</td>\n",
              "      <td>0.575617</td>\n",
              "      <td>1</td>\n",
              "      <td>0.035490</td>\n",
              "    </tr>\n",
              "  </tbody>\n",
              "</table>\n",
              "<p>5 rows × 96 columns</p>\n",
              "</div>\n",
              "      <button class=\"colab-df-convert\" onclick=\"convertToInteractive('df-9a5ef662-9006-40e5-8c90-fde9da515c27')\"\n",
              "              title=\"Convert this dataframe to an interactive table.\"\n",
              "              style=\"display:none;\">\n",
              "        \n",
              "  <svg xmlns=\"http://www.w3.org/2000/svg\" height=\"24px\"viewBox=\"0 0 24 24\"\n",
              "       width=\"24px\">\n",
              "    <path d=\"M0 0h24v24H0V0z\" fill=\"none\"/>\n",
              "    <path d=\"M18.56 5.44l.94 2.06.94-2.06 2.06-.94-2.06-.94-.94-2.06-.94 2.06-2.06.94zm-11 1L8.5 8.5l.94-2.06 2.06-.94-2.06-.94L8.5 2.5l-.94 2.06-2.06.94zm10 10l.94 2.06.94-2.06 2.06-.94-2.06-.94-.94-2.06-.94 2.06-2.06.94z\"/><path d=\"M17.41 7.96l-1.37-1.37c-.4-.4-.92-.59-1.43-.59-.52 0-1.04.2-1.43.59L10.3 9.45l-7.72 7.72c-.78.78-.78 2.05 0 2.83L4 21.41c.39.39.9.59 1.41.59.51 0 1.02-.2 1.41-.59l7.78-7.78 2.81-2.81c.8-.78.8-2.07 0-2.86zM5.41 20L4 18.59l7.72-7.72 1.47 1.35L5.41 20z\"/>\n",
              "  </svg>\n",
              "      </button>\n",
              "      \n",
              "  <style>\n",
              "    .colab-df-container {\n",
              "      display:flex;\n",
              "      flex-wrap:wrap;\n",
              "      gap: 12px;\n",
              "    }\n",
              "\n",
              "    .colab-df-convert {\n",
              "      background-color: #E8F0FE;\n",
              "      border: none;\n",
              "      border-radius: 50%;\n",
              "      cursor: pointer;\n",
              "      display: none;\n",
              "      fill: #1967D2;\n",
              "      height: 32px;\n",
              "      padding: 0 0 0 0;\n",
              "      width: 32px;\n",
              "    }\n",
              "\n",
              "    .colab-df-convert:hover {\n",
              "      background-color: #E2EBFA;\n",
              "      box-shadow: 0px 1px 2px rgba(60, 64, 67, 0.3), 0px 1px 3px 1px rgba(60, 64, 67, 0.15);\n",
              "      fill: #174EA6;\n",
              "    }\n",
              "\n",
              "    [theme=dark] .colab-df-convert {\n",
              "      background-color: #3B4455;\n",
              "      fill: #D2E3FC;\n",
              "    }\n",
              "\n",
              "    [theme=dark] .colab-df-convert:hover {\n",
              "      background-color: #434B5C;\n",
              "      box-shadow: 0px 1px 3px 1px rgba(0, 0, 0, 0.15);\n",
              "      filter: drop-shadow(0px 1px 2px rgba(0, 0, 0, 0.3));\n",
              "      fill: #FFFFFF;\n",
              "    }\n",
              "  </style>\n",
              "\n",
              "      <script>\n",
              "        const buttonEl =\n",
              "          document.querySelector('#df-9a5ef662-9006-40e5-8c90-fde9da515c27 button.colab-df-convert');\n",
              "        buttonEl.style.display =\n",
              "          google.colab.kernel.accessAllowed ? 'block' : 'none';\n",
              "\n",
              "        async function convertToInteractive(key) {\n",
              "          const element = document.querySelector('#df-9a5ef662-9006-40e5-8c90-fde9da515c27');\n",
              "          const dataTable =\n",
              "            await google.colab.kernel.invokeFunction('convertToInteractive',\n",
              "                                                     [key], {});\n",
              "          if (!dataTable) return;\n",
              "\n",
              "          const docLinkHtml = 'Like what you see? Visit the ' +\n",
              "            '<a target=\"_blank\" href=https://colab.research.google.com/notebooks/data_table.ipynb>data table notebook</a>'\n",
              "            + ' to learn more about interactive tables.';\n",
              "          element.innerHTML = '';\n",
              "          dataTable['output_type'] = 'display_data';\n",
              "          await google.colab.output.renderOutput(dataTable, element);\n",
              "          const docLink = document.createElement('div');\n",
              "          docLink.innerHTML = docLinkHtml;\n",
              "          element.appendChild(docLink);\n",
              "        }\n",
              "      </script>\n",
              "    </div>\n",
              "  </div>\n",
              "  "
            ],
            "text/plain": [
              "   Bankrupt?   ROA(C) before interest and depreciation before interest  \\\n",
              "0          1                                           0.370594          \n",
              "1          1                                           0.464291          \n",
              "2          1                                           0.426071          \n",
              "3          1                                           0.399844          \n",
              "4          1                                           0.465022          \n",
              "\n",
              "    ROA(A) before interest and % after tax  \\\n",
              "0                                 0.424389   \n",
              "1                                 0.538214   \n",
              "2                                 0.499019   \n",
              "3                                 0.451265   \n",
              "4                                 0.538432   \n",
              "\n",
              "    ROA(B) before interest and depreciation after tax  \\\n",
              "0                                           0.405750    \n",
              "1                                           0.516730    \n",
              "2                                           0.472295    \n",
              "3                                           0.457733    \n",
              "4                                           0.522298    \n",
              "\n",
              "    Operating Gross Margin   Realized Sales Gross Margin  \\\n",
              "0                 0.601457                      0.601457   \n",
              "1                 0.610235                      0.610235   \n",
              "2                 0.601450                      0.601364   \n",
              "3                 0.583541                      0.583541   \n",
              "4                 0.598783                      0.598783   \n",
              "\n",
              "    Operating Profit Rate   Pre-tax net Interest Rate  \\\n",
              "0                0.998969                    0.796887   \n",
              "1                0.998946                    0.797380   \n",
              "2                0.998857                    0.796403   \n",
              "3                0.998700                    0.796967   \n",
              "4                0.998973                    0.797366   \n",
              "\n",
              "    After-tax net Interest Rate   Non-industry income and expenditure/revenue  \\\n",
              "0                      0.808809                                      0.302646   \n",
              "1                      0.809301                                      0.303556   \n",
              "2                      0.808388                                      0.302035   \n",
              "3                      0.808966                                      0.303350   \n",
              "4                      0.809304                                      0.303475   \n",
              "\n",
              "   ...   Net Income to Total Assets   Total assets to GNP price  \\\n",
              "0  ...                     0.716845                    0.009219   \n",
              "1  ...                     0.795297                    0.008323   \n",
              "2  ...                     0.774670                    0.040003   \n",
              "3  ...                     0.739555                    0.003252   \n",
              "4  ...                     0.795016                    0.003878   \n",
              "\n",
              "    No-credit Interval   Gross Profit to Sales  \\\n",
              "0             0.622879                0.601453   \n",
              "1             0.623652                0.610237   \n",
              "2             0.623841                0.601449   \n",
              "3             0.622929                0.583538   \n",
              "4             0.623521                0.598782   \n",
              "\n",
              "    Net Income to Stockholder's Equity   Liability to Equity  \\\n",
              "0                             0.827890              0.290202   \n",
              "1                             0.839969              0.283846   \n",
              "2                             0.836774              0.290189   \n",
              "3                             0.834697              0.281721   \n",
              "4                             0.839973              0.278514   \n",
              "\n",
              "    Degree of Financial Leverage (DFL)  \\\n",
              "0                             0.026601   \n",
              "1                             0.264577   \n",
              "2                             0.026555   \n",
              "3                             0.026697   \n",
              "4                             0.024752   \n",
              "\n",
              "    Interest Coverage Ratio (Interest expense to EBIT)   Net Income Flag  \\\n",
              "0                                           0.564050                   1   \n",
              "1                                           0.570175                   1   \n",
              "2                                           0.563706                   1   \n",
              "3                                           0.564663                   1   \n",
              "4                                           0.575617                   1   \n",
              "\n",
              "    Equity to Liability  \n",
              "0              0.016469  \n",
              "1              0.020794  \n",
              "2              0.016474  \n",
              "3              0.023982  \n",
              "4              0.035490  \n",
              "\n",
              "[5 rows x 96 columns]"
            ]
          },
          "execution_count": 8,
          "metadata": {},
          "output_type": "execute_result"
        }
      ],
      "source": [
        "df = pd.read_csv(path_lecture + \"data/data.csv\")\n",
        "df.head()"
      ]
    },
    {
      "cell_type": "markdown",
      "id": "c3bec3dc",
      "metadata": {
        "id": "c3bec3dc"
      },
      "source": [
        "### 1-2 Duplicated Data 확인"
      ]
    },
    {
      "cell_type": "code",
      "execution_count": null,
      "id": "lKpaVA9VaAKL",
      "metadata": {
        "colab": {
          "base_uri": "https://localhost:8080/"
        },
        "id": "lKpaVA9VaAKL",
        "outputId": "6c187b5d-e6fa-4b6a-936e-db42b41d8a57"
      },
      "outputs": [
        {
          "name": "stdout",
          "output_type": "stream",
          "text": [
            "중복된 항목 수 : 0\n"
          ]
        }
      ],
      "source": [
        "print(\"중복된 항목 수 :\", len(df[df.duplicated()]))"
      ]
    },
    {
      "cell_type": "markdown",
      "id": "39c566c9",
      "metadata": {
        "id": "39c566c9"
      },
      "source": [
        "## 2. Data EDA"
      ]
    },
    {
      "cell_type": "markdown",
      "id": "4c4df828",
      "metadata": {
        "id": "4c4df828"
      },
      "source": [
        "### 2-1 Data Type and Summary"
      ]
    },
    {
      "cell_type": "code",
      "execution_count": null,
      "id": "MB65yTX3a1Vf",
      "metadata": {
        "colab": {
          "base_uri": "https://localhost:8080/"
        },
        "id": "MB65yTX3a1Vf",
        "outputId": "ef5a51d8-850c-4e6f-8295-016acbb4dd0c"
      },
      "outputs": [
        {
          "name": "stdout",
          "output_type": "stream",
          "text": [
            "<class 'pandas.core.frame.DataFrame'>\n",
            "RangeIndex: 6819 entries, 0 to 6818\n",
            "Data columns (total 96 columns):\n",
            " #   Column                                                    Non-Null Count  Dtype  \n",
            "---  ------                                                    --------------  -----  \n",
            " 0   Bankrupt?                                                 6819 non-null   int64  \n",
            " 1    ROA(C) before interest and depreciation before interest  6819 non-null   float64\n",
            " 2    ROA(A) before interest and % after tax                   6819 non-null   float64\n",
            " 3    ROA(B) before interest and depreciation after tax        6819 non-null   float64\n",
            " 4    Operating Gross Margin                                   6819 non-null   float64\n",
            " 5    Realized Sales Gross Margin                              6819 non-null   float64\n",
            " 6    Operating Profit Rate                                    6819 non-null   float64\n",
            " 7    Pre-tax net Interest Rate                                6819 non-null   float64\n",
            " 8    After-tax net Interest Rate                              6819 non-null   float64\n",
            " 9    Non-industry income and expenditure/revenue              6819 non-null   float64\n",
            " 10   Continuous interest rate (after tax)                     6819 non-null   float64\n",
            " 11   Operating Expense Rate                                   6819 non-null   float64\n",
            " 12   Research and development expense rate                    6819 non-null   float64\n",
            " 13   Cash flow rate                                           6819 non-null   float64\n",
            " 14   Interest-bearing debt interest rate                      6819 non-null   float64\n",
            " 15   Tax rate (A)                                             6819 non-null   float64\n",
            " 16   Net Value Per Share (B)                                  6819 non-null   float64\n",
            " 17   Net Value Per Share (A)                                  6819 non-null   float64\n",
            " 18   Net Value Per Share (C)                                  6819 non-null   float64\n",
            " 19   Persistent EPS in the Last Four Seasons                  6819 non-null   float64\n",
            " 20   Cash Flow Per Share                                      6819 non-null   float64\n",
            " 21   Revenue Per Share (Yuan ¥)                               6819 non-null   float64\n",
            " 22   Operating Profit Per Share (Yuan ¥)                      6819 non-null   float64\n",
            " 23   Per Share Net profit before tax (Yuan ¥)                 6819 non-null   float64\n",
            " 24   Realized Sales Gross Profit Growth Rate                  6819 non-null   float64\n",
            " 25   Operating Profit Growth Rate                             6819 non-null   float64\n",
            " 26   After-tax Net Profit Growth Rate                         6819 non-null   float64\n",
            " 27   Regular Net Profit Growth Rate                           6819 non-null   float64\n",
            " 28   Continuous Net Profit Growth Rate                        6819 non-null   float64\n",
            " 29   Total Asset Growth Rate                                  6819 non-null   float64\n",
            " 30   Net Value Growth Rate                                    6819 non-null   float64\n",
            " 31   Total Asset Return Growth Rate Ratio                     6819 non-null   float64\n",
            " 32   Cash Reinvestment %                                      6819 non-null   float64\n",
            " 33   Current Ratio                                            6819 non-null   float64\n",
            " 34   Quick Ratio                                              6819 non-null   float64\n",
            " 35   Interest Expense Ratio                                   6819 non-null   float64\n",
            " 36   Total debt/Total net worth                               6819 non-null   float64\n",
            " 37   Debt ratio %                                             6819 non-null   float64\n",
            " 38   Net worth/Assets                                         6819 non-null   float64\n",
            " 39   Long-term fund suitability ratio (A)                     6819 non-null   float64\n",
            " 40   Borrowing dependency                                     6819 non-null   float64\n",
            " 41   Contingent liabilities/Net worth                         6819 non-null   float64\n",
            " 42   Operating profit/Paid-in capital                         6819 non-null   float64\n",
            " 43   Net profit before tax/Paid-in capital                    6819 non-null   float64\n",
            " 44   Inventory and accounts receivable/Net value              6819 non-null   float64\n",
            " 45   Total Asset Turnover                                     6819 non-null   float64\n",
            " 46   Accounts Receivable Turnover                             6819 non-null   float64\n",
            " 47   Average Collection Days                                  6819 non-null   float64\n",
            " 48   Inventory Turnover Rate (times)                          6819 non-null   float64\n",
            " 49   Fixed Assets Turnover Frequency                          6819 non-null   float64\n",
            " 50   Net Worth Turnover Rate (times)                          6819 non-null   float64\n",
            " 51   Revenue per person                                       6819 non-null   float64\n",
            " 52   Operating profit per person                              6819 non-null   float64\n",
            " 53   Allocation rate per person                               6819 non-null   float64\n",
            " 54   Working Capital to Total Assets                          6819 non-null   float64\n",
            " 55   Quick Assets/Total Assets                                6819 non-null   float64\n",
            " 56   Current Assets/Total Assets                              6819 non-null   float64\n",
            " 57   Cash/Total Assets                                        6819 non-null   float64\n",
            " 58   Quick Assets/Current Liability                           6819 non-null   float64\n",
            " 59   Cash/Current Liability                                   6819 non-null   float64\n",
            " 60   Current Liability to Assets                              6819 non-null   float64\n",
            " 61   Operating Funds to Liability                             6819 non-null   float64\n",
            " 62   Inventory/Working Capital                                6819 non-null   float64\n",
            " 63   Inventory/Current Liability                              6819 non-null   float64\n",
            " 64   Current Liabilities/Liability                            6819 non-null   float64\n",
            " 65   Working Capital/Equity                                   6819 non-null   float64\n",
            " 66   Current Liabilities/Equity                               6819 non-null   float64\n",
            " 67   Long-term Liability to Current Assets                    6819 non-null   float64\n",
            " 68   Retained Earnings to Total Assets                        6819 non-null   float64\n",
            " 69   Total income/Total expense                               6819 non-null   float64\n",
            " 70   Total expense/Assets                                     6819 non-null   float64\n",
            " 71   Current Asset Turnover Rate                              6819 non-null   float64\n",
            " 72   Quick Asset Turnover Rate                                6819 non-null   float64\n",
            " 73   Working capitcal Turnover Rate                           6819 non-null   float64\n",
            " 74   Cash Turnover Rate                                       6819 non-null   float64\n",
            " 75   Cash Flow to Sales                                       6819 non-null   float64\n",
            " 76   Fixed Assets to Assets                                   6819 non-null   float64\n",
            " 77   Current Liability to Liability                           6819 non-null   float64\n",
            " 78   Current Liability to Equity                              6819 non-null   float64\n",
            " 79   Equity to Long-term Liability                            6819 non-null   float64\n",
            " 80   Cash Flow to Total Assets                                6819 non-null   float64\n",
            " 81   Cash Flow to Liability                                   6819 non-null   float64\n",
            " 82   CFO to Assets                                            6819 non-null   float64\n",
            " 83   Cash Flow to Equity                                      6819 non-null   float64\n",
            " 84   Current Liability to Current Assets                      6819 non-null   float64\n",
            " 85   Liability-Assets Flag                                    6819 non-null   int64  \n",
            " 86   Net Income to Total Assets                               6819 non-null   float64\n",
            " 87   Total assets to GNP price                                6819 non-null   float64\n",
            " 88   No-credit Interval                                       6819 non-null   float64\n",
            " 89   Gross Profit to Sales                                    6819 non-null   float64\n",
            " 90   Net Income to Stockholder's Equity                       6819 non-null   float64\n",
            " 91   Liability to Equity                                      6819 non-null   float64\n",
            " 92   Degree of Financial Leverage (DFL)                       6819 non-null   float64\n",
            " 93   Interest Coverage Ratio (Interest expense to EBIT)       6819 non-null   float64\n",
            " 94   Net Income Flag                                          6819 non-null   int64  \n",
            " 95   Equity to Liability                                      6819 non-null   float64\n",
            "dtypes: float64(93), int64(3)\n",
            "memory usage: 5.0 MB\n"
          ]
        }
      ],
      "source": [
        "df.info()"
      ]
    },
    {
      "cell_type": "code",
      "execution_count": null,
      "id": "rQ1p-hl28jW7",
      "metadata": {
        "id": "rQ1p-hl28jW7"
      },
      "outputs": [],
      "source": [
        "# column name에 불필요한 공백이 추가되어 있음\n",
        "# 제거 필요\n",
        "list_new_column = []\n",
        "for column_name in df.columns:\n",
        "  new_column_name = column_name\n",
        "  if column_name[0] == \" \":\n",
        "    new_column_name = new_column_name[1:]\n",
        "  list_new_column.append(new_column_name)\n",
        "list_new_column"
      ]
    },
    {
      "cell_type": "code",
      "execution_count": null,
      "id": "c0NciDAQ7168",
      "metadata": {
        "id": "c0NciDAQ7168"
      },
      "outputs": [],
      "source": [
        "df.columns = list_new_column"
      ]
    },
    {
      "cell_type": "code",
      "execution_count": null,
      "id": "3mFJzJmQbIBd",
      "metadata": {
        "colab": {
          "base_uri": "https://localhost:8080/"
        },
        "id": "3mFJzJmQbIBd",
        "outputId": "f1cbcf20-8450-423b-d3b9-e278531a6872"
      },
      "outputs": [
        {
          "name": "stdout",
          "output_type": "stream",
          "text": [
            "Bankrupt? int64 [1 0]\n",
            "ROA(C) before interest and depreciation before interest float64 [0.37059426 0.46429094 0.42607127 ... 0.47433335 0.54789646 0.49953688]\n",
            "ROA(A) before interest and % after tax float64 [0.42438945 0.53821413 0.49901875 ... 0.49329481 0.6067379  0.6480048 ]\n",
            "ROA(B) before interest and depreciation after tax float64 [0.40574977 0.51673002 0.47229509 ... 0.63172547 0.52417153 0.52063815]\n",
            "Operating Gross Margin float64 [0.60145721 0.61023509 0.60145001 ... 0.60445524 0.61044408 0.62740887]\n",
            "Realized Sales Gross Margin float64 [0.60145721 0.61023509 0.60136352 ... 0.60601191 0.61316825 0.62740887]\n",
            "Operating Profit Rate float64 [0.9989692  0.99894598 0.99885735 ... 0.998741   0.99917649 0.9980803 ]\n",
            "Pre-tax net Interest Rate float64 [0.79688715 0.79738019 0.79640337 ... 0.79741851 0.79711845 0.80198665]\n",
            "After-tax net Interest Rate float64 [0.80880936 0.80930073 0.80838752 ... 0.8090958  0.80960278 0.81379956]\n",
            "Non-industry income and expenditure/revenue float64 [0.30264643 0.30355643 0.30203518 ... 0.30362    0.30378919 0.31341533]\n",
            "Continuous interest rate (after tax) float64 [0.78098485 0.78150597 0.78028394 ... 0.78133854 0.7815464  0.78607904]\n",
            "Operating Expense Rate float64 [0.0001257  0.00028979 0.00023613 ... 0.00028423 0.00025093 0.0014317 ]\n",
            "Research and development expense rate float64 [0.00000000e+00 2.55000000e+07 7.30000000e+08 ... 8.98000000e+09\n",
            " 1.65710520e-04 3.68604037e-04]\n",
            "Cash flow rate float64 [0.45814314 0.46186726 0.45852059 ... 0.46373435 0.4761229  0.42772116]\n",
            "Interest-bearing debt interest rate float64 [7.25072507e-04 6.47064706e-04 7.90079008e-04 ... 1.04110411e-03\n",
            " 6.80000000e+08 8.82788279e-03]\n",
            "Tax rate (A) float64 [0.         0.15760705 0.00587104 ... 0.1133718  0.37159632 0.49083915]\n",
            "Net Value Per Share (B) float64 [0.14794994 0.18225106 0.17791075 ... 0.2308373  0.22224095 0.26952088]\n",
            "Net Value Per Share (A) float64 [0.14794994 0.18225106 0.17791075 ... 0.2308373  0.22224095 0.26952088]\n",
            "Net Value Per Share (C) float64 [0.14794994 0.18225106 0.19371287 ... 0.2308373  0.22224095 0.26952088]\n",
            "Persistent EPS in the Last Four Seasons float64 [0.16914059 0.20894393 0.1805805  ... 0.34811383 0.16762787 0.3784627 ]\n",
            "Cash Flow Per Share float64 [0.31166443 0.3181368  0.30710193 ... 0.34073707 0.34883639 0.30773856]\n",
            "Revenue Per Share (Yuan ¥) float64 [0.01755978 0.02114434 0.00594401 ... 0.12544429 0.04425488 0.00066549]\n",
            "Operating Profit Per Share (Yuan ¥) float64 [0.09592053 0.09372201 0.09233776 ... 0.15267486 0.13720381 0.19208534]\n",
            "Per Share Net profit before tax (Yuan ¥) float64 [0.13873616 0.1699179  0.14280334 ... 0.33983581 0.22256534 0.2182722 ]\n",
            "Realized Sales Gross Profit Growth Rate float64 [0.02210228 0.02208017 0.0227601  ... 0.02206835 0.02234993 0.02531588]\n",
            "Operating Profit Growth Rate float64 [0.84819499 0.84808788 0.84809401 ... 0.84797756 0.85406383 0.84805314]\n",
            "After-tax Net Profit Growth Rate float64 [0.68897946 0.6896929  0.68946268 ... 0.68920207 0.69611278 0.68952665]\n",
            "Regular Net Profit Growth Rate float64 [0.68897946 0.6897017  0.68946966 ... 0.68920207 0.69611278 0.68952665]\n",
            "Continuous Net Profit Growth Rate float64 [0.21753539 0.2176196  0.2176013  ... 0.21754719 0.21800561 0.2176049 ]\n",
            "Total Asset Growth Rate float64 [4.98000000e+09 6.11000000e+09 7.28000000e+09 ... 1.63195892e-04\n",
            " 1.36873714e-04 1.41862938e-04]\n",
            "Net Value Growth Rate float64 [0.00032698 0.00044304 0.00039643 ... 0.00073431 0.00052868 0.00051863]\n",
            "Total Asset Return Growth Rate Ratio float64 [0.26309998 0.26451578 0.26418398 ... 0.26560443 0.26482194 0.26474656]\n",
            "Cash Reinvestment % float64 [0.36372527 0.37670914 0.36891323 ... 0.3975448  0.40102828 0.36010208]\n",
            "Current Ratio float64 [0.00225896 0.00601621 0.01154255 ... 0.03842359 0.01278249 0.05134836]\n",
            "Quick Ratio float64 [0.00120776 0.00403937 0.00534756 ... 0.03511161 0.00725589 0.04089711]\n",
            "Interest Expense Ratio float64 [0.6299513  0.63517246 0.62963144 ... 0.63039924 0.6631916  0.63148895]\n",
            "Total debt/Total net worth float64 [0.02126592 0.01250239 0.02124769 ... 0.00902616 0.00139159 0.00381638]\n",
            "Debt ratio % float64 [0.20757626 0.17117635 0.2075158  ... 0.06246032 0.03893944 0.08697887]\n",
            "Net worth/Assets float64 [0.79242374 0.82882365 0.7924842  ... 0.93753968 0.96106056 0.91302113]\n",
            "Long-term fund suitability ratio (A) float64 [0.00502445 0.00505888 0.0050999  ... 0.00914894 0.00552851 0.05847594]\n",
            "Borrowing dependency float64 [0.39028435 0.37676002 0.37909292 ... 0.37164128 0.37356934 0.37458705]\n",
            "Contingent liabilities/Net worth float64 [0.0064785  0.00583504 0.00656198 ... 0.0060739  0.0086185  0.00636821]\n",
            "Operating profit/Paid-in capital float64 [0.09588483 0.09374338 0.09231847 ... 0.13186607 0.13349455 0.08888237]\n",
            "Net profit before tax/Paid-in capital float64 [0.13775733 0.16896162 0.14803559 ... 0.17111078 0.18249755 0.17991102]\n",
            "Inventory and accounts receivable/Net value float64 [0.3980357  0.39772488 0.40658045 ... 0.39559204 0.40154041 0.39388256]\n",
            "Total Asset Turnover float64 [0.08695652 0.06446777 0.0149925  0.08995502 0.17541229 0.09595202\n",
            " 0.10044978 0.21889055 0.15442279 0.34782609 0.07646177 0.06296852\n",
            " 0.12443778 0.14542729 0.10194903 0.14842579 0.01949025 0.12593703\n",
            " 0.22938531 0.11844078 0.05397301 0.17391304 0.08245877 0.1844078\n",
            " 0.04197901 0.10944528 0.10344828 0.2143928  0.22038981 0.13793103\n",
            " 0.3898051  0.07196402 0.14692654 0.08845577 0.12293853 0.10794603\n",
            " 0.23088456 0.12743628 0.05247376 0.19190405 0.13193403 0.16041979\n",
            " 0.04647676 0.10494753 0.13643178 0.29235382 0.13493253 0.4017991\n",
            " 0.07496252 0.08545727 0.09145427 0.12143928 0.02098951 0.29835082\n",
            " 0.14392804 0.20089955 0.17241379 0.11244378 0.1964018  0.26386807\n",
            " 0.14242879 0.43928036 0.10644678 0.15742129 0.13343328 0.14092954\n",
            " 0.02248876 0.38530735 0.23388306 0.13043478 0.20689655 0.04347826\n",
            " 0.12893553 0.05097451 0.07346327 0.05697151 0.15592204 0.20989505\n",
            " 0.09745127 0.03598201 0.04947526 0.06146927 0.05847076 0.17991004\n",
            " 0.24137931 0.07046477 0.11094453 0.09295352 0.25937031 0.11394303\n",
            " 0.07946027 0.11544228 0.1934033  0.32083958 0.04797601 0.09895052\n",
            " 0.16641679 0.09445277 0.24737631 0.05997001 0.03448276 0.02998501\n",
            " 0.03298351 0.02698651 0.11694153 0.06596702 0.15292354 0.18590705\n",
            " 0.25637181 0.23838081 0.4197901  0.25187406 0.16491754 0.017991\n",
            " 0.06896552 0.04497751 0.19790105 0.26536732 0.48425787 0.17691154\n",
            " 0.22788606 0.16791604 0.05547226 0.07796102 0.03748126 0.011994\n",
            " 0.02398801 0.25787106 0.06746627 0.3868066  0.1814093  0.1904048\n",
            " 0.17091454 0.03898051 0.04047976 0.02548726 0.11994003 0.15142429\n",
            " 0.21289355 0.24587706 0.41529235 0.18890555 0.16341829 0.\n",
            " 0.08095952 0.37331334 0.23988006 0.01649175 0.16191904 0.0089955\n",
            " 0.14992504 0.27286357 0.39130435 0.1874063  0.23538231 0.00749625\n",
            " 0.01349325 0.23688156 0.13943028 0.22488756 0.4137931  0.27886057\n",
            " 0.005997   0.02848576 0.2083958  0.08395802 0.1994003  0.17841079\n",
            " 0.28035982 0.2113943  0.24887556 0.16941529 0.35082459 0.2023988\n",
            " 0.19490255 0.22638681 0.26986507 0.2173913  0.18290855 0.21589205\n",
            " 0.24287856 0.15892054 0.25487256 0.29085457 0.25037481 0.20389805\n",
            " 0.28335832 0.35832084 0.22188906 0.03148426 0.23238381 0.28935532\n",
            " 0.35382309 0.32233883 0.28635682 0.22338831 0.26686657 0.35532234\n",
            " 0.29535232 0.27736132 0.36881559 0.27136432 0.65067466 0.44527736\n",
            " 0.35232384 0.29985007 0.34032984 0.48275862 0.0029985  0.46476762\n",
            " 0.48575712 0.31034483 0.01049475 0.54422789 0.31184408 0.91904048\n",
            " 0.00149925 0.30434783 0.36731634 0.38230885 0.30134933 0.46026987\n",
            " 0.3988006  0.39730135 0.26086957 0.3808096  0.31334333 0.32533733\n",
            " 0.30584708 0.34182909 0.32683658 0.62218891 0.30884558 0.3838081\n",
            " 0.34932534 0.33733133 0.28185907 0.37931034 0.27436282 0.45577211\n",
            " 0.32983508 0.3928036  0.3958021  0.52173913 0.80809595 0.32383808\n",
            " 0.36431784 0.4107946  0.66716642 0.4047976  0.00449775 0.25337331\n",
            " 0.46176912 0.30734633 0.26236882 0.35682159 0.47676162 0.74662669\n",
            " 0.33883058 0.34632684 0.27586207 0.56671664 0.36131934 0.28785607\n",
            " 0.40629685 0.33283358 0.45127436 0.34482759 0.31484258 0.56971514\n",
            " 0.44827586 0.37481259 0.2053973  0.26836582 0.31784108 0.38830585\n",
            " 0.36581709 0.63568216 0.31934033 0.24437781 0.45727136 0.33583208\n",
            " 0.57571214 0.53823088 0.46626687 0.58470765 0.47376312 0.47826087\n",
            " 0.50824588 0.33433283 0.44977511 0.55772114 0.59370315 0.49175412\n",
            " 0.99550225 0.44077961 0.9970015  0.68665667 0.76461769 0.42278861\n",
            " 0.86656672 0.49925037 0.72413793 0.72563718 0.4167916  0.63718141\n",
            " 0.46326837 0.51274363 0.52473763 0.42128936 0.62968516 0.47076462\n",
            " 0.53673163 0.37631184 0.28485757 0.5862069  0.83808096 0.66116942\n",
            " 0.50674663 0.29685157 0.66266867 0.67616192 0.43328336 0.42728636\n",
            " 0.49775112 0.87706147 0.46776612 0.54572714 0.45877061 0.50074963\n",
            " 0.52323838 0.33133433 0.51424288 0.35982009 0.57421289 0.30284858\n",
            " 0.95802099 0.42878561 0.46926537 0.42578711 0.39430285 0.41229385\n",
            " 0.43478261 0.6131934  0.55922039 0.40929535 0.31634183 0.43178411\n",
            " 0.53223388 0.32833583 0.5922039  0.43028486 0.62668666 0.52773613\n",
            " 0.49625187 0.34332834 0.49475262 0.4077961  0.29385307 0.44677661\n",
            " 0.50524738 0.43628186 0.71364318 0.37781109 0.72113943 0.37031484\n",
            " 0.64017991 0.61769115 0.55622189 0.56521739 0.7916042  0.65367316\n",
            " 0.62818591 0.68965517 0.47526237 0.74062969 0.57871064 1.\n",
            " 0.51724138 0.5982009  0.43778111]\n",
            "Accounts Receivable Turnover float64 [0.00181388 0.00128636 0.00149534 ... 0.00274112 0.00230286 0.00242663]\n",
            "Average Collection Days float64 [0.00348736 0.00491681 0.00422685 ... 0.00965173 0.00882942 0.01947425]\n",
            "Inventory Turnover Rate (times) float64 [1.82092597e-04 9.36000000e+09 6.50000000e+07 ... 6.07612235e-04\n",
            " 3.37434971e-04 7.03284412e-02]\n",
            "Fixed Assets Turnover Frequency float64 [1.16500653e-04 7.19000000e+08 2.65000000e+09 ... 1.16198054e-03\n",
            " 7.86530709e-03 1.02429795e-03]\n",
            "Net Worth Turnover Rate (times) float64 [0.03290323 0.02548387 0.0133871  0.02806452 0.04016129 0.02967742\n",
            " 0.04080645 0.04629032 0.02951613 0.0766129  0.02112903 0.01967742\n",
            " 0.03387097 0.03370968 0.02483871 0.03177419 0.0116129  0.02774194\n",
            " 0.05822581 0.02645161 0.01758065 0.0383871  0.03354839 0.06919355\n",
            " 0.01741935 0.02629032 0.02758065 0.02580645 0.09193548 0.03741935\n",
            " 0.04790323 0.04758065 0.08112903 0.0216129  0.02048387 0.03096774\n",
            " 0.03322581 0.02225806 0.03016129 0.025      0.05629032 0.02822581\n",
            " 0.04048387 0.03677419 0.03225806 0.05709677 0.01903226 0.02387097\n",
            " 0.02322581 0.07790323 0.1616129  0.06387097 0.05016129 0.05290323\n",
            " 0.08129032 0.02241935 0.03064516 0.03306452 0.02258065 0.03032258\n",
            " 0.01177419 0.0616129  0.03048387 0.01645161 0.04064516 0.03532258\n",
            " 0.03548387 0.05774194 0.0183871  0.0266129  0.02709677 0.01983871\n",
            " 0.05854839 0.05306452 0.06435484 0.02741935 0.09822581 0.02467742\n",
            " 0.0366129  0.02935484 0.03274194 0.01193548 0.03693548 0.08064516\n",
            " 0.03241935 0.01564516 0.04564516 0.03403226 0.03758065 0.06225806\n",
            " 0.01870968 0.02612903 0.01854839 0.05322581 0.02370968 0.01725806\n",
            " 0.03209677 0.01951613 0.03       0.0283871  0.01516129 0.02419355\n",
            " 0.02354839 0.02854839 0.01596774 0.02064516 0.03564516 0.05258065\n",
            " 0.02435484 0.04290323 0.0316129  0.02209677 0.01887097 0.03467742\n",
            " 0.04612903 0.03887097 0.0166129  0.02887097 0.02677419 0.01629032\n",
            " 0.02403226 0.035      0.04145161 0.04419355 0.04193548 0.0233871\n",
            " 0.04887097 0.04096774 0.05467742 0.04467742 0.02564516 0.03419355\n",
            " 0.03725806 0.04032258 0.04403226 0.05451613 0.01822581 0.02306452\n",
            " 0.01790323 0.01467742 0.01387097 0.01548387 0.04645161 0.02790323\n",
            " 0.015      0.04112903 0.06016129 0.05758065 0.22       0.03854839\n",
            " 0.05032258 0.03129032 0.03790323 0.03806452 0.01919355 0.02129032\n",
            " 0.01306452 0.02516129 0.02532258 0.01774194 0.0333871  0.01806452\n",
            " 0.02080645 0.04274194 0.05370968 0.02       0.06532258 0.04\n",
            " 0.05403226 0.20548387 0.02096774 0.04258065 0.07677419 0.03483871\n",
            " 0.02451613 0.0416129  0.02290323 0.04225806 0.03258065 0.06209677\n",
            " 0.02725806 0.05096774 0.01709677 0.045      0.03629032 0.01354839\n",
            " 0.02693548 0.02903226 0.01612903 0.04322581 0.05274194 0.05596774\n",
            " 0.09177419 0.03645161 0.04435484 0.00903226 0.01677419 0.01693548\n",
            " 0.01225806 0.02193548 0.01483871 0.03193548 0.02145161 0.01451613\n",
            " 0.04935484 0.07080645 0.08387097 0.01096774 0.05354839 0.03451613\n",
            " 0.04548387 0.01435484 0.03967742 0.03435484 0.01580645 0.04387097\n",
            " 0.09016129 0.01080645 0.05193548 0.02016129 0.07822581 0.01370968\n",
            " 0.05209677 0.05       0.01016129 0.04306452 0.02983871 0.02032258\n",
            " 0.05645161 0.02870968 0.03983871 0.02177419 0.04241935 0.04709677\n",
            " 0.08532258 0.00951613 0.03870968 0.08612903 0.03596774 0.06064516\n",
            " 0.03145161 0.01258065 0.04370968 0.01       0.04967742 0.01532258\n",
            " 0.03774194 0.03709677 0.07548387 0.03951613 0.03112903 0.05693548\n",
            " 0.04822581 0.06709677 0.03919355 0.01935484 0.04596774 0.02596774\n",
            " 0.04725806 0.03822581 0.03080645 0.05532258 0.0483871  0.04516129\n",
            " 0.02919355 0.07580645 0.04870968 0.04693548 0.07032258 0.03903226\n",
            " 0.05983871 0.04951613 0.04806452 0.04983871 0.05483871 0.05241935\n",
            " 0.07596774 0.03935484 0.05919355 0.08741935 0.04483871 0.06419355\n",
            " 0.04532258 0.02274194 0.03516129 0.05741935 0.05080645 0.05516129\n",
            " 0.04854839 0.07532258 0.05419355 0.05225806 0.05935484 0.04580645\n",
            " 0.04209677 0.08241935 0.06451613 0.06145161 0.01274194 0.0516129\n",
            " 0.06080645 0.05435484 0.04741935 0.0466129  0.05112903 0.09451613\n",
            " 0.06854839 0.08758065 0.08209677 0.0716129  0.04129032 0.06258065\n",
            " 0.01403226 0.06467742 0.08516129 0.05145161 0.0433871  0.09725806\n",
            " 0.06370968 0.1233871  0.06096774 0.01209677 0.06822581 0.07209677\n",
            " 0.09241935 0.05048387 0.04177419 0.05548387 0.07612903 0.0533871\n",
            " 0.0566129  0.06677419 0.09080645 0.05064516 0.06177419 0.03612903\n",
            " 0.07306452 0.065      0.07564516 0.05129032 0.04451613 0.07096774\n",
            " 0.06193548 0.05903226 0.07435484 0.06306452 0.06983871 0.07854839\n",
            " 0.08967742 0.05806452 0.06290323 0.0583871  0.06322581 0.14967742\n",
            " 0.05967742 0.07758065 0.10080645 0.10629032 0.18177419 0.14774194\n",
            " 0.06483871 0.17016129 0.11983871 0.18096774 0.08951613 0.20032258\n",
            " 0.07806452 0.22225806 0.00919355 0.01322581 0.00967742 0.09854839\n",
            " 0.08096774 0.01419355 0.09403226 0.08193548 0.14435484 0.04903226\n",
            " 0.10145161 0.13725806 0.07048387 0.1933871  0.09967742 0.12564516\n",
            " 0.07709677 0.00983871 0.07645161 0.23870968 0.07725806 0.09112903\n",
            " 0.00935484 0.05887097 0.29467742 0.14080645 0.11790323 0.09467742\n",
            " 0.01064516 0.26790323 0.07225806 0.01129032 0.09145161 0.19290323\n",
            " 0.06596774 0.09306452 0.01048387 0.13629032 0.06112903 0.08403226\n",
            " 0.09258065 0.055      0.0883871  0.06903226 0.2016129  0.12709677\n",
            " 0.15209677 0.0983871  0.105      0.14919355 1.         0.1183871\n",
            " 0.08467742 0.08225806 0.04354839 0.34758065 0.05564516 0.0666129\n",
            " 0.1316129  0.06774194 0.08306452 0.05612903 0.10258065 0.10241935\n",
            " 0.06516129 0.16032258 0.09709677 0.14290323 0.0633871  0.05951613\n",
            " 0.09870968 0.11806452 0.19790323 0.15983871 0.115      0.06741935\n",
            " 0.06403226 0.05677419 0.14048387 0.10435484 0.07919355 0.08290323\n",
            " 0.23548387 0.39612903 0.08       0.10983871 0.10064516 0.20532258\n",
            " 0.06274194 0.10306452 0.06693548 0.08145161 0.08080645 0.16\n",
            " 0.09274194 0.0683871  0.16483871 0.10596774 0.07774194 0.08629032\n",
            " 0.13016129 0.10209677 0.09629032 0.25629032 0.07016129 0.10919355\n",
            " 0.15758065 0.11290323 0.06548387 0.11548387 0.06048387 0.23532258\n",
            " 0.10322581 0.10048387 0.40483871 0.08709677 0.07967742 0.21725806\n",
            " 0.01290323 0.09935484 0.08032258 0.06967742 0.15467742 0.08548387\n",
            " 0.09290323 0.06580645 0.13129032 0.06870968 0.03580645 0.05790323\n",
            " 0.08919355 0.135      0.13       0.12129032 0.11580645 0.05387097\n",
            " 0.07112903 0.1        0.12548387 0.13258065 0.09790323 0.00887097\n",
            " 0.08806452 0.07983871 0.0733871  0.01145161 0.06887097 0.31467742\n",
            " 0.13967742 0.01032258 0.01241935 0.04774194 0.12322581 0.19935484\n",
            " 0.1433871  0.07903226 0.11596774 0.18048387 0.13548387 0.10483871\n",
            " 0.08483871 0.07258065 0.6766129  0.22951613 0.04919355 0.06645161\n",
            " 0.05580645 0.07354839 0.06032258 0.10516129 0.11048387 0.21822581\n",
            " 0.07629032 0.06806452 0.14064516 0.06564516 0.22564516 0.01112903\n",
            " 0.29306452 0.13854839 0.51064516 0.12467742 0.17387097 0.06758065\n",
            " 0.31532258 0.11887097 0.17451613 0.19080645 0.06129032 0.17145161\n",
            " 0.05725806 0.08258065 0.11       0.05177419 0.13903226 0.11967742\n",
            " 0.20564516 0.14467742 0.08322581 0.15483871 0.13532258 0.09774194\n",
            " 0.13677419 0.09758065 0.08370968 0.18274194 0.11629032 0.28177419\n",
            " 0.17564516 0.06951613 0.11532258 0.19419355 0.28645161 0.07935484\n",
            " 0.11677419 0.07419355 0.12451613 0.12064516 0.19774194 0.08677419\n",
            " 0.11145161 0.12       0.0866129  0.11387097 0.07322581 0.15129032\n",
            " 0.75064516 0.13596774 0.13580645 0.17129032 0.12645161 0.08274194\n",
            " 0.09532258 0.10580645 0.06725806 0.07129032 0.06629032 0.10548387\n",
            " 0.19370968 0.14354839 0.13370968 0.07887097 0.44951613 0.09032258\n",
            " 0.08354839 0.13274194 0.25774194 0.04677419 0.13951613 0.0933871\n",
            " 0.07274194 0.08725806 0.16370968 0.07467742 0.12612903 0.08177419\n",
            " 0.21064516 0.17096774 0.13983871 0.23516129 0.08854839 0.09983871\n",
            " 0.84774194 0.11080645 0.09564516 0.09580645 0.12693548 0.10112903\n",
            " 0.07403226 0.15677419 0.22193548 0.07064516 0.16677419 0.15419355\n",
            " 0.11612903 0.205      0.10532258 0.27258065 0.32758065 0.48709677\n",
            " 0.10870968 0.11516129 0.09225806 0.09048387 0.06935484 0.19177419\n",
            " 0.09       0.05870968 0.075      0.09370968 0.07387097 0.29032258\n",
            " 0.06354839 0.07177419 0.10467742 0.08983871 0.07370968 0.19451613\n",
            " 0.11483871 0.10741935 0.22064516 0.08935484 0.10354839 0.10564516\n",
            " 0.1083871  0.11403226 0.12145161 0.08016129 0.07       0.10419355\n",
            " 0.10451613 0.13564516 0.07483871 0.07870968 0.09516129 0.13483871\n",
            " 0.06612903 0.07451613 0.08048387 0.13225806 0.12516129 0.10790323\n",
            " 0.095      0.11822581 0.13467742 0.15806452 0.11032258 0.1116129\n",
            " 0.0966129  0.15612903 0.17903226 0.15354839 0.1366129  0.20612903\n",
            " 0.12080645 0.1416129  0.13112903 0.11354839 0.13322581 0.215\n",
            " 0.11225806 0.14677419 0.12290323 0.14983871 0.22129032 0.09612903\n",
            " 0.14645161 0.09903226 0.21709677 0.21080645 0.11016129 0.21145161\n",
            " 0.12096774 0.14241935 0.20209677 0.13919355 0.14096774 0.15854839\n",
            " 0.06790323 0.09919355 0.09887097 0.14419355 0.19403226 0.14306452\n",
            " 0.20306452 0.         0.23080645 0.15887097 0.09096774 0.14580645\n",
            " 0.09548387 0.09387097 0.10225806]\n",
            "Revenue per person float64 [0.03416418 0.00688865 0.02899696 ... 0.00634813 0.01608331 0.00209744]\n",
            "Operating profit per person float64 [0.39291287 0.39158997 0.38196784 ... 0.38897809 0.43769928 0.38576694]\n",
            "Allocation rate per person float64 [0.0371353  0.01233497 0.14101631 ... 0.00277398 0.0074886  0.00096346]\n",
            "Working Capital to Total Assets float64 [0.67277529 0.75111092 0.82950191 ... 0.86604668 0.83234028 0.87375937]\n",
            "Quick Assets/Total Assets float64 [0.16667296 0.127236   0.34020088 ... 0.47674679 0.35362434 0.52713614]\n",
            "Current Assets/Total Assets float64 [0.19064296 0.18241905 0.6028057  ... 0.49605333 0.56443923 0.50501015]\n",
            "Cash/Total Assets float64 [0.00409441 0.01494773 0.00099094 ... 0.4128849  0.11223822 0.23814705]\n",
            "Quick Assets/Current Liability float64 [0.00199677 0.00413603 0.00630248 ... 0.03553129 0.00775331 0.05148051]\n",
            "Cash/Current Liability float64 [1.47336025e-04 1.38391008e-03 5.34000000e+09 ... 8.82124805e-02\n",
            " 7.13321810e-03 6.66735448e-02]\n",
            "Current Liability to Assets float64 [0.14730845 0.05696283 0.09816206 ... 0.02441366 0.08319943 0.01851735]\n",
            "Operating Funds to Liability float64 [0.33401517 0.34110599 0.33673149 ... 0.35884745 0.38025076 0.23958472]\n",
            "Inventory/Working Capital float64 [0.27692016 0.28964158 0.27745553 ... 0.27736808 0.27702154 0.27735302]\n",
            "Inventory/Current Liability float64 [0.00103599 0.00520968 0.01387879 ... 0.00673013 0.00780981 0.01333364]\n",
            "Current Liabilities/Liability float64 [0.67626918 0.30858859 0.44602749 ... 0.84989801 0.55396425 0.89324093]\n",
            "Working Capital/Equity float64 [0.72127455 0.73197529 0.74272864 ... 0.7374324  0.73671327 0.73728621]\n",
            "Current Liabilities/Equity float64 [0.33907701 0.32974015 0.33477685 ... 0.3269206  0.32929359 0.32669027]\n",
            "Long-term Liability to Current Assets float64 [2.55923680e-02 2.39468187e-02 3.71511569e-03 ... 1.79223668e-03\n",
            " 2.20467253e-03 3.20000000e+09]\n",
            "Retained Earnings to Total Assets float64 [0.90322477 0.93106522 0.90990336 ... 0.93200043 0.93961269 0.93800498]\n",
            "Total income/Total expense float64 [0.00202161 0.00222561 0.00206007 ... 0.00223877 0.00239469 0.00279086]\n",
            "Total expense/Assets float64 [0.06485571 0.02551586 0.02138743 ... 0.03544595 0.01644274 0.00608857]\n",
            "Current Asset Turnover Rate float64 [7.01000000e+08 1.06519763e-04 1.79109370e-03 ... 1.76227179e-04\n",
            " 2.13594037e-04 7.86378147e-03]\n",
            "Quick Asset Turnover Rate float64 [6.55000000e+09 7.70000000e+09 1.02267647e-03 ... 1.74971260e-04\n",
            " 1.35193735e-04 8.23847130e-03]\n",
            "Working capitcal Turnover Rate float64 [0.5938305  0.59391555 0.59450185 ... 0.5940248  0.59399672 0.59867439]\n",
            "Cash Turnover Rate float64 [4.58000000e+08 2.49000000e+09 7.61000000e+08 ... 4.07426287e-04\n",
            " 1.16539249e-04 9.50599220e-03]\n",
            "Cash Flow to Sales float64 [0.67156765 0.67156994 0.67157132 ... 0.67156372 0.67160595 0.67209645]\n",
            "Fixed Assets to Assets float64 [0.42420576 0.46882813 0.27617922 ... 0.05550888 0.24680487 0.00501561]\n",
            "Current Liability to Liability float64 [0.67626918 0.30858859 0.44602749 ... 0.84989801 0.55396425 0.89324093]\n",
            "Current Liability to Equity float64 [0.33907701 0.32974015 0.33477685 ... 0.3269206  0.32929359 0.32669027]\n",
            "Equity to Long-term Liability float64 [0.12654949 0.12091611 0.11792232 ... 0.1126216  0.112329   0.11095741]\n",
            "Cash Flow to Total Assets float64 [0.6375554  0.64109998 0.64276455 ... 0.63167774 0.68485676 0.65991736]\n",
            "Cash Flow to Liability float64 [0.45860915 0.45900105 0.45925404 ... 0.45246468 0.47131334 0.48328475]\n",
            "CFO to Assets float64 [0.52038192 0.56710131 0.53849054 ... 0.58934139 0.67833794 0.50553126]\n",
            "Cash Flow to Equity float64 [0.31290495 0.31416314 0.31451543 ... 0.31335285 0.32011753 0.31623815]\n",
            "Current Liability to Current Assets float64 [0.11825048 0.04777528 0.02534649 ... 0.00754246 0.02291643 0.00557911]\n",
            "Liability-Assets Flag int64 [0 1]\n",
            "Net Income to Total Assets float64 [0.71684534 0.79529714 0.7746697  ... 0.79777807 0.8118079  0.81595588]\n",
            "Total assets to GNP price float64 [0.00921944 0.0083233  0.04000285 ... 0.00283988 0.0028372  0.00070687]\n",
            "No-credit Interval float64 [0.62287896 0.62365174 0.62384104 ... 0.62415608 0.62395749 0.62668028]\n",
            "Gross Profit to Sales float64 [0.60145329 0.61023653 0.60144934 ... 0.61044059 0.60784592 0.62740824]\n",
            "Net Income to Stockholder's Equity float64 [0.82789021 0.83996927 0.83677431 ... 0.84013826 0.84108361 0.84101855]\n",
            "Liability to Equity float64 [0.29020189 0.28384598 0.29018853 ... 0.27578866 0.27754718 0.27511407]\n",
            "Degree of Financial Leverage (DFL) float64 [0.02660063 0.26457682 0.02655472 ... 0.02700858 0.02682205 0.02679295]\n",
            "Interest Coverage Ratio (Interest expense to EBIT) float64 [0.56405011 0.57017495 0.56370608 ... 0.5660182  0.56530151 0.56516694]\n",
            "Net Income Flag int64 [1]\n",
            "Equity to Liability float64 [0.01646874 0.02079431 0.01647411 ... 0.09764874 0.04400945 0.23390224]\n"
          ]
        }
      ],
      "source": [
        "# categorical and numeric columns\n",
        "for column_name in list(df.columns):\n",
        "    print(column_name, df[column_name].dtype, df[column_name].unique())"
      ]
    },
    {
      "cell_type": "code",
      "execution_count": null,
      "id": "ipEOdavp4Kw_",
      "metadata": {
        "id": "ipEOdavp4Kw_"
      },
      "outputs": [],
      "source": [
        "list_cast_object = [\"Bankrupt?\", \"Liability-Assets Flag\", \"Net Income Flag\"]\n",
        "for column_name in list_cast_object:\n",
        "  df[column_name] = df[column_name].astype(object)"
      ]
    },
    {
      "cell_type": "code",
      "execution_count": null,
      "id": "QKxi6Em5o1x8",
      "metadata": {
        "colab": {
          "base_uri": "https://localhost:8080/"
        },
        "id": "QKxi6Em5o1x8",
        "outputId": "b50a1642-af46-4cf3-ca65-010da6d9f03c"
      },
      "outputs": [
        {
          "name": "stdout",
          "output_type": "stream",
          "text": [
            "6819\n",
            "96\n",
            "3\n",
            "93\n"
          ]
        }
      ],
      "source": [
        "list_categorical_columns = list(df.select_dtypes(include=['object']).columns)\n",
        "list_numeric_columns = list(df.select_dtypes(include=['float64']).columns)\n",
        "target_column = \"Bankrupt?\"\n",
        "print(len(df))\n",
        "print(len(df.columns))\n",
        "print(len(list_categorical_columns))\n",
        "print(len(list_numeric_columns))"
      ]
    },
    {
      "cell_type": "code",
      "execution_count": null,
      "id": "1yZTqWIVkx2x",
      "metadata": {
        "colab": {
          "base_uri": "https://localhost:8080/"
        },
        "id": "1yZTqWIVkx2x",
        "outputId": "34a5ed08-14e2-4f28-83dd-28febdd31a65"
      },
      "outputs": [
        {
          "data": {
            "text/plain": [
              "Bankrupt?                                                  0\n",
              "ROA(C) before interest and depreciation before interest    0\n",
              "Total expense/Assets                                       0\n",
              "Total income/Total expense                                 0\n",
              "Retained Earnings to Total Assets                          0\n",
              "                                                          ..\n",
              "Total Asset Growth Rate                                    0\n",
              "Continuous Net Profit Growth Rate                          0\n",
              "Regular Net Profit Growth Rate                             0\n",
              "After-tax Net Profit Growth Rate                           0\n",
              "Equity to Liability                                        0\n",
              "Length: 96, dtype: int64"
            ]
          },
          "execution_count": 18,
          "metadata": {},
          "output_type": "execute_result"
        }
      ],
      "source": [
        "df.isna().sum().sort_values(ascending=False)"
      ]
    },
    {
      "cell_type": "markdown",
      "id": "xySXpsgoa-SW",
      "metadata": {
        "id": "xySXpsgoa-SW"
      },
      "source": [
        "#### Summary of Data Set\n",
        "##### - Number of Variables : 96\n",
        "    categorical variables : 3 (target 포함)\n",
        "    numeric variables : 93    \n",
        "##### - Number of observations : 6819\n",
        "##### - Missing Cells : 0 columns\n",
        "##### - Duplicated Rows : 0"
      ]
    },
    {
      "cell_type": "markdown",
      "id": "bd221a3a",
      "metadata": {
        "id": "bd221a3a"
      },
      "source": [
        "### 2-2 Dependent(종속) Data Explore"
      ]
    },
    {
      "cell_type": "code",
      "execution_count": null,
      "id": "kqfdpI3alYUb",
      "metadata": {
        "id": "kqfdpI3alYUb"
      },
      "outputs": [],
      "source": [
        "list_categorical_columns.remove(target_column)"
      ]
    },
    {
      "cell_type": "code",
      "execution_count": null,
      "id": "dOvKHu7RWv4-",
      "metadata": {
        "colab": {
          "base_uri": "https://localhost:8080/"
        },
        "id": "dOvKHu7RWv4-",
        "outputId": "13139b85-a8d8-4423-b0bf-2f9ef1a99322"
      },
      "outputs": [
        {
          "data": {
            "text/plain": [
              "count     6819\n",
              "unique       2\n",
              "top          0\n",
              "freq      6599\n",
              "Name: Bankrupt?, dtype: int64"
            ]
          },
          "execution_count": 20,
          "metadata": {},
          "output_type": "execute_result"
        }
      ],
      "source": [
        "# pandas function을 활용해서 분포 확인\n",
        "df[target_column].describe()"
      ]
    },
    {
      "cell_type": "code",
      "execution_count": null,
      "id": "mw5Qen7--GwL",
      "metadata": {
        "colab": {
          "base_uri": "https://localhost:8080/"
        },
        "id": "mw5Qen7--GwL",
        "outputId": "70d753ee-ec93-4676-d2ca-a384a5635b0a"
      },
      "outputs": [
        {
          "data": {
            "text/plain": [
              "0    96.77372\n",
              "1     3.22628\n",
              "Name: Bankrupt?, dtype: float64"
            ]
          },
          "execution_count": 22,
          "metadata": {},
          "output_type": "execute_result"
        }
      ],
      "source": [
        "# ratio 확인\n",
        "df[target_column].value_counts()/6819*100"
      ]
    },
    {
      "cell_type": "code",
      "execution_count": null,
      "id": "I012ibUlEDqa",
      "metadata": {
        "colab": {
          "base_uri": "https://localhost:8080/",
          "height": 296
        },
        "id": "I012ibUlEDqa",
        "outputId": "23a558f3-66af-418e-fb34-73e084d84478"
      },
      "outputs": [
        {
          "data": {
            "text/plain": [
              "<AxesSubplot:xlabel='Bankrupt?', ylabel='count'>"
            ]
          },
          "execution_count": 21,
          "metadata": {},
          "output_type": "execute_result"
        },
        {
          "data": {
            "image/png": "[encoded data removed]",
            "text/plain": [
              "<Figure size 432x288 with 1 Axes>"
            ]
          },
          "metadata": {
            "needs_background": "light"
          },
          "output_type": "display_data"
        }
      ],
      "source": [
        "sns.countplot(x=target_column, data=df)"
      ]
    },
    {
      "cell_type": "markdown",
      "id": "gMRao-db-fsN",
      "metadata": {
        "id": "gMRao-db-fsN"
      },
      "source": [
        "#### 문제 해결 접근법\n",
        "1.   Imbalanced Data Set (Normal Classification with Sampling)\n",
        "2.   Anomaly Detection (Anomaly Detection Classificaiton)\n",
        "\n"
      ]
    },
    {
      "cell_type": "markdown",
      "id": "vruKrP1ZftWw",
      "metadata": {
        "id": "vruKrP1ZftWw"
      },
      "source": [
        "#### 1) Imbalance data set?\n",
        "  - 두 개 target class 비중 차이가 있다. 독립 변수가 categorical 이 포함된 경우는 one-hot encoding을 진행한 뒤에 sampling(oversampling 혹은 undersampling) 을 해야 한다.\n",
        "  - 1 속성인 데이터들이 유의미한 데이터 분포와 특성을 갖는다면, 추가적인 sampling 없이 모델 학습이 잘 될 수 있다.\n",
        "  - ML 학습시 cost-sensitive (class weight 등)을 활용할 수 있다.\n",
        "\n",
        "##### 1. 데이터 기반 접근 방법\n",
        "    - Sampling (over sampling)\n",
        "    (이번 실습에서는 oversampling sampling 중에서 SMOTE 활용)\n",
        "    https://imbalanced-learn.org/stable/references/index.html#api\n",
        "##### 2. ML 알고리즘 기반 접근 방법\n",
        "    - ML 알고리즘 활용 -> ML 학습 시에 class weight를 활용하여 cost-sensitive learning\n",
        "    https://scikit-learn.org/stable/modules/generated/sklearn.ensemble.RandomForestClassifier.html"
      ]
    },
    {
      "cell_type": "markdown",
      "id": "rTPg_maU-yVT",
      "metadata": {
        "id": "rTPg_maU-yVT"
      },
      "source": [
        "#### 2) Anomaly Detection\n",
        "*   Anomaly Detection Algorithm 활용\n",
        "*   Isolation Forest\n",
        "*   One-SVM\n",
        "*   Clustering (Unsupervised Learning)\n"
      ]
    },
    {
      "cell_type": "markdown",
      "id": "ded0749c",
      "metadata": {
        "id": "ded0749c"
      },
      "source": [
        "### 2-3 Independent(독립) Data Explore"
      ]
    },
    {
      "cell_type": "markdown",
      "id": "2OERt6DbsGKl",
      "metadata": {
        "id": "2OERt6DbsGKl"
      },
      "source": [
        "#### 1) Categorical Data Analysis"
      ]
    },
    {
      "cell_type": "markdown",
      "id": "JupI0eAKZPi6",
      "metadata": {
        "id": "JupI0eAKZPi6"
      },
      "source": [
        "##### 불필요한 컬럼 확인"
      ]
    },
    {
      "cell_type": "code",
      "execution_count": null,
      "id": "lHcSbayKsQMc",
      "metadata": {
        "colab": {
          "base_uri": "https://localhost:8080/"
        },
        "id": "lHcSbayKsQMc",
        "outputId": "d1a49c27-c237-415b-efda-381e31b807dc"
      },
      "outputs": [
        {
          "data": {
            "text/plain": [
              "Net Income Flag          1\n",
              "Liability-Assets Flag    2\n",
              "dtype: int64"
            ]
          },
          "execution_count": 23,
          "metadata": {},
          "output_type": "execute_result"
        }
      ],
      "source": [
        "df[list_categorical_columns].nunique().sort_values()\n",
        "# 불필요한 컬럼 보이지 않음"
      ]
    },
    {
      "cell_type": "code",
      "execution_count": null,
      "id": "SrrcWH1-_dEK",
      "metadata": {
        "colab": {
          "base_uri": "https://localhost:8080/"
        },
        "id": "SrrcWH1-_dEK",
        "outputId": "dec0a134-d34c-4a58-9741-3eb839d43b98"
      },
      "outputs": [
        {
          "data": {
            "text/plain": [
              "1    6819\n",
              "Name: Net Income Flag, dtype: int64"
            ]
          },
          "execution_count": 24,
          "metadata": {},
          "output_type": "execute_result"
        }
      ],
      "source": [
        "# Net Income Flag 카운트 확인\n",
        "df[\"Net Income Flag\"].value_counts()"
      ]
    },
    {
      "cell_type": "code",
      "execution_count": null,
      "id": "TEVRSfgh_kSH",
      "metadata": {
        "colab": {
          "base_uri": "https://localhost:8080/"
        },
        "id": "TEVRSfgh_kSH",
        "outputId": "857dba5c-b1fe-4fff-bfd7-1c07d2807cb4"
      },
      "outputs": [
        {
          "data": {
            "text/plain": [
              "0    6811\n",
              "1       8\n",
              "Name: Liability-Assets Flag, dtype: int64"
            ]
          },
          "execution_count": 25,
          "metadata": {},
          "output_type": "execute_result"
        }
      ],
      "source": [
        "# Liability-Assets Flag 카운트 확인\n",
        "df[\"Liability-Assets Flag\"].value_counts()"
      ]
    },
    {
      "cell_type": "code",
      "execution_count": null,
      "id": "xeIcNNLP5AhW",
      "metadata": {
        "id": "xeIcNNLP5AhW"
      },
      "outputs": [],
      "source": [
        "# Net Income Flag은 1개 값만 갖기 때문에 제거\n",
        "df = df.drop([\"Net Income Flag\"], axis=1)\n",
        "list_categorical_columns.remove(\"Net Income Flag\")"
      ]
    },
    {
      "cell_type": "markdown",
      "id": "GJdYDFIf_8zw",
      "metadata": {
        "id": "GJdYDFIf_8zw"
      },
      "source": [
        "*    Liability-Assets Flag는 혹시나 1에 속한 8개가 항상 Bankrupcy 1에 해당할 수도 있음 -> 매우 큰 영향력을 발휘\n",
        "* 위의 부분을 확인한 뒤에 영향력이 있으면 제거하지 않고 영향력이 없으면 제거하기로 결정"
      ]
    },
    {
      "cell_type": "code",
      "execution_count": null,
      "id": "_zFSOKR05c27",
      "metadata": {
        "colab": {
          "base_uri": "https://localhost:8080/",
          "height": 347
        },
        "id": "_zFSOKR05c27",
        "outputId": "311a806f-3c0e-4feb-9fe6-93a6b8e9f1e8"
      },
      "outputs": [
        {
          "data": {
            "text/plain": [
              "<AxesSubplot:xlabel='Liability-Assets Flag'>"
            ]
          },
          "execution_count": 29,
          "metadata": {},
          "output_type": "execute_result"
        },
        {
          "data": {
            "image/png": "[encoded data removed]",
            "text/plain": [
              "<Figure size 720x360 with 1 Axes>"
            ]
          },
          "metadata": {
            "needs_background": "light"
          },
          "output_type": "display_data"
        }
      ],
      "source": [
        "df_poutcome_dependent_ratio = pd.crosstab(df[\"Liability-Assets Flag\"],df[target_column], normalize=\"index\")\n",
        "df_poutcome_dependent_ratio.plot.bar(figsize=(10,5))\n",
        "\n",
        "# 1 값을 가지는 것들이 bankrupt에 속한 것이 약 80%. 제거할 지 여부를 판단하기 쉽지 않음 -> 다른 검정으로 다각적으로 판단 필요"
      ]
    },
    {
      "cell_type": "markdown",
      "id": "DGOoELNLk0eR",
      "metadata": {
        "id": "DGOoELNLk0eR"
      },
      "source": [
        "##### 카이제곱 검정 (chisqaure-test)\n",
        "*   카이제곱 검정은 두 범주형 변수에 대한 분석 방법.\n",
        "*   예를 들어, 성별에 따른 선호 영화 장르 비교 문제.\n",
        "*   본 실습에서는 독립 변수중의 categorical column data와 y 간의 관계를 검증.\n",
        "*   pvalue는 0.05 이하인 경우, 귀무가설을 기각한다고 정한다. (pvalue 기준은 항상 다를 수 있음. 정확한 기준은 없으나 일반적으로 0.05 사용)\n",
        "*   https://ko.wikipedia.org/wiki/카이제곱_검정\n",
        "\n"
      ]
    },
    {
      "cell_type": "markdown",
      "id": "tvCy5ZBamb0U",
      "metadata": {
        "id": "tvCy5ZBamb0U"
      },
      "source": [
        "##### 카이제곱 검정 추가 설명 : 3가지 유형\n",
        "1.   적합도 검정 (Goodness of fit)\n",
        "  - 변수 1개\n",
        "  - 기존에 알려준 기준이 존재하는 검정\n",
        "  - 예시) 상자 안에 공 3개가 같은 비율로 알려져 있음. 공 100개를 뽑았을 때, 각 색의 비율이 구해짐. -> 기존에 알려진 공 비율 분포를 따르는지 검정\n",
        "  - 귀무가설 : 변수 X의 관측분포와 기대 분포가 동일\n",
        "  - 대립가설 : 변수 X의 관측분포와 기대분포가 동일\n",
        "\n",
        "2.   독립성 검정 (Test of independence)\n",
        "  - 변수 2개\n",
        "  - 범주형 두 변수가 서로 연관되어 있는지 여부를 검정\n",
        "  - 예시) 성별과 흡연 여부 관계를 알고 싶어서 200명을 추출하여 조사한 경우.\n",
        "  - 귀무가설 : 변수 X와 Y는 서로 독립\n",
        "  - 대립가설 : 변수 X와 Y는 서로 독립이 아님\n",
        "3.   동질성 검정 (Test of Homogeneity)\n",
        "  - 변수 2개\n",
        "  - 범주형 두 변수의 관계를 알기 위한 검정은 아님\n",
        "  - 각 그룹들이 동질한지 알고 싶은 검정\n",
        "  - 예시) 남자와 여자 흡연율 차이가 있는지 흡연율을 조사한 후, 두 그룹의 흡연율이 같은지 여부를 검정\n",
        "  - 귀무가설 : 각 그룹의 확률분포가 동일\n",
        "  - 대립가설 : 각 그룹의 확률분포가 동일하지 않음\n",
        "\n",
        "\n"
      ]
    },
    {
      "cell_type": "code",
      "execution_count": null,
      "id": "SLYYA1xVmeb-",
      "metadata": {
        "colab": {
          "base_uri": "https://localhost:8080/"
        },
        "id": "SLYYA1xVmeb-",
        "outputId": "287963fb-b85a-4a97-cca5-06731c929841"
      },
      "outputs": [
        {
          "name": "stdout",
          "output_type": "stream",
          "text": [
            "110.13807127769104 9.139776609482457e-26\n"
          ]
        }
      ],
      "source": [
        "statistic, pvalue, _, _ = chi2_contingency(pd.crosstab(df[target_column], df[\"Liability-Assets Flag\"]))\n",
        "print(statistic, pvalue)"
      ]
    },
    {
      "cell_type": "markdown",
      "id": "c1Fxwrt-XdJw",
      "metadata": {
        "id": "c1Fxwrt-XdJw"
      },
      "source": [
        "##### Insight\n",
        "1.   y(종속 변수)와 categorical data 1개가 유의미한 관계를 갖음\n",
        "\n"
      ]
    },
    {
      "cell_type": "markdown",
      "id": "BjTaXcjVsKn-",
      "metadata": {
        "id": "BjTaXcjVsKn-"
      },
      "source": [
        "#### 2) Numeric Data Analysis"
      ]
    },
    {
      "cell_type": "markdown",
      "id": "jWtPFxNOaCb8",
      "metadata": {
        "id": "jWtPFxNOaCb8"
      },
      "source": [
        "##### 불필요한 컬럼 확인"
      ]
    },
    {
      "cell_type": "code",
      "execution_count": null,
      "id": "E_w0QMwlT6vs",
      "metadata": {
        "colab": {
          "base_uri": "https://localhost:8080/"
        },
        "id": "E_w0QMwlT6vs",
        "outputId": "a8621cf1-78cd-4309-f6ee-ff01a3369885"
      },
      "outputs": [
        {
          "data": {
            "text/plain": [
              "Total Asset Turnover                        381\n",
              "Net Worth Turnover Rate (times)             741\n",
              "Interest-bearing debt interest rate        1080\n",
              "Operating Profit Per Share (Yuan ¥)        1236\n",
              "Persistent EPS in the Last Four Seasons    1358\n",
              "                                           ... \n",
              "Current Assets/Total Assets                6819\n",
              "Quick Assets/Total Assets                  6819\n",
              "Working Capital to Total Assets            6819\n",
              "Current Liability to Equity                6819\n",
              "Equity to Liability                        6819\n",
              "Length: 93, dtype: int64"
            ]
          },
          "execution_count": 29,
          "metadata": {},
          "output_type": "execute_result"
        }
      ],
      "source": [
        "df[list_numeric_columns].nunique().sort_values()"
      ]
    },
    {
      "cell_type": "code",
      "execution_count": null,
      "id": "y2XT19SqnZD3",
      "metadata": {
        "id": "y2XT19SqnZD3"
      },
      "outputs": [],
      "source": [
        "df[list_numeric_columns].describe().to_csv(path_lecture+\"data/describe.csv\")"
      ]
    },
    {
      "cell_type": "markdown",
      "id": "UiI3qOTaZ-vT",
      "metadata": {
        "id": "UiI3qOTaZ-vT"
      },
      "source": [
        "##### Column별 분포 확인"
      ]
    },
    {
      "cell_type": "code",
      "execution_count": null,
      "id": "xSMNz7mcO3KZ",
      "metadata": {
        "colab": {
          "base_uri": "https://localhost:8080/"
        },
        "id": "xSMNz7mcO3KZ",
        "outputId": "d0788d11-7de8-42fc-9247-de0f892bfdcc"
      },
      "outputs": [
        {
          "name": "stdout",
          "output_type": "stream",
          "text": [
            "ROA(C) before interest and depreciation before interest skew :  -0.323869740413385 kurtosis :  6.385205395841394\n",
            "ROA(A) before interest and % after tax skew :  -1.0334994309305 kurtosis :  9.031278783842245\n",
            "ROA(B) before interest and depreciation after tax skew :  -0.7633957450523285 kurtosis :  7.922381193456117\n",
            "Operating Gross Margin skew :  -8.041598526220652 kurtosis :  365.2718156244965\n",
            "Realized Sales Gross Margin skew :  -8.064797602261708 kurtosis :  366.7718734856533\n",
            "Operating Profit Rate skew :  -70.22171309499203 kurtosis :  5206.26569057916\n",
            "Pre-tax net Interest Rate skew :  -52.47132097204325 kurtosis :  3050.7943067267565\n",
            "After-tax net Interest Rate skew :  -52.98408543751869 kurtosis :  3026.8942816717454\n",
            "Non-industry income and expenditure/revenue skew :  39.63296852945884 kurtosis :  2647.4855593046036\n",
            "Continuous interest rate (after tax) skew :  -53.18841745374395 kurtosis :  3126.439638623958\n",
            "Operating Expense Rate skew :  1.2483986246061325 kurtosis :  -0.08233167831395782\n",
            "Research and development expense rate skew :  1.281761198809495 kurtosis :  0.5922032246894582\n",
            "Cash flow rate skew :  3.989707661693657 kurtosis :  256.823463266678\n",
            "Interest-bearing debt interest rate skew :  7.031829528591107 kurtosis :  50.0119074211765\n",
            "Tax rate (A) skew :  1.903456424747468 kurtosis :  6.406758190266409\n",
            "Net Value Per Share (B) skew :  4.56131892512412 kurtosis :  64.62868272759968\n",
            "Net Value Per Share (A) skew :  4.517138126774935 kurtosis :  64.01323482917732\n",
            "Net Value Per Share (C) skew :  4.512747568710918 kurtosis :  63.94197220291035\n",
            "Persistent EPS in the Last Four Seasons skew :  5.134833207598452 kurtosis :  81.561073941561\n",
            "Cash Flow Per Share skew :  8.017219480292004 kurtosis :  352.7595442248046\n",
            "Revenue Per Share (Yuan ¥) skew :  43.75946962794318 kurtosis :  2126.2508048017435\n",
            "Operating Profit Per Share (Yuan ¥) skew :  8.809917125593005 kurtosis :  209.21103733985834\n",
            "Per Share Net profit before tax (Yuan ¥) skew :  6.001269658706895 kurtosis :  100.58406367400917\n",
            "Realized Sales Gross Profit Growth Rate skew :  77.90796654455191 kurtosis :  6291.000429204531\n",
            "Operating Profit Growth Rate skew :  -71.67317952546641 kurtosis :  5679.9853404866535\n",
            "After-tax Net Profit Growth Rate skew :  -25.57773893367051 kurtosis :  1267.1227861537905\n",
            "Regular Net Profit Growth Rate skew :  -25.257283461699494 kurtosis :  1246.7064688602436\n",
            "Continuous Net Profit Growth Rate skew :  67.0827737203166 kurtosis :  5392.615102992285\n",
            "Total Asset Growth Rate skew :  -0.9185889727652466 kurtosis :  -0.41723384148005316\n",
            "Net Value Growth Rate skew :  80.27418102892753 kurtosis :  6540.116466684017\n",
            "Total Asset Return Growth Rate Ratio skew :  62.48621187128059 kurtosis :  5071.235868899635\n",
            "Cash Reinvestment % skew :  2.317734390784829 kurtosis :  178.92107312314377\n",
            "Current Ratio skew :  82.55907065047776 kurtosis :  6814.000146670576\n",
            "Quick Ratio skew :  31.637951544483787 kurtosis :  1050.9514257032172\n",
            "Interest Expense Ratio skew :  -16.818853379146983 kurtosis :  1740.0242350505232\n",
            "Total debt/Total net worth skew :  46.3451382723048 kurtosis :  2346.517939754331\n",
            "Debt ratio % skew :  0.9805803543495488 kurtosis :  10.720981589684031\n",
            "Net worth/Assets skew :  -0.9805803543495587 kurtosis :  10.72098158968405\n",
            "Long-term fund suitability ratio (A) skew :  24.962380108806773 kurtosis :  740.8420417322068\n",
            "Borrowing dependency skew :  20.83430660129551 kurtosis :  802.0571969405266\n",
            "Contingent liabilities/Net worth skew :  79.65309354791592 kurtosis :  6487.125425141201\n",
            "Operating profit/Paid-in capital skew :  8.947418351376822 kurtosis :  214.07520331411843\n",
            "Net profit before tax/Paid-in capital skew :  6.378022179780886 kurtosis :  120.9081910140596\n",
            "Inventory and accounts receivable/Net value skew :  13.109349712546427 kurtosis :  778.3825035769578\n",
            "Total Asset Turnover skew :  2.3403916532087052 kurtosis :  9.498384388064908\n",
            "Accounts Receivable Turnover skew :  25.84086064557749 kurtosis :  730.3514727405512\n",
            "Average Collection Days skew :  30.573359009239148 kurtosis :  989.0089953512938\n",
            "Inventory Turnover Rate (times) skew :  1.1370384314645894 kurtosis :  -0.3244069183447902\n",
            "Fixed Assets Turnover Frequency skew :  2.349285927048202 kurtosis :  4.086983331046622\n",
            "Net Worth Turnover Rate (times) skew :  8.959876819939176 kurtosis :  156.9219702366175\n",
            "Revenue per person skew :  59.42140511485555 kurtosis :  3568.4082575977823\n",
            "Operating profit per person skew :  7.786586158022681 kurtosis :  114.30949424933344\n",
            "Allocation rate per person skew :  27.470100365184965 kurtosis :  773.2430757711858\n",
            "Working Capital to Total Assets skew :  -0.19226904158493643 kurtosis :  5.508878311045477\n",
            "Quick Assets/Total Assets skew :  0.3372404706749393 kurtosis :  -0.5635944901789323\n",
            "Current Assets/Total Assets skew :  0.0758736104456908 kurtosis :  -0.8033470119050463\n",
            "Cash/Total Assets skew :  2.2298695957015022 kurtosis :  5.904654148377487\n",
            "Quick Assets/Current Liability skew :  47.93675199633802 kurtosis :  2305.1783216989443\n",
            "Cash/Current Liability skew :  14.860497831392582 kurtosis :  229.2279025896653\n",
            "Current Liability to Assets skew :  1.6078496227306875 kurtosis :  15.85757357904513\n",
            "Operating Funds to Liability skew :  3.7764663312304854 kurtosis :  60.93614703821788\n",
            "Inventory/Working Capital skew :  45.32227713783399 kurtosis :  3438.946228617387\n",
            "Inventory/Current Liability skew :  11.962955873864377 kurtosis :  153.30437172885073\n",
            "Current Liabilities/Liability skew :  -0.8348632009773661 kurtosis :  -0.0025078269764327032\n",
            "Working Capital/Equity skew :  -36.19568970877098 kurtosis :  2411.1633988563676\n",
            "Current Liabilities/Equity skew :  23.793929226606526 kurtosis :  1170.6004211640093\n",
            "Long-term Liability to Current Assets skew :  12.39887892189244 kurtosis :  164.76825389190446\n",
            "Retained Earnings to Total Assets skew :  -11.13712341013862 kurtosis :  303.4031062567908\n",
            "Total income/Total expense skew :  82.31431171292112 kurtosis :  6786.903522565647\n",
            "Total expense/Assets skew :  9.479641694091104 kurtosis :  259.47297751735994\n",
            "Current Asset Turnover Rate skew :  2.1154901555722523 kurtosis :  2.7905815760370283\n",
            "Quick Asset Turnover Rate skew :  1.1371032563472043 kurtosis :  -0.39448637270981246\n",
            "Working capitcal Turnover Rate skew :  -28.578322387154277 kurtosis :  3455.528741979551\n",
            "Cash Turnover Rate skew :  0.953907162488574 kurtosis :  -0.3696409667731322\n",
            "Cash Flow to Sales skew :  -47.85858153198692 kurtosis :  4150.5174547169645\n",
            "Fixed Assets to Assets skew :  82.55907065047784 kurtosis :  6814.000146670583\n",
            "Current Liability to Liability skew :  -0.8348632009773661 kurtosis :  -0.0025078269764327032\n",
            "Current Liability to Equity skew :  23.793929226606526 kurtosis :  1170.6004211640093\n",
            "Equity to Long-term Liability skew :  33.78250628157514 kurtosis :  1380.1421206137218\n",
            "Cash Flow to Total Assets skew :  -0.22810748135825795 kurtosis :  16.54808191451228\n",
            "Cash Flow to Liability skew :  1.0077409980301602 kurtosis :  84.79079882915211\n",
            "CFO to Assets skew :  -0.44366483914735066 kurtosis :  7.041938066256398\n",
            "Cash Flow to Equity skew :  19.939100842656618 kurtosis :  1248.8217051483523\n",
            "Current Liability to Current Assets skew :  13.185759211620368 kurtosis :  310.77036289329317\n",
            "Net Income to Total Assets skew :  -3.6832863223952788 kurtosis :  43.701483370135136\n",
            "Total assets to GNP price skew :  21.75419627984264 kurtosis :  490.78231029265623\n",
            "No-credit Interval skew :  -11.583016465383393 kurtosis :  1239.6230800363498\n",
            "Gross Profit to Sales skew :  -8.041455202224546 kurtosis :  365.2682517510445\n",
            "Net Income to Stockholder's Equity skew :  -37.956349397823196 kurtosis :  1943.2826325932392\n",
            "Liability to Equity skew :  27.45342641545931 kurtosis :  1208.3161507974776\n",
            "Degree of Financial Leverage (DFL) skew :  45.714138384538934 kurtosis :  2473.6177967785775\n",
            "Interest Coverage Ratio (Interest expense to EBIT) skew :  -13.93646138523255 kurtosis :  911.1315883364481\n",
            "Equity to Liability skew :  7.39947268971621 kurtosis :  93.99633099390668\n"
          ]
        }
      ],
      "source": [
        "# 컬럼별 skewness, kurtosis 확인 진행\n",
        "for column_name in list_numeric_columns:\n",
        "  print(column_name, \"skew : \", skew(df[column_name]), \"kurtosis : \", kurtosis(df[column_name]))\n",
        "\n",
        "# 추후 scaling을 활용한 feature preprocessing의 필요성 확인"
      ]
    },
    {
      "cell_type": "markdown",
      "id": "jIwOEUEpa-da",
      "metadata": {
        "id": "jIwOEUEpa-da"
      },
      "source": [
        "##### Correlation Analysis"
      ]
    },
    {
      "cell_type": "code",
      "execution_count": null,
      "id": "Ita00D8Ha-A9",
      "metadata": {
        "colab": {
          "base_uri": "https://localhost:8080/",
          "height": 771
        },
        "id": "Ita00D8Ha-A9",
        "outputId": "db2e2957-9bc3-48c0-bd35-5194da9df8fb"
      },
      "outputs": [
        {
          "data": {
            "text/plain": [
              "<AxesSubplot:>"
            ]
          },
          "execution_count": 33,
          "metadata": {},
          "output_type": "execute_result"
        },
        {
          "data": {
            "image/png": "[encoded data removed]",
            "text/plain": [
              "<Figure size 576x576 with 2 Axes>"
            ]
          },
          "metadata": {
            "needs_background": "light"
          },
          "output_type": "display_data"
        }
      ],
      "source": [
        "df_corr = df[list_numeric_columns].corr()\n",
        "plt.figure(figsize=(8,8))\n",
        "sns.heatmap(df_corr)"
      ]
    },
    {
      "cell_type": "code",
      "execution_count": null,
      "id": "KFXJraO3jqOQ",
      "metadata": {
        "colab": {
          "base_uri": "https://localhost:8080/"
        },
        "id": "KFXJraO3jqOQ",
        "outputId": "bd73c721-a522-4c8b-b74f-61d02b91f096"
      },
      "outputs": [
        {
          "data": {
            "text/plain": [
              "(array([ 0,  0,  0,  1,  1,  1,  2,  2,  2,  3,  3,  4,  4,  5,  5,  5,  6,\n",
              "         6,  6,  7,  7,  7,  9,  9,  9, 12, 15, 15, 16, 16, 17, 17, 18, 18,\n",
              "        18, 18, 21, 21, 21, 21, 22, 22, 22, 22, 25, 26, 36, 37, 39, 39, 39,\n",
              "        41, 41, 41, 41, 42, 42, 42, 42, 60, 65, 65, 72, 74, 77, 77, 84, 84,\n",
              "        84, 87, 87, 89, 89, 89]),\n",
              " array([ 1,  2, 84,  0,  2, 84,  0,  1, 84,  4, 87,  3, 87,  6,  7,  9,  5,\n",
              "         7,  9,  5,  6,  9,  5,  6,  7, 60, 16, 17, 15, 17, 15, 16, 21, 22,\n",
              "        41, 42, 18, 22, 41, 42, 18, 21, 41, 42, 26, 25, 37, 36, 65, 77, 89,\n",
              "        18, 21, 22, 42, 18, 21, 22, 41, 12, 39, 89, 74, 72, 39, 89,  0,  1,\n",
              "         2,  3,  4, 39, 65, 77]))"
            ]
          },
          "execution_count": 34,
          "metadata": {},
          "output_type": "execute_result"
        }
      ],
      "source": [
        "# 너무 높은 correlation을 갖는 데이터를 삭제. 단, 해당 correlation값을 신뢰할 수 있는지 확인필요\n",
        "# 기준은 절대값 0.85 이상\n",
        "index_corr_over_85 = np.where((abs(df_corr) > 0.85) & (df_corr != 1))\n",
        "index_corr_over_85\n",
        "\n",
        "# 너무 많기 때문에, 판단하기 어려움 -> vif 분석으로 double check하면서 제외할 feature 선택"
      ]
    },
    {
      "cell_type": "markdown",
      "id": "EGKA2Cix8diw",
      "metadata": {
        "id": "EGKA2Cix8diw"
      },
      "source": [
        "##### VIF Analysis\n",
        "-   일반적으로는는 10이상인 경우 다중공선성이이 있다고 가정. 본 실습에서는 30이상인 경우를 기준으로 잡음(너무 많은 데이터가 제거되면 비선형적인 관계를 갖고 있던 데이터 특성이 모두 제거 될 수 있으니 적정한 기준을 잡아 진행)\n",
        "-   high correlation 컬럼을 제거하기 전에 한 번 더 검정을 진행 (doublecheck, 개인의 판단에 따라서 진행하지 않아도됨)"
      ]
    },
    {
      "cell_type": "code",
      "execution_count": null,
      "id": "EgbQeeMf8bzC",
      "metadata": {
        "id": "EgbQeeMf8bzC"
      },
      "outputs": [],
      "source": [
        "# caculate_vif 함수 구현\n",
        "def caculate_vif(df_target):\n",
        "  df_vif = pd.DataFrame()\n",
        "  df_vif[\"VIF_Factor\"] = [variance_inflation_factor(df_target.values, i) for i in range(df_target.shape[1])]\n",
        "  df_vif[\"Feature\"] = df_target.columns\n",
        "  return df_vif"
      ]
    },
    {
      "cell_type": "code",
      "execution_count": null,
      "id": "G5XZyRZL8ptN",
      "metadata": {
        "colab": {
          "base_uri": "https://localhost:8080/",
          "height": 419
        },
        "id": "G5XZyRZL8ptN",
        "outputId": "27dcfd75-8b5c-40e0-d91f-e9f45416c061"
      },
      "outputs": [
        {
          "data": {
            "text/html": [
              "\n",
              "  <div id=\"df-af52e6e7-2b47-481c-be66-ab035769274c\">\n",
              "    <div class=\"colab-df-container\">\n",
              "      <div>\n",
              "<style scoped>\n",
              "    .dataframe tbody tr th:only-of-type {\n",
              "        vertical-align: middle;\n",
              "    }\n",
              "\n",
              "    .dataframe tbody tr th {\n",
              "        vertical-align: top;\n",
              "    }\n",
              "\n",
              "    .dataframe thead th {\n",
              "        text-align: right;\n",
              "    }\n",
              "</style>\n",
              "<table border=\"1\" class=\"dataframe\">\n",
              "  <thead>\n",
              "    <tr style=\"text-align: right;\">\n",
              "      <th></th>\n",
              "      <th>VIF_Factor</th>\n",
              "      <th>Feature</th>\n",
              "    </tr>\n",
              "  </thead>\n",
              "  <tbody>\n",
              "    <tr>\n",
              "      <th>0</th>\n",
              "      <td>6.901849e+01</td>\n",
              "      <td>ROA(C) before interest and depreciation before...</td>\n",
              "    </tr>\n",
              "    <tr>\n",
              "      <th>1</th>\n",
              "      <td>4.359547e+01</td>\n",
              "      <td>ROA(A) before interest and % after tax</td>\n",
              "    </tr>\n",
              "    <tr>\n",
              "      <th>2</th>\n",
              "      <td>1.028945e+02</td>\n",
              "      <td>ROA(B) before interest and depreciation after tax</td>\n",
              "    </tr>\n",
              "    <tr>\n",
              "      <th>3</th>\n",
              "      <td>5.174663e+07</td>\n",
              "      <td>Operating Gross Margin</td>\n",
              "    </tr>\n",
              "    <tr>\n",
              "      <th>4</th>\n",
              "      <td>1.076293e+03</td>\n",
              "      <td>Realized Sales Gross Margin</td>\n",
              "    </tr>\n",
              "    <tr>\n",
              "      <th>...</th>\n",
              "      <td>...</td>\n",
              "      <td>...</td>\n",
              "    </tr>\n",
              "    <tr>\n",
              "      <th>88</th>\n",
              "      <td>8.349086e+00</td>\n",
              "      <td>Net Income to Stockholder's Equity</td>\n",
              "    </tr>\n",
              "    <tr>\n",
              "      <th>89</th>\n",
              "      <td>4.649451e+02</td>\n",
              "      <td>Liability to Equity</td>\n",
              "    </tr>\n",
              "    <tr>\n",
              "      <th>90</th>\n",
              "      <td>1.004899e+00</td>\n",
              "      <td>Degree of Financial Leverage (DFL)</td>\n",
              "    </tr>\n",
              "    <tr>\n",
              "      <th>91</th>\n",
              "      <td>1.006981e+00</td>\n",
              "      <td>Interest Coverage Ratio (Interest expense to E...</td>\n",
              "    </tr>\n",
              "    <tr>\n",
              "      <th>92</th>\n",
              "      <td>3.045013e+00</td>\n",
              "      <td>Equity to Liability</td>\n",
              "    </tr>\n",
              "  </tbody>\n",
              "</table>\n",
              "<p>93 rows × 2 columns</p>\n",
              "</div>\n",
              "      <button class=\"colab-df-convert\" onclick=\"convertToInteractive('df-af52e6e7-2b47-481c-be66-ab035769274c')\"\n",
              "              title=\"Convert this dataframe to an interactive table.\"\n",
              "              style=\"display:none;\">\n",
              "        \n",
              "  <svg xmlns=\"http://www.w3.org/2000/svg\" height=\"24px\"viewBox=\"0 0 24 24\"\n",
              "       width=\"24px\">\n",
              "    <path d=\"M0 0h24v24H0V0z\" fill=\"none\"/>\n",
              "    <path d=\"M18.56 5.44l.94 2.06.94-2.06 2.06-.94-2.06-.94-.94-2.06-.94 2.06-2.06.94zm-11 1L8.5 8.5l.94-2.06 2.06-.94-2.06-.94L8.5 2.5l-.94 2.06-2.06.94zm10 10l.94 2.06.94-2.06 2.06-.94-2.06-.94-.94-2.06-.94 2.06-2.06.94z\"/><path d=\"M17.41 7.96l-1.37-1.37c-.4-.4-.92-.59-1.43-.59-.52 0-1.04.2-1.43.59L10.3 9.45l-7.72 7.72c-.78.78-.78 2.05 0 2.83L4 21.41c.39.39.9.59 1.41.59.51 0 1.02-.2 1.41-.59l7.78-7.78 2.81-2.81c.8-.78.8-2.07 0-2.86zM5.41 20L4 18.59l7.72-7.72 1.47 1.35L5.41 20z\"/>\n",
              "  </svg>\n",
              "      </button>\n",
              "      \n",
              "  <style>\n",
              "    .colab-df-container {\n",
              "      display:flex;\n",
              "      flex-wrap:wrap;\n",
              "      gap: 12px;\n",
              "    }\n",
              "\n",
              "    .colab-df-convert {\n",
              "      background-color: #E8F0FE;\n",
              "      border: none;\n",
              "      border-radius: 50%;\n",
              "      cursor: pointer;\n",
              "      display: none;\n",
              "      fill: #1967D2;\n",
              "      height: 32px;\n",
              "      padding: 0 0 0 0;\n",
              "      width: 32px;\n",
              "    }\n",
              "\n",
              "    .colab-df-convert:hover {\n",
              "      background-color: #E2EBFA;\n",
              "      box-shadow: 0px 1px 2px rgba(60, 64, 67, 0.3), 0px 1px 3px 1px rgba(60, 64, 67, 0.15);\n",
              "      fill: #174EA6;\n",
              "    }\n",
              "\n",
              "    [theme=dark] .colab-df-convert {\n",
              "      background-color: #3B4455;\n",
              "      fill: #D2E3FC;\n",
              "    }\n",
              "\n",
              "    [theme=dark] .colab-df-convert:hover {\n",
              "      background-color: #434B5C;\n",
              "      box-shadow: 0px 1px 3px 1px rgba(0, 0, 0, 0.15);\n",
              "      filter: drop-shadow(0px 1px 2px rgba(0, 0, 0, 0.3));\n",
              "      fill: #FFFFFF;\n",
              "    }\n",
              "  </style>\n",
              "\n",
              "      <script>\n",
              "        const buttonEl =\n",
              "          document.querySelector('#df-af52e6e7-2b47-481c-be66-ab035769274c button.colab-df-convert');\n",
              "        buttonEl.style.display =\n",
              "          google.colab.kernel.accessAllowed ? 'block' : 'none';\n",
              "\n",
              "        async function convertToInteractive(key) {\n",
              "          const element = document.querySelector('#df-af52e6e7-2b47-481c-be66-ab035769274c');\n",
              "          const dataTable =\n",
              "            await google.colab.kernel.invokeFunction('convertToInteractive',\n",
              "                                                     [key], {});\n",
              "          if (!dataTable) return;\n",
              "\n",
              "          const docLinkHtml = 'Like what you see? Visit the ' +\n",
              "            '<a target=\"_blank\" href=https://colab.research.google.com/notebooks/data_table.ipynb>data table notebook</a>'\n",
              "            + ' to learn more about interactive tables.';\n",
              "          element.innerHTML = '';\n",
              "          dataTable['output_type'] = 'display_data';\n",
              "          await google.colab.output.renderOutput(dataTable, element);\n",
              "          const docLink = document.createElement('div');\n",
              "          docLink.innerHTML = docLinkHtml;\n",
              "          element.appendChild(docLink);\n",
              "        }\n",
              "      </script>\n",
              "    </div>\n",
              "  </div>\n",
              "  "
            ],
            "text/plain": [
              "      VIF_Factor                                            Feature\n",
              "0   6.901849e+01  ROA(C) before interest and depreciation before...\n",
              "1   4.359547e+01             ROA(A) before interest and % after tax\n",
              "2   1.028945e+02  ROA(B) before interest and depreciation after tax\n",
              "3   5.174663e+07                             Operating Gross Margin\n",
              "4   1.076293e+03                        Realized Sales Gross Margin\n",
              "..           ...                                                ...\n",
              "88  8.349086e+00                 Net Income to Stockholder's Equity\n",
              "89  4.649451e+02                                Liability to Equity\n",
              "90  1.004899e+00                 Degree of Financial Leverage (DFL)\n",
              "91  1.006981e+00  Interest Coverage Ratio (Interest expense to E...\n",
              "92  3.045013e+00                                Equity to Liability\n",
              "\n",
              "[93 rows x 2 columns]"
            ]
          },
          "execution_count": 36,
          "metadata": {},
          "output_type": "execute_result"
        }
      ],
      "source": [
        "df_vif_result = caculate_vif(df[list_numeric_columns])\n",
        "df_vif_result"
      ]
    },
    {
      "cell_type": "code",
      "execution_count": null,
      "id": "zmIOy1LABZyU",
      "metadata": {
        "colab": {
          "base_uri": "https://localhost:8080/",
          "height": 1000
        },
        "id": "zmIOy1LABZyU",
        "outputId": "a0a5a439-8564-4a12-9264-49021360427a"
      },
      "outputs": [
        {
          "data": {
            "text/html": [
              "\n",
              "  <div id=\"df-dea76591-bb72-4eda-9e48-afe055c39928\">\n",
              "    <div class=\"colab-df-container\">\n",
              "      <div>\n",
              "<style scoped>\n",
              "    .dataframe tbody tr th:only-of-type {\n",
              "        vertical-align: middle;\n",
              "    }\n",
              "\n",
              "    .dataframe tbody tr th {\n",
              "        vertical-align: top;\n",
              "    }\n",
              "\n",
              "    .dataframe thead th {\n",
              "        text-align: right;\n",
              "    }\n",
              "</style>\n",
              "<table border=\"1\" class=\"dataframe\">\n",
              "  <thead>\n",
              "    <tr style=\"text-align: right;\">\n",
              "      <th></th>\n",
              "      <th>VIF_Factor</th>\n",
              "      <th>Feature</th>\n",
              "    </tr>\n",
              "  </thead>\n",
              "  <tbody>\n",
              "    <tr>\n",
              "      <th>76</th>\n",
              "      <td>1.822139e+11</td>\n",
              "      <td>Current Liability to Liability</td>\n",
              "    </tr>\n",
              "    <tr>\n",
              "      <th>63</th>\n",
              "      <td>7.696580e+09</td>\n",
              "      <td>Current Liabilities/Liability</td>\n",
              "    </tr>\n",
              "    <tr>\n",
              "      <th>53</th>\n",
              "      <td>7.635116e+09</td>\n",
              "      <td>Working Capital to Total Assets</td>\n",
              "    </tr>\n",
              "    <tr>\n",
              "      <th>37</th>\n",
              "      <td>2.872880e+09</td>\n",
              "      <td>Net worth/Assets</td>\n",
              "    </tr>\n",
              "    <tr>\n",
              "      <th>55</th>\n",
              "      <td>2.524199e+09</td>\n",
              "      <td>Current Assets/Total Assets</td>\n",
              "    </tr>\n",
              "    <tr>\n",
              "      <th>77</th>\n",
              "      <td>2.098054e+09</td>\n",
              "      <td>Current Liability to Equity</td>\n",
              "    </tr>\n",
              "    <tr>\n",
              "      <th>59</th>\n",
              "      <td>1.910686e+09</td>\n",
              "      <td>Current Liability to Assets</td>\n",
              "    </tr>\n",
              "    <tr>\n",
              "      <th>36</th>\n",
              "      <td>1.831979e+09</td>\n",
              "      <td>Debt ratio %</td>\n",
              "    </tr>\n",
              "    <tr>\n",
              "      <th>65</th>\n",
              "      <td>1.089568e+09</td>\n",
              "      <td>Current Liabilities/Equity</td>\n",
              "    </tr>\n",
              "    <tr>\n",
              "      <th>5</th>\n",
              "      <td>4.329753e+08</td>\n",
              "      <td>Operating Profit Rate</td>\n",
              "    </tr>\n",
              "    <tr>\n",
              "      <th>3</th>\n",
              "      <td>5.174663e+07</td>\n",
              "      <td>Operating Gross Margin</td>\n",
              "    </tr>\n",
              "    <tr>\n",
              "      <th>6</th>\n",
              "      <td>4.681979e+07</td>\n",
              "      <td>Pre-tax net Interest Rate</td>\n",
              "    </tr>\n",
              "    <tr>\n",
              "      <th>87</th>\n",
              "      <td>4.657328e+07</td>\n",
              "      <td>Gross Profit to Sales</td>\n",
              "    </tr>\n",
              "    <tr>\n",
              "      <th>8</th>\n",
              "      <td>8.739868e+06</td>\n",
              "      <td>Non-industry income and expenditure/revenue</td>\n",
              "    </tr>\n",
              "    <tr>\n",
              "      <th>16</th>\n",
              "      <td>3.911810e+03</td>\n",
              "      <td>Net Value Per Share (A)</td>\n",
              "    </tr>\n",
              "    <tr>\n",
              "      <th>17</th>\n",
              "      <td>3.126159e+03</td>\n",
              "      <td>Net Value Per Share (C)</td>\n",
              "    </tr>\n",
              "    <tr>\n",
              "      <th>86</th>\n",
              "      <td>2.620003e+03</td>\n",
              "      <td>No-credit Interval</td>\n",
              "    </tr>\n",
              "    <tr>\n",
              "      <th>7</th>\n",
              "      <td>1.822461e+03</td>\n",
              "      <td>After-tax net Interest Rate</td>\n",
              "    </tr>\n",
              "    <tr>\n",
              "      <th>4</th>\n",
              "      <td>1.076293e+03</td>\n",
              "      <td>Realized Sales Gross Margin</td>\n",
              "    </tr>\n",
              "    <tr>\n",
              "      <th>15</th>\n",
              "      <td>7.820299e+02</td>\n",
              "      <td>Net Value Per Share (B)</td>\n",
              "    </tr>\n",
              "    <tr>\n",
              "      <th>41</th>\n",
              "      <td>6.387818e+02</td>\n",
              "      <td>Operating profit/Paid-in capital</td>\n",
              "    </tr>\n",
              "    <tr>\n",
              "      <th>21</th>\n",
              "      <td>6.379946e+02</td>\n",
              "      <td>Operating Profit Per Share (Yuan ¥)</td>\n",
              "    </tr>\n",
              "    <tr>\n",
              "      <th>89</th>\n",
              "      <td>4.649451e+02</td>\n",
              "      <td>Liability to Equity</td>\n",
              "    </tr>\n",
              "    <tr>\n",
              "      <th>9</th>\n",
              "      <td>3.379964e+02</td>\n",
              "      <td>Continuous interest rate (after tax)</td>\n",
              "    </tr>\n",
              "    <tr>\n",
              "      <th>25</th>\n",
              "      <td>1.334974e+02</td>\n",
              "      <td>After-tax Net Profit Growth Rate</td>\n",
              "    </tr>\n",
              "    <tr>\n",
              "      <th>26</th>\n",
              "      <td>1.326828e+02</td>\n",
              "      <td>Regular Net Profit Growth Rate</td>\n",
              "    </tr>\n",
              "    <tr>\n",
              "      <th>2</th>\n",
              "      <td>1.028945e+02</td>\n",
              "      <td>ROA(B) before interest and depreciation after tax</td>\n",
              "    </tr>\n",
              "    <tr>\n",
              "      <th>72</th>\n",
              "      <td>8.672410e+01</td>\n",
              "      <td>Working capitcal Turnover Rate</td>\n",
              "    </tr>\n",
              "    <tr>\n",
              "      <th>0</th>\n",
              "      <td>6.901849e+01</td>\n",
              "      <td>ROA(C) before interest and depreciation before...</td>\n",
              "    </tr>\n",
              "    <tr>\n",
              "      <th>78</th>\n",
              "      <td>4.495782e+01</td>\n",
              "      <td>Equity to Long-term Liability</td>\n",
              "    </tr>\n",
              "    <tr>\n",
              "      <th>1</th>\n",
              "      <td>4.359547e+01</td>\n",
              "      <td>ROA(A) before interest and % after tax</td>\n",
              "    </tr>\n",
              "    <tr>\n",
              "      <th>64</th>\n",
              "      <td>4.299672e+01</td>\n",
              "      <td>Working Capital/Equity</td>\n",
              "    </tr>\n",
              "    <tr>\n",
              "      <th>39</th>\n",
              "      <td>3.747958e+01</td>\n",
              "      <td>Borrowing dependency</td>\n",
              "    </tr>\n",
              "    <tr>\n",
              "      <th>43</th>\n",
              "      <td>3.607933e+01</td>\n",
              "      <td>Inventory and accounts receivable/Net value</td>\n",
              "    </tr>\n",
              "    <tr>\n",
              "      <th>18</th>\n",
              "      <td>3.203879e+01</td>\n",
              "      <td>Persistent EPS in the Last Four Seasons</td>\n",
              "    </tr>\n",
              "    <tr>\n",
              "      <th>42</th>\n",
              "      <td>3.009987e+01</td>\n",
              "      <td>Net profit before tax/Paid-in capital</td>\n",
              "    </tr>\n",
              "    <tr>\n",
              "      <th>84</th>\n",
              "      <td>2.908246e+01</td>\n",
              "      <td>Net Income to Total Assets</td>\n",
              "    </tr>\n",
              "    <tr>\n",
              "      <th>74</th>\n",
              "      <td>2.655895e+01</td>\n",
              "      <td>Cash Flow to Sales</td>\n",
              "    </tr>\n",
              "  </tbody>\n",
              "</table>\n",
              "</div>\n",
              "      <button class=\"colab-df-convert\" onclick=\"convertToInteractive('df-dea76591-bb72-4eda-9e48-afe055c39928')\"\n",
              "              title=\"Convert this dataframe to an interactive table.\"\n",
              "              style=\"display:none;\">\n",
              "        \n",
              "  <svg xmlns=\"http://www.w3.org/2000/svg\" height=\"24px\"viewBox=\"0 0 24 24\"\n",
              "       width=\"24px\">\n",
              "    <path d=\"M0 0h24v24H0V0z\" fill=\"none\"/>\n",
              "    <path d=\"M18.56 5.44l.94 2.06.94-2.06 2.06-.94-2.06-.94-.94-2.06-.94 2.06-2.06.94zm-11 1L8.5 8.5l.94-2.06 2.06-.94-2.06-.94L8.5 2.5l-.94 2.06-2.06.94zm10 10l.94 2.06.94-2.06 2.06-.94-2.06-.94-.94-2.06-.94 2.06-2.06.94z\"/><path d=\"M17.41 7.96l-1.37-1.37c-.4-.4-.92-.59-1.43-.59-.52 0-1.04.2-1.43.59L10.3 9.45l-7.72 7.72c-.78.78-.78 2.05 0 2.83L4 21.41c.39.39.9.59 1.41.59.51 0 1.02-.2 1.41-.59l7.78-7.78 2.81-2.81c.8-.78.8-2.07 0-2.86zM5.41 20L4 18.59l7.72-7.72 1.47 1.35L5.41 20z\"/>\n",
              "  </svg>\n",
              "      </button>\n",
              "      \n",
              "  <style>\n",
              "    .colab-df-container {\n",
              "      display:flex;\n",
              "      flex-wrap:wrap;\n",
              "      gap: 12px;\n",
              "    }\n",
              "\n",
              "    .colab-df-convert {\n",
              "      background-color: #E8F0FE;\n",
              "      border: none;\n",
              "      border-radius: 50%;\n",
              "      cursor: pointer;\n",
              "      display: none;\n",
              "      fill: #1967D2;\n",
              "      height: 32px;\n",
              "      padding: 0 0 0 0;\n",
              "      width: 32px;\n",
              "    }\n",
              "\n",
              "    .colab-df-convert:hover {\n",
              "      background-color: #E2EBFA;\n",
              "      box-shadow: 0px 1px 2px rgba(60, 64, 67, 0.3), 0px 1px 3px 1px rgba(60, 64, 67, 0.15);\n",
              "      fill: #174EA6;\n",
              "    }\n",
              "\n",
              "    [theme=dark] .colab-df-convert {\n",
              "      background-color: #3B4455;\n",
              "      fill: #D2E3FC;\n",
              "    }\n",
              "\n",
              "    [theme=dark] .colab-df-convert:hover {\n",
              "      background-color: #434B5C;\n",
              "      box-shadow: 0px 1px 3px 1px rgba(0, 0, 0, 0.15);\n",
              "      filter: drop-shadow(0px 1px 2px rgba(0, 0, 0, 0.3));\n",
              "      fill: #FFFFFF;\n",
              "    }\n",
              "  </style>\n",
              "\n",
              "      <script>\n",
              "        const buttonEl =\n",
              "          document.querySelector('#df-dea76591-bb72-4eda-9e48-afe055c39928 button.colab-df-convert');\n",
              "        buttonEl.style.display =\n",
              "          google.colab.kernel.accessAllowed ? 'block' : 'none';\n",
              "\n",
              "        async function convertToInteractive(key) {\n",
              "          const element = document.querySelector('#df-dea76591-bb72-4eda-9e48-afe055c39928');\n",
              "          const dataTable =\n",
              "            await google.colab.kernel.invokeFunction('convertToInteractive',\n",
              "                                                     [key], {});\n",
              "          if (!dataTable) return;\n",
              "\n",
              "          const docLinkHtml = 'Like what you see? Visit the ' +\n",
              "            '<a target=\"_blank\" href=https://colab.research.google.com/notebooks/data_table.ipynb>data table notebook</a>'\n",
              "            + ' to learn more about interactive tables.';\n",
              "          element.innerHTML = '';\n",
              "          dataTable['output_type'] = 'display_data';\n",
              "          await google.colab.output.renderOutput(dataTable, element);\n",
              "          const docLink = document.createElement('div');\n",
              "          docLink.innerHTML = docLinkHtml;\n",
              "          element.appendChild(docLink);\n",
              "        }\n",
              "      </script>\n",
              "    </div>\n",
              "  </div>\n",
              "  "
            ],
            "text/plain": [
              "      VIF_Factor                                            Feature\n",
              "76  1.822139e+11                     Current Liability to Liability\n",
              "63  7.696580e+09                      Current Liabilities/Liability\n",
              "53  7.635116e+09                    Working Capital to Total Assets\n",
              "37  2.872880e+09                                   Net worth/Assets\n",
              "55  2.524199e+09                        Current Assets/Total Assets\n",
              "77  2.098054e+09                        Current Liability to Equity\n",
              "59  1.910686e+09                        Current Liability to Assets\n",
              "36  1.831979e+09                                       Debt ratio %\n",
              "65  1.089568e+09                         Current Liabilities/Equity\n",
              "5   4.329753e+08                              Operating Profit Rate\n",
              "3   5.174663e+07                             Operating Gross Margin\n",
              "6   4.681979e+07                          Pre-tax net Interest Rate\n",
              "87  4.657328e+07                              Gross Profit to Sales\n",
              "8   8.739868e+06        Non-industry income and expenditure/revenue\n",
              "16  3.911810e+03                            Net Value Per Share (A)\n",
              "17  3.126159e+03                            Net Value Per Share (C)\n",
              "86  2.620003e+03                                 No-credit Interval\n",
              "7   1.822461e+03                        After-tax net Interest Rate\n",
              "4   1.076293e+03                        Realized Sales Gross Margin\n",
              "15  7.820299e+02                            Net Value Per Share (B)\n",
              "41  6.387818e+02                   Operating profit/Paid-in capital\n",
              "21  6.379946e+02                Operating Profit Per Share (Yuan ¥)\n",
              "89  4.649451e+02                                Liability to Equity\n",
              "9   3.379964e+02               Continuous interest rate (after tax)\n",
              "25  1.334974e+02                   After-tax Net Profit Growth Rate\n",
              "26  1.326828e+02                     Regular Net Profit Growth Rate\n",
              "2   1.028945e+02  ROA(B) before interest and depreciation after tax\n",
              "72  8.672410e+01                     Working capitcal Turnover Rate\n",
              "0   6.901849e+01  ROA(C) before interest and depreciation before...\n",
              "78  4.495782e+01                      Equity to Long-term Liability\n",
              "1   4.359547e+01             ROA(A) before interest and % after tax\n",
              "64  4.299672e+01                             Working Capital/Equity\n",
              "39  3.747958e+01                               Borrowing dependency\n",
              "43  3.607933e+01        Inventory and accounts receivable/Net value\n",
              "18  3.203879e+01            Persistent EPS in the Last Four Seasons\n",
              "42  3.009987e+01              Net profit before tax/Paid-in capital\n",
              "84  2.908246e+01                         Net Income to Total Assets\n",
              "74  2.655895e+01                                 Cash Flow to Sales"
            ]
          },
          "execution_count": 59,
          "metadata": {},
          "output_type": "execute_result"
        }
      ],
      "source": [
        "df_vif_result[df_vif_result.VIF_Factor >= 30].sort_values(by=[\"VIF_Factor\"], ascending=False)"
      ]
    },
    {
      "cell_type": "code",
      "execution_count": null,
      "id": "5w9JnK4zCRcL",
      "metadata": {
        "colab": {
          "base_uri": "https://localhost:8080/"
        },
        "id": "5w9JnK4zCRcL",
        "outputId": "aeb0f2cf-ef62-424e-a823-0c1ba30cd895"
      },
      "outputs": [
        {
          "name": "stdout",
          "output_type": "stream",
          "text": [
            "36\n"
          ]
        }
      ],
      "source": [
        "dropping_list_by_vif = list(df_vif_result[df_vif_result.VIF_Factor >= 30].sort_values(by=[\"VIF_Factor\"], ascending=False).Feature)\n",
        "print(len(dropping_list_by_vif))"
      ]
    },
    {
      "cell_type": "code",
      "execution_count": null,
      "id": "xPte-c9c82CT",
      "metadata": {
        "colab": {
          "base_uri": "https://localhost:8080/",
          "height": 1000
        },
        "id": "xPte-c9c82CT",
        "outputId": "c87207ec-e8c8-4414-cf92-3909226e3aee"
      },
      "outputs": [
        {
          "data": {
            "text/html": [
              "\n",
              "  <div id=\"df-b6c7510b-fde6-45ed-a768-2f24e8da748a\">\n",
              "    <div class=\"colab-df-container\">\n",
              "      <div>\n",
              "<style scoped>\n",
              "    .dataframe tbody tr th:only-of-type {\n",
              "        vertical-align: middle;\n",
              "    }\n",
              "\n",
              "    .dataframe tbody tr th {\n",
              "        vertical-align: top;\n",
              "    }\n",
              "\n",
              "    .dataframe thead th {\n",
              "        text-align: right;\n",
              "    }\n",
              "</style>\n",
              "<table border=\"1\" class=\"dataframe\">\n",
              "  <thead>\n",
              "    <tr style=\"text-align: right;\">\n",
              "      <th></th>\n",
              "      <th>VIF_Factor</th>\n",
              "      <th>Feature</th>\n",
              "    </tr>\n",
              "  </thead>\n",
              "  <tbody>\n",
              "    <tr>\n",
              "      <th>34</th>\n",
              "      <td>6.989107</td>\n",
              "      <td>Operating Funds to Liability</td>\n",
              "    </tr>\n",
              "    <tr>\n",
              "      <th>48</th>\n",
              "      <td>6.596035</td>\n",
              "      <td>CFO to Assets</td>\n",
              "    </tr>\n",
              "    <tr>\n",
              "      <th>51</th>\n",
              "      <td>5.084170</td>\n",
              "      <td>Net Income to Total Assets</td>\n",
              "    </tr>\n",
              "    <tr>\n",
              "      <th>2</th>\n",
              "      <td>5.032652</td>\n",
              "      <td>Cash flow rate</td>\n",
              "    </tr>\n",
              "    <tr>\n",
              "      <th>21</th>\n",
              "      <td>4.295327</td>\n",
              "      <td>Total Asset Turnover</td>\n",
              "    </tr>\n",
              "    <tr>\n",
              "      <th>46</th>\n",
              "      <td>4.067136</td>\n",
              "      <td>Cash Flow to Total Assets</td>\n",
              "    </tr>\n",
              "    <tr>\n",
              "      <th>5</th>\n",
              "      <td>3.630042</td>\n",
              "      <td>Cash Flow Per Share</td>\n",
              "    </tr>\n",
              "    <tr>\n",
              "      <th>26</th>\n",
              "      <td>3.326023</td>\n",
              "      <td>Net Worth Turnover Rate (times)</td>\n",
              "    </tr>\n",
              "    <tr>\n",
              "      <th>14</th>\n",
              "      <td>3.001040</td>\n",
              "      <td>Cash Reinvestment %</td>\n",
              "    </tr>\n",
              "    <tr>\n",
              "      <th>7</th>\n",
              "      <td>2.942825</td>\n",
              "      <td>Per Share Net profit before tax (Yuan ¥)</td>\n",
              "    </tr>\n",
              "    <tr>\n",
              "      <th>38</th>\n",
              "      <td>2.934692</td>\n",
              "      <td>Retained Earnings to Total Assets</td>\n",
              "    </tr>\n",
              "    <tr>\n",
              "      <th>30</th>\n",
              "      <td>2.726798</td>\n",
              "      <td>Quick Assets/Total Assets</td>\n",
              "    </tr>\n",
              "    <tr>\n",
              "      <th>47</th>\n",
              "      <td>2.691369</td>\n",
              "      <td>Cash Flow to Liability</td>\n",
              "    </tr>\n",
              "    <tr>\n",
              "      <th>31</th>\n",
              "      <td>2.548638</td>\n",
              "      <td>Cash/Total Assets</td>\n",
              "    </tr>\n",
              "    <tr>\n",
              "      <th>40</th>\n",
              "      <td>2.158332</td>\n",
              "      <td>Total expense/Assets</td>\n",
              "    </tr>\n",
              "    <tr>\n",
              "      <th>49</th>\n",
              "      <td>2.016113</td>\n",
              "      <td>Cash Flow to Equity</td>\n",
              "    </tr>\n",
              "    <tr>\n",
              "      <th>56</th>\n",
              "      <td>1.904369</td>\n",
              "      <td>Equity to Liability</td>\n",
              "    </tr>\n",
              "    <tr>\n",
              "      <th>50</th>\n",
              "      <td>1.870311</td>\n",
              "      <td>Current Liability to Current Assets</td>\n",
              "    </tr>\n",
              "    <tr>\n",
              "      <th>41</th>\n",
              "      <td>1.456434</td>\n",
              "      <td>Current Asset Turnover Rate</td>\n",
              "    </tr>\n",
              "    <tr>\n",
              "      <th>19</th>\n",
              "      <td>1.453823</td>\n",
              "      <td>Long-term fund suitability ratio (A)</td>\n",
              "    </tr>\n",
              "    <tr>\n",
              "      <th>6</th>\n",
              "      <td>1.437082</td>\n",
              "      <td>Revenue Per Share (Yuan ¥)</td>\n",
              "    </tr>\n",
              "    <tr>\n",
              "      <th>42</th>\n",
              "      <td>1.417512</td>\n",
              "      <td>Quick Asset Turnover Rate</td>\n",
              "    </tr>\n",
              "    <tr>\n",
              "      <th>18</th>\n",
              "      <td>1.370602</td>\n",
              "      <td>Total debt/Total net worth</td>\n",
              "    </tr>\n",
              "    <tr>\n",
              "      <th>13</th>\n",
              "      <td>1.330966</td>\n",
              "      <td>Total Asset Return Growth Rate Ratio</td>\n",
              "    </tr>\n",
              "    <tr>\n",
              "      <th>39</th>\n",
              "      <td>1.316399</td>\n",
              "      <td>Total income/Total expense</td>\n",
              "    </tr>\n",
              "    <tr>\n",
              "      <th>28</th>\n",
              "      <td>1.306599</td>\n",
              "      <td>Operating profit per person</td>\n",
              "    </tr>\n",
              "    <tr>\n",
              "      <th>20</th>\n",
              "      <td>1.294655</td>\n",
              "      <td>Contingent liabilities/Net worth</td>\n",
              "    </tr>\n",
              "    <tr>\n",
              "      <th>23</th>\n",
              "      <td>1.290900</td>\n",
              "      <td>Average Collection Days</td>\n",
              "    </tr>\n",
              "    <tr>\n",
              "      <th>53</th>\n",
              "      <td>1.236103</td>\n",
              "      <td>Net Income to Stockholder's Equity</td>\n",
              "    </tr>\n",
              "    <tr>\n",
              "      <th>15</th>\n",
              "      <td>1.226607</td>\n",
              "      <td>Current Ratio</td>\n",
              "    </tr>\n",
              "    <tr>\n",
              "      <th>0</th>\n",
              "      <td>1.225892</td>\n",
              "      <td>Operating Expense Rate</td>\n",
              "    </tr>\n",
              "    <tr>\n",
              "      <th>25</th>\n",
              "      <td>1.218669</td>\n",
              "      <td>Fixed Assets Turnover Frequency</td>\n",
              "    </tr>\n",
              "    <tr>\n",
              "      <th>45</th>\n",
              "      <td>1.208881</td>\n",
              "      <td>Fixed Assets to Assets</td>\n",
              "    </tr>\n",
              "    <tr>\n",
              "      <th>22</th>\n",
              "      <td>1.201644</td>\n",
              "      <td>Accounts Receivable Turnover</td>\n",
              "    </tr>\n",
              "    <tr>\n",
              "      <th>29</th>\n",
              "      <td>1.148610</td>\n",
              "      <td>Allocation rate per person</td>\n",
              "    </tr>\n",
              "    <tr>\n",
              "      <th>43</th>\n",
              "      <td>1.140939</td>\n",
              "      <td>Cash Turnover Rate</td>\n",
              "    </tr>\n",
              "    <tr>\n",
              "      <th>4</th>\n",
              "      <td>1.124648</td>\n",
              "      <td>Tax rate (A)</td>\n",
              "    </tr>\n",
              "    <tr>\n",
              "      <th>27</th>\n",
              "      <td>1.116159</td>\n",
              "      <td>Revenue per person</td>\n",
              "    </tr>\n",
              "    <tr>\n",
              "      <th>32</th>\n",
              "      <td>1.098905</td>\n",
              "      <td>Quick Assets/Current Liability</td>\n",
              "    </tr>\n",
              "    <tr>\n",
              "      <th>24</th>\n",
              "      <td>1.093760</td>\n",
              "      <td>Inventory Turnover Rate (times)</td>\n",
              "    </tr>\n",
              "    <tr>\n",
              "      <th>11</th>\n",
              "      <td>1.085591</td>\n",
              "      <td>Total Asset Growth Rate</td>\n",
              "    </tr>\n",
              "    <tr>\n",
              "      <th>52</th>\n",
              "      <td>1.060511</td>\n",
              "      <td>Total assets to GNP price</td>\n",
              "    </tr>\n",
              "    <tr>\n",
              "      <th>1</th>\n",
              "      <td>1.054156</td>\n",
              "      <td>Research and development expense rate</td>\n",
              "    </tr>\n",
              "    <tr>\n",
              "      <th>36</th>\n",
              "      <td>1.052384</td>\n",
              "      <td>Inventory/Current Liability</td>\n",
              "    </tr>\n",
              "    <tr>\n",
              "      <th>35</th>\n",
              "      <td>1.048125</td>\n",
              "      <td>Inventory/Working Capital</td>\n",
              "    </tr>\n",
              "    <tr>\n",
              "      <th>33</th>\n",
              "      <td>1.047082</td>\n",
              "      <td>Cash/Current Liability</td>\n",
              "    </tr>\n",
              "    <tr>\n",
              "      <th>12</th>\n",
              "      <td>1.041133</td>\n",
              "      <td>Net Value Growth Rate</td>\n",
              "    </tr>\n",
              "    <tr>\n",
              "      <th>16</th>\n",
              "      <td>1.035872</td>\n",
              "      <td>Quick Ratio</td>\n",
              "    </tr>\n",
              "    <tr>\n",
              "      <th>8</th>\n",
              "      <td>1.035413</td>\n",
              "      <td>Realized Sales Gross Profit Growth Rate</td>\n",
              "    </tr>\n",
              "    <tr>\n",
              "      <th>3</th>\n",
              "      <td>1.020209</td>\n",
              "      <td>Interest-bearing debt interest rate</td>\n",
              "    </tr>\n",
              "    <tr>\n",
              "      <th>10</th>\n",
              "      <td>1.010764</td>\n",
              "      <td>Continuous Net Profit Growth Rate</td>\n",
              "    </tr>\n",
              "    <tr>\n",
              "      <th>37</th>\n",
              "      <td>1.010217</td>\n",
              "      <td>Long-term Liability to Current Assets</td>\n",
              "    </tr>\n",
              "    <tr>\n",
              "      <th>54</th>\n",
              "      <td>1.003198</td>\n",
              "      <td>Degree of Financial Leverage (DFL)</td>\n",
              "    </tr>\n",
              "    <tr>\n",
              "      <th>9</th>\n",
              "      <td>0.949558</td>\n",
              "      <td>Operating Profit Growth Rate</td>\n",
              "    </tr>\n",
              "    <tr>\n",
              "      <th>55</th>\n",
              "      <td>0.937668</td>\n",
              "      <td>Interest Coverage Ratio (Interest expense to E...</td>\n",
              "    </tr>\n",
              "    <tr>\n",
              "      <th>17</th>\n",
              "      <td>0.889014</td>\n",
              "      <td>Interest Expense Ratio</td>\n",
              "    </tr>\n",
              "    <tr>\n",
              "      <th>44</th>\n",
              "      <td>0.857145</td>\n",
              "      <td>Cash Flow to Sales</td>\n",
              "    </tr>\n",
              "  </tbody>\n",
              "</table>\n",
              "</div>\n",
              "      <button class=\"colab-df-convert\" onclick=\"convertToInteractive('df-b6c7510b-fde6-45ed-a768-2f24e8da748a')\"\n",
              "              title=\"Convert this dataframe to an interactive table.\"\n",
              "              style=\"display:none;\">\n",
              "        \n",
              "  <svg xmlns=\"http://www.w3.org/2000/svg\" height=\"24px\"viewBox=\"0 0 24 24\"\n",
              "       width=\"24px\">\n",
              "    <path d=\"M0 0h24v24H0V0z\" fill=\"none\"/>\n",
              "    <path d=\"M18.56 5.44l.94 2.06.94-2.06 2.06-.94-2.06-.94-.94-2.06-.94 2.06-2.06.94zm-11 1L8.5 8.5l.94-2.06 2.06-.94-2.06-.94L8.5 2.5l-.94 2.06-2.06.94zm10 10l.94 2.06.94-2.06 2.06-.94-2.06-.94-.94-2.06-.94 2.06-2.06.94z\"/><path d=\"M17.41 7.96l-1.37-1.37c-.4-.4-.92-.59-1.43-.59-.52 0-1.04.2-1.43.59L10.3 9.45l-7.72 7.72c-.78.78-.78 2.05 0 2.83L4 21.41c.39.39.9.59 1.41.59.51 0 1.02-.2 1.41-.59l7.78-7.78 2.81-2.81c.8-.78.8-2.07 0-2.86zM5.41 20L4 18.59l7.72-7.72 1.47 1.35L5.41 20z\"/>\n",
              "  </svg>\n",
              "      </button>\n",
              "      \n",
              "  <style>\n",
              "    .colab-df-container {\n",
              "      display:flex;\n",
              "      flex-wrap:wrap;\n",
              "      gap: 12px;\n",
              "    }\n",
              "\n",
              "    .colab-df-convert {\n",
              "      background-color: #E8F0FE;\n",
              "      border: none;\n",
              "      border-radius: 50%;\n",
              "      cursor: pointer;\n",
              "      display: none;\n",
              "      fill: #1967D2;\n",
              "      height: 32px;\n",
              "      padding: 0 0 0 0;\n",
              "      width: 32px;\n",
              "    }\n",
              "\n",
              "    .colab-df-convert:hover {\n",
              "      background-color: #E2EBFA;\n",
              "      box-shadow: 0px 1px 2px rgba(60, 64, 67, 0.3), 0px 1px 3px 1px rgba(60, 64, 67, 0.15);\n",
              "      fill: #174EA6;\n",
              "    }\n",
              "\n",
              "    [theme=dark] .colab-df-convert {\n",
              "      background-color: #3B4455;\n",
              "      fill: #D2E3FC;\n",
              "    }\n",
              "\n",
              "    [theme=dark] .colab-df-convert:hover {\n",
              "      background-color: #434B5C;\n",
              "      box-shadow: 0px 1px 3px 1px rgba(0, 0, 0, 0.15);\n",
              "      filter: drop-shadow(0px 1px 2px rgba(0, 0, 0, 0.3));\n",
              "      fill: #FFFFFF;\n",
              "    }\n",
              "  </style>\n",
              "\n",
              "      <script>\n",
              "        const buttonEl =\n",
              "          document.querySelector('#df-b6c7510b-fde6-45ed-a768-2f24e8da748a button.colab-df-convert');\n",
              "        buttonEl.style.display =\n",
              "          google.colab.kernel.accessAllowed ? 'block' : 'none';\n",
              "\n",
              "        async function convertToInteractive(key) {\n",
              "          const element = document.querySelector('#df-b6c7510b-fde6-45ed-a768-2f24e8da748a');\n",
              "          const dataTable =\n",
              "            await google.colab.kernel.invokeFunction('convertToInteractive',\n",
              "                                                     [key], {});\n",
              "          if (!dataTable) return;\n",
              "\n",
              "          const docLinkHtml = 'Like what you see? Visit the ' +\n",
              "            '<a target=\"_blank\" href=https://colab.research.google.com/notebooks/data_table.ipynb>data table notebook</a>'\n",
              "            + ' to learn more about interactive tables.';\n",
              "          element.innerHTML = '';\n",
              "          dataTable['output_type'] = 'display_data';\n",
              "          await google.colab.output.renderOutput(dataTable, element);\n",
              "          const docLink = document.createElement('div');\n",
              "          docLink.innerHTML = docLinkHtml;\n",
              "          element.appendChild(docLink);\n",
              "        }\n",
              "      </script>\n",
              "    </div>\n",
              "  </div>\n",
              "  "
            ],
            "text/plain": [
              "    VIF_Factor                                            Feature\n",
              "34    6.989107                       Operating Funds to Liability\n",
              "48    6.596035                                      CFO to Assets\n",
              "51    5.084170                         Net Income to Total Assets\n",
              "2     5.032652                                     Cash flow rate\n",
              "21    4.295327                               Total Asset Turnover\n",
              "46    4.067136                          Cash Flow to Total Assets\n",
              "5     3.630042                                Cash Flow Per Share\n",
              "26    3.326023                    Net Worth Turnover Rate (times)\n",
              "14    3.001040                                Cash Reinvestment %\n",
              "7     2.942825           Per Share Net profit before tax (Yuan ¥)\n",
              "38    2.934692                  Retained Earnings to Total Assets\n",
              "30    2.726798                          Quick Assets/Total Assets\n",
              "47    2.691369                             Cash Flow to Liability\n",
              "31    2.548638                                  Cash/Total Assets\n",
              "40    2.158332                               Total expense/Assets\n",
              "49    2.016113                                Cash Flow to Equity\n",
              "56    1.904369                                Equity to Liability\n",
              "50    1.870311                Current Liability to Current Assets\n",
              "41    1.456434                        Current Asset Turnover Rate\n",
              "19    1.453823               Long-term fund suitability ratio (A)\n",
              "6     1.437082                         Revenue Per Share (Yuan ¥)\n",
              "42    1.417512                          Quick Asset Turnover Rate\n",
              "18    1.370602                         Total debt/Total net worth\n",
              "13    1.330966               Total Asset Return Growth Rate Ratio\n",
              "39    1.316399                         Total income/Total expense\n",
              "28    1.306599                        Operating profit per person\n",
              "20    1.294655                   Contingent liabilities/Net worth\n",
              "23    1.290900                            Average Collection Days\n",
              "53    1.236103                 Net Income to Stockholder's Equity\n",
              "15    1.226607                                      Current Ratio\n",
              "0     1.225892                             Operating Expense Rate\n",
              "25    1.218669                    Fixed Assets Turnover Frequency\n",
              "45    1.208881                             Fixed Assets to Assets\n",
              "22    1.201644                       Accounts Receivable Turnover\n",
              "29    1.148610                         Allocation rate per person\n",
              "43    1.140939                                 Cash Turnover Rate\n",
              "4     1.124648                                       Tax rate (A)\n",
              "27    1.116159                                 Revenue per person\n",
              "32    1.098905                     Quick Assets/Current Liability\n",
              "24    1.093760                    Inventory Turnover Rate (times)\n",
              "11    1.085591                            Total Asset Growth Rate\n",
              "52    1.060511                          Total assets to GNP price\n",
              "1     1.054156              Research and development expense rate\n",
              "36    1.052384                        Inventory/Current Liability\n",
              "35    1.048125                          Inventory/Working Capital\n",
              "33    1.047082                             Cash/Current Liability\n",
              "12    1.041133                              Net Value Growth Rate\n",
              "16    1.035872                                        Quick Ratio\n",
              "8     1.035413            Realized Sales Gross Profit Growth Rate\n",
              "3     1.020209                Interest-bearing debt interest rate\n",
              "10    1.010764                  Continuous Net Profit Growth Rate\n",
              "37    1.010217              Long-term Liability to Current Assets\n",
              "54    1.003198                 Degree of Financial Leverage (DFL)\n",
              "9     0.949558                       Operating Profit Growth Rate\n",
              "55    0.937668  Interest Coverage Ratio (Interest expense to E...\n",
              "17    0.889014                             Interest Expense Ratio\n",
              "44    0.857145                                 Cash Flow to Sales"
            ]
          },
          "execution_count": 63,
          "metadata": {},
          "output_type": "execute_result"
        }
      ],
      "source": [
        "caculate_vif(df[list_numeric_columns].drop(columns=dropping_list_by_vif)).sort_values(by=[\"VIF_Factor\"], ascending=False)"
      ]
    },
    {
      "cell_type": "code",
      "execution_count": null,
      "id": "oFCCCOOBDANh",
      "metadata": {
        "colab": {
          "base_uri": "https://localhost:8080/"
        },
        "id": "oFCCCOOBDANh",
        "outputId": "73981d5a-1bfe-4cc2-ef55-21d41b9823d2"
      },
      "outputs": [
        {
          "name": "stdout",
          "output_type": "stream",
          "text": [
            "57\n"
          ]
        }
      ],
      "source": [
        "list_numeric_by_vif = list(set(list_numeric_columns) - set(dropping_list_by_vif))\n",
        "print(len(list_numeric_by_vif))"
      ]
    },
    {
      "cell_type": "markdown",
      "id": "XMlh0QaCdoWg",
      "metadata": {
        "id": "XMlh0QaCdoWg"
      },
      "source": [
        "##### Target Column과 numeric Column 관계 분포 확인"
      ]
    },
    {
      "cell_type": "code",
      "execution_count": null,
      "id": "mEshVlXmEPiO",
      "metadata": {
        "id": "mEshVlXmEPiO"
      },
      "outputs": [],
      "source": [
        "# 랜덤하게 numerical data 선택\n",
        "list_numeric_randomly = random.sample(list_numeric_by_vif, 16)"
      ]
    },
    {
      "cell_type": "code",
      "execution_count": null,
      "id": "VmoDF75cdZlJ",
      "metadata": {
        "colab": {
          "base_uri": "https://localhost:8080/",
          "height": 920
        },
        "id": "VmoDF75cdZlJ",
        "outputId": "9a671291-39de-402a-b905-e7c820e7428e"
      },
      "outputs": [
        {
          "data": {
            "image/png": "[encoded data removed]",
            "text/plain": [
              "<Figure size 1296x864 with 16 Axes>"
            ]
          },
          "metadata": {
            "needs_background": "light"
          },
          "output_type": "display_data"
        }
      ],
      "source": [
        "plt.figure(figsize=(18,12))\n",
        "x = 1\n",
        "plt.subplots_adjust(top = 0.99, bottom=0.01, hspace=0.2, wspace=0.2)\n",
        "for column_name in list_numeric_randomly:\n",
        "    plt.subplot(4,4,x)\n",
        "    x = x + 1\n",
        "    sns.boxplot(data=df,x=target_column,y=column_name)\n",
        "plt.show()\n",
        "\n",
        "# 두 데이터의 분포가 너무 많이 차이가 나기떄문에, 아래와 같은 분포 차이를 그려도 제대로 데이터를 이해하기 어려움."
      ]
    },
    {
      "cell_type": "markdown",
      "id": "OoO_H3y4qon6",
      "metadata": {
        "id": "OoO_H3y4qon6"
      },
      "source": [
        "##### 크루스칼 왈리스 검정 Kruskall-Wallis test (비모수 검정)\n",
        "*   비모수 검정이기 때문에 정규성/등분산성을 만족하지 않아도됨\n",
        "*   단, 비모수 검정이기 때문에 검정 결과 신뢰도가 모수 검정보다 떨어짐\n",
        "*   본 실습에서는 크루스칼 왈리스 검정을 더욱 신뢰하기는 어려우나, 두 변수간의 연관성이 없다고 판단되는 거은 신뢰할만함. 우리가 가진 데이터(모델 학습을 위한)는 현재 데이터 뿐이기 때문에(즉, 우리가 가진 데이터는 이것이 전부이기 때문에) 연관성이 없으면 제외해도 된다고 판단 할 수 있음"
      ]
    },
    {
      "cell_type": "code",
      "execution_count": null,
      "id": "TZXucbvEqyg8",
      "metadata": {
        "colab": {
          "base_uri": "https://localhost:8080/"
        },
        "id": "TZXucbvEqyg8",
        "outputId": "d2de1e52-6763-45a1-adac-3c569b39f163"
      },
      "outputs": [
        {
          "name": "stdout",
          "output_type": "stream",
          "text": [
            "Retained Earnings to Total Assets ,  359.20986077198904 ,  4.184417610354488e-80\n",
            "Per Share Net profit before tax (Yuan ¥) ,  368.3705937267394 ,  4.236121853675956e-82\n",
            "Revenue Per Share (Yuan ¥) ,  38.287473465461844 ,  6.105330542469813e-10\n",
            "Quick Asset Turnover Rate ,  9.306722867661353 ,  0.00228314503063887\n",
            "Cash/Current Liability ,  146.83488543910167 ,  8.52758830995915e-34\n",
            "Net Income to Stockholder's Equity ,  327.1680021689608 ,  3.977481879966969e-73\n",
            "Inventory/Working Capital ,  21.03076603782058 ,  4.5196717639698115e-06\n",
            "Cash Flow to Liability ,  42.76658667735683 ,  6.167669629872154e-11\n",
            "Operating profit per person ,  206.886804719993 ,  6.562970071970647e-47\n",
            "Contingent liabilities/Net worth ,  6.642451618550415 ,  0.009957680994390481\n",
            "Average Collection Days ,  4.742336471853225 ,  0.029429077115038636\n",
            "CFO to Assets ,  113.81765796414038 ,  1.428596320305038e-26\n",
            "Inventory/Current Liability ,  21.681205685128685 ,  3.2192996840379585e-06\n",
            "Cash Flow to Sales ,  59.43194932712868 ,  1.265969864618587e-14\n",
            "Accounts Receivable Turnover ,  3.82757257132201 ,  0.0504158979384041\n",
            "Realized Sales Gross Profit Growth Rate ,  56.9871478495826 ,  4.386693377316655e-14\n",
            "Total debt/Total net worth ,  327.9638076625027 ,  2.668559352424776e-73\n",
            "Quick Ratio ,  278.02895415513586 ,  2.0189543718347523e-62\n",
            "Quick Assets/Total Assets ,  50.62987441647783 ,  1.1153431590285802e-12\n",
            "Long-term fund suitability ratio (A) ,  99.68820109193635 ,  1.7838076980664766e-23\n",
            "Cash flow rate ,  142.67699987862116 ,  6.915982485329039e-33\n",
            "Equity to Liability ,  321.7487668764916 ,  6.02538977254172e-72\n",
            "Total expense/Assets ,  45.75909487914032 ,  1.3372702873326827e-11\n",
            "Current Ratio ,  245.20928010889784 ,  2.8767330670010046e-55\n",
            "Total Asset Return Growth Rate Ratio ,  75.40144857749985 ,  3.841080997920563e-18\n",
            "Fixed Assets Turnover Frequency ,  15.413018765627006 ,  8.639105563575617e-05\n",
            "Inventory Turnover Rate (times) ,  1.074913661590897 ,  0.29983819767434905\n",
            "Operating Profit Growth Rate ,  60.580768267215966 ,  7.062059356641485e-15\n",
            "Total Asset Turnover ,  55.23242474633297 ,  1.0708755111149242e-13\n",
            "Quick Assets/Current Liability ,  244.03316463612282 ,  5.191889659988642e-55\n",
            "Current Liability to Current Assets ,  244.9716481795731 ,  3.241227673999948e-55\n",
            "Net Income to Total Assets ,  374.33570800193775 ,  2.1290738464573557e-83\n",
            "Net Value Growth Rate ,  282.17682768644084 ,  2.5190344828671743e-63\n",
            "Cash Flow Per Share ,  115.68851835808381 ,  5.561298734618253e-27\n",
            "Cash/Total Assets ,  155.1042805242323 ,  1.3286339214913922e-35\n",
            "Net Worth Turnover Rate (times) ,  0.6542324386352484 ,  0.41860352437172754\n",
            "Research and development expense rate ,  10.088422587791682 ,  0.0014920377412884034\n",
            "Continuous Net Profit Growth Rate ,  106.67492864947953 ,  5.24520567158852e-25\n",
            "Cash Flow to Equity ,  55.7786602758315 ,  8.110718385003057e-14\n",
            "Operating Funds to Liability ,  143.35770130056335 ,  4.9093262212298074e-33\n",
            "Current Asset Turnover Rate ,  15.90145901711698 ,  6.67272580840059e-05\n",
            "Degree of Financial Leverage (DFL) ,  147.60356990604967 ,  5.791480690655758e-34\n",
            "Fixed Assets to Assets ,  23.386216111566767 ,  1.3252475257441944e-06\n",
            "Allocation rate per person ,  58.16953341712396 ,  2.404745546330749e-14\n",
            "Cash Reinvestment % ,  56.954043173370984 ,  4.46116169392582e-14\n",
            "Long-term Liability to Current Assets ,  57.89165590541725 ,  2.7695944474261557e-14\n",
            "Tax rate (A) ,  170.3002380987655 ,  6.361973019126033e-39\n",
            "Interest Coverage Ratio (Interest expense to EBIT) ,  110.7833394387538 ,  6.600409481282712e-26\n",
            "Interest Expense Ratio ,  120.99805654480969 ,  3.825064465519202e-28\n",
            "Total Asset Growth Rate ,  50.17677907570612 ,  1.4050061297948016e-12\n",
            "Total income/Total expense ,  343.82376767498863 ,  9.378546023838399e-77\n",
            "Total assets to GNP price ,  20.710318850155907 ,  5.3427310041597715e-06\n",
            "Interest-bearing debt interest rate ,  91.76041759799574 ,  9.78318915151133e-22\n",
            "Cash Turnover Rate ,  2.909909622270448 ,  0.08803680804166661\n",
            "Revenue per person ,  2.892712166903686 ,  0.08898101718925662\n",
            "Cash Flow to Total Assets ,  53.40513396053939 ,  2.713866866066637e-13\n",
            "Operating Expense Rate ,  0.6773157160306444 ,  0.41051258288526926\n",
            "all numerical columns :  57\n",
            "selected columns by kruskal :  51 ['Retained Earnings to Total Assets', 'Per Share Net profit before tax (Yuan ¥)', 'Revenue Per Share (Yuan ¥)', 'Quick Asset Turnover Rate', 'Cash/Current Liability', \"Net Income to Stockholder's Equity\", 'Inventory/Working Capital', 'Cash Flow to Liability', 'Operating profit per person', 'Contingent liabilities/Net worth', 'Average Collection Days', 'CFO to Assets', 'Inventory/Current Liability', 'Cash Flow to Sales', 'Realized Sales Gross Profit Growth Rate', 'Total debt/Total net worth', 'Quick Ratio', 'Quick Assets/Total Assets', 'Long-term fund suitability ratio (A)', 'Cash flow rate', 'Equity to Liability', 'Total expense/Assets', 'Current Ratio', 'Total Asset Return Growth Rate Ratio', 'Fixed Assets Turnover Frequency', 'Operating Profit Growth Rate', 'Total Asset Turnover', 'Quick Assets/Current Liability', 'Current Liability to Current Assets', 'Net Income to Total Assets', 'Net Value Growth Rate', 'Cash Flow Per Share', 'Cash/Total Assets', 'Research and development expense rate', 'Continuous Net Profit Growth Rate', 'Cash Flow to Equity', 'Operating Funds to Liability', 'Current Asset Turnover Rate', 'Degree of Financial Leverage (DFL)', 'Fixed Assets to Assets', 'Allocation rate per person', 'Cash Reinvestment %', 'Long-term Liability to Current Assets', 'Tax rate (A)', 'Interest Coverage Ratio (Interest expense to EBIT)', 'Interest Expense Ratio', 'Total Asset Growth Rate', 'Total income/Total expense', 'Total assets to GNP price', 'Interest-bearing debt interest rate', 'Cash Flow to Total Assets']\n"
          ]
        }
      ],
      "source": [
        "list_target_unique = df[target_column].unique()\n",
        "list_meaningful_column_by_kruskall = []\n",
        "\n",
        "for column_name in list_numeric_by_vif:\n",
        "  list_by_quality_value = []\n",
        "  for quality_value in list_target_unique:\n",
        "      df_tmp = df[df[target_column] == quality_value][column_name].dropna()\n",
        "      list_by_quality_value.append(np.array(df_tmp))\n",
        "  statistic, pvalue = kruskal(*list_by_quality_value)\n",
        "  if pvalue <= 0.05:\n",
        "    list_meaningful_column_by_kruskall.append(column_name)\n",
        "  print(column_name, \", \",statistic,\", \", pvalue)\n",
        "print(\"all numerical columns : \", len(list_numeric_by_vif))\n",
        "print(\"selected columns by kruskal : \", len(list_meaningful_column_by_kruskall), list_meaningful_column_by_kruskall)"
      ]
    },
    {
      "cell_type": "markdown",
      "id": "kQDnbSIfdwOM",
      "metadata": {
        "id": "kQDnbSIfdwOM"
      },
      "source": [
        "##### Insight\n",
        "1.   상관관계가 매우 높으면서 VIF도 높은 변수가 존재하여 그런 데이터를 제거 진행\n",
        "2.   크루스칼 검정을 모두 신뢰하기 어려운 데이터 분포이지만(연관성이 있다라는 사실에 대해서), 연관성이 없다라고 판단된 데이터는 신뢰할 만함. 이유는 우리가 가진 데이터가 이것뿐이기 때문에 현 데이터로 연관성이 없으면 제거하도 문제되지 않을 확률이 높음"
      ]
    },
    {
      "cell_type": "markdown",
      "id": "bed9becc",
      "metadata": {
        "id": "bed9becc"
      },
      "source": [
        "## 3. Data Processing 2"
      ]
    },
    {
      "cell_type": "markdown",
      "id": "H3sIvxjbry35",
      "metadata": {
        "id": "H3sIvxjbry35"
      },
      "source": [
        "### 3-1 Feature Selection\n",
        "*   카이제곱 검정을 통과한 categorical 선택\n",
        "*   kruskall 검정 통과한 numerical 선택\n",
        "*   VIF 분석에서 factor value 높은 컬럼 제거\n"
      ]
    },
    {
      "cell_type": "code",
      "execution_count": null,
      "id": "dP2jTA2Pr2U1",
      "metadata": {
        "colab": {
          "base_uri": "https://localhost:8080/",
          "height": 323
        },
        "id": "dP2jTA2Pr2U1",
        "outputId": "065ad887-054e-4702-b162-620af72c8b5c"
      },
      "outputs": [
        {
          "data": {
            "text/html": [
              "\n",
              "  <div id=\"df-b287117b-a32c-4213-9e0c-7e02a10bb97a\">\n",
              "    <div class=\"colab-df-container\">\n",
              "      <div>\n",
              "<style scoped>\n",
              "    .dataframe tbody tr th:only-of-type {\n",
              "        vertical-align: middle;\n",
              "    }\n",
              "\n",
              "    .dataframe tbody tr th {\n",
              "        vertical-align: top;\n",
              "    }\n",
              "\n",
              "    .dataframe thead th {\n",
              "        text-align: right;\n",
              "    }\n",
              "</style>\n",
              "<table border=\"1\" class=\"dataframe\">\n",
              "  <thead>\n",
              "    <tr style=\"text-align: right;\">\n",
              "      <th></th>\n",
              "      <th>Liability-Assets Flag</th>\n",
              "      <th>Retained Earnings to Total Assets</th>\n",
              "      <th>Per Share Net profit before tax (Yuan ¥)</th>\n",
              "      <th>Revenue Per Share (Yuan ¥)</th>\n",
              "      <th>Quick Asset Turnover Rate</th>\n",
              "      <th>Cash/Current Liability</th>\n",
              "      <th>Net Income to Stockholder's Equity</th>\n",
              "      <th>Inventory/Working Capital</th>\n",
              "      <th>Cash Flow to Liability</th>\n",
              "      <th>Operating profit per person</th>\n",
              "      <th>...</th>\n",
              "      <th>Long-term Liability to Current Assets</th>\n",
              "      <th>Tax rate (A)</th>\n",
              "      <th>Interest Coverage Ratio (Interest expense to EBIT)</th>\n",
              "      <th>Interest Expense Ratio</th>\n",
              "      <th>Total Asset Growth Rate</th>\n",
              "      <th>Total income/Total expense</th>\n",
              "      <th>Total assets to GNP price</th>\n",
              "      <th>Interest-bearing debt interest rate</th>\n",
              "      <th>Cash Flow to Total Assets</th>\n",
              "      <th>Bankrupt?</th>\n",
              "    </tr>\n",
              "  </thead>\n",
              "  <tbody>\n",
              "    <tr>\n",
              "      <th>0</th>\n",
              "      <td>0</td>\n",
              "      <td>0.903225</td>\n",
              "      <td>0.138736</td>\n",
              "      <td>0.017560</td>\n",
              "      <td>6.550000e+09</td>\n",
              "      <td>0.000147</td>\n",
              "      <td>0.827890</td>\n",
              "      <td>0.276920</td>\n",
              "      <td>0.458609</td>\n",
              "      <td>0.392913</td>\n",
              "      <td>...</td>\n",
              "      <td>0.025592</td>\n",
              "      <td>0.0</td>\n",
              "      <td>0.564050</td>\n",
              "      <td>0.629951</td>\n",
              "      <td>4.980000e+09</td>\n",
              "      <td>0.002022</td>\n",
              "      <td>0.009219</td>\n",
              "      <td>0.000725</td>\n",
              "      <td>0.637555</td>\n",
              "      <td>1</td>\n",
              "    </tr>\n",
              "    <tr>\n",
              "      <th>1</th>\n",
              "      <td>0</td>\n",
              "      <td>0.931065</td>\n",
              "      <td>0.169918</td>\n",
              "      <td>0.021144</td>\n",
              "      <td>7.700000e+09</td>\n",
              "      <td>0.001384</td>\n",
              "      <td>0.839969</td>\n",
              "      <td>0.289642</td>\n",
              "      <td>0.459001</td>\n",
              "      <td>0.391590</td>\n",
              "      <td>...</td>\n",
              "      <td>0.023947</td>\n",
              "      <td>0.0</td>\n",
              "      <td>0.570175</td>\n",
              "      <td>0.635172</td>\n",
              "      <td>6.110000e+09</td>\n",
              "      <td>0.002226</td>\n",
              "      <td>0.008323</td>\n",
              "      <td>0.000647</td>\n",
              "      <td>0.641100</td>\n",
              "      <td>1</td>\n",
              "    </tr>\n",
              "  </tbody>\n",
              "</table>\n",
              "<p>2 rows × 53 columns</p>\n",
              "</div>\n",
              "      <button class=\"colab-df-convert\" onclick=\"convertToInteractive('df-b287117b-a32c-4213-9e0c-7e02a10bb97a')\"\n",
              "              title=\"Convert this dataframe to an interactive table.\"\n",
              "              style=\"display:none;\">\n",
              "        \n",
              "  <svg xmlns=\"http://www.w3.org/2000/svg\" height=\"24px\"viewBox=\"0 0 24 24\"\n",
              "       width=\"24px\">\n",
              "    <path d=\"M0 0h24v24H0V0z\" fill=\"none\"/>\n",
              "    <path d=\"M18.56 5.44l.94 2.06.94-2.06 2.06-.94-2.06-.94-.94-2.06-.94 2.06-2.06.94zm-11 1L8.5 8.5l.94-2.06 2.06-.94-2.06-.94L8.5 2.5l-.94 2.06-2.06.94zm10 10l.94 2.06.94-2.06 2.06-.94-2.06-.94-.94-2.06-.94 2.06-2.06.94z\"/><path d=\"M17.41 7.96l-1.37-1.37c-.4-.4-.92-.59-1.43-.59-.52 0-1.04.2-1.43.59L10.3 9.45l-7.72 7.72c-.78.78-.78 2.05 0 2.83L4 21.41c.39.39.9.59 1.41.59.51 0 1.02-.2 1.41-.59l7.78-7.78 2.81-2.81c.8-.78.8-2.07 0-2.86zM5.41 20L4 18.59l7.72-7.72 1.47 1.35L5.41 20z\"/>\n",
              "  </svg>\n",
              "      </button>\n",
              "      \n",
              "  <style>\n",
              "    .colab-df-container {\n",
              "      display:flex;\n",
              "      flex-wrap:wrap;\n",
              "      gap: 12px;\n",
              "    }\n",
              "\n",
              "    .colab-df-convert {\n",
              "      background-color: #E8F0FE;\n",
              "      border: none;\n",
              "      border-radius: 50%;\n",
              "      cursor: pointer;\n",
              "      display: none;\n",
              "      fill: #1967D2;\n",
              "      height: 32px;\n",
              "      padding: 0 0 0 0;\n",
              "      width: 32px;\n",
              "    }\n",
              "\n",
              "    .colab-df-convert:hover {\n",
              "      background-color: #E2EBFA;\n",
              "      box-shadow: 0px 1px 2px rgba(60, 64, 67, 0.3), 0px 1px 3px 1px rgba(60, 64, 67, 0.15);\n",
              "      fill: #174EA6;\n",
              "    }\n",
              "\n",
              "    [theme=dark] .colab-df-convert {\n",
              "      background-color: #3B4455;\n",
              "      fill: #D2E3FC;\n",
              "    }\n",
              "\n",
              "    [theme=dark] .colab-df-convert:hover {\n",
              "      background-color: #434B5C;\n",
              "      box-shadow: 0px 1px 3px 1px rgba(0, 0, 0, 0.15);\n",
              "      filter: drop-shadow(0px 1px 2px rgba(0, 0, 0, 0.3));\n",
              "      fill: #FFFFFF;\n",
              "    }\n",
              "  </style>\n",
              "\n",
              "      <script>\n",
              "        const buttonEl =\n",
              "          document.querySelector('#df-b287117b-a32c-4213-9e0c-7e02a10bb97a button.colab-df-convert');\n",
              "        buttonEl.style.display =\n",
              "          google.colab.kernel.accessAllowed ? 'block' : 'none';\n",
              "\n",
              "        async function convertToInteractive(key) {\n",
              "          const element = document.querySelector('#df-b287117b-a32c-4213-9e0c-7e02a10bb97a');\n",
              "          const dataTable =\n",
              "            await google.colab.kernel.invokeFunction('convertToInteractive',\n",
              "                                                     [key], {});\n",
              "          if (!dataTable) return;\n",
              "\n",
              "          const docLinkHtml = 'Like what you see? Visit the ' +\n",
              "            '<a target=\"_blank\" href=https://colab.research.google.com/notebooks/data_table.ipynb>data table notebook</a>'\n",
              "            + ' to learn more about interactive tables.';\n",
              "          element.innerHTML = '';\n",
              "          dataTable['output_type'] = 'display_data';\n",
              "          await google.colab.output.renderOutput(dataTable, element);\n",
              "          const docLink = document.createElement('div');\n",
              "          docLink.innerHTML = docLinkHtml;\n",
              "          element.appendChild(docLink);\n",
              "        }\n",
              "      </script>\n",
              "    </div>\n",
              "  </div>\n",
              "  "
            ],
            "text/plain": [
              "  Liability-Assets Flag  Retained Earnings to Total Assets  \\\n",
              "0                     0                           0.903225   \n",
              "1                     0                           0.931065   \n",
              "\n",
              "   Per Share Net profit before tax (Yuan ¥)  Revenue Per Share (Yuan ¥)  \\\n",
              "0                                  0.138736                    0.017560   \n",
              "1                                  0.169918                    0.021144   \n",
              "\n",
              "   Quick Asset Turnover Rate  Cash/Current Liability  \\\n",
              "0               6.550000e+09                0.000147   \n",
              "1               7.700000e+09                0.001384   \n",
              "\n",
              "   Net Income to Stockholder's Equity  Inventory/Working Capital  \\\n",
              "0                            0.827890                   0.276920   \n",
              "1                            0.839969                   0.289642   \n",
              "\n",
              "   Cash Flow to Liability  Operating profit per person  ...  \\\n",
              "0                0.458609                     0.392913  ...   \n",
              "1                0.459001                     0.391590  ...   \n",
              "\n",
              "   Long-term Liability to Current Assets  Tax rate (A)  \\\n",
              "0                               0.025592           0.0   \n",
              "1                               0.023947           0.0   \n",
              "\n",
              "   Interest Coverage Ratio (Interest expense to EBIT)  Interest Expense Ratio  \\\n",
              "0                                           0.564050                 0.629951   \n",
              "1                                           0.570175                 0.635172   \n",
              "\n",
              "   Total Asset Growth Rate  Total income/Total expense  \\\n",
              "0             4.980000e+09                    0.002022   \n",
              "1             6.110000e+09                    0.002226   \n",
              "\n",
              "   Total assets to GNP price  Interest-bearing debt interest rate  \\\n",
              "0                   0.009219                             0.000725   \n",
              "1                   0.008323                             0.000647   \n",
              "\n",
              "   Cash Flow to Total Assets  Bankrupt?  \n",
              "0                   0.637555          1  \n",
              "1                   0.641100          1  \n",
              "\n",
              "[2 rows x 53 columns]"
            ]
          },
          "execution_count": 41,
          "metadata": {},
          "output_type": "execute_result"
        }
      ],
      "source": [
        "df_fs = df[list_categorical_columns+list_meaningful_column_by_kruskall + [target_column]]\n",
        "df_fs.head(2)"
      ]
    },
    {
      "cell_type": "markdown",
      "id": "aac47aa2",
      "metadata": {
        "id": "aac47aa2"
      },
      "source": [
        "### 3-2 Missing Values"
      ]
    },
    {
      "cell_type": "code",
      "execution_count": null,
      "id": "WrVBMRje-i_a",
      "metadata": {
        "colab": {
          "base_uri": "https://localhost:8080/"
        },
        "id": "WrVBMRje-i_a",
        "outputId": "535c701d-dd4a-4791-df79-5260d9b671f6"
      },
      "outputs": [
        {
          "data": {
            "text/plain": [
              "Liability-Assets Flag                                 0\n",
              "Total Asset Turnover                                  0\n",
              "Current Liability to Current Assets                   0\n",
              "Net Income to Total Assets                            0\n",
              "Net Value Growth Rate                                 0\n",
              "Cash Flow Per Share                                   0\n",
              "Cash/Total Assets                                     0\n",
              "Research and development expense rate                 0\n",
              "Continuous Net Profit Growth Rate                     0\n",
              "Cash Flow to Equity                                   0\n",
              "Operating Funds to Liability                          0\n",
              "Current Asset Turnover Rate                           0\n",
              "Degree of Financial Leverage (DFL)                    0\n",
              "Fixed Assets to Assets                                0\n",
              "Allocation rate per person                            0\n",
              "Cash Reinvestment %                                   0\n",
              "Long-term Liability to Current Assets                 0\n",
              "Tax rate (A)                                          0\n",
              "Interest Coverage Ratio (Interest expense to EBIT)    0\n",
              "Interest Expense Ratio                                0\n",
              "Total Asset Growth Rate                               0\n",
              "Total income/Total expense                            0\n",
              "Total assets to GNP price                             0\n",
              "Interest-bearing debt interest rate                   0\n",
              "Cash Flow to Total Assets                             0\n",
              "Quick Assets/Current Liability                        0\n",
              "Operating Profit Growth Rate                          0\n",
              "Retained Earnings to Total Assets                     0\n",
              "Fixed Assets Turnover Frequency                       0\n",
              "Per Share Net profit before tax (Yuan ¥)              0\n",
              "Revenue Per Share (Yuan ¥)                            0\n",
              "Quick Asset Turnover Rate                             0\n",
              "Cash/Current Liability                                0\n",
              "Net Income to Stockholder's Equity                    0\n",
              "Inventory/Working Capital                             0\n",
              "Cash Flow to Liability                                0\n",
              "Operating profit per person                           0\n",
              "Contingent liabilities/Net worth                      0\n",
              "Average Collection Days                               0\n",
              "CFO to Assets                                         0\n",
              "Inventory/Current Liability                           0\n",
              "Cash Flow to Sales                                    0\n",
              "Realized Sales Gross Profit Growth Rate               0\n",
              "Total debt/Total net worth                            0\n",
              "Quick Ratio                                           0\n",
              "Quick Assets/Total Assets                             0\n",
              "Long-term fund suitability ratio (A)                  0\n",
              "Cash flow rate                                        0\n",
              "Equity to Liability                                   0\n",
              "Total expense/Assets                                  0\n",
              "Current Ratio                                         0\n",
              "Total Asset Return Growth Rate Ratio                  0\n",
              "Bankrupt?                                             0\n",
              "dtype: int64"
            ]
          },
          "execution_count": 42,
          "metadata": {},
          "output_type": "execute_result"
        }
      ],
      "source": [
        "df_fs.isna().sum().sort_values(ascending=False)"
      ]
    },
    {
      "cell_type": "markdown",
      "id": "fcd0d89f",
      "metadata": {
        "id": "fcd0d89f"
      },
      "source": [
        "### 3-3 Feature Transformation"
      ]
    },
    {
      "cell_type": "code",
      "execution_count": null,
      "id": "DHjEGiCjgtmG",
      "metadata": {
        "id": "DHjEGiCjgtmG"
      },
      "outputs": [],
      "source": [
        "X = df_fs.drop([target_column], axis=1)\n",
        "Y = df_fs[target_column]"
      ]
    },
    {
      "cell_type": "markdown",
      "id": "Dkx4UhnFtIKR",
      "metadata": {
        "id": "Dkx4UhnFtIKR"
      },
      "source": [
        "##### Label Encoding"
      ]
    },
    {
      "cell_type": "code",
      "execution_count": null,
      "id": "2LDNGn4lHy6U",
      "metadata": {
        "id": "2LDNGn4lHy6U"
      },
      "outputs": [],
      "source": [
        "Y = Y.astype(\"int\")"
      ]
    },
    {
      "cell_type": "markdown",
      "id": "k2sH7A9JP0AU",
      "metadata": {
        "id": "k2sH7A9JP0AU"
      },
      "source": [
        "##### Feature Scaling\n",
        "*   Standardization과 MinMaxScaling은 다른 것.\n",
        "*   MinMaxScaling은 [0,1]로 값을 scaling 하는 것 (예 sklearn의 MinMaxScaler())\n",
        "*   Standardization은 정규분포의 표준화를 활용하여 scaling하는 것 (예 sklearn의 StandardScaler())\n",
        "\n"
      ]
    },
    {
      "cell_type": "code",
      "execution_count": null,
      "id": "CSxu4ebGtEYs",
      "metadata": {
        "colab": {
          "base_uri": "https://localhost:8080/"
        },
        "id": "CSxu4ebGtEYs",
        "outputId": "4b89c913-b62f-49c1-acb8-712e567be924"
      },
      "outputs": [
        {
          "name": "stdout",
          "output_type": "stream",
          "text": [
            "1\n",
            "51\n"
          ]
        }
      ],
      "source": [
        "list_categorical_columns_fs = list(X.select_dtypes(include=['object']).columns)\n",
        "list_numeric_columns_fs = list(X.select_dtypes(include=['float64']).columns)\n",
        "print(len(list_categorical_columns_fs))\n",
        "print(len(list_numeric_columns_fs))"
      ]
    },
    {
      "cell_type": "code",
      "execution_count": null,
      "id": "L9VrusCMIVk5",
      "metadata": {
        "colab": {
          "base_uri": "https://localhost:8080/"
        },
        "id": "L9VrusCMIVk5",
        "outputId": "af2fee6a-35c9-4b11-db01-aa7a4e9006c3"
      },
      "outputs": [
        {
          "data": {
            "text/plain": [
              "['Liability-Assets Flag']"
            ]
          },
          "execution_count": 45,
          "metadata": {},
          "output_type": "execute_result"
        }
      ],
      "source": [
        "list_categorical_columns_fs"
      ]
    },
    {
      "cell_type": "code",
      "execution_count": null,
      "id": "rMgEw45XPzGW",
      "metadata": {
        "colab": {
          "base_uri": "https://localhost:8080/",
          "height": 309
        },
        "id": "rMgEw45XPzGW",
        "outputId": "13e42aef-4c79-4270-c50c-6fe4c10c67ae"
      },
      "outputs": [
        {
          "data": {
            "text/html": [
              "\n",
              "  <div id=\"df-680dd581-c824-401d-9c73-5f321fcd5451\">\n",
              "    <div class=\"colab-df-container\">\n",
              "      <div>\n",
              "<style scoped>\n",
              "    .dataframe tbody tr th:only-of-type {\n",
              "        vertical-align: middle;\n",
              "    }\n",
              "\n",
              "    .dataframe tbody tr th {\n",
              "        vertical-align: top;\n",
              "    }\n",
              "\n",
              "    .dataframe thead th {\n",
              "        text-align: right;\n",
              "    }\n",
              "</style>\n",
              "<table border=\"1\" class=\"dataframe\">\n",
              "  <thead>\n",
              "    <tr style=\"text-align: right;\">\n",
              "      <th></th>\n",
              "      <th>Liability-Assets Flag</th>\n",
              "      <th>Retained Earnings to Total Assets</th>\n",
              "      <th>Per Share Net profit before tax (Yuan ¥)</th>\n",
              "      <th>Revenue Per Share (Yuan ¥)</th>\n",
              "      <th>Quick Asset Turnover Rate</th>\n",
              "      <th>Cash/Current Liability</th>\n",
              "      <th>Net Income to Stockholder's Equity</th>\n",
              "      <th>Inventory/Working Capital</th>\n",
              "      <th>Cash Flow to Liability</th>\n",
              "      <th>Operating profit per person</th>\n",
              "      <th>...</th>\n",
              "      <th>Cash Reinvestment %</th>\n",
              "      <th>Long-term Liability to Current Assets</th>\n",
              "      <th>Tax rate (A)</th>\n",
              "      <th>Interest Coverage Ratio (Interest expense to EBIT)</th>\n",
              "      <th>Interest Expense Ratio</th>\n",
              "      <th>Total Asset Growth Rate</th>\n",
              "      <th>Total income/Total expense</th>\n",
              "      <th>Total assets to GNP price</th>\n",
              "      <th>Interest-bearing debt interest rate</th>\n",
              "      <th>Cash Flow to Total Assets</th>\n",
              "    </tr>\n",
              "  </thead>\n",
              "  <tbody>\n",
              "    <tr>\n",
              "      <th>0</th>\n",
              "      <td>0</td>\n",
              "      <td>0.903225</td>\n",
              "      <td>0.138736</td>\n",
              "      <td>5.814497e-12</td>\n",
              "      <td>0.655</td>\n",
              "      <td>1.526798e-14</td>\n",
              "      <td>0.82789</td>\n",
              "      <td>0.27692</td>\n",
              "      <td>0.458609</td>\n",
              "      <td>0.392913</td>\n",
              "      <td>...</td>\n",
              "      <td>0.363725</td>\n",
              "      <td>2.682638e-12</td>\n",
              "      <td>0.0</td>\n",
              "      <td>0.56405</td>\n",
              "      <td>0.629951</td>\n",
              "      <td>0.498498</td>\n",
              "      <td>0.002022</td>\n",
              "      <td>9.388432e-13</td>\n",
              "      <td>7.323965e-13</td>\n",
              "      <td>0.637555</td>\n",
              "    </tr>\n",
              "  </tbody>\n",
              "</table>\n",
              "<p>1 rows × 52 columns</p>\n",
              "</div>\n",
              "      <button class=\"colab-df-convert\" onclick=\"convertToInteractive('df-680dd581-c824-401d-9c73-5f321fcd5451')\"\n",
              "              title=\"Convert this dataframe to an interactive table.\"\n",
              "              style=\"display:none;\">\n",
              "        \n",
              "  <svg xmlns=\"http://www.w3.org/2000/svg\" height=\"24px\"viewBox=\"0 0 24 24\"\n",
              "       width=\"24px\">\n",
              "    <path d=\"M0 0h24v24H0V0z\" fill=\"none\"/>\n",
              "    <path d=\"M18.56 5.44l.94 2.06.94-2.06 2.06-.94-2.06-.94-.94-2.06-.94 2.06-2.06.94zm-11 1L8.5 8.5l.94-2.06 2.06-.94-2.06-.94L8.5 2.5l-.94 2.06-2.06.94zm10 10l.94 2.06.94-2.06 2.06-.94-2.06-.94-.94-2.06-.94 2.06-2.06.94z\"/><path d=\"M17.41 7.96l-1.37-1.37c-.4-.4-.92-.59-1.43-.59-.52 0-1.04.2-1.43.59L10.3 9.45l-7.72 7.72c-.78.78-.78 2.05 0 2.83L4 21.41c.39.39.9.59 1.41.59.51 0 1.02-.2 1.41-.59l7.78-7.78 2.81-2.81c.8-.78.8-2.07 0-2.86zM5.41 20L4 18.59l7.72-7.72 1.47 1.35L5.41 20z\"/>\n",
              "  </svg>\n",
              "      </button>\n",
              "      \n",
              "  <style>\n",
              "    .colab-df-container {\n",
              "      display:flex;\n",
              "      flex-wrap:wrap;\n",
              "      gap: 12px;\n",
              "    }\n",
              "\n",
              "    .colab-df-convert {\n",
              "      background-color: #E8F0FE;\n",
              "      border: none;\n",
              "      border-radius: 50%;\n",
              "      cursor: pointer;\n",
              "      display: none;\n",
              "      fill: #1967D2;\n",
              "      height: 32px;\n",
              "      padding: 0 0 0 0;\n",
              "      width: 32px;\n",
              "    }\n",
              "\n",
              "    .colab-df-convert:hover {\n",
              "      background-color: #E2EBFA;\n",
              "      box-shadow: 0px 1px 2px rgba(60, 64, 67, 0.3), 0px 1px 3px 1px rgba(60, 64, 67, 0.15);\n",
              "      fill: #174EA6;\n",
              "    }\n",
              "\n",
              "    [theme=dark] .colab-df-convert {\n",
              "      background-color: #3B4455;\n",
              "      fill: #D2E3FC;\n",
              "    }\n",
              "\n",
              "    [theme=dark] .colab-df-convert:hover {\n",
              "      background-color: #434B5C;\n",
              "      box-shadow: 0px 1px 3px 1px rgba(0, 0, 0, 0.15);\n",
              "      filter: drop-shadow(0px 1px 2px rgba(0, 0, 0, 0.3));\n",
              "      fill: #FFFFFF;\n",
              "    }\n",
              "  </style>\n",
              "\n",
              "      <script>\n",
              "        const buttonEl =\n",
              "          document.querySelector('#df-680dd581-c824-401d-9c73-5f321fcd5451 button.colab-df-convert');\n",
              "        buttonEl.style.display =\n",
              "          google.colab.kernel.accessAllowed ? 'block' : 'none';\n",
              "\n",
              "        async function convertToInteractive(key) {\n",
              "          const element = document.querySelector('#df-680dd581-c824-401d-9c73-5f321fcd5451');\n",
              "          const dataTable =\n",
              "            await google.colab.kernel.invokeFunction('convertToInteractive',\n",
              "                                                     [key], {});\n",
              "          if (!dataTable) return;\n",
              "\n",
              "          const docLinkHtml = 'Like what you see? Visit the ' +\n",
              "            '<a target=\"_blank\" href=https://colab.research.google.com/notebooks/data_table.ipynb>data table notebook</a>'\n",
              "            + ' to learn more about interactive tables.';\n",
              "          element.innerHTML = '';\n",
              "          dataTable['output_type'] = 'display_data';\n",
              "          await google.colab.output.renderOutput(dataTable, element);\n",
              "          const docLink = document.createElement('div');\n",
              "          docLink.innerHTML = docLinkHtml;\n",
              "          element.appendChild(docLink);\n",
              "        }\n",
              "      </script>\n",
              "    </div>\n",
              "  </div>\n",
              "  "
            ],
            "text/plain": [
              "  Liability-Assets Flag  Retained Earnings to Total Assets  \\\n",
              "0                     0                           0.903225   \n",
              "\n",
              "   Per Share Net profit before tax (Yuan ¥)  Revenue Per Share (Yuan ¥)  \\\n",
              "0                                  0.138736                5.814497e-12   \n",
              "\n",
              "   Quick Asset Turnover Rate  Cash/Current Liability  \\\n",
              "0                      0.655            1.526798e-14   \n",
              "\n",
              "   Net Income to Stockholder's Equity  Inventory/Working Capital  \\\n",
              "0                             0.82789                    0.27692   \n",
              "\n",
              "   Cash Flow to Liability  Operating profit per person  ...  \\\n",
              "0                0.458609                     0.392913  ...   \n",
              "\n",
              "   Cash Reinvestment %  Long-term Liability to Current Assets  Tax rate (A)  \\\n",
              "0             0.363725                           2.682638e-12           0.0   \n",
              "\n",
              "   Interest Coverage Ratio (Interest expense to EBIT)  Interest Expense Ratio  \\\n",
              "0                                            0.56405                 0.629951   \n",
              "\n",
              "   Total Asset Growth Rate  Total income/Total expense  \\\n",
              "0                 0.498498                    0.002022   \n",
              "\n",
              "   Total assets to GNP price  Interest-bearing debt interest rate  \\\n",
              "0               9.388432e-13                         7.323965e-13   \n",
              "\n",
              "   Cash Flow to Total Assets  \n",
              "0                   0.637555  \n",
              "\n",
              "[1 rows x 52 columns]"
            ]
          },
          "execution_count": 48,
          "metadata": {},
          "output_type": "execute_result"
        }
      ],
      "source": [
        "# min max scaling\n",
        "scaler = MinMaxScaler()\n",
        "X.loc[:, list_numeric_columns_fs] = scaler.fit_transform(X[list_numeric_columns_fs])\n",
        "X.head(1)"
      ]
    },
    {
      "cell_type": "markdown",
      "id": "ZcNDkNHUeTyc",
      "metadata": {
        "id": "ZcNDkNHUeTyc"
      },
      "source": [
        "##### One-hot Encoding for categorical column data"
      ]
    },
    {
      "cell_type": "code",
      "execution_count": null,
      "id": "dkhXgr51hWGE",
      "metadata": {
        "colab": {
          "base_uri": "https://localhost:8080/",
          "height": 309
        },
        "id": "dkhXgr51hWGE",
        "outputId": "38cc93b3-14cb-48da-ee84-9e02dce3e8c4"
      },
      "outputs": [
        {
          "data": {
            "text/html": [
              "\n",
              "  <div id=\"df-b29dc161-a3a0-490c-8be6-396ccbcef1de\">\n",
              "    <div class=\"colab-df-container\">\n",
              "      <div>\n",
              "<style scoped>\n",
              "    .dataframe tbody tr th:only-of-type {\n",
              "        vertical-align: middle;\n",
              "    }\n",
              "\n",
              "    .dataframe tbody tr th {\n",
              "        vertical-align: top;\n",
              "    }\n",
              "\n",
              "    .dataframe thead th {\n",
              "        text-align: right;\n",
              "    }\n",
              "</style>\n",
              "<table border=\"1\" class=\"dataframe\">\n",
              "  <thead>\n",
              "    <tr style=\"text-align: right;\">\n",
              "      <th></th>\n",
              "      <th>Retained Earnings to Total Assets</th>\n",
              "      <th>Per Share Net profit before tax (Yuan ¥)</th>\n",
              "      <th>Revenue Per Share (Yuan ¥)</th>\n",
              "      <th>Quick Asset Turnover Rate</th>\n",
              "      <th>Cash/Current Liability</th>\n",
              "      <th>Net Income to Stockholder's Equity</th>\n",
              "      <th>Inventory/Working Capital</th>\n",
              "      <th>Cash Flow to Liability</th>\n",
              "      <th>Operating profit per person</th>\n",
              "      <th>Contingent liabilities/Net worth</th>\n",
              "      <th>...</th>\n",
              "      <th>Tax rate (A)</th>\n",
              "      <th>Interest Coverage Ratio (Interest expense to EBIT)</th>\n",
              "      <th>Interest Expense Ratio</th>\n",
              "      <th>Total Asset Growth Rate</th>\n",
              "      <th>Total income/Total expense</th>\n",
              "      <th>Total assets to GNP price</th>\n",
              "      <th>Interest-bearing debt interest rate</th>\n",
              "      <th>Cash Flow to Total Assets</th>\n",
              "      <th>Liability-Assets Flag_0</th>\n",
              "      <th>Liability-Assets Flag_1</th>\n",
              "    </tr>\n",
              "  </thead>\n",
              "  <tbody>\n",
              "    <tr>\n",
              "      <th>0</th>\n",
              "      <td>0.903225</td>\n",
              "      <td>0.138736</td>\n",
              "      <td>5.814497e-12</td>\n",
              "      <td>0.655</td>\n",
              "      <td>1.526798e-14</td>\n",
              "      <td>0.82789</td>\n",
              "      <td>0.27692</td>\n",
              "      <td>0.458609</td>\n",
              "      <td>0.392913</td>\n",
              "      <td>0.006479</td>\n",
              "      <td>...</td>\n",
              "      <td>0.0</td>\n",
              "      <td>0.56405</td>\n",
              "      <td>0.629951</td>\n",
              "      <td>0.498498</td>\n",
              "      <td>0.002022</td>\n",
              "      <td>9.388432e-13</td>\n",
              "      <td>7.323965e-13</td>\n",
              "      <td>0.637555</td>\n",
              "      <td>1</td>\n",
              "      <td>0</td>\n",
              "    </tr>\n",
              "  </tbody>\n",
              "</table>\n",
              "<p>1 rows × 53 columns</p>\n",
              "</div>\n",
              "      <button class=\"colab-df-convert\" onclick=\"convertToInteractive('df-b29dc161-a3a0-490c-8be6-396ccbcef1de')\"\n",
              "              title=\"Convert this dataframe to an interactive table.\"\n",
              "              style=\"display:none;\">\n",
              "        \n",
              "  <svg xmlns=\"http://www.w3.org/2000/svg\" height=\"24px\"viewBox=\"0 0 24 24\"\n",
              "       width=\"24px\">\n",
              "    <path d=\"M0 0h24v24H0V0z\" fill=\"none\"/>\n",
              "    <path d=\"M18.56 5.44l.94 2.06.94-2.06 2.06-.94-2.06-.94-.94-2.06-.94 2.06-2.06.94zm-11 1L8.5 8.5l.94-2.06 2.06-.94-2.06-.94L8.5 2.5l-.94 2.06-2.06.94zm10 10l.94 2.06.94-2.06 2.06-.94-2.06-.94-.94-2.06-.94 2.06-2.06.94z\"/><path d=\"M17.41 7.96l-1.37-1.37c-.4-.4-.92-.59-1.43-.59-.52 0-1.04.2-1.43.59L10.3 9.45l-7.72 7.72c-.78.78-.78 2.05 0 2.83L4 21.41c.39.39.9.59 1.41.59.51 0 1.02-.2 1.41-.59l7.78-7.78 2.81-2.81c.8-.78.8-2.07 0-2.86zM5.41 20L4 18.59l7.72-7.72 1.47 1.35L5.41 20z\"/>\n",
              "  </svg>\n",
              "      </button>\n",
              "      \n",
              "  <style>\n",
              "    .colab-df-container {\n",
              "      display:flex;\n",
              "      flex-wrap:wrap;\n",
              "      gap: 12px;\n",
              "    }\n",
              "\n",
              "    .colab-df-convert {\n",
              "      background-color: #E8F0FE;\n",
              "      border: none;\n",
              "      border-radius: 50%;\n",
              "      cursor: pointer;\n",
              "      display: none;\n",
              "      fill: #1967D2;\n",
              "      height: 32px;\n",
              "      padding: 0 0 0 0;\n",
              "      width: 32px;\n",
              "    }\n",
              "\n",
              "    .colab-df-convert:hover {\n",
              "      background-color: #E2EBFA;\n",
              "      box-shadow: 0px 1px 2px rgba(60, 64, 67, 0.3), 0px 1px 3px 1px rgba(60, 64, 67, 0.15);\n",
              "      fill: #174EA6;\n",
              "    }\n",
              "\n",
              "    [theme=dark] .colab-df-convert {\n",
              "      background-color: #3B4455;\n",
              "      fill: #D2E3FC;\n",
              "    }\n",
              "\n",
              "    [theme=dark] .colab-df-convert:hover {\n",
              "      background-color: #434B5C;\n",
              "      box-shadow: 0px 1px 3px 1px rgba(0, 0, 0, 0.15);\n",
              "      filter: drop-shadow(0px 1px 2px rgba(0, 0, 0, 0.3));\n",
              "      fill: #FFFFFF;\n",
              "    }\n",
              "  </style>\n",
              "\n",
              "      <script>\n",
              "        const buttonEl =\n",
              "          document.querySelector('#df-b29dc161-a3a0-490c-8be6-396ccbcef1de button.colab-df-convert');\n",
              "        buttonEl.style.display =\n",
              "          google.colab.kernel.accessAllowed ? 'block' : 'none';\n",
              "\n",
              "        async function convertToInteractive(key) {\n",
              "          const element = document.querySelector('#df-b29dc161-a3a0-490c-8be6-396ccbcef1de');\n",
              "          const dataTable =\n",
              "            await google.colab.kernel.invokeFunction('convertToInteractive',\n",
              "                                                     [key], {});\n",
              "          if (!dataTable) return;\n",
              "\n",
              "          const docLinkHtml = 'Like what you see? Visit the ' +\n",
              "            '<a target=\"_blank\" href=https://colab.research.google.com/notebooks/data_table.ipynb>data table notebook</a>'\n",
              "            + ' to learn more about interactive tables.';\n",
              "          element.innerHTML = '';\n",
              "          dataTable['output_type'] = 'display_data';\n",
              "          await google.colab.output.renderOutput(dataTable, element);\n",
              "          const docLink = document.createElement('div');\n",
              "          docLink.innerHTML = docLinkHtml;\n",
              "          element.appendChild(docLink);\n",
              "        }\n",
              "      </script>\n",
              "    </div>\n",
              "  </div>\n",
              "  "
            ],
            "text/plain": [
              "   Retained Earnings to Total Assets  \\\n",
              "0                           0.903225   \n",
              "\n",
              "   Per Share Net profit before tax (Yuan ¥)  Revenue Per Share (Yuan ¥)  \\\n",
              "0                                  0.138736                5.814497e-12   \n",
              "\n",
              "   Quick Asset Turnover Rate  Cash/Current Liability  \\\n",
              "0                      0.655            1.526798e-14   \n",
              "\n",
              "   Net Income to Stockholder's Equity  Inventory/Working Capital  \\\n",
              "0                             0.82789                    0.27692   \n",
              "\n",
              "   Cash Flow to Liability  Operating profit per person  \\\n",
              "0                0.458609                     0.392913   \n",
              "\n",
              "   Contingent liabilities/Net worth  ...  Tax rate (A)  \\\n",
              "0                          0.006479  ...           0.0   \n",
              "\n",
              "   Interest Coverage Ratio (Interest expense to EBIT)  Interest Expense Ratio  \\\n",
              "0                                            0.56405                 0.629951   \n",
              "\n",
              "   Total Asset Growth Rate  Total income/Total expense  \\\n",
              "0                 0.498498                    0.002022   \n",
              "\n",
              "   Total assets to GNP price  Interest-bearing debt interest rate  \\\n",
              "0               9.388432e-13                         7.323965e-13   \n",
              "\n",
              "   Cash Flow to Total Assets  Liability-Assets Flag_0  Liability-Assets Flag_1  \n",
              "0                   0.637555                        1                        0  \n",
              "\n",
              "[1 rows x 53 columns]"
            ]
          },
          "execution_count": 49,
          "metadata": {},
          "output_type": "execute_result"
        }
      ],
      "source": [
        "X_base = pd.get_dummies(X)\n",
        "X_base.head(1)"
      ]
    },
    {
      "cell_type": "markdown",
      "id": "FO_9rlC0t53s",
      "metadata": {
        "id": "FO_9rlC0t53s"
      },
      "source": [
        "### 3-4 Sampling\n",
        "*   이번 실습에서는 두 가지 oversampling 기법과 combinedsampling 기법을 활용하고, 2 가지로 만들어진 데이터를 활용하여 Model optimization 진행\n",
        "*   SMOTE : Synthetic Minority Overf-sampling Technique. minority class에서 synthetic sampling을 생성하는 방법. 특정 minority class A에서 knn 기준으로 가까운 minority class Set K를 생성하고, A와 Set K 사이 간에 새로운 관측치를 생성하는 기법.\n",
        "*   SMOTEENN : SMOTE + ENN\n",
        "\n"
      ]
    },
    {
      "cell_type": "code",
      "execution_count": null,
      "id": "_icn9PwXAWqk",
      "metadata": {
        "colab": {
          "base_uri": "https://localhost:8080/",
          "height": 491
        },
        "id": "_icn9PwXAWqk",
        "outputId": "931becbd-761d-4ffc-ff22-52426beec2d3"
      },
      "outputs": [
        {
          "data": {
            "image/png": "[encoded data removed]",
            "text/plain": [
              "<IPython.core.display.Image object>"
            ]
          },
          "execution_count": 75,
          "metadata": {},
          "output_type": "execute_result"
        }
      ],
      "source": [
        "Image(path_lecture+\"img/sampling.png\")"
      ]
    },
    {
      "cell_type": "code",
      "execution_count": null,
      "id": "-vNfH7QkG4He",
      "metadata": {
        "id": "-vNfH7QkG4He"
      },
      "outputs": [],
      "source": [
        "X_train, X_validation, y_train, y_validation = train_test_split(X_base, Y, test_size=0.2, stratify=Y)"
      ]
    },
    {
      "cell_type": "markdown",
      "id": "rGRikwtgvPN2",
      "metadata": {
        "id": "rGRikwtgvPN2"
      },
      "source": [
        "SMOTE"
      ]
    },
    {
      "cell_type": "code",
      "execution_count": null,
      "id": "_NvXKDCtvAX0",
      "metadata": {
        "id": "_NvXKDCtvAX0"
      },
      "outputs": [],
      "source": [
        "sm = SMOTE(random_state=random_state)\n",
        "X_sm_sampling, y_sm_sampling = sm.fit_resample(X_train, y_train)"
      ]
    },
    {
      "cell_type": "code",
      "execution_count": null,
      "id": "V_ae2FkpvRZE",
      "metadata": {
        "colab": {
          "base_uri": "https://localhost:8080/",
          "height": 421
        },
        "id": "V_ae2FkpvRZE",
        "outputId": "6fd12f57-ea5e-4dc6-9e16-02d1ed428804"
      },
      "outputs": [
        {
          "name": "stderr",
          "output_type": "stream",
          "text": [
            "Pass the following variable as a keyword arg: x. From version 0.12, the only valid positional argument will be `data`, and passing other arguments without an explicit keyword will result in an error or misinterpretation.\n",
            "Pass the following variable as a keyword arg: x. From version 0.12, the only valid positional argument will be `data`, and passing other arguments without an explicit keyword will result in an error or misinterpretation.\n"
          ]
        },
        {
          "data": {
            "text/plain": [
              "Text(0.5, 1.0, 'After sampling for target label')"
            ]
          },
          "execution_count": 52,
          "metadata": {},
          "output_type": "execute_result"
        },
        {
          "data": {
            "image/png": "[encoded data removed]",
            "text/plain": [
              "<Figure size 1080x360 with 2 Axes>"
            ]
          },
          "metadata": {
            "needs_background": "light"
          },
          "output_type": "display_data"
        }
      ],
      "source": [
        "fig = plt.figure(figsize=(15,5))\n",
        "fig.add_subplot(121)\n",
        "sns.countplot(y_train)\n",
        "plt.title(\"Before sampling for target label\")\n",
        "\n",
        "fig.add_subplot(122)\n",
        "sns.countplot(y_sm_sampling)\n",
        "plt.title(\"After sampling for target label\")"
      ]
    },
    {
      "cell_type": "markdown",
      "id": "WbDfWaXmvs-a",
      "metadata": {
        "id": "WbDfWaXmvs-a"
      },
      "source": [
        "SMOTEENN"
      ]
    },
    {
      "cell_type": "code",
      "execution_count": null,
      "id": "A_diMGlMvbLS",
      "metadata": {
        "id": "A_diMGlMvbLS"
      },
      "outputs": [],
      "source": [
        "# smote enn sampling\n",
        "combined_sm = SMOTEENN(random_state = random_state)\n",
        "X_csm_sampling, y_csm_sampling = combined_sm.fit_resample(X_train, y_train)"
      ]
    },
    {
      "cell_type": "code",
      "execution_count": null,
      "id": "S3N1WR87vkbP",
      "metadata": {
        "colab": {
          "base_uri": "https://localhost:8080/",
          "height": 421
        },
        "id": "S3N1WR87vkbP",
        "outputId": "d0d73026-c8d0-4cca-d370-5656263fcff2"
      },
      "outputs": [
        {
          "name": "stderr",
          "output_type": "stream",
          "text": [
            "Pass the following variable as a keyword arg: x. From version 0.12, the only valid positional argument will be `data`, and passing other arguments without an explicit keyword will result in an error or misinterpretation.\n",
            "Pass the following variable as a keyword arg: x. From version 0.12, the only valid positional argument will be `data`, and passing other arguments without an explicit keyword will result in an error or misinterpretation.\n"
          ]
        },
        {
          "data": {
            "text/plain": [
              "Text(0.5, 1.0, 'After sampling for target label')"
            ]
          },
          "execution_count": 54,
          "metadata": {},
          "output_type": "execute_result"
        },
        {
          "data": {
            "image/png": "[encoded data removed]",
            "text/plain": [
              "<Figure size 1080x360 with 2 Axes>"
            ]
          },
          "metadata": {
            "needs_background": "light"
          },
          "output_type": "display_data"
        }
      ],
      "source": [
        "fig = plt.figure(figsize=(15,5))\n",
        "fig.add_subplot(121)\n",
        "sns.countplot(y_train)\n",
        "plt.title(\"Before sampling for target label\")\n",
        "\n",
        "fig.add_subplot(122)\n",
        "sns.countplot(y_csm_sampling)\n",
        "plt.title(\"After sampling for target label\")"
      ]
    },
    {
      "cell_type": "markdown",
      "id": "bY3HrL87j97h",
      "metadata": {
        "id": "bY3HrL87j97h"
      },
      "source": [
        "### 3-3 Summary\n",
        "##### 최종 생성 Feature는 아래와 같은 특성을 가짐\n",
        "1.   Feature Selection by Chi-test, VIF and kruskal-test\n",
        "2.   Feature Transformation\n",
        "3.   Sampling (oversampling, combiedsampling)\n",
        "\n",
        "##### Feature 종류\n",
        "1.   X_base, Y (No sampling, imbalanced data)\n",
        "2.   X_sm_sampling, Y_sm_sampling (smote oversampling)\n",
        "4.   X_csm_sampling, y_csm_sampling (smoteenn combinedsampling)"
      ]
    },
    {
      "cell_type": "markdown",
      "id": "be4aa89d",
      "metadata": {
        "id": "be4aa89d"
      },
      "source": [
        "## 4. Model Analysis\n",
        "1.   Base model without sampling\n",
        "2.   Model Optimization without sampling\n",
        "3.   Isolation Forest Optimization without sampling\n",
        "4.   model optimization with SMOTE Oversampling\n",
        "5.   model optimization with SMOTEENN combined sampling"
      ]
    },
    {
      "cell_type": "code",
      "execution_count": null,
      "id": "I3B6BrOPkeWe",
      "metadata": {
        "id": "I3B6BrOPkeWe"
      },
      "outputs": [],
      "source": [
        "list_model_type = []\n",
        "list_model_best_params = []\n",
        "list_model_f1score = []\n",
        "cv = 3\n",
        "n_jobs = -1\n",
        "n_iter_randomsearch = 16"
      ]
    },
    {
      "cell_type": "markdown",
      "id": "af760962",
      "metadata": {
        "id": "af760962"
      },
      "source": [
        "### 4-1. Base model without sampling"
      ]
    },
    {
      "cell_type": "code",
      "execution_count": null,
      "id": "AGECy0xUMCMO",
      "metadata": {
        "id": "AGECy0xUMCMO"
      },
      "outputs": [],
      "source": [
        "X_train_npy = np.array(X_train)\n",
        "y_train_npy = np.array(y_train)"
      ]
    },
    {
      "cell_type": "code",
      "execution_count": null,
      "id": "WYCzy1g72tRg",
      "metadata": {
        "colab": {
          "base_uri": "https://localhost:8080/"
        },
        "id": "WYCzy1g72tRg",
        "outputId": "8629d5ba-a10f-4fc4-e106-a8ec82ebc6c5"
      },
      "outputs": [
        {
          "data": {
            "text/plain": [
              "3"
            ]
          },
          "execution_count": 57,
          "metadata": {},
          "output_type": "execute_result"
        }
      ],
      "source": [
        "skf = StratifiedKFold(n_splits=3)\n",
        "skf.get_n_splits(X_train_npy, y_train_npy)"
      ]
    },
    {
      "cell_type": "code",
      "execution_count": null,
      "id": "ijeJ4aBl3A3_",
      "metadata": {
        "colab": {
          "base_uri": "https://localhost:8080/"
        },
        "id": "ijeJ4aBl3A3_",
        "outputId": "1d086734-4324-4681-d616-18e43e0691b5"
      },
      "outputs": [
        {
          "name": "stdout",
          "output_type": "stream",
          "text": [
            "0  precision, recall, f1score :  (0.7861419068736142, 0.5745666409861325, 0.6137652804319471, None)\n",
            "0  roc_auc_score :  0.9084071648690293\n",
            "validation : precision, recall, f1score :  (0.8332004782781985, 0.6007575757575757, 0.6505941003763621, None)\n",
            "validation : roc_auc_score :  0.9357868457300276\n"
          ]
        },
        {
          "name": "stderr",
          "output_type": "stream",
          "text": [
            "X has feature names, but RandomForestClassifier was fitted without feature names\n",
            "X has feature names, but RandomForestClassifier was fitted without feature names\n"
          ]
        },
        {
          "name": "stdout",
          "output_type": "stream",
          "text": [
            "1  precision, recall, f1score :  (0.7807917170199563, 0.5842182601880878, 0.6256107834877843, None)\n",
            "1  roc_auc_score :  0.9108640282131661\n",
            "validation : precision, recall, f1score :  (0.7586844050258684, 0.5662878787878788, 0.6010475121586233, None)\n",
            "validation : roc_auc_score :  0.9349690082644628\n"
          ]
        },
        {
          "name": "stderr",
          "output_type": "stream",
          "text": [
            "X has feature names, but RandomForestClassifier was fitted without feature names\n",
            "X has feature names, but RandomForestClassifier was fitted without feature names\n"
          ]
        },
        {
          "name": "stdout",
          "output_type": "stream",
          "text": [
            "2  precision, recall, f1score :  (0.8858960176991151, 0.5672281053372005, 0.6085128167623506, None)\n",
            "2  roc_auc_score :  0.9239118913866702\n",
            "validation : precision, recall, f1score :  (0.8045084996304508, 0.578030303030303, 0.6196034418256641, None)\n",
            "validation : roc_auc_score :  0.946565082644628\n",
            "average f1score :  0.6237483514535498\n"
          ]
        },
        {
          "name": "stderr",
          "output_type": "stream",
          "text": [
            "X has feature names, but RandomForestClassifier was fitted without feature names\n",
            "X has feature names, but RandomForestClassifier was fitted without feature names\n"
          ]
        }
      ],
      "source": [
        "list_fold_result = []\n",
        "for i, (train_index, test_index) in enumerate(skf.split(X_train_npy, y_train_npy)):\n",
        "  X_train_cv, X_test_cv = X_train_npy[train_index], X_train_npy[test_index]\n",
        "  y_train_cv, y_test_cv = y_train_npy[train_index], y_train_npy[test_index]\n",
        "  rf_clf = RandomForestClassifier()\n",
        "  rf_clf.fit(X_train_cv, y_train_cv)\n",
        "  y_prd_test = rf_clf.predict(X_test_cv)\n",
        "  y_prd_proba_test = rf_clf.predict_proba(X_test_cv)[:,-1]\n",
        "  prf_score_test = precision_recall_fscore_support(y_test_cv, y_prd_test, average=\"macro\")\n",
        "  score_test = roc_auc_score(y_test_cv, y_prd_proba_test, average=\"macro\")\n",
        "  print(i, \" precision, recall, f1score : \", prf_score_test)\n",
        "  print(i, \" roc_auc_score : \", score_test)\n",
        "\n",
        "  y_prd_validation = rf_clf.predict(X_validation)\n",
        "  y_prd_proba_validation = rf_clf.predict_proba(X_validation)[:,-1]\n",
        "  prf_score_validation = precision_recall_fscore_support(y_validation, y_prd_validation, average=\"macro\")\n",
        "  score_validation = roc_auc_score(y_validation, y_prd_proba_validation, average=\"macro\")\n",
        "  print(\"validation : precision, recall, f1score : \",prf_score_validation)\n",
        "  print(\"validation : roc_auc_score : \",score_validation)\n",
        "  list_fold_result.append(prf_score_validation[2])\n",
        "\n",
        "average_f1score = np.mean(list_fold_result)\n",
        "print(\"average f1score : \",average_f1score)\n",
        "list_model_type.append(\"Base model without sampling\")\n",
        "list_model_best_params.append({})\n",
        "list_model_f1score.append(average_f1score)"
      ]
    },
    {
      "cell_type": "markdown",
      "id": "3lHzr1yiIEMZ",
      "metadata": {
        "id": "3lHzr1yiIEMZ"
      },
      "source": [
        "- sklearn precision recall f1 support\n",
        "- https://scikit-learn.org/stable/modules/generated/sklearn.metrics.precision_recall_fscore_support.html"
      ]
    },
    {
      "cell_type": "code",
      "execution_count": null,
      "id": "puFxOlAhg_lC",
      "metadata": {
        "colab": {
          "base_uri": "https://localhost:8080/",
          "height": 198
        },
        "id": "puFxOlAhg_lC",
        "outputId": "0551243c-1352-4216-eab5-e57606201e1e"
      },
      "outputs": [
        {
          "ename": "NameError",
          "evalue": "ignored",
          "output_type": "error",
          "traceback": [
            "\u001b[0;31m---------------------------------------------------------------------------\u001b[0m",
            "\u001b[0;31mNameError\u001b[0m                                 Traceback (most recent call last)",
            "\u001b[0;32m<ipython-input-58-7d08f427994a>\u001b[0m in \u001b[0;36m<module>\u001b[0;34m\u001b[0m\n\u001b[1;32m      1\u001b[0m \u001b[0;31m# show confusion matrix\u001b[0m\u001b[0;34m\u001b[0m\u001b[0;34m\u001b[0m\u001b[0;34m\u001b[0m\u001b[0m\n\u001b[0;32m----> 2\u001b[0;31m \u001b[0mcm\u001b[0m \u001b[0;34m=\u001b[0m \u001b[0mpd\u001b[0m\u001b[0;34m.\u001b[0m\u001b[0mDataFrame\u001b[0m\u001b[0;34m(\u001b[0m\u001b[0mconfusion_matrix\u001b[0m\u001b[0;34m(\u001b[0m\u001b[0my_validation\u001b[0m\u001b[0;34m,\u001b[0m \u001b[0my_prd_validation\u001b[0m\u001b[0;34m)\u001b[0m\u001b[0;34m)\u001b[0m\u001b[0;34m\u001b[0m\u001b[0;34m\u001b[0m\u001b[0m\n\u001b[0m\u001b[1;32m      3\u001b[0m \u001b[0msns\u001b[0m\u001b[0;34m.\u001b[0m\u001b[0mheatmap\u001b[0m\u001b[0;34m(\u001b[0m\u001b[0mcm\u001b[0m\u001b[0;34m,\u001b[0m \u001b[0mcmap\u001b[0m\u001b[0;34m=\u001b[0m\u001b[0mplt\u001b[0m\u001b[0;34m.\u001b[0m\u001b[0mcm\u001b[0m\u001b[0;34m.\u001b[0m\u001b[0mBlues\u001b[0m\u001b[0;34m,\u001b[0m \u001b[0mannot\u001b[0m\u001b[0;34m=\u001b[0m\u001b[0;32mTrue\u001b[0m\u001b[0;34m,\u001b[0m \u001b[0mfmt\u001b[0m\u001b[0;34m=\u001b[0m\u001b[0;34m'd'\u001b[0m\u001b[0;34m)\u001b[0m\u001b[0;34m\u001b[0m\u001b[0;34m\u001b[0m\u001b[0m\n",
            "\u001b[0;31mNameError\u001b[0m: name 'y_prd_validation' is not defined"
          ]
        }
      ],
      "source": [
        "# show confusion matrix\n",
        "cm = pd.DataFrame(confusion_matrix(y_validation, y_prd_validation))\n",
        "sns.heatmap(cm, cmap=plt.cm.Blues, annot=True, fmt='d')"
      ]
    },
    {
      "cell_type": "markdown",
      "id": "lpaHtpwj2box",
      "metadata": {
        "id": "lpaHtpwj2box"
      },
      "source": [
        "### 4-2. Model Optimization without sampling"
      ]
    },
    {
      "cell_type": "code",
      "execution_count": null,
      "id": "H3cJ5Mbi4YBf",
      "metadata": {
        "id": "H3cJ5Mbi4YBf"
      },
      "outputs": [],
      "source": [
        "def plot_roc_auc(y_true, y_prd_proba):\n",
        "  fpr, tpr, _ = roc_curve(y_true,  y_prd_proba)\n",
        "  auc = roc_auc_score(y_true, y_prd_proba)\n",
        "  plt.figure(figsize=(7,7))\n",
        "  plt.plot(fpr,tpr,label=\"auc=\"+str(auc))\n",
        "  plt.legend(loc=4)\n",
        "  plt.xlabel(\"False Positive Rate\")\n",
        "  plt.ylabel(\"True Positive Rate\")\n",
        "  plt.show()"
      ]
    },
    {
      "cell_type": "code",
      "execution_count": null,
      "id": "YikKiaPu4Zze",
      "metadata": {
        "id": "YikKiaPu4Zze"
      },
      "outputs": [],
      "source": [
        "def model_learning_with_randomsearch(model, hyper_parameter, X, Y, metric=\"roc_auc_ovr_weighted\"):\n",
        "  random_cv_opt = RandomizedSearchCV(estimator=model, param_distributions=hyper_parameter, n_iter=n_iter_randomsearch, cv = cv, n_jobs = n_jobs, random_state=random_state, scoring=metric, verbose=1)\n",
        "  random_cv_opt.fit(X, Y)\n",
        "  # precision recall fscore\n",
        "  # roc_auc score\n",
        "\n",
        "  y_prd = random_cv_opt.predict(X_validation)\n",
        "  prf_score = precision_recall_fscore_support(y_validation, y_prd, average=\"macro\")\n",
        "\n",
        "  y_prd_proba = random_cv_opt.predict_proba(X_validation)[:,-1]\n",
        "  score = roc_auc_score(y_validation, y_prd_proba, average='macro')\n",
        "\n",
        "  print('validation -> best model hyper-parameter : ', random_cv_opt.best_params_)\n",
        "  print(\"validation -> precision, recall, f1score : \", prf_score)\n",
        "  print(\"validation -> roc_auc_score : \", score)\n",
        "\n",
        "  cm = pd.DataFrame(confusion_matrix(y_validation,y_prd))\n",
        "  sns.heatmap(cm, cmap=plt.cm.Blues, annot=True, fmt='d')\n",
        "\n",
        "  return random_cv_opt.best_params_, prf_score, score"
      ]
    },
    {
      "cell_type": "code",
      "execution_count": null,
      "id": "GVpoMTKg4pra",
      "metadata": {
        "colab": {
          "base_uri": "https://localhost:8080/",
          "height": 333
        },
        "id": "GVpoMTKg4pra",
        "outputId": "caea317f-25a5-4522-e0b3-86ac55089c0a"
      },
      "outputs": [
        {
          "name": "stdout",
          "output_type": "stream",
          "text": [
            "Fitting 3 folds for each of 16 candidates, totalling 48 fits\n",
            "validation -> best model hyper-parameter :  {'max_features': 0.9, 'max_depth': 15, 'class_weight': 'balanced'}\n",
            "validation -> precision, recall, f1score :  (0.6321534194869907, 0.6977272727272728, 0.6572239033072047, None)\n",
            "validation -> roc_auc_score :  0.9103994490358127\n"
          ]
        },
        {
          "data": {
            "image/png": "[encoded data removed]",
            "text/plain": [
              "<Figure size 432x288 with 2 Axes>"
            ]
          },
          "metadata": {
            "needs_background": "light"
          },
          "output_type": "display_data"
        }
      ],
      "source": [
        "hyper_params_rlf = {\n",
        "    \"max_depth\" : [8, 10, 15, 20],\n",
        "    \"class_weight\" : [\"balanced\", \"balanced_subsample\"],\n",
        "    \"max_features\" : [0.7, 0.8, 0.9]\n",
        "              }\n",
        "params, prf_score, score = model_learning_with_randomsearch(RandomForestClassifier(), hyper_params_rlf, X_train, y_train)\n",
        "list_model_type.append(\"model optimization without sampling\")\n",
        "list_model_best_params.append(params)\n",
        "list_model_f1score.append(prf_score[2])"
      ]
    },
    {
      "cell_type": "markdown",
      "id": "yfByAEal2bW6",
      "metadata": {
        "id": "yfByAEal2bW6"
      },
      "source": [
        "### 4-3. Isolation Forest Optimization without sampling\n",
        "- 밀도기반 이상 탐지\n",
        "- 데이터 셋을 Decision Tree 형태로 표현하고, 정상값은 decision tree height가 깊고 이상값은은 decision tree height가 얕아 상단부에서 분리할 수 있다는 것을 이용\n",
        "- 장점\n",
        "  - 군집기반 이상 탐지 알고리즘에 비해 계산량이 매우 적음\n",
        "  - robust한 모델 구현 가능"
      ]
    },
    {
      "cell_type": "code",
      "execution_count": null,
      "id": "QoM6N8cRT2g9",
      "metadata": {
        "id": "QoM6N8cRT2g9"
      },
      "outputs": [],
      "source": [
        "def change_prediction_result(y_prd):\n",
        "  return np.where(y_prd == 1, 0, 1)\n",
        "\n",
        "if_clf=IsolationForest(n_estimators=100, max_samples='auto', n_jobs=-1, max_features=0.9)\n",
        "if_clf.fit(X_train)\n",
        "y_prd = if_clf.predict(X_validation)\n",
        "# 1 -> normal\n",
        "# -1 -> anomaly"
      ]
    },
    {
      "cell_type": "code",
      "execution_count": null,
      "id": "HNjsKiUbD3T_",
      "metadata": {
        "id": "HNjsKiUbD3T_"
      },
      "outputs": [],
      "source": [
        "y_prd_changed = change_prediction_result(y_prd)\n",
        "prf_score = precision_recall_fscore_support(y_validation, y_prd_changed, average=\"macro\")"
      ]
    },
    {
      "cell_type": "code",
      "execution_count": null,
      "id": "TdbeuQAK59_c",
      "metadata": {
        "colab": {
          "base_uri": "https://localhost:8080/",
          "height": 282
        },
        "id": "TdbeuQAK59_c",
        "outputId": "c0cdd98a-69a5-4327-8674-749b46acc8ab"
      },
      "outputs": [
        {
          "data": {
            "text/plain": [
              "<AxesSubplot:>"
            ]
          },
          "execution_count": 181,
          "metadata": {},
          "output_type": "execute_result"
        },
        {
          "data": {
            "image/png": "[encoded data removed]",
            "text/plain": [
              "<Figure size 432x288 with 2 Axes>"
            ]
          },
          "metadata": {
            "needs_background": "light"
          },
          "output_type": "display_data"
        }
      ],
      "source": [
        "cm = pd.DataFrame(confusion_matrix(y_validation,y_prd_changed))\n",
        "sns.heatmap(cm, cmap=plt.cm.Blues, annot=True, fmt='d')"
      ]
    },
    {
      "cell_type": "code",
      "execution_count": null,
      "id": "Q-7yIGi3GXvq",
      "metadata": {
        "id": "Q-7yIGi3GXvq"
      },
      "outputs": [],
      "source": [
        "list_model_type.append(\"Isolation Forest Optimization without sampling\")\n",
        "list_model_best_params.append({})\n",
        "list_model_f1score.append(prf_score[2])"
      ]
    },
    {
      "cell_type": "markdown",
      "id": "NyB0OhrS2bFz",
      "metadata": {
        "id": "NyB0OhrS2bFz"
      },
      "source": [
        "### 4-4. model optimization with SMOTE Oversampling"
      ]
    },
    {
      "cell_type": "code",
      "execution_count": null,
      "id": "rkFl6Xeg6WeX",
      "metadata": {
        "colab": {
          "base_uri": "https://localhost:8080/",
          "height": 333
        },
        "id": "rkFl6Xeg6WeX",
        "outputId": "bcd0bebb-66e3-4c93-9ba0-e7211fd39bfc"
      },
      "outputs": [
        {
          "name": "stdout",
          "output_type": "stream",
          "text": [
            "Fitting 3 folds for each of 16 candidates, totalling 48 fits\n",
            "validation -> best model hyper-parameter :  {'max_features': 0.7, 'max_depth': 20, 'class_weight': 'balanced_subsample'}\n",
            "validation -> precision, recall, f1score :  (0.641112828438949, 0.7200757575757576, 0.6704385293762333, None)\n",
            "validation -> roc_auc_score :  0.9084538567493112\n"
          ]
        },
        {
          "data": {
            "image/png": "[encoded data removed]",
            "text/plain": [
              "<Figure size 432x288 with 2 Axes>"
            ]
          },
          "metadata": {
            "needs_background": "light"
          },
          "output_type": "display_data"
        }
      ],
      "source": [
        "params, prf_score, score = model_learning_with_randomsearch(RandomForestClassifier(), hyper_params_rlf, X_sm_sampling, y_sm_sampling)\n",
        "list_model_type.append(\"model optimization with smote oversampling\")\n",
        "list_model_best_params.append(params)\n",
        "list_model_f1score.append(prf_score[2])"
      ]
    },
    {
      "cell_type": "markdown",
      "id": "eFw1jsLy2a2l",
      "metadata": {
        "id": "eFw1jsLy2a2l"
      },
      "source": [
        "### 4-5. model optimization with smoteenn combined sampling"
      ]
    },
    {
      "cell_type": "code",
      "execution_count": null,
      "id": "mJSP4sZW6bbk",
      "metadata": {
        "colab": {
          "base_uri": "https://localhost:8080/",
          "height": 333
        },
        "id": "mJSP4sZW6bbk",
        "outputId": "b8192331-a709-48d3-c6cb-989fc8af896e"
      },
      "outputs": [
        {
          "name": "stdout",
          "output_type": "stream",
          "text": [
            "Fitting 3 folds for each of 16 candidates, totalling 48 fits\n",
            "validation -> best model hyper-parameter :  {'max_features': 0.7, 'max_depth': 20, 'class_weight': 'balanced_subsample'}\n",
            "validation -> precision, recall, f1score :  (0.6099343557444116, 0.7632575757575757, 0.6477263894286825, None)\n",
            "validation -> roc_auc_score :  0.9227789256198348\n"
          ]
        },
        {
          "data": {
            "image/png": "[encoded data removed]",
            "text/plain": [
              "<Figure size 432x288 with 2 Axes>"
            ]
          },
          "metadata": {
            "needs_background": "light"
          },
          "output_type": "display_data"
        }
      ],
      "source": [
        "params, prf_score, score = model_learning_with_randomsearch(RandomForestClassifier(), hyper_params_rlf, X_csm_sampling, y_csm_sampling)\n",
        "list_model_type.append(\"model optimization with smoteenn combined oversampling\")\n",
        "list_model_best_params.append(params)\n",
        "list_model_f1score.append(prf_score[2])"
      ]
    },
    {
      "cell_type": "code",
      "execution_count": null,
      "id": "zpJpOrGD7GXN",
      "metadata": {
        "colab": {
          "base_uri": "https://localhost:8080/",
          "height": 592
        },
        "id": "zpJpOrGD7GXN",
        "outputId": "8d5a3874-0db0-4e56-91a2-f42f6f44c9c8"
      },
      "outputs": [
        {
          "data": {
            "image/png": "[encoded data removed]",
            "text/plain": [
              "<Figure size 720x720 with 1 Axes>"
            ]
          },
          "metadata": {
            "needs_background": "light"
          },
          "output_type": "display_data"
        }
      ],
      "source": [
        "df_metric = pd.DataFrame({'Model':list_model_type, 'f1score_macro':list_model_f1score})\n",
        "ax = df_metric.plot.barh(x='Model', y='f1score_macro', rot=0, figsize=(10,10), legend=False)\n",
        "for bar in ax.patches:\n",
        "    ax.annotate(format(bar.get_width(), '.4f'),\n",
        "                   (bar.get_width(), bar.get_y() + bar.get_height() / 2),\n",
        "                   size=15, xytext=(8, 0),\n",
        "                   textcoords='offset points')"
      ]
    },
    {
      "cell_type": "markdown",
      "id": "C9L6XKsHD4qD",
      "metadata": {
        "id": "C9L6XKsHD4qD"
      },
      "source": [
        "### 4.6 Model Analysis"
      ]
    },
    {
      "cell_type": "code",
      "execution_count": null,
      "id": "TWbTKqCpG2C9",
      "metadata": {
        "id": "TWbTKqCpG2C9"
      },
      "outputs": [],
      "source": [
        "# {'max_features': 0.7, 'max_depth': 20, 'class_weight': 'balanced_subsample'}\n",
        "# X_sm_sampling, y_sm_sampling"
      ]
    },
    {
      "cell_type": "code",
      "execution_count": null,
      "id": "PQx1mkHnG5bn",
      "metadata": {
        "colab": {
          "base_uri": "https://localhost:8080/"
        },
        "id": "PQx1mkHnG5bn",
        "outputId": "024666be-43c6-4ef0-9e0e-b35cc986f700"
      },
      "outputs": [
        {
          "data": {
            "text/plain": [
              "RandomForestClassifier(class_weight='balanced_subsample', max_depth=20,\n",
              "                       max_features=0.7)"
            ]
          },
          "execution_count": 186,
          "metadata": {},
          "output_type": "execute_result"
        }
      ],
      "source": [
        "# reproduction\n",
        "rf_final = RandomForestClassifier(**{'max_features': 0.7, 'max_depth': 20, 'class_weight': 'balanced_subsample'})\n",
        "rf_final.fit(X_sm_sampling, y_sm_sampling)"
      ]
    },
    {
      "cell_type": "code",
      "execution_count": null,
      "id": "IR5uczxIHAnf",
      "metadata": {
        "colab": {
          "base_uri": "https://localhost:8080/",
          "height": 1000
        },
        "id": "IR5uczxIHAnf",
        "outputId": "cc2c3414-26f2-4390-8ac0-e4ca41d2a2ee"
      },
      "outputs": [
        {
          "data": {
            "image/png": "[encoded data removed]",
            "text/plain": [
              "<Figure size 1440x1440 with 1 Axes>"
            ]
          },
          "metadata": {
            "needs_background": "light"
          },
          "output_type": "display_data"
        }
      ],
      "source": [
        "plt.figure(figsize=(20,20))\n",
        "plt.barh(list(X_validation.columns), rf_final.feature_importances_)"
      ]
    },
    {
      "cell_type": "markdown",
      "id": "8-6vCLwzGahW",
      "metadata": {
        "id": "8-6vCLwzGahW"
      },
      "source": [
        "##### Shapley Value\n",
        "*   게임 이론에 근거해서 만들어진 값 (https://ko.wikipedia.org/wiki/게임이론)\n",
        "*   하나의 특성에 대한 중요도를 알기위해 여러 특성들의 조합을 구성하고 해당 특성의 유무에 따른 변화를 분석해서 얻어낸 값\n",
        "*.  Explainable AI\n",
        "*   https://en.wikipedia.org/wiki/Shapley_value\n",
        "\n"
      ]
    },
    {
      "cell_type": "code",
      "execution_count": null,
      "id": "iEW1wARyGh1d",
      "metadata": {
        "colab": {
          "base_uri": "https://localhost:8080/",
          "height": 398
        },
        "id": "iEW1wARyGh1d",
        "outputId": "80c00c8f-e461-4967-eefd-01f5687c3866"
      },
      "outputs": [
        {
          "data": {
            "image/png": "[encoded data removed]",
            "text/plain": [
              "<IPython.core.display.Image object>"
            ]
          },
          "execution_count": 100,
          "metadata": {},
          "output_type": "execute_result"
        }
      ],
      "source": [
        "Image(path_lecture + \"img/shapley_value.png\")"
      ]
    },
    {
      "cell_type": "code",
      "execution_count": null,
      "id": "gMtPukCVD6pZ",
      "metadata": {
        "id": "gMtPukCVD6pZ"
      },
      "outputs": [],
      "source": [
        "# shapley value\n",
        "explainer = shap.TreeExplainer(rf_final)\n",
        "\n",
        "shap_values = explainer.shap_values(X_validation)"
      ]
    },
    {
      "cell_type": "code",
      "execution_count": null,
      "id": "ykRndH34ElkV",
      "metadata": {
        "colab": {
          "base_uri": "https://localhost:8080/",
          "height": 693
        },
        "id": "ykRndH34ElkV",
        "outputId": "6d1a5f29-4eca-434b-e5f7-33193a58a76f"
      },
      "outputs": [
        {
          "data": {
            "image/png": "[encoded data removed]",
            "text/plain": [
              "<Figure size 576x684 with 1 Axes>"
            ]
          },
          "metadata": {
            "needs_background": "light"
          },
          "output_type": "display_data"
        }
      ],
      "source": [
        "shap.summary_plot(shap_values, X_validation)"
      ]
    }
  ],
  "metadata": {
    "colab": {
      "machine_shape": "hm",
      "provenance": []
    },
    "gpuClass": "standard",
    "kernelspec": {
      "display_name": "Python 3 (ipykernel)",
      "language": "python",
      "name": "python3"
    },
    "language_info": {
      "codemirror_mode": {
        "name": "ipython",
        "version": 3
      },
      "file_extension": ".py",
      "mimetype": "text/x-python",
      "name": "python",
      "nbconvert_exporter": "python",
      "pygments_lexer": "ipython3",
      "version": "3.9.13"
    }
  },
  "nbformat": 4,
  "nbformat_minor": 5
}

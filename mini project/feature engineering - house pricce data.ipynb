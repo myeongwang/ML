{
 "cells": [
  {
   "cell_type": "markdown",
   "metadata": {
    "id": "UKjg766IvMdI"
   },
   "source": [
    "# 사례를 통해서 배우는 파생 변수 만들기 2편"
   ]
  },
  {
   "cell_type": "markdown",
   "metadata": {
    "id": "OXUZV0j3nBJd"
   },
   "source": [
    "## 실습 개요\n",
    "\n",
    "사례를 통해서 배우는 파생 변수 만들기 2편\n",
    "\n",
    "\n",
    "1) 실습 목적\n",
    " * 실제 Kaggle 데이터셋을 통해서 파생 변수를 만들어 보는 실습을 진행합니다.\n",
    " * 파생 변수가 만들어지는 과정에서 도메인 지식에 대한 중요성을 파악합니다.\n",
    " * 파생 변수 생성 외에도 정형 데이터 해결에 대한 파이프라인을 파악합니다.\n",
    "\n",
    "\n",
    "2) 수강 목표\n",
    " * 모든 정형 데이터 문제에서 도메인에 맞는 파생 변수를 추측할 수 있습니다.\n",
    " * 파생 변수가 알고리즘 모델에 미치는 영향을 이해할 수 있습니다.\n",
    " * 머신러닝 파이프라인에 존재하는 각 단계가 어떤 역할을 하는지 이해할 수 있습니다.\n"
   ]
  },
  {
   "cell_type": "markdown",
   "metadata": {
    "id": "H5CYPnoeDoRu"
   },
   "source": [
    "### 실습 목차\n",
    "\n",
    "* **1. 캐글 데이터셋 실습 해보기**\n",
    "  * 캐글 데이터셋 - House Prices\n",
    "  * 결측치 및 이상치 다루기\n",
    "  * 파생 변수 만들기\n"
   ]
  },
  {
   "cell_type": "markdown",
   "metadata": {
    "id": "m1Z7XJaADpli"
   },
   "source": [
    "###  데이터셋 개요 </b>\n",
    "\n",
    "* 데이터셋: USA Housing dataset (Kaggle)\n",
    "* 데이터셋 개요 : 미국내 부동산 정보 데이터셋\n",
    "* 데이터셋 저작권 : [CC0: Public Domain](https://creativecommons.org/publicdomain/zero/1.0/)"
   ]
  },
  {
   "cell_type": "markdown",
   "metadata": {
    "id": "tMbQ5FwAX2Bl"
   },
   "source": [
    "### 환경 설정\n",
    "\n",
    "- **패키지 설치 및 임포트**\n",
    " * 코랩에서는 **scikit-learn** 및 **pandas**가 설치되어 있기 때문에, 따로 패키지를 설치하지 않으셔도 됩니다.\n",
    "\n",
    "- **Kaggle 데이터셋 다운로드**\n",
    "    1. Kaggle 회원가입\n",
    "    2. Account(계정) 페이지 진입 (https://www.kaggle.com/[사옹자이름]/account)\n",
    "    3. API - Create New API Token 클릭하고 kaggle.json 다운로드\n",
    "    4. 브라우저에서 json 파일을 열어 username 및 key 복사\n",
    "    5. 아래 코드에 username과 key 붙여넣기\n",
    "\n",
    "<center><img src='https://lh3.google.com/u/0/d/1EUspaI24LxPY9KX1EfPXMYGHE4ciIaKc=w1259-h864-iv1' width=\"600\"></center>\n"
   ]
  },
  {
   "cell_type": "code",
   "execution_count": 1,
   "metadata": {
    "id": "_Cp6XVj4WOGx"
   },
   "outputs": [],
   "source": [
    "import os\n",
    "os.environ['KAGGLE_USERNAME'] = 'myeongwang'\n",
    "os.environ['KAGGLE_KEY'] = \"b2e14da9a966c341ff3cc3aaacfd2fc4\""
   ]
  },
  {
   "cell_type": "code",
   "execution_count": 4,
   "metadata": {
    "colab": {
     "base_uri": "https://localhost:8080/"
    },
    "id": "bsDgla0tWp_N",
    "outputId": "2b2b5c41-20e4-4122-db40-285b7babbd47"
   },
   "outputs": [
    {
     "name": "stdout",
     "output_type": "stream",
     "text": [
      "Downloading usa-housing-dataset.zip to /Users/myeongjinlee/Desktop/UPSTAGE AI/ml advanced\n",
      "100%|█████████████████████████████████████████| 179k/179k [00:00<00:00, 794kB/s]\n",
      "100%|█████████████████████████████████████████| 179k/179k [00:00<00:00, 791kB/s]\n"
     ]
    }
   ],
   "source": [
    "!kaggle datasets download -d gpandi007/usa-housing-dataset"
   ]
  },
  {
   "cell_type": "code",
   "execution_count": 10,
   "metadata": {
    "colab": {
     "base_uri": "https://localhost:8080/"
    },
    "id": "M0kpA-SYXsGo",
    "outputId": "86b855d3-cc97-4f19-a4e0-fb1120087799"
   },
   "outputs": [
    {
     "name": "stdout",
     "output_type": "stream",
     "text": [
      "Archive:  /Users/myeongjinlee/Desktop/UPSTAGE AI/ml advanced/usa-housing-dataset.zip\r\n",
      "  inflating: housing_test.csv        \r\n",
      "  inflating: housing_train.csv       \r\n"
     ]
    }
   ],
   "source": [
    "!unzip \"/Users/myeongjinlee/Desktop/UPSTAGE AI/ml advanced/usa-housing-dataset.zip\""
   ]
  },
  {
   "cell_type": "code",
   "execution_count": 11,
   "metadata": {
    "id": "Aa2CBA6UW9LV"
   },
   "outputs": [
    {
     "name": "stdout",
     "output_type": "stream",
     "text": [
      "Collecting scikit-learn==1.2.2\n",
      "  Downloading scikit_learn-1.2.2-cp311-cp311-macosx_12_0_arm64.whl (8.4 MB)\n",
      "\u001b[2K     \u001b[90m━━━━━━━━━━━━━━━━━━━━━━━━━━━━━━━━━━━━━━━━\u001b[0m \u001b[32m8.4/8.4 MB\u001b[0m \u001b[31m7.4 MB/s\u001b[0m eta \u001b[36m0:00:00\u001b[0m00:01\u001b[0m00:01\u001b[0mm\n",
      "\u001b[?25hRequirement already satisfied: numpy>=1.17.3 in /Users/myeongjinlee/anaconda3/lib/python3.11/site-packages (from scikit-learn==1.2.2) (1.24.3)\n",
      "Requirement already satisfied: scipy>=1.3.2 in /Users/myeongjinlee/anaconda3/lib/python3.11/site-packages (from scikit-learn==1.2.2) (1.11.1)\n",
      "Requirement already satisfied: joblib>=1.1.1 in /Users/myeongjinlee/anaconda3/lib/python3.11/site-packages (from scikit-learn==1.2.2) (1.2.0)\n",
      "Requirement already satisfied: threadpoolctl>=2.0.0 in /Users/myeongjinlee/anaconda3/lib/python3.11/site-packages (from scikit-learn==1.2.2) (2.2.0)\n",
      "Installing collected packages: scikit-learn\n",
      "  Attempting uninstall: scikit-learn\n",
      "    Found existing installation: scikit-learn 1.3.0\n",
      "    Uninstalling scikit-learn-1.3.0:\n",
      "      Successfully uninstalled scikit-learn-1.3.0\n",
      "Successfully installed scikit-learn-1.2.2\n",
      "Collecting pandas==1.5.3\n",
      "  Downloading pandas-1.5.3-cp311-cp311-macosx_11_0_arm64.whl (10.8 MB)\n",
      "\u001b[2K     \u001b[90m━━━━━━━━━━━━━━━━━━━━━━━━━━━━━━━━━━━━━━━━\u001b[0m \u001b[32m10.8/10.8 MB\u001b[0m \u001b[31m11.5 MB/s\u001b[0m eta \u001b[36m0:00:00\u001b[0m00:01\u001b[0m00:01\u001b[0m\n",
      "\u001b[?25hRequirement already satisfied: python-dateutil>=2.8.1 in /Users/myeongjinlee/anaconda3/lib/python3.11/site-packages (from pandas==1.5.3) (2.8.2)\n",
      "Requirement already satisfied: pytz>=2020.1 in /Users/myeongjinlee/anaconda3/lib/python3.11/site-packages (from pandas==1.5.3) (2023.3.post1)\n",
      "Requirement already satisfied: numpy>=1.21.0 in /Users/myeongjinlee/anaconda3/lib/python3.11/site-packages (from pandas==1.5.3) (1.24.3)\n",
      "Requirement already satisfied: six>=1.5 in /Users/myeongjinlee/anaconda3/lib/python3.11/site-packages (from python-dateutil>=2.8.1->pandas==1.5.3) (1.16.0)\n",
      "Installing collected packages: pandas\n",
      "  Attempting uninstall: pandas\n",
      "    Found existing installation: pandas 2.0.3\n",
      "    Uninstalling pandas-2.0.3:\n",
      "      Successfully uninstalled pandas-2.0.3\n",
      "Successfully installed pandas-1.5.3\n"
     ]
    }
   ],
   "source": [
    "!pip install scikit-learn==1.2.2\n",
    "!pip install pandas==1.5.3"
   ]
  },
  {
   "cell_type": "code",
   "execution_count": 14,
   "metadata": {
    "id": "yTR993gX74J7"
   },
   "outputs": [],
   "source": [
    "# 알고리즘\n",
    "import xgboost as xgb\n",
    "\n",
    "from sklearn.neighbors import KNeighborsRegressor\n",
    "\n",
    "# 계산\n",
    "import numpy as np\n",
    "\n",
    "# 전처리\n",
    "from scipy.special import boxcox1p\n",
    "from sklearn.preprocessing import MinMaxScaler, StandardScaler, RobustScaler\n",
    "from sklearn.preprocessing import OneHotEncoder, LabelEncoder\n",
    "from sklearn.model_selection import train_test_split\n",
    "\n",
    "# 평가\n",
    "from sklearn.metrics import mean_squared_error, mean_absolute_error\n",
    "\n",
    "# 출력 및 시각화\n",
    "import matplotlib.pyplot as plt\n",
    "import seaborn as sns\n",
    "\n",
    "from IPython.display import display\n",
    "\n",
    "# 데이터셋 로드 및 정제\n",
    "import pandas as pd\n",
    "\n",
    "# 코드 셀 실행 후 경고를 무시\n",
    "import warnings\n",
    "warnings.filterwarnings(action='ignore')"
   ]
  },
  {
   "cell_type": "markdown",
   "metadata": {
    "id": "siW2vxW_5R8u"
   },
   "source": [
    "## 1. 캐글 데이터셋 실습 해보기\n",
    "\n",
    "```\n",
    "💡 목차 개요 : 실제 캐글 데이터셋을 통해 파생 변수를 제작해봅니다.  \n",
    "```\n",
    "\n",
    "- **1-1 캐글 데이터셋 - House Prices**\n",
    "- **1-2 결측치 및 이상치 다루기**\n",
    "- **1-3 파생 변수 만들기**"
   ]
  },
  {
   "cell_type": "markdown",
   "metadata": {
    "id": "wOhHH9j78vg0"
   },
   "source": [
    "### 1-1 캐글 데이터셋 - House Prices\n",
    "\n",
    ">\n",
    "\n"
   ]
  },
  {
   "cell_type": "markdown",
   "metadata": {
    "id": "0swGTp9x2tnk"
   },
   "source": [
    "#### 📝 설명 : (1-1)\n",
    "> 드디어 실제 캐글 데이터셋을 만져볼 수 있습니다! 우리가 이번 실습에서 사용하는 데이터셋은 캐글에서 제공하는 [**USA Housing dataset**](https://www.kaggle.com/datasets/gpandi007/usa-housing-dataset) 입니다. 우리가 사전에 수업에서 배웠던 여러 이론들을 적용할 수 있는 고마운 데이터 입니다. 데이터셋을 불러오고 학습하는 하나의 과정을 직접 우리 손으로 해봅시다!"
   ]
  },
  {
   "cell_type": "markdown",
   "metadata": {
    "id": "fA2gc9VV2OAH"
   },
   "source": [
    " 📖 설명 : 캐글에서 제공하고 있는 USA House Prices은 주택 시장에서 부동산 가격을 예측을 위해 사용되는 유명 데이터셋 입니다. <br>\n",
    " 주택 가격과 관련된 여러 정보들을 포함하고 있습니다. 이런 정보들은 주택 가격을 예측하거나 분석하는데 중요한 요소로 활용됩니다. <br>\n",
    " 주요 정보는 아래와 같습니다.\n",
    " - 주택&부지 면적\n",
    " - 지역\n",
    " - 침실 수\n",
    " - 차고 유무\n",
    " - 주택 유형\n",
    " - 건축 연도\n",
    " - 판매 가격 (예측할 값)\n",
    "\n",
    "\n",
    "<img src='https://lh3.google.com/u/0/d/1GAJDayRhz8zXD-5mXO4prBepqGb7YqR0=w1259-h864-iv1' width=\"1000\">"
   ]
  },
  {
   "cell_type": "markdown",
   "metadata": {
    "id": "EOiKDQoAp2XW"
   },
   "source": [
    "#### 👨‍💻 코드 : (1-1)\n"
   ]
  },
  {
   "cell_type": "markdown",
   "metadata": {
    "id": "9wHuMxgyvi0H"
   },
   "source": [
    "- 캐글에서는 다양한 방법으로 데이터셋을 제공합니다.\n",
    "- 우리가 실습할 데이터는 다행히도 학습(train.csv) 및 테스트(test.csv) 데이터로 각각 나뉘어 있습니다.\n",
    "- 데이터가 나뉘어 있는 이유는 학습 데이터셋으로 모델을 학습한 후, 테스트 데이터셋으로 모델의 성능을 검증하는 용도입니다.\n",
    "- 이런 경우는 손쉽게 데이터를 바로 이용할 수 있지만, 이와 반대로 학습 및 검증 그리고 테스트 데이터를 직접 나눠야 하는 경우도 있습니다."
   ]
  },
  {
   "cell_type": "code",
   "execution_count": 15,
   "metadata": {
    "colab": {
     "base_uri": "https://localhost:8080/",
     "height": 888
    },
    "id": "jnQrVZUbsnwp",
    "outputId": "6a553240-c897-471e-dc73-b0606be64e1f"
   },
   "outputs": [
    {
     "data": {
      "text/plain": [
       "'Train Dataset'"
      ]
     },
     "metadata": {},
     "output_type": "display_data"
    },
    {
     "data": {
      "text/html": [
       "<div>\n",
       "<style scoped>\n",
       "    .dataframe tbody tr th:only-of-type {\n",
       "        vertical-align: middle;\n",
       "    }\n",
       "\n",
       "    .dataframe tbody tr th {\n",
       "        vertical-align: top;\n",
       "    }\n",
       "\n",
       "    .dataframe thead th {\n",
       "        text-align: right;\n",
       "    }\n",
       "</style>\n",
       "<table border=\"1\" class=\"dataframe\">\n",
       "  <thead>\n",
       "    <tr style=\"text-align: right;\">\n",
       "      <th></th>\n",
       "      <th>Id</th>\n",
       "      <th>MSSubClass</th>\n",
       "      <th>MSZoning</th>\n",
       "      <th>LotFrontage</th>\n",
       "      <th>LotArea</th>\n",
       "      <th>Street</th>\n",
       "      <th>Alley</th>\n",
       "      <th>LotShape</th>\n",
       "      <th>LandContour</th>\n",
       "      <th>Utilities</th>\n",
       "      <th>...</th>\n",
       "      <th>PoolArea</th>\n",
       "      <th>PoolQC</th>\n",
       "      <th>Fence</th>\n",
       "      <th>MiscFeature</th>\n",
       "      <th>MiscVal</th>\n",
       "      <th>MoSold</th>\n",
       "      <th>YrSold</th>\n",
       "      <th>SaleType</th>\n",
       "      <th>SaleCondition</th>\n",
       "      <th>SalePrice</th>\n",
       "    </tr>\n",
       "  </thead>\n",
       "  <tbody>\n",
       "    <tr>\n",
       "      <th>0</th>\n",
       "      <td>1</td>\n",
       "      <td>60</td>\n",
       "      <td>RL</td>\n",
       "      <td>65.0</td>\n",
       "      <td>8450</td>\n",
       "      <td>Pave</td>\n",
       "      <td>NaN</td>\n",
       "      <td>Reg</td>\n",
       "      <td>Lvl</td>\n",
       "      <td>AllPub</td>\n",
       "      <td>...</td>\n",
       "      <td>0</td>\n",
       "      <td>NaN</td>\n",
       "      <td>NaN</td>\n",
       "      <td>NaN</td>\n",
       "      <td>0</td>\n",
       "      <td>2</td>\n",
       "      <td>2008</td>\n",
       "      <td>WD</td>\n",
       "      <td>Normal</td>\n",
       "      <td>208500</td>\n",
       "    </tr>\n",
       "    <tr>\n",
       "      <th>1</th>\n",
       "      <td>2</td>\n",
       "      <td>20</td>\n",
       "      <td>RL</td>\n",
       "      <td>80.0</td>\n",
       "      <td>9600</td>\n",
       "      <td>Pave</td>\n",
       "      <td>NaN</td>\n",
       "      <td>Reg</td>\n",
       "      <td>Lvl</td>\n",
       "      <td>AllPub</td>\n",
       "      <td>...</td>\n",
       "      <td>0</td>\n",
       "      <td>NaN</td>\n",
       "      <td>NaN</td>\n",
       "      <td>NaN</td>\n",
       "      <td>0</td>\n",
       "      <td>5</td>\n",
       "      <td>2007</td>\n",
       "      <td>WD</td>\n",
       "      <td>Normal</td>\n",
       "      <td>181500</td>\n",
       "    </tr>\n",
       "    <tr>\n",
       "      <th>2</th>\n",
       "      <td>3</td>\n",
       "      <td>60</td>\n",
       "      <td>RL</td>\n",
       "      <td>68.0</td>\n",
       "      <td>11250</td>\n",
       "      <td>Pave</td>\n",
       "      <td>NaN</td>\n",
       "      <td>IR1</td>\n",
       "      <td>Lvl</td>\n",
       "      <td>AllPub</td>\n",
       "      <td>...</td>\n",
       "      <td>0</td>\n",
       "      <td>NaN</td>\n",
       "      <td>NaN</td>\n",
       "      <td>NaN</td>\n",
       "      <td>0</td>\n",
       "      <td>9</td>\n",
       "      <td>2008</td>\n",
       "      <td>WD</td>\n",
       "      <td>Normal</td>\n",
       "      <td>223500</td>\n",
       "    </tr>\n",
       "    <tr>\n",
       "      <th>3</th>\n",
       "      <td>4</td>\n",
       "      <td>70</td>\n",
       "      <td>RL</td>\n",
       "      <td>60.0</td>\n",
       "      <td>9550</td>\n",
       "      <td>Pave</td>\n",
       "      <td>NaN</td>\n",
       "      <td>IR1</td>\n",
       "      <td>Lvl</td>\n",
       "      <td>AllPub</td>\n",
       "      <td>...</td>\n",
       "      <td>0</td>\n",
       "      <td>NaN</td>\n",
       "      <td>NaN</td>\n",
       "      <td>NaN</td>\n",
       "      <td>0</td>\n",
       "      <td>2</td>\n",
       "      <td>2006</td>\n",
       "      <td>WD</td>\n",
       "      <td>Abnorml</td>\n",
       "      <td>140000</td>\n",
       "    </tr>\n",
       "    <tr>\n",
       "      <th>4</th>\n",
       "      <td>5</td>\n",
       "      <td>60</td>\n",
       "      <td>RL</td>\n",
       "      <td>84.0</td>\n",
       "      <td>14260</td>\n",
       "      <td>Pave</td>\n",
       "      <td>NaN</td>\n",
       "      <td>IR1</td>\n",
       "      <td>Lvl</td>\n",
       "      <td>AllPub</td>\n",
       "      <td>...</td>\n",
       "      <td>0</td>\n",
       "      <td>NaN</td>\n",
       "      <td>NaN</td>\n",
       "      <td>NaN</td>\n",
       "      <td>0</td>\n",
       "      <td>12</td>\n",
       "      <td>2008</td>\n",
       "      <td>WD</td>\n",
       "      <td>Normal</td>\n",
       "      <td>250000</td>\n",
       "    </tr>\n",
       "    <tr>\n",
       "      <th>...</th>\n",
       "      <td>...</td>\n",
       "      <td>...</td>\n",
       "      <td>...</td>\n",
       "      <td>...</td>\n",
       "      <td>...</td>\n",
       "      <td>...</td>\n",
       "      <td>...</td>\n",
       "      <td>...</td>\n",
       "      <td>...</td>\n",
       "      <td>...</td>\n",
       "      <td>...</td>\n",
       "      <td>...</td>\n",
       "      <td>...</td>\n",
       "      <td>...</td>\n",
       "      <td>...</td>\n",
       "      <td>...</td>\n",
       "      <td>...</td>\n",
       "      <td>...</td>\n",
       "      <td>...</td>\n",
       "      <td>...</td>\n",
       "      <td>...</td>\n",
       "    </tr>\n",
       "    <tr>\n",
       "      <th>1455</th>\n",
       "      <td>1456</td>\n",
       "      <td>60</td>\n",
       "      <td>RL</td>\n",
       "      <td>62.0</td>\n",
       "      <td>7917</td>\n",
       "      <td>Pave</td>\n",
       "      <td>NaN</td>\n",
       "      <td>Reg</td>\n",
       "      <td>Lvl</td>\n",
       "      <td>AllPub</td>\n",
       "      <td>...</td>\n",
       "      <td>0</td>\n",
       "      <td>NaN</td>\n",
       "      <td>NaN</td>\n",
       "      <td>NaN</td>\n",
       "      <td>0</td>\n",
       "      <td>8</td>\n",
       "      <td>2007</td>\n",
       "      <td>WD</td>\n",
       "      <td>Normal</td>\n",
       "      <td>175000</td>\n",
       "    </tr>\n",
       "    <tr>\n",
       "      <th>1456</th>\n",
       "      <td>1457</td>\n",
       "      <td>20</td>\n",
       "      <td>RL</td>\n",
       "      <td>85.0</td>\n",
       "      <td>13175</td>\n",
       "      <td>Pave</td>\n",
       "      <td>NaN</td>\n",
       "      <td>Reg</td>\n",
       "      <td>Lvl</td>\n",
       "      <td>AllPub</td>\n",
       "      <td>...</td>\n",
       "      <td>0</td>\n",
       "      <td>NaN</td>\n",
       "      <td>MnPrv</td>\n",
       "      <td>NaN</td>\n",
       "      <td>0</td>\n",
       "      <td>2</td>\n",
       "      <td>2010</td>\n",
       "      <td>WD</td>\n",
       "      <td>Normal</td>\n",
       "      <td>210000</td>\n",
       "    </tr>\n",
       "    <tr>\n",
       "      <th>1457</th>\n",
       "      <td>1458</td>\n",
       "      <td>70</td>\n",
       "      <td>RL</td>\n",
       "      <td>66.0</td>\n",
       "      <td>9042</td>\n",
       "      <td>Pave</td>\n",
       "      <td>NaN</td>\n",
       "      <td>Reg</td>\n",
       "      <td>Lvl</td>\n",
       "      <td>AllPub</td>\n",
       "      <td>...</td>\n",
       "      <td>0</td>\n",
       "      <td>NaN</td>\n",
       "      <td>GdPrv</td>\n",
       "      <td>Shed</td>\n",
       "      <td>2500</td>\n",
       "      <td>5</td>\n",
       "      <td>2010</td>\n",
       "      <td>WD</td>\n",
       "      <td>Normal</td>\n",
       "      <td>266500</td>\n",
       "    </tr>\n",
       "    <tr>\n",
       "      <th>1458</th>\n",
       "      <td>1459</td>\n",
       "      <td>20</td>\n",
       "      <td>RL</td>\n",
       "      <td>68.0</td>\n",
       "      <td>9717</td>\n",
       "      <td>Pave</td>\n",
       "      <td>NaN</td>\n",
       "      <td>Reg</td>\n",
       "      <td>Lvl</td>\n",
       "      <td>AllPub</td>\n",
       "      <td>...</td>\n",
       "      <td>0</td>\n",
       "      <td>NaN</td>\n",
       "      <td>NaN</td>\n",
       "      <td>NaN</td>\n",
       "      <td>0</td>\n",
       "      <td>4</td>\n",
       "      <td>2010</td>\n",
       "      <td>WD</td>\n",
       "      <td>Normal</td>\n",
       "      <td>142125</td>\n",
       "    </tr>\n",
       "    <tr>\n",
       "      <th>1459</th>\n",
       "      <td>1460</td>\n",
       "      <td>20</td>\n",
       "      <td>RL</td>\n",
       "      <td>75.0</td>\n",
       "      <td>9937</td>\n",
       "      <td>Pave</td>\n",
       "      <td>NaN</td>\n",
       "      <td>Reg</td>\n",
       "      <td>Lvl</td>\n",
       "      <td>AllPub</td>\n",
       "      <td>...</td>\n",
       "      <td>0</td>\n",
       "      <td>NaN</td>\n",
       "      <td>NaN</td>\n",
       "      <td>NaN</td>\n",
       "      <td>0</td>\n",
       "      <td>6</td>\n",
       "      <td>2008</td>\n",
       "      <td>WD</td>\n",
       "      <td>Normal</td>\n",
       "      <td>147500</td>\n",
       "    </tr>\n",
       "  </tbody>\n",
       "</table>\n",
       "<p>1460 rows × 81 columns</p>\n",
       "</div>"
      ],
      "text/plain": [
       "        Id  MSSubClass MSZoning  LotFrontage  LotArea Street Alley LotShape  \\\n",
       "0        1          60       RL         65.0     8450   Pave   NaN      Reg   \n",
       "1        2          20       RL         80.0     9600   Pave   NaN      Reg   \n",
       "2        3          60       RL         68.0    11250   Pave   NaN      IR1   \n",
       "3        4          70       RL         60.0     9550   Pave   NaN      IR1   \n",
       "4        5          60       RL         84.0    14260   Pave   NaN      IR1   \n",
       "...    ...         ...      ...          ...      ...    ...   ...      ...   \n",
       "1455  1456          60       RL         62.0     7917   Pave   NaN      Reg   \n",
       "1456  1457          20       RL         85.0    13175   Pave   NaN      Reg   \n",
       "1457  1458          70       RL         66.0     9042   Pave   NaN      Reg   \n",
       "1458  1459          20       RL         68.0     9717   Pave   NaN      Reg   \n",
       "1459  1460          20       RL         75.0     9937   Pave   NaN      Reg   \n",
       "\n",
       "     LandContour Utilities  ... PoolArea PoolQC  Fence MiscFeature MiscVal  \\\n",
       "0            Lvl    AllPub  ...        0    NaN    NaN         NaN       0   \n",
       "1            Lvl    AllPub  ...        0    NaN    NaN         NaN       0   \n",
       "2            Lvl    AllPub  ...        0    NaN    NaN         NaN       0   \n",
       "3            Lvl    AllPub  ...        0    NaN    NaN         NaN       0   \n",
       "4            Lvl    AllPub  ...        0    NaN    NaN         NaN       0   \n",
       "...          ...       ...  ...      ...    ...    ...         ...     ...   \n",
       "1455         Lvl    AllPub  ...        0    NaN    NaN         NaN       0   \n",
       "1456         Lvl    AllPub  ...        0    NaN  MnPrv         NaN       0   \n",
       "1457         Lvl    AllPub  ...        0    NaN  GdPrv        Shed    2500   \n",
       "1458         Lvl    AllPub  ...        0    NaN    NaN         NaN       0   \n",
       "1459         Lvl    AllPub  ...        0    NaN    NaN         NaN       0   \n",
       "\n",
       "     MoSold YrSold  SaleType  SaleCondition  SalePrice  \n",
       "0         2   2008        WD         Normal     208500  \n",
       "1         5   2007        WD         Normal     181500  \n",
       "2         9   2008        WD         Normal     223500  \n",
       "3         2   2006        WD        Abnorml     140000  \n",
       "4        12   2008        WD         Normal     250000  \n",
       "...     ...    ...       ...            ...        ...  \n",
       "1455      8   2007        WD         Normal     175000  \n",
       "1456      2   2010        WD         Normal     210000  \n",
       "1457      5   2010        WD         Normal     266500  \n",
       "1458      4   2010        WD         Normal     142125  \n",
       "1459      6   2008        WD         Normal     147500  \n",
       "\n",
       "[1460 rows x 81 columns]"
      ]
     },
     "metadata": {},
     "output_type": "display_data"
    },
    {
     "data": {
      "text/plain": [
       "'Test Dataset'"
      ]
     },
     "metadata": {},
     "output_type": "display_data"
    },
    {
     "data": {
      "text/html": [
       "<div>\n",
       "<style scoped>\n",
       "    .dataframe tbody tr th:only-of-type {\n",
       "        vertical-align: middle;\n",
       "    }\n",
       "\n",
       "    .dataframe tbody tr th {\n",
       "        vertical-align: top;\n",
       "    }\n",
       "\n",
       "    .dataframe thead th {\n",
       "        text-align: right;\n",
       "    }\n",
       "</style>\n",
       "<table border=\"1\" class=\"dataframe\">\n",
       "  <thead>\n",
       "    <tr style=\"text-align: right;\">\n",
       "      <th></th>\n",
       "      <th>Id</th>\n",
       "      <th>MSSubClass</th>\n",
       "      <th>MSZoning</th>\n",
       "      <th>LotFrontage</th>\n",
       "      <th>LotArea</th>\n",
       "      <th>Street</th>\n",
       "      <th>Alley</th>\n",
       "      <th>LotShape</th>\n",
       "      <th>LandContour</th>\n",
       "      <th>Utilities</th>\n",
       "      <th>...</th>\n",
       "      <th>ScreenPorch</th>\n",
       "      <th>PoolArea</th>\n",
       "      <th>PoolQC</th>\n",
       "      <th>Fence</th>\n",
       "      <th>MiscFeature</th>\n",
       "      <th>MiscVal</th>\n",
       "      <th>MoSold</th>\n",
       "      <th>YrSold</th>\n",
       "      <th>SaleType</th>\n",
       "      <th>SaleCondition</th>\n",
       "    </tr>\n",
       "  </thead>\n",
       "  <tbody>\n",
       "    <tr>\n",
       "      <th>0</th>\n",
       "      <td>1461</td>\n",
       "      <td>20</td>\n",
       "      <td>RH</td>\n",
       "      <td>80.0</td>\n",
       "      <td>11622</td>\n",
       "      <td>Pave</td>\n",
       "      <td>NaN</td>\n",
       "      <td>Reg</td>\n",
       "      <td>Lvl</td>\n",
       "      <td>AllPub</td>\n",
       "      <td>...</td>\n",
       "      <td>120</td>\n",
       "      <td>0</td>\n",
       "      <td>NaN</td>\n",
       "      <td>MnPrv</td>\n",
       "      <td>NaN</td>\n",
       "      <td>0</td>\n",
       "      <td>6</td>\n",
       "      <td>2010</td>\n",
       "      <td>WD</td>\n",
       "      <td>Normal</td>\n",
       "    </tr>\n",
       "    <tr>\n",
       "      <th>1</th>\n",
       "      <td>1462</td>\n",
       "      <td>20</td>\n",
       "      <td>RL</td>\n",
       "      <td>81.0</td>\n",
       "      <td>14267</td>\n",
       "      <td>Pave</td>\n",
       "      <td>NaN</td>\n",
       "      <td>IR1</td>\n",
       "      <td>Lvl</td>\n",
       "      <td>AllPub</td>\n",
       "      <td>...</td>\n",
       "      <td>0</td>\n",
       "      <td>0</td>\n",
       "      <td>NaN</td>\n",
       "      <td>NaN</td>\n",
       "      <td>Gar2</td>\n",
       "      <td>12500</td>\n",
       "      <td>6</td>\n",
       "      <td>2010</td>\n",
       "      <td>WD</td>\n",
       "      <td>Normal</td>\n",
       "    </tr>\n",
       "    <tr>\n",
       "      <th>2</th>\n",
       "      <td>1463</td>\n",
       "      <td>60</td>\n",
       "      <td>RL</td>\n",
       "      <td>74.0</td>\n",
       "      <td>13830</td>\n",
       "      <td>Pave</td>\n",
       "      <td>NaN</td>\n",
       "      <td>IR1</td>\n",
       "      <td>Lvl</td>\n",
       "      <td>AllPub</td>\n",
       "      <td>...</td>\n",
       "      <td>0</td>\n",
       "      <td>0</td>\n",
       "      <td>NaN</td>\n",
       "      <td>MnPrv</td>\n",
       "      <td>NaN</td>\n",
       "      <td>0</td>\n",
       "      <td>3</td>\n",
       "      <td>2010</td>\n",
       "      <td>WD</td>\n",
       "      <td>Normal</td>\n",
       "    </tr>\n",
       "    <tr>\n",
       "      <th>3</th>\n",
       "      <td>1464</td>\n",
       "      <td>60</td>\n",
       "      <td>RL</td>\n",
       "      <td>78.0</td>\n",
       "      <td>9978</td>\n",
       "      <td>Pave</td>\n",
       "      <td>NaN</td>\n",
       "      <td>IR1</td>\n",
       "      <td>Lvl</td>\n",
       "      <td>AllPub</td>\n",
       "      <td>...</td>\n",
       "      <td>0</td>\n",
       "      <td>0</td>\n",
       "      <td>NaN</td>\n",
       "      <td>NaN</td>\n",
       "      <td>NaN</td>\n",
       "      <td>0</td>\n",
       "      <td>6</td>\n",
       "      <td>2010</td>\n",
       "      <td>WD</td>\n",
       "      <td>Normal</td>\n",
       "    </tr>\n",
       "    <tr>\n",
       "      <th>4</th>\n",
       "      <td>1465</td>\n",
       "      <td>120</td>\n",
       "      <td>RL</td>\n",
       "      <td>43.0</td>\n",
       "      <td>5005</td>\n",
       "      <td>Pave</td>\n",
       "      <td>NaN</td>\n",
       "      <td>IR1</td>\n",
       "      <td>HLS</td>\n",
       "      <td>AllPub</td>\n",
       "      <td>...</td>\n",
       "      <td>144</td>\n",
       "      <td>0</td>\n",
       "      <td>NaN</td>\n",
       "      <td>NaN</td>\n",
       "      <td>NaN</td>\n",
       "      <td>0</td>\n",
       "      <td>1</td>\n",
       "      <td>2010</td>\n",
       "      <td>WD</td>\n",
       "      <td>Normal</td>\n",
       "    </tr>\n",
       "    <tr>\n",
       "      <th>...</th>\n",
       "      <td>...</td>\n",
       "      <td>...</td>\n",
       "      <td>...</td>\n",
       "      <td>...</td>\n",
       "      <td>...</td>\n",
       "      <td>...</td>\n",
       "      <td>...</td>\n",
       "      <td>...</td>\n",
       "      <td>...</td>\n",
       "      <td>...</td>\n",
       "      <td>...</td>\n",
       "      <td>...</td>\n",
       "      <td>...</td>\n",
       "      <td>...</td>\n",
       "      <td>...</td>\n",
       "      <td>...</td>\n",
       "      <td>...</td>\n",
       "      <td>...</td>\n",
       "      <td>...</td>\n",
       "      <td>...</td>\n",
       "      <td>...</td>\n",
       "    </tr>\n",
       "    <tr>\n",
       "      <th>1454</th>\n",
       "      <td>2915</td>\n",
       "      <td>160</td>\n",
       "      <td>RM</td>\n",
       "      <td>21.0</td>\n",
       "      <td>1936</td>\n",
       "      <td>Pave</td>\n",
       "      <td>NaN</td>\n",
       "      <td>Reg</td>\n",
       "      <td>Lvl</td>\n",
       "      <td>AllPub</td>\n",
       "      <td>...</td>\n",
       "      <td>0</td>\n",
       "      <td>0</td>\n",
       "      <td>NaN</td>\n",
       "      <td>NaN</td>\n",
       "      <td>NaN</td>\n",
       "      <td>0</td>\n",
       "      <td>6</td>\n",
       "      <td>2006</td>\n",
       "      <td>WD</td>\n",
       "      <td>Normal</td>\n",
       "    </tr>\n",
       "    <tr>\n",
       "      <th>1455</th>\n",
       "      <td>2916</td>\n",
       "      <td>160</td>\n",
       "      <td>RM</td>\n",
       "      <td>21.0</td>\n",
       "      <td>1894</td>\n",
       "      <td>Pave</td>\n",
       "      <td>NaN</td>\n",
       "      <td>Reg</td>\n",
       "      <td>Lvl</td>\n",
       "      <td>AllPub</td>\n",
       "      <td>...</td>\n",
       "      <td>0</td>\n",
       "      <td>0</td>\n",
       "      <td>NaN</td>\n",
       "      <td>NaN</td>\n",
       "      <td>NaN</td>\n",
       "      <td>0</td>\n",
       "      <td>4</td>\n",
       "      <td>2006</td>\n",
       "      <td>WD</td>\n",
       "      <td>Abnorml</td>\n",
       "    </tr>\n",
       "    <tr>\n",
       "      <th>1456</th>\n",
       "      <td>2917</td>\n",
       "      <td>20</td>\n",
       "      <td>RL</td>\n",
       "      <td>160.0</td>\n",
       "      <td>20000</td>\n",
       "      <td>Pave</td>\n",
       "      <td>NaN</td>\n",
       "      <td>Reg</td>\n",
       "      <td>Lvl</td>\n",
       "      <td>AllPub</td>\n",
       "      <td>...</td>\n",
       "      <td>0</td>\n",
       "      <td>0</td>\n",
       "      <td>NaN</td>\n",
       "      <td>NaN</td>\n",
       "      <td>NaN</td>\n",
       "      <td>0</td>\n",
       "      <td>9</td>\n",
       "      <td>2006</td>\n",
       "      <td>WD</td>\n",
       "      <td>Abnorml</td>\n",
       "    </tr>\n",
       "    <tr>\n",
       "      <th>1457</th>\n",
       "      <td>2918</td>\n",
       "      <td>85</td>\n",
       "      <td>RL</td>\n",
       "      <td>62.0</td>\n",
       "      <td>10441</td>\n",
       "      <td>Pave</td>\n",
       "      <td>NaN</td>\n",
       "      <td>Reg</td>\n",
       "      <td>Lvl</td>\n",
       "      <td>AllPub</td>\n",
       "      <td>...</td>\n",
       "      <td>0</td>\n",
       "      <td>0</td>\n",
       "      <td>NaN</td>\n",
       "      <td>MnPrv</td>\n",
       "      <td>Shed</td>\n",
       "      <td>700</td>\n",
       "      <td>7</td>\n",
       "      <td>2006</td>\n",
       "      <td>WD</td>\n",
       "      <td>Normal</td>\n",
       "    </tr>\n",
       "    <tr>\n",
       "      <th>1458</th>\n",
       "      <td>2919</td>\n",
       "      <td>60</td>\n",
       "      <td>RL</td>\n",
       "      <td>74.0</td>\n",
       "      <td>9627</td>\n",
       "      <td>Pave</td>\n",
       "      <td>NaN</td>\n",
       "      <td>Reg</td>\n",
       "      <td>Lvl</td>\n",
       "      <td>AllPub</td>\n",
       "      <td>...</td>\n",
       "      <td>0</td>\n",
       "      <td>0</td>\n",
       "      <td>NaN</td>\n",
       "      <td>NaN</td>\n",
       "      <td>NaN</td>\n",
       "      <td>0</td>\n",
       "      <td>11</td>\n",
       "      <td>2006</td>\n",
       "      <td>WD</td>\n",
       "      <td>Normal</td>\n",
       "    </tr>\n",
       "  </tbody>\n",
       "</table>\n",
       "<p>1459 rows × 80 columns</p>\n",
       "</div>"
      ],
      "text/plain": [
       "        Id  MSSubClass MSZoning  LotFrontage  LotArea Street Alley LotShape  \\\n",
       "0     1461          20       RH         80.0    11622   Pave   NaN      Reg   \n",
       "1     1462          20       RL         81.0    14267   Pave   NaN      IR1   \n",
       "2     1463          60       RL         74.0    13830   Pave   NaN      IR1   \n",
       "3     1464          60       RL         78.0     9978   Pave   NaN      IR1   \n",
       "4     1465         120       RL         43.0     5005   Pave   NaN      IR1   \n",
       "...    ...         ...      ...          ...      ...    ...   ...      ...   \n",
       "1454  2915         160       RM         21.0     1936   Pave   NaN      Reg   \n",
       "1455  2916         160       RM         21.0     1894   Pave   NaN      Reg   \n",
       "1456  2917          20       RL        160.0    20000   Pave   NaN      Reg   \n",
       "1457  2918          85       RL         62.0    10441   Pave   NaN      Reg   \n",
       "1458  2919          60       RL         74.0     9627   Pave   NaN      Reg   \n",
       "\n",
       "     LandContour Utilities  ... ScreenPorch PoolArea PoolQC  Fence  \\\n",
       "0            Lvl    AllPub  ...         120        0    NaN  MnPrv   \n",
       "1            Lvl    AllPub  ...           0        0    NaN    NaN   \n",
       "2            Lvl    AllPub  ...           0        0    NaN  MnPrv   \n",
       "3            Lvl    AllPub  ...           0        0    NaN    NaN   \n",
       "4            HLS    AllPub  ...         144        0    NaN    NaN   \n",
       "...          ...       ...  ...         ...      ...    ...    ...   \n",
       "1454         Lvl    AllPub  ...           0        0    NaN    NaN   \n",
       "1455         Lvl    AllPub  ...           0        0    NaN    NaN   \n",
       "1456         Lvl    AllPub  ...           0        0    NaN    NaN   \n",
       "1457         Lvl    AllPub  ...           0        0    NaN  MnPrv   \n",
       "1458         Lvl    AllPub  ...           0        0    NaN    NaN   \n",
       "\n",
       "     MiscFeature MiscVal MoSold  YrSold  SaleType  SaleCondition  \n",
       "0            NaN       0      6    2010        WD         Normal  \n",
       "1           Gar2   12500      6    2010        WD         Normal  \n",
       "2            NaN       0      3    2010        WD         Normal  \n",
       "3            NaN       0      6    2010        WD         Normal  \n",
       "4            NaN       0      1    2010        WD         Normal  \n",
       "...          ...     ...    ...     ...       ...            ...  \n",
       "1454         NaN       0      6    2006        WD         Normal  \n",
       "1455         NaN       0      4    2006        WD        Abnorml  \n",
       "1456         NaN       0      9    2006        WD        Abnorml  \n",
       "1457        Shed     700      7    2006        WD         Normal  \n",
       "1458         NaN       0     11    2006        WD         Normal  \n",
       "\n",
       "[1459 rows x 80 columns]"
      ]
     },
     "metadata": {},
     "output_type": "display_data"
    }
   ],
   "source": [
    "# 학습 및 테스트 데이터셋을 로드합시다.\n",
    "train_df = pd.read_csv(\"housing_train.csv\")\n",
    "test_df = pd.read_csv(\"housing_test.csv\")\n",
    "\n",
    "display(\"Train Dataset\")\n",
    "display(train_df)\n",
    "\n",
    "display(\"Test Dataset\")\n",
    "display(test_df)"
   ]
  },
  {
   "cell_type": "markdown",
   "metadata": {
    "id": "aRVf0EBHvwD6"
   },
   "source": [
    "- 학습 및 테스트 데이터의 열(Row) 수가 비슷한 것이 특징입니다.\n",
    "- 주택 가격을 예측하는 문제이니 테스트 데이터에는 SalePrice 컬럼이 결측인 것을 볼 수 있습니다.\n",
    "- 엄청나게 많은 컬럼(80개)들이 보입니다.\n",
    "- 72번 컬럼(PoolQC)처럼 많은 결측값(7 non-null)의 존재도 확인할 수 있습니다."
   ]
  },
  {
   "cell_type": "code",
   "execution_count": 16,
   "metadata": {
    "colab": {
     "base_uri": "https://localhost:8080/",
     "height": 1000
    },
    "id": "fXocVleHsveN",
    "outputId": "5a5534d1-316f-4d08-84a7-fe8a59c766d4"
   },
   "outputs": [
    {
     "name": "stdout",
     "output_type": "stream",
     "text": [
      "<class 'pandas.core.frame.DataFrame'>\n",
      "RangeIndex: 1460 entries, 0 to 1459\n",
      "Data columns (total 81 columns):\n",
      " #   Column         Non-Null Count  Dtype  \n",
      "---  ------         --------------  -----  \n",
      " 0   Id             1460 non-null   int64  \n",
      " 1   MSSubClass     1460 non-null   int64  \n",
      " 2   MSZoning       1460 non-null   object \n",
      " 3   LotFrontage    1201 non-null   float64\n",
      " 4   LotArea        1460 non-null   int64  \n",
      " 5   Street         1460 non-null   object \n",
      " 6   Alley          91 non-null     object \n",
      " 7   LotShape       1460 non-null   object \n",
      " 8   LandContour    1460 non-null   object \n",
      " 9   Utilities      1460 non-null   object \n",
      " 10  LotConfig      1460 non-null   object \n",
      " 11  LandSlope      1460 non-null   object \n",
      " 12  Neighborhood   1460 non-null   object \n",
      " 13  Condition1     1460 non-null   object \n",
      " 14  Condition2     1460 non-null   object \n",
      " 15  BldgType       1460 non-null   object \n",
      " 16  HouseStyle     1460 non-null   object \n",
      " 17  OverallQual    1460 non-null   int64  \n",
      " 18  OverallCond    1460 non-null   int64  \n",
      " 19  YearBuilt      1460 non-null   int64  \n",
      " 20  YearRemodAdd   1460 non-null   int64  \n",
      " 21  RoofStyle      1460 non-null   object \n",
      " 22  RoofMatl       1460 non-null   object \n",
      " 23  Exterior1st    1460 non-null   object \n",
      " 24  Exterior2nd    1460 non-null   object \n",
      " 25  MasVnrType     1452 non-null   object \n",
      " 26  MasVnrArea     1452 non-null   float64\n",
      " 27  ExterQual      1460 non-null   object \n",
      " 28  ExterCond      1460 non-null   object \n",
      " 29  Foundation     1460 non-null   object \n",
      " 30  BsmtQual       1423 non-null   object \n",
      " 31  BsmtCond       1423 non-null   object \n",
      " 32  BsmtExposure   1422 non-null   object \n",
      " 33  BsmtFinType1   1423 non-null   object \n",
      " 34  BsmtFinSF1     1460 non-null   int64  \n",
      " 35  BsmtFinType2   1422 non-null   object \n",
      " 36  BsmtFinSF2     1460 non-null   int64  \n",
      " 37  BsmtUnfSF      1460 non-null   int64  \n",
      " 38  TotalBsmtSF    1460 non-null   int64  \n",
      " 39  Heating        1460 non-null   object \n",
      " 40  HeatingQC      1460 non-null   object \n",
      " 41  CentralAir     1460 non-null   object \n",
      " 42  Electrical     1459 non-null   object \n",
      " 43  1stFlrSF       1460 non-null   int64  \n",
      " 44  2ndFlrSF       1460 non-null   int64  \n",
      " 45  LowQualFinSF   1460 non-null   int64  \n",
      " 46  GrLivArea      1460 non-null   int64  \n",
      " 47  BsmtFullBath   1460 non-null   int64  \n",
      " 48  BsmtHalfBath   1460 non-null   int64  \n",
      " 49  FullBath       1460 non-null   int64  \n",
      " 50  HalfBath       1460 non-null   int64  \n",
      " 51  BedroomAbvGr   1460 non-null   int64  \n",
      " 52  KitchenAbvGr   1460 non-null   int64  \n",
      " 53  KitchenQual    1460 non-null   object \n",
      " 54  TotRmsAbvGrd   1460 non-null   int64  \n",
      " 55  Functional     1460 non-null   object \n",
      " 56  Fireplaces     1460 non-null   int64  \n",
      " 57  FireplaceQu    770 non-null    object \n",
      " 58  GarageType     1379 non-null   object \n",
      " 59  GarageYrBlt    1379 non-null   float64\n",
      " 60  GarageFinish   1379 non-null   object \n",
      " 61  GarageCars     1460 non-null   int64  \n",
      " 62  GarageArea     1460 non-null   int64  \n",
      " 63  GarageQual     1379 non-null   object \n",
      " 64  GarageCond     1379 non-null   object \n",
      " 65  PavedDrive     1460 non-null   object \n",
      " 66  WoodDeckSF     1460 non-null   int64  \n",
      " 67  OpenPorchSF    1460 non-null   int64  \n",
      " 68  EnclosedPorch  1460 non-null   int64  \n",
      " 69  3SsnPorch      1460 non-null   int64  \n",
      " 70  ScreenPorch    1460 non-null   int64  \n",
      " 71  PoolArea       1460 non-null   int64  \n",
      " 72  PoolQC         7 non-null      object \n",
      " 73  Fence          281 non-null    object \n",
      " 74  MiscFeature    54 non-null     object \n",
      " 75  MiscVal        1460 non-null   int64  \n",
      " 76  MoSold         1460 non-null   int64  \n",
      " 77  YrSold         1460 non-null   int64  \n",
      " 78  SaleType       1460 non-null   object \n",
      " 79  SaleCondition  1460 non-null   object \n",
      " 80  SalePrice      1460 non-null   int64  \n",
      "dtypes: float64(3), int64(35), object(43)\n",
      "memory usage: 924.0+ KB\n"
     ]
    },
    {
     "data": {
      "text/plain": [
       "None"
      ]
     },
     "metadata": {},
     "output_type": "display_data"
    }
   ],
   "source": [
    "# 컬럼 정보를 대충 훑어 봅시다.\n",
    "display(train_df.info())"
   ]
  },
  {
   "cell_type": "markdown",
   "metadata": {
    "id": "DXQVqY9xv8Lz"
   },
   "source": [
    "- 앞서 대회 및 실무에서는 도메인 지식이 매우 중요하다고 말씀드렸습니다.\n",
    "- 캐글에서는 제공하는 컬럼 정보를 보고 **도메인 지식에 알맞는 파생 변수를 만들어 내는 것도 중요**합니다.\n",
    "- 주택 가격과 관련된 여러 정보들이 존재하는 것을 보실 수 있습니다.\n",
    "- 한번 훑어보고 정보를 파악해 보도록 합시다."
   ]
  },
  {
   "cell_type": "markdown",
   "metadata": {
    "id": "KAOGi0wjYuAK"
   },
   "source": [
    "#### 📚 자료 : (1-1)\n",
    "\n",
    "*  [USA Housing dataset](https://www.kaggle.com/datasets/gpandi007/usa-housing-dataset) : 실습 데이터를 제공하는 캐글 페이지\n",
    "*  [부동산 및 건축 용어집](https://m.blog.naver.com/PostView.naver?isHttpsRedirect=true&blogId=mirrnk1&logNo=221262839065) : 도메인 지식 향상\n"
   ]
  },
  {
   "cell_type": "markdown",
   "metadata": {
    "id": "1G1tO-508L6j"
   },
   "source": [
    "### 1-2 결측치 및 이상치 다루기\n",
    "\n",
    "> 파생 변수를 제작하는 것도 중요하지만, 결측치 및 이상치를 탐지하고 제거하는 것이 선행되어야 합니다.<br>\n",
    "결측치와 이상치에 대해 알아보고 직접 데이터셋에서 찾아보도록 합시다. <br>\n",
    "\n",
    "\n"
   ]
  },
  {
   "cell_type": "markdown",
   "metadata": {
    "id": "lHxee7Oo8L6j"
   },
   "source": [
    "#### 📝 설명 : (1-2)\n",
    "> 실무 및 대회 데이터를 다룰 때 대부분 결측치와 이상치를 마주하게 됩니다. <br>\n",
    "> 결측치 및 이상치를 처리하는 것은 데이터 전처리에서 필수 단계입니다. <br>\n",
    "> 이번 실습에서는 데이터셋에 존재하는 결측치와 이상치를 직접 다뤄보도록 하겠습니다. <br>\n"
   ]
  },
  {
   "cell_type": "markdown",
   "metadata": {
    "id": "SJelObpT8L6k"
   },
   "source": [
    "#### 👨‍💻 코드 : (1-2)\n"
   ]
  },
  {
   "cell_type": "markdown",
   "metadata": {
    "id": "qK0HnKb88L6k"
   },
   "source": [
    "- **결측치를 처리**해봅시다."
   ]
  },
  {
   "cell_type": "code",
   "execution_count": 17,
   "metadata": {
    "id": "zbren5OA0ItE"
   },
   "outputs": [],
   "source": [
    "# 전처리에 앞서, 학습데이터와 테스트를 합쳐 전처리를 진행합시다.\n",
    "df = pd.concat([train_df, test_df], axis=0)\n",
    "\n",
    "# 추후 사용을 위해 필요한 정보는 다른 변수에 저장합니다.\n",
    "y_train = train_df[\"SalePrice\"]\n",
    "\n",
    "train_size = len(train_df)\n",
    "test_size = len(test_df)\n",
    "\n",
    "# 불필요한 컬럼은 필요 없으니 제거해줍니다.\n",
    "df.drop(columns=[\"Id\", \"SalePrice\"], inplace=True)"
   ]
  },
  {
   "cell_type": "code",
   "execution_count": 18,
   "metadata": {
    "colab": {
     "base_uri": "https://localhost:8080/",
     "height": 452
    },
    "id": "hjFlauKZ8gZD",
    "outputId": "2bd3064a-9f37-4d6f-9bf0-e3c85778b6dd"
   },
   "outputs": [
    {
     "data": {
      "text/plain": [
       "'범주형 변수 결측치 현황'"
      ]
     },
     "metadata": {},
     "output_type": "display_data"
    },
    {
     "data": {
      "text/plain": [
       "MSZoning           4\n",
       "Alley           2721\n",
       "Utilities          2\n",
       "Exterior1st        1\n",
       "Exterior2nd        1\n",
       "MasVnrType        24\n",
       "BsmtQual          81\n",
       "BsmtCond          82\n",
       "BsmtExposure      82\n",
       "BsmtFinType1      79\n",
       "BsmtFinType2      80\n",
       "Electrical         1\n",
       "KitchenQual        1\n",
       "Functional         2\n",
       "FireplaceQu     1420\n",
       "GarageType       157\n",
       "GarageFinish     159\n",
       "GarageQual       159\n",
       "GarageCond       159\n",
       "PoolQC          2909\n",
       "Fence           2348\n",
       "MiscFeature     2814\n",
       "SaleType           1\n",
       "dtype: int64"
      ]
     },
     "metadata": {},
     "output_type": "display_data"
    }
   ],
   "source": [
    "# 범주형 변수와 수치형 변수로 나눠서 결측치를 처리해봅시다.\n",
    "missing_cat_cols = df.loc[:, df.isna().sum() > 0].select_dtypes(\"object\").columns\n",
    "missing_num_cols = df.loc[:, df.isna().sum() > 0].select_dtypes(np.number).columns\n",
    "\n",
    "display(\"범주형 변수 결측치 현황\")\n",
    "display(df.loc[:, missing_cat_cols].isna().sum())"
   ]
  },
  {
   "cell_type": "code",
   "execution_count": 19,
   "metadata": {
    "colab": {
     "base_uri": "https://localhost:8080/",
     "height": 244
    },
    "id": "Swg7Zv7HE1sM",
    "outputId": "7954997c-2e28-4469-9a84-29efa13629d5"
   },
   "outputs": [
    {
     "data": {
      "text/plain": [
       "'수치형 변수 결측치 현황'"
      ]
     },
     "metadata": {},
     "output_type": "display_data"
    },
    {
     "data": {
      "text/plain": [
       "LotFrontage     486\n",
       "MasVnrArea       23\n",
       "BsmtFinSF1        1\n",
       "BsmtFinSF2        1\n",
       "BsmtUnfSF         1\n",
       "TotalBsmtSF       1\n",
       "BsmtFullBath      2\n",
       "BsmtHalfBath      2\n",
       "GarageYrBlt     159\n",
       "GarageCars        1\n",
       "GarageArea        1\n",
       "dtype: int64"
      ]
     },
     "metadata": {},
     "output_type": "display_data"
    }
   ],
   "source": [
    "display(\"수치형 변수 결측치 현황\")\n",
    "display(df.loc[:, missing_num_cols].isna().sum())"
   ]
  },
  {
   "cell_type": "code",
   "execution_count": 20,
   "metadata": {
    "id": "3_eCyYIcEwql"
   },
   "outputs": [],
   "source": [
    "# Series 타입 데이터를 데이터프레임으로 전환\n",
    "missing_cat_df = pd.DataFrame(df.loc[:, missing_cat_cols].isna().sum())\n",
    "missing_num_df = pd.DataFrame(df.loc[:, missing_num_cols].isna().sum())"
   ]
  },
  {
   "cell_type": "code",
   "execution_count": 21,
   "metadata": {
    "colab": {
     "base_uri": "https://localhost:8080/",
     "height": 554
    },
    "id": "Hfrfz9boB2vN",
    "outputId": "1448a0e3-9b8a-4b8c-b7b8-64ac8cfc1ca3"
   },
   "outputs": [
    {
     "data": {
      "image/png": "[encoded data removed]",
      "text/plain": [
       "<Figure size 1600x500 with 1 Axes>"
      ]
     },
     "metadata": {},
     "output_type": "display_data"
    }
   ],
   "source": [
    "# 범주형 변수의 결측치 시각화\n",
    "\n",
    "# 차트 크기 설정\n",
    "plt.figure(figsize=(16, 5))\n",
    "# 막대(Bar) 차트 생성\n",
    "sns.barplot(data=missing_cat_df, x=missing_cat_df.index, y=missing_cat_df[0])\n",
    "# 차트 제목\n",
    "plt.title(\"Categorical Missing Value\")\n",
    "# X,Y축 레이블 설정\n",
    "plt.xlabel(\"Categorical Variable Columns\")\n",
    "plt.ylabel(\"Missing Value Count\")\n",
    "plt.xticks(rotation=45)\n",
    "\n",
    "plt.show()"
   ]
  },
  {
   "cell_type": "code",
   "execution_count": 22,
   "metadata": {
    "colab": {
     "base_uri": "https://localhost:8080/",
     "height": 551
    },
    "id": "Xq1SwVR_IcuB",
    "outputId": "ad8f4ca5-42e6-4e11-a36e-3ff4076ebd20"
   },
   "outputs": [
    {
     "data": {
      "image/png": "[encoded data removed]",
      "text/plain": [
       "<Figure size 1600x500 with 1 Axes>"
      ]
     },
     "metadata": {},
     "output_type": "display_data"
    }
   ],
   "source": [
    "# 연속형 변수의 결측치 시각화\n",
    "plt.figure(figsize=(16, 5))\n",
    "sns.barplot(data=missing_num_df, x=missing_num_df.index, y=missing_num_df[0])\n",
    "plt.title(\"Missing Value\")\n",
    "plt.xlabel(\"Numerical Variable Columns\")\n",
    "plt.ylabel(\"Numerical Missing Value Count\")\n",
    "plt.xticks(rotation=45)\n",
    "plt.show()"
   ]
  },
  {
   "cell_type": "markdown",
   "metadata": {
    "id": "V9LmluueL3ml"
   },
   "source": [
    "- **결측치 및 이상치를 처리할 때 많이 쓰는 방법은 삭제(Deletion)과 대체(Imputation) 입니다.**\n",
    "- 우선 **결측치를 삭제(Listwise)** 해보도록 하겠습니다.\n",
    "- 결측치를 삭제하는 데 있어서 항상 주의해야 합니다. 결측치도 중요한 정보를 지닐 수 있기 때문입니다.\n",
    "- 본 실습에서는 위의 막대 차트에서 PoolQC(주택 수영장의 퀄리티) 컬럼을 제거하도록 하겠습니다.\n",
    "\n",
    "<center><img src='https://lh3.google.com/u/0/d/1gt8mrlbeh154XCViowbhI4L1RZkS4vOi=w1259-h864-iv1' width=\"800\"></center>\n",
    "\n",
    "<center><em>이미지) 결측치가 포함된 \"등락률\" 컬럼을 제거</em></center>"
   ]
  },
  {
   "cell_type": "code",
   "execution_count": 23,
   "metadata": {
    "id": "a096ZcyBLZBL"
   },
   "outputs": [],
   "source": [
    "# drop()은 컬럼을 제거하는 기능입니다.\n",
    "df.drop(columns=[\"PoolQC\"], inplace=True)"
   ]
  },
  {
   "cell_type": "markdown",
   "metadata": {
    "id": "aGi2TN9ZuhI5"
   },
   "source": [
    "- 이번엔 **결측치 대체(Imputation)**를 해보겠습니다.\n",
    "- 최빈값 대체는 효율적이면서 간단한 방법입니다.\n",
    "- 비교적 결측 비율이 낮은 변수들은 최빈값으로 채워놓도록 하겠습니다.\n",
    "- mode()는 최빈값을 구하는 함수입니다.\n",
    "- 아래 그림은 통계치 대체의 예제입니다.\n",
    "\n",
    "<center><img src='https://lh3.google.com/u/0/d/1hv4-bTo1SVx69N5mIW_-KyN2lgr4W_tH=w1259-h864-iv1' width=\"800\"></center>\n",
    "\n",
    "<center><em> 이미지) 결측이 발생한 \"시가\"를 평균값으로 대체</em></center>"
   ]
  },
  {
   "cell_type": "code",
   "execution_count": 24,
   "metadata": {
    "id": "y4mR_lMcLMd5"
   },
   "outputs": [],
   "source": [
    "# 최빈값으로 대체할 컬럼들을 선정합시다.\n",
    "mode_cols = [\n",
    "    \"MSZoning\", \"GarageYrBlt\", \"GarageCars\", \"GarageArea\",\n",
    "    \"Utilities\", \"Exterior1st\", \"Exterior2nd\",\n",
    "    \"MasVnrType\", \"Electrical\", \"KitchenQual\",\n",
    "    \"Functional\", \"SaleType\"\n",
    "    ]\n",
    "\n",
    "# 반복문과 fillna를 이용하면 손쉽게 변환이 가능합니다.\n",
    "for col in mode_cols:\n",
    "    df[col] = df[col].fillna(df[col].mode()[0])#mode 최빈값"
   ]
  },
  {
   "cell_type": "markdown",
   "metadata": {
    "id": "5b1eggPYvHDB"
   },
   "source": [
    "- 특정 값을 채워서 결측치를 대체하는 방법도 있습니다.\n",
    "- 결측이 많은 경우에는 특정값을 채워 넣어 결측이 일어나지 않은 관측치를 돋보이게 변경할 수 있습니다.\n",
    "- 아무 특정값이나 넣어도되니 저는 \"Nothing\"으로 채워 넣도록 하겠습니다."
   ]
  },
  {
   "cell_type": "code",
   "execution_count": 25,
   "metadata": {
    "id": "WSR1PER_t9Fh"
   },
   "outputs": [],
   "source": [
    "# 위와 마찬가지로 결측치를 특정값으로 대체할 컬럼들을 선정합니다.\n",
    "fill_cols = [\n",
    "    \"Alley\", \"BsmtQual\", \"BsmtCond\", \"BsmtExposure\", \"BsmtFinType1\",\n",
    "    \"BsmtFinType2\", \"FireplaceQu\", \"GarageType\", \"GarageFinish\", \"GarageQual\",\n",
    "    \"GarageCond\", \"Fence\", \"MiscFeature\"\n",
    "]\n",
    "\n",
    "for col in fill_cols:\n",
    "    df[col] = df[col].fillna(\"Nothing\")"
   ]
  },
  {
   "cell_type": "markdown",
   "metadata": {
    "id": "I2LVY7Lxwkm-"
   },
   "source": [
    "- 수치형 변수에 대한 결측값을 처리해보도록 합시다.\n",
    "- 이번에는 두가지 방법으로 나눠서 접근합니다.\n",
    "- 첫번째는 통계치 대체입니다. 앞선 최빈값외에도 **평균값 대체**를 해보도록 하겠습니다."
   ]
  },
  {
   "cell_type": "code",
   "execution_count": 26,
   "metadata": {
    "id": "bJzdLsBhwiKl"
   },
   "outputs": [],
   "source": [
    "# 주차장까지의 직선거리를 평균값으로 대체해 봅시다.\n",
    "df[\"LotFrontage\"] = df[\"LotFrontage\"].fillna(df[\"LotFrontage\"].mean())"
   ]
  },
  {
   "cell_type": "markdown",
   "metadata": {
    "id": "Z6HZSG6tA0GD"
   },
   "source": [
    "- 두번째는 **회귀 대체**입니다. KNN 알고리즘을 이용해 결측값을 예측해보도록 하겠습니다.\n",
    "- KNN은 데이터 포인트 간의 거리를 유클리드 및 맨하튼 방법으로 측정하여 분류 및 예측하는 알고리즘 입니다.\n",
    "\n",
    "<center><img src='https://lh3.google.com/u/0/d/19MMooKu8IHy8lvyjfQW3_f-QaSo2n7dp=w1259-h864-iv1' width=\"800\"></center>\n",
    "\n",
    "<center><em> 이미지) 결측이 발생한 변수들의 관측치를 예측</em></center>\n",
    "<br>\n",
    "\n",
    "---\n",
    "\n",
    "<center><img src='https://lh3.google.com/u/0/d/1aD-cJQBxmxIzgc5RXUJgVU22vzEN5lvu=w1259-h864-iv1' width=\"500\"></center>\n",
    "\n",
    "<center><em> 이미지) KNN 알고리즘</em></center>"
   ]
  },
  {
   "cell_type": "code",
   "execution_count": 27,
   "metadata": {
    "id": "bqZgpoNiyakA"
   },
   "outputs": [],
   "source": [
    "# KNN으로 결측치를 채워놓을 변수 리스트입니다.\n",
    "knn_cols = [\n",
    "    \"MasVnrArea\", \"BsmtFinSF1\", \"BsmtFinSF2\",\n",
    "    \"BsmtUnfSF\", \"TotalBsmtSF\", \"BsmtFullBath\", \"BsmtHalfBath\"\n",
    "    ]\n",
    "\n",
    "# 반복문으로 각 컬럼마다 학습 후, 예측을 해봅시다.\n",
    "for col in knn_cols:\n",
    "    # KNN 회귀관련 인스턴스를 불러옵니다.\n",
    "    knn = KNeighborsRegressor(n_neighbors=10)\n",
    "\n",
    "    # 수치형 변수를 선택합니다.\n",
    "    numerical = df.select_dtypes(np.number)\n",
    "    # 결측값이 존재하지 않는 변수들을 선택합니다.\n",
    "    non_na_num_cols = numerical.loc[:, numerical.isna().sum() == 0].columns\n",
    "\n",
    "    # 결측치가 발생한 컬럼을 y, 관측치가 존재하는 컬럼을 X로 구성합니다.\n",
    "    X = numerical.loc[numerical[col].isna() == False, non_na_num_cols]\n",
    "    y = numerical.loc[numerical[col].isna() == False, col]\n",
    "\n",
    "    X_test = numerical.loc[numerical[col].isna() == True, non_na_num_cols]\n",
    "\n",
    "    # knn을 학습 합니다.\n",
    "    knn.fit(X, y)\n",
    "\n",
    "    # 결측치를 예측합니다.\n",
    "    y_pred = knn.predict(X_test)\n",
    "\n",
    "    # 결측치를 예측된 값으로 채워 놓습니다.\n",
    "    df.loc[numerical[col].isna() == True, col] = y_pred"
   ]
  },
  {
   "cell_type": "markdown",
   "metadata": {
    "id": "196lPdynl8dI"
   },
   "source": [
    "- 이번엔 **이상치를 처리**해봅시다.\n",
    "- 이상치를 처리하는 방법은 IQR, Z-score 등 다양한 방법이 있습니다.\n",
    "- 가장 쉽고 직관적으로 접근하는 방법은 기본 통계치를 이용하는 것입니다.\n",
    "- 차고 제작연도(GarageYrBlt) 관련해서 describe()로 살펴보도록 하겠습니다."
   ]
  },
  {
   "cell_type": "code",
   "execution_count": 28,
   "metadata": {
    "colab": {
     "base_uri": "https://localhost:8080/",
     "height": 566
    },
    "id": "Cf-_HtkYl73c",
    "outputId": "ae0ddaf3-7a15-435c-b797-4df708a462a7"
   },
   "outputs": [
    {
     "data": {
      "text/plain": [
       "count    2919.000000\n",
       "mean     1979.577938\n",
       "std        25.605659\n",
       "min      1895.000000\n",
       "25%      1961.500000\n",
       "50%      1984.000000\n",
       "75%      2003.000000\n",
       "max      2207.000000\n",
       "Name: GarageYrBlt, dtype: float64"
      ]
     },
     "metadata": {},
     "output_type": "display_data"
    },
    {
     "data": {
      "image/png": "[encoded data removed]",
      "text/plain": [
       "<Figure size 600x400 with 1 Axes>"
      ]
     },
     "metadata": {},
     "output_type": "display_data"
    }
   ],
   "source": [
    "# 차고 제작연도(GarageYrBlt) 기본 통계치 출력\n",
    "display(df[\"GarageYrBlt\"].describe())\n",
    "\n",
    "plt.figure(figsize=(6, 4))\n",
    "sns.boxplot(x=df[\"GarageYrBlt\"])\n",
    "plt.title(f\"GarageYrBlt\")\n",
    "plt.show()"
   ]
  },
  {
   "cell_type": "markdown",
   "metadata": {
    "id": "Q9KWNkJPsGbB"
   },
   "source": [
    "- 뭔가 이상하게 느껴지나요?\n",
    "- 연도임에도 불구하고 max 값이 2207로 비정상적입니다.\n",
    "- 해당 데이터셋이 캐글에 만들어진 2018년을 기준으로 이상치를 찾아보겠습니다."
   ]
  },
  {
   "cell_type": "code",
   "execution_count": 29,
   "metadata": {
    "colab": {
     "base_uri": "https://localhost:8080/",
     "height": 130
    },
    "id": "Nt2t-K4msE5o",
    "outputId": "c8a94a2b-4963-4369-fef9-c88f98c40b48"
   },
   "outputs": [
    {
     "data": {
      "text/html": [
       "<div>\n",
       "<style scoped>\n",
       "    .dataframe tbody tr th:only-of-type {\n",
       "        vertical-align: middle;\n",
       "    }\n",
       "\n",
       "    .dataframe tbody tr th {\n",
       "        vertical-align: top;\n",
       "    }\n",
       "\n",
       "    .dataframe thead th {\n",
       "        text-align: right;\n",
       "    }\n",
       "</style>\n",
       "<table border=\"1\" class=\"dataframe\">\n",
       "  <thead>\n",
       "    <tr style=\"text-align: right;\">\n",
       "      <th></th>\n",
       "      <th>MSSubClass</th>\n",
       "      <th>MSZoning</th>\n",
       "      <th>LotFrontage</th>\n",
       "      <th>LotArea</th>\n",
       "      <th>Street</th>\n",
       "      <th>Alley</th>\n",
       "      <th>LotShape</th>\n",
       "      <th>LandContour</th>\n",
       "      <th>Utilities</th>\n",
       "      <th>LotConfig</th>\n",
       "      <th>...</th>\n",
       "      <th>3SsnPorch</th>\n",
       "      <th>ScreenPorch</th>\n",
       "      <th>PoolArea</th>\n",
       "      <th>Fence</th>\n",
       "      <th>MiscFeature</th>\n",
       "      <th>MiscVal</th>\n",
       "      <th>MoSold</th>\n",
       "      <th>YrSold</th>\n",
       "      <th>SaleType</th>\n",
       "      <th>SaleCondition</th>\n",
       "    </tr>\n",
       "  </thead>\n",
       "  <tbody>\n",
       "    <tr>\n",
       "      <th>1132</th>\n",
       "      <td>20</td>\n",
       "      <td>RL</td>\n",
       "      <td>68.0</td>\n",
       "      <td>8298</td>\n",
       "      <td>Pave</td>\n",
       "      <td>Nothing</td>\n",
       "      <td>IR1</td>\n",
       "      <td>HLS</td>\n",
       "      <td>AllPub</td>\n",
       "      <td>Inside</td>\n",
       "      <td>...</td>\n",
       "      <td>0</td>\n",
       "      <td>0</td>\n",
       "      <td>0</td>\n",
       "      <td>Nothing</td>\n",
       "      <td>Nothing</td>\n",
       "      <td>0</td>\n",
       "      <td>9</td>\n",
       "      <td>2007</td>\n",
       "      <td>New</td>\n",
       "      <td>Partial</td>\n",
       "    </tr>\n",
       "  </tbody>\n",
       "</table>\n",
       "<p>1 rows × 78 columns</p>\n",
       "</div>"
      ],
      "text/plain": [
       "      MSSubClass MSZoning  LotFrontage  LotArea Street    Alley LotShape  \\\n",
       "1132          20       RL         68.0     8298   Pave  Nothing      IR1   \n",
       "\n",
       "     LandContour Utilities LotConfig  ... 3SsnPorch ScreenPorch PoolArea  \\\n",
       "1132         HLS    AllPub    Inside  ...         0           0        0   \n",
       "\n",
       "        Fence MiscFeature MiscVal  MoSold  YrSold  SaleType  SaleCondition  \n",
       "1132  Nothing     Nothing       0       9    2007       New        Partial  \n",
       "\n",
       "[1 rows x 78 columns]"
      ]
     },
     "metadata": {},
     "output_type": "display_data"
    }
   ],
   "source": [
    "# 2018보다 큰 값을 가지는 행(Row) 출력\n",
    "display(df[df[\"GarageYrBlt\"] > 2018])"
   ]
  },
  {
   "cell_type": "markdown",
   "metadata": {
    "id": "2wK8_sGVssKP"
   },
   "source": [
    "- **이상치를 대체(Imputation)**를 직접 실습합시다.\n",
    "- 이상치는 전산 오류, 오탈자, 초자연적인 현상, 의도적 이상치 생성 등으로 발생하게 됩니다.\n",
    "- 이번 2077이라는 이상치는 2007에 대한 오탈자로 보고 대체하겠습니다."
   ]
  },
  {
   "cell_type": "code",
   "execution_count": 30,
   "metadata": {
    "id": "FQ7JU81mu7Kp"
   },
   "outputs": [],
   "source": [
    "# 이상치 대체 2207 -> 2007\n",
    "df.loc[df['GarageYrBlt'] == 2207, 'GarageYrBlt'] = 2007"
   ]
  },
  {
   "cell_type": "markdown",
   "metadata": {
    "id": "TnL2K33cbyGf"
   },
   "source": [
    "#### 📚 자료 : (1-2)\n",
    "*  [Working with missing data](https://pandas.pydata.org/docs/user_guide/missing_data.html) : 결측치 자료\n",
    "*  [Detecting and Handling Outliers with Pandas](https://hersanyagci.medium.com/detecting-and-handling-outliers-with-pandas-7adbfcd5cad8) : 이상치 자료1\n",
    "*  [Handling Outliers in Pandas](https://medium.com/@arsalan_zafar/handling-outliers-in-pandas-5cd872eef508) : 이상치 자료2\n",
    "*  [House Price Competition top 5%, Scoring 0.12035](https://medium.com/@arsalan_zafar/handling-outliers-in-pandas-5cd872eef508) : 참고용 Kaggle 노트북\n"
   ]
  },
  {
   "cell_type": "markdown",
   "metadata": {
    "id": "eBX-5dlH7utm"
   },
   "source": [
    "### 1-3 파생 변수 만들기\n",
    "\n",
    "> 사실 파생 변수는 많은 반복을 통해서 만들어지게 됩니다. <br> 기존의 데이터셋을 충분히 이해했어도 모델 입장에서 패턴을 발견하지 못한다면, 성능을 떨어뜨리는 결과를 낳게 됩니다. <br> 이를 주의 하면서 실습을 시작합시다. <br>\n",
    "\n",
    "\n",
    "\n"
   ]
  },
  {
   "cell_type": "markdown",
   "metadata": {
    "id": "cEq0ZGR8-F9y"
   },
   "source": [
    "#### 📝 설명 : (1-3)\n",
    "> 크게 두 가지 갈래로 파생 변수를 생성해보도록 하겠습니다. <br>\n",
    "- **변수 간의 관계를 통해 파생 변수를 제작**\n",
    "    - 부대 시설 유무\n",
    "    - 연면적 (Total Square) 계산\n",
    "- **변수 자체를 파생 변수로 전환**\n",
    "    - 로그 변환\n",
    "    - min-max scaling"
   ]
  },
  {
   "cell_type": "markdown",
   "metadata": {
    "id": "mjMLrYF6-F9z"
   },
   "source": [
    "#### 👨‍💻 코드 : (1-3)"
   ]
  },
  {
   "cell_type": "markdown",
   "metadata": {
    "id": "1cRLO5FL-F9z"
   },
   "source": [
    "- **파생 변수는 도메인 지식에 기반해 제작하는 것이 중요합니다.**\n",
    "- 주택의 가격을 예측하는 문제이기 때문에 약간의 부동산 지식을 기반으로 파생 변수를 만들어 보도록 하겠습니다.\n",
    "---\n"
   ]
  },
  {
   "cell_type": "markdown",
   "metadata": {
    "id": "LqJQTYOwxAy2"
   },
   "source": [
    "- 주택 가격에 영향을 미치는 요소중에 하나는 부대시설입니다.\n",
    "- 물론 한국은 대부분 공동주택의 수요가 많기 때문에 부대시설이 어느정도 공통되어 있습니다.\n",
    "- 하지만, 미국을 비롯한 단독주택이 활성화 되어 있는 나라에서는 차고, 수영장 등의 부대시설 여부가 주택 가격에 영향을 주기도 합니다.\n",
    "- **첫번째로 부대시설 여부를 파생 변수로 제작해 봅시다.**\n",
    "\n",
    "<center><img src='https://lh3.google.com/u/0/d/1Ew6XKcZMEVzQWZhL8JwAzd6Lc3ETC9Ag=w1920-h864-iv1' width=\"500\"></center>\n",
    "\n",
    "<center><em> 이미지) 수영장과 같은 부대시설의 여부</em></center>"
   ]
  },
  {
   "cell_type": "code",
   "execution_count": 31,
   "metadata": {
    "id": "VzrUFhNiS12z"
   },
   "outputs": [],
   "source": [
    "# 관측치가 1이상이면 부대시설이 존재한다고 가정합니다.\n",
    "# lambda를 이용하면 모든 열에 조건문을 적용할 수 있습니다.\n",
    "df[\"hasPool\"] = df[\"PoolArea\"].apply(lambda x: 1 if x > 0 else 0)\n",
    "df[\"has2ndFloor\"] = df[\"2ndFlrSF\"].apply(lambda x: 1 if x > 0 else 0)\n",
    "df[\"hasGarage\"] = df[\"GarageArea\"].apply(lambda x: 1 if x > 0 else 0)\n",
    "df[\"hasBsmt\"] = df[\"TotalBsmtSF\"].apply(lambda x: 1 if x > 0 else 0)\n",
    "df[\"hasFirePlace\"] = df[\"Fireplaces\"].apply(lambda x: 1 if x > 0 else 0)"
   ]
  },
  {
   "cell_type": "code",
   "execution_count": 32,
   "metadata": {
    "colab": {
     "base_uri": "https://localhost:8080/",
     "height": 423
    },
    "id": "enBqyLKcbUhl",
    "outputId": "9a2978ca-e2a8-44c4-e5ce-344675aa8718"
   },
   "outputs": [
    {
     "data": {
      "text/html": [
       "<div>\n",
       "<style scoped>\n",
       "    .dataframe tbody tr th:only-of-type {\n",
       "        vertical-align: middle;\n",
       "    }\n",
       "\n",
       "    .dataframe tbody tr th {\n",
       "        vertical-align: top;\n",
       "    }\n",
       "\n",
       "    .dataframe thead th {\n",
       "        text-align: right;\n",
       "    }\n",
       "</style>\n",
       "<table border=\"1\" class=\"dataframe\">\n",
       "  <thead>\n",
       "    <tr style=\"text-align: right;\">\n",
       "      <th></th>\n",
       "      <th>hasPool</th>\n",
       "      <th>has2ndFloor</th>\n",
       "      <th>hasGarage</th>\n",
       "      <th>hasBsmt</th>\n",
       "      <th>hasFirePlace</th>\n",
       "    </tr>\n",
       "  </thead>\n",
       "  <tbody>\n",
       "    <tr>\n",
       "      <th>0</th>\n",
       "      <td>0</td>\n",
       "      <td>1</td>\n",
       "      <td>1</td>\n",
       "      <td>1</td>\n",
       "      <td>0</td>\n",
       "    </tr>\n",
       "    <tr>\n",
       "      <th>1</th>\n",
       "      <td>0</td>\n",
       "      <td>0</td>\n",
       "      <td>1</td>\n",
       "      <td>1</td>\n",
       "      <td>1</td>\n",
       "    </tr>\n",
       "    <tr>\n",
       "      <th>2</th>\n",
       "      <td>0</td>\n",
       "      <td>1</td>\n",
       "      <td>1</td>\n",
       "      <td>1</td>\n",
       "      <td>1</td>\n",
       "    </tr>\n",
       "    <tr>\n",
       "      <th>3</th>\n",
       "      <td>0</td>\n",
       "      <td>1</td>\n",
       "      <td>1</td>\n",
       "      <td>1</td>\n",
       "      <td>1</td>\n",
       "    </tr>\n",
       "    <tr>\n",
       "      <th>4</th>\n",
       "      <td>0</td>\n",
       "      <td>1</td>\n",
       "      <td>1</td>\n",
       "      <td>1</td>\n",
       "      <td>1</td>\n",
       "    </tr>\n",
       "    <tr>\n",
       "      <th>...</th>\n",
       "      <td>...</td>\n",
       "      <td>...</td>\n",
       "      <td>...</td>\n",
       "      <td>...</td>\n",
       "      <td>...</td>\n",
       "    </tr>\n",
       "    <tr>\n",
       "      <th>1454</th>\n",
       "      <td>0</td>\n",
       "      <td>1</td>\n",
       "      <td>0</td>\n",
       "      <td>1</td>\n",
       "      <td>0</td>\n",
       "    </tr>\n",
       "    <tr>\n",
       "      <th>1455</th>\n",
       "      <td>0</td>\n",
       "      <td>1</td>\n",
       "      <td>1</td>\n",
       "      <td>1</td>\n",
       "      <td>0</td>\n",
       "    </tr>\n",
       "    <tr>\n",
       "      <th>1456</th>\n",
       "      <td>0</td>\n",
       "      <td>0</td>\n",
       "      <td>1</td>\n",
       "      <td>1</td>\n",
       "      <td>1</td>\n",
       "    </tr>\n",
       "    <tr>\n",
       "      <th>1457</th>\n",
       "      <td>0</td>\n",
       "      <td>0</td>\n",
       "      <td>0</td>\n",
       "      <td>1</td>\n",
       "      <td>0</td>\n",
       "    </tr>\n",
       "    <tr>\n",
       "      <th>1458</th>\n",
       "      <td>0</td>\n",
       "      <td>1</td>\n",
       "      <td>1</td>\n",
       "      <td>1</td>\n",
       "      <td>1</td>\n",
       "    </tr>\n",
       "  </tbody>\n",
       "</table>\n",
       "<p>2919 rows × 5 columns</p>\n",
       "</div>"
      ],
      "text/plain": [
       "      hasPool  has2ndFloor  hasGarage  hasBsmt  hasFirePlace\n",
       "0           0            1          1        1             0\n",
       "1           0            0          1        1             1\n",
       "2           0            1          1        1             1\n",
       "3           0            1          1        1             1\n",
       "4           0            1          1        1             1\n",
       "...       ...          ...        ...      ...           ...\n",
       "1454        0            1          0        1             0\n",
       "1455        0            1          1        1             0\n",
       "1456        0            0          1        1             1\n",
       "1457        0            0          0        1             0\n",
       "1458        0            1          1        1             1\n",
       "\n",
       "[2919 rows x 5 columns]"
      ]
     },
     "execution_count": 32,
     "metadata": {},
     "output_type": "execute_result"
    }
   ],
   "source": [
    "# 새로 만들어진 파생 변수를 확인해볼까요?\n",
    "df[[\"hasPool\", \"has2ndFloor\", \"hasGarage\", \"hasBsmt\", \"hasFirePlace\"]]"
   ]
  },
  {
   "cell_type": "markdown",
   "metadata": {
    "id": "8IozlvYDe8ZP"
   },
   "source": [
    "- 데크(WoodDeckSF), 개방형 현관(OpenPorchSF) 등의 또 다른 부대시설 여부 파생 변수도 만들어볼까요?\n",
    "- 그리고 욕실이 총 몇개 존재하는지도 판단하는 파생 변수를 만들겠습니다.\n",
    "\n",
    "<center><img src='https://lh3.google.com/u/0/d/1GTnR0C6e_xE9U4dvLddeNGZTZbZ03nJm=w1920-h864-iv1' width=\"600\"></center>\n",
    "\n",
    "<center><em> 이미지) 우드 데크</em></center>"
   ]
  },
  {
   "cell_type": "code",
   "execution_count": 33,
   "metadata": {
    "id": "j9X_iCmceizk"
   },
   "outputs": [],
   "source": [
    "df[\"hasWoodDeck\"] = df[\"WoodDeckSF\"].apply(lambda x: 1 if x > 0 else 0)\n",
    "df[\"hasOpenPorch\"] = df[\"OpenPorchSF\"].apply(lambda x: 1 if x > 0 else 0)\n",
    "df[\"hasEnclosedPorch\"] = df[\"EnclosedPorch\"].apply(lambda x: 1 if x > 0 else 0)\n",
    "df[\"has3SsnPorch\"] = df[\"3SsnPorch\"].apply(lambda x: 1 if x > 0 else 0)\n",
    "df[\"hasScreenPorch\"] = df[\"ScreenPorch\"].apply(lambda x: 1 if x > 0 else 0)"
   ]
  },
  {
   "cell_type": "markdown",
   "metadata": {
    "id": "poCcP1EikFAw"
   },
   "source": [
    "- 단독주택이나 공동주택에 살면서 리모델링을 해본 경험이 있으신가요?\n",
    "- 리모델링은 주택 골조나 공조 시스템(HVAC)과 같은 기본이 되는 요소들은 유지하면서 바닥자재, 벽지, 타일 등을 새롭게 재구성하는 것을 의미합니다.\n",
    "- 동일한 주택이라도 리모델링을 한 주택들은 실제로 그렇지 못한 주택에 비해 훨씬 비싼 값에 거래되곤 합니다.\n",
    "- 주택 완공 연도(YearBuilt)와 리모델링 연도(YearRemodAdd)의 차이를 파생 변수로 만들어 보겠습니다.\n",
    "\n",
    "<center><img src='https://lh3.google.com/u/0/d/1yv989HdEUWV6nw5bRgY-BMQv3YDCsRQQ=w1259-h864-iv1' width=\"600\"></center>\n",
    "\n",
    "<center><em> 이미지) 리모델링</em></center>"
   ]
  },
  {
   "cell_type": "code",
   "execution_count": 34,
   "metadata": {
    "id": "iP4Zw1AcjzUn"
   },
   "outputs": [],
   "source": [
    "df['RemodAfterBuilt'] = df['YearRemodAdd'] - df['YearBuilt']\n",
    "# 현재시점 - df['YearRemodAdd']\n",
    "# clip을 사용하면 하향 임계값(lower bound)를 설정해줄 수 있습니다.\n",
    "df['RemodAfterBuilt'] = df['RemodAfterBuilt'].clip(lower=0)"
   ]
  },
  {
   "cell_type": "markdown",
   "metadata": {
    "id": "ecfQ8sHte35r"
   },
   "source": [
    "- **두 번째 파생 변수는 연면적입니다.**\n",
    "- 주택에서 연면적은 매우 중요한 수치입니다.\n",
    "- 연면적은 주택의 모든 바닥 면적을 합산한 결과입니다.\n",
    "- 아래 그림처럼 지상 2층, 지하 1층으로 구성된 주택에서 모든 바닥 면적을 합치면 연면적이 됩니다.\n",
    "- 다만, 한국의 공동주택(아파트)에서는 건물 연면적보다는 전용, 공용, 공급면적이 많이 쓰입니다.\n",
    "\n",
    "<center><img src='https://lh3.google.com/u/0/d/1-dkNxUu_h23-wL5FY4Qm8BRWLhvJepEi=w1259-h864-iv1' width=\"1000\"></center>\n",
    "\n",
    "<center><em> 이미지) 연면적 계산</em></center>"
   ]
  },
  {
   "cell_type": "code",
   "execution_count": 35,
   "metadata": {
    "id": "KANEFZb5hlFv"
   },
   "outputs": [],
   "source": [
    "# 연면적 계산\n",
    "df[\"TotalSF\"] = df[\"TotalBsmtSF\"] + df[\"1stFlrSF\"] + df[\"2ndFlrSF\"]\n",
    "\n",
    "# 비슷한 개념으로 총 화장실 개수 계산합시다.\n",
    "df[\"TotalBathRooms\"] = df['FullBath'] + df['HalfBath'] + df['BsmtFullBath'] + df['BsmtHalfBath']"
   ]
  },
  {
   "cell_type": "markdown",
   "metadata": {
    "id": "JEC843EBvQMp"
   },
   "source": [
    "- 마지막 세번째로 **변수 자체를 파생 변수로 전환** 해봅시다.\n",
    "- 우선 우리가 예측하려는 SalePrice의 히스토그램을 그려보죠."
   ]
  },
  {
   "cell_type": "code",
   "execution_count": 36,
   "metadata": {
    "colab": {
     "base_uri": "https://localhost:8080/",
     "height": 564
    },
    "id": "409xzG7zFTSM",
    "outputId": "77cf46c2-0e15-4e28-b0c5-aef3687f1953"
   },
   "outputs": [
    {
     "data": {
      "image/png": "[encoded data removed]",
      "text/plain": [
       "<Figure size 800x600 with 1 Axes>"
      ]
     },
     "metadata": {},
     "output_type": "display_data"
    }
   ],
   "source": [
    "plt.figure(figsize=(8, 6))\n",
    "sns.histplot(data=y_train, kde=True)\n",
    "plt.title(f\"SalePrice\")\n",
    "plt.xlabel(\"SalePrice\")\n",
    "plt.ylabel(\"Frequency\")\n",
    "plt.show()"
   ]
  },
  {
   "cell_type": "markdown",
   "metadata": {
    "id": "lxZKOPa2GvZP"
   },
   "source": [
    "- 왼쪽으로 치우쳐져 있는 것을 볼수 있습니다.\n",
    "- **로그 변환** 적용해 정규분포를 띄도록 바꿔보도록하겠습니다."
   ]
  },
  {
   "cell_type": "code",
   "execution_count": 37,
   "metadata": {
    "colab": {
     "base_uri": "https://localhost:8080/",
     "height": 564
    },
    "id": "h7HsStUXHAqm",
    "outputId": "94225454-d723-4db8-f051-fc499ebac285"
   },
   "outputs": [
    {
     "data": {
      "image/png": "[encoded data removed]",
      "text/plain": [
       "<Figure size 800x600 with 1 Axes>"
      ]
     },
     "metadata": {},
     "output_type": "display_data"
    }
   ],
   "source": [
    "# 데이터에 0값이 존재할 수 있으니 log1p를 사용합니다.\n",
    "y_train = np.log1p(y_train)\n",
    "\n",
    "plt.figure(figsize=(8, 6))\n",
    "sns.histplot(data=y_train, kde=True)\n",
    "plt.title(f\"SalePrice\")\n",
    "plt.xlabel(\"SalePrice\")\n",
    "plt.ylabel(\"Frequency\")\n",
    "plt.show()"
   ]
  },
  {
   "cell_type": "markdown",
   "metadata": {
    "id": "mq5H8_KIKT1t"
   },
   "source": [
    "- 마지막으로 **수치형 변수에는 min-max scaling을 적용하고 범주형 변수에는 label encoding**을 적용해보겠습니다.\n"
   ]
  },
  {
   "cell_type": "code",
   "execution_count": 38,
   "metadata": {
    "id": "eEx6E0PuykgQ"
   },
   "outputs": [],
   "source": [
    "# 수치형 변수를 min-max scaling을 해줍시다.\n",
    "for col in df.select_dtypes(np.number).columns:\n",
    "    df[col] = MinMaxScaler().fit_transform(df[[col]])"
   ]
  },
  {
   "cell_type": "code",
   "execution_count": 39,
   "metadata": {
    "id": "lo0uZt2zwBer"
   },
   "outputs": [],
   "source": [
    "# 범주형 변수를 label encoding을 해줍시다.\n",
    "for col in df.select_dtypes(\"object\").columns:\n",
    "    df[col] = LabelEncoder().fit_transform(df[col])"
   ]
  },
  {
   "cell_type": "markdown",
   "metadata": {
    "id": "2_Mv9IRqdSfl"
   },
   "source": [
    "#### 📚 자료 : (1-3)\n",
    "*  [Advanced Regression for House Prices](https://www.kaggle.com/code/aideesis/advanced-regression-for-house-prices) : 참고용 Kaggle 노트북\n"
   ]
  }
 ],
 "metadata": {
  "colab": {
   "provenance": []
  },
  "kernelspec": {
   "display_name": "Python 3 (ipykernel)",
   "language": "python",
   "name": "python3"
  },
  "language_info": {
   "codemirror_mode": {
    "name": "ipython",
    "version": 3
   },
   "file_extension": ".py",
   "mimetype": "text/x-python",
   "name": "python",
   "nbconvert_exporter": "python",
   "pygments_lexer": "ipython3",
   "version": "3.11.5"
  }
 },
 "nbformat": 4,
 "nbformat_minor": 1
}

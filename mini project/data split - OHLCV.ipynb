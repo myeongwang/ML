{
 "cells": [
  {
   "cell_type": "markdown",
   "metadata": {
    "id": "UKjg766IvMdI"
   },
   "source": [
    "# 데이터셋 분할"
   ]
  },
  {
   "cell_type": "markdown",
   "metadata": {
    "id": "OXUZV0j3nBJd"
   },
   "source": [
    "## 실습 개요\n",
    "\n",
    "데이터셋 분할\n",
    "\n",
    "1) 실습 목적\n",
    "- 이번 실습에서는 다양한 데이터셋 분할 방법을 탐색하고 이를 LightGBM에 적용해 봅니다.\n",
    "\n",
    "2) 수강 목표\n",
    "- 다양한 데이터 분할을 데이터에 적용할 수 있습니다.\n",
    "- 분할된 데이터를 활용해 LightGBM을 학습할 수 있습니다."
   ]
  },
  {
   "cell_type": "markdown",
   "metadata": {
    "id": "2bAkxzU6Kvq3"
   },
   "source": [
    "### 실습 목차\n",
    "\n",
    "* **1. 실습 데이터 준비**\n",
    "  * 데이터 불러오기 및 전처리\n",
    "* **2. 데이터 분할**\n",
    "  * Holdout\n",
    "  * K-Fold\n",
    "  * Stratified K-Fold\n",
    "  * Group K-Fold\n",
    "  * Time-Series Split"
   ]
  },
  {
   "cell_type": "markdown",
   "metadata": {
    "id": "XxF37C4d8aj3"
   },
   "source": [
    "### 데이터셋 개요\n",
    "* 데이터셋: Yahoo Finance OHLCV 데이터셋이란? (Open High Close Low Volume)\n",
    "* 데이터셋 개요 : **Yahoo Finance는 주식, 환율과 같은 금융 정보를 제공하는 플랫폼입니다.** 주식과 관련된 정보 및 시각화 정보를 웹사이트를 통해서 제공 (NASDAQ, KOSPI, NIKKEI 등) 됩니다. 데이터는 무료로 사용할 수 있으며, API를 제공하여 손쉽게 데이터를 수집 가능합니다. 또한, Yahoo Finance 정보를 랩핑한 yfinance 패키지를 이용해 파이썬에서도 사용 가능합니다.\n",
    "  - (O)pen (시가): 주식의 거래가 시작된 가격을 나타냅니다. 시장이 열리면 처음으로 발생한 거래의 가격입니다.\n",
    "  - (H)igh (고가): 특정 기간 동안 주식의 가격 중 최고점을 나타냅니다. 이는 해당 기간 동안 주식이 얼마나 높게 거래되었는지를 보여줍니다.\n",
    "  - (C)lose (종가): 주식의 거래가 마감된 가격을 나타냅니다. 시장이 닫힐 때 주식이 어떤 가격으로 거래를 마쳤는지를 보여줍니다.\n",
    "  - (L)ow (저가): 특정 기간 동안 주식의 가격 중 최저점을 나타냅니다. 이는 해당 기간 동안 주식이 얼마나 낮게 거래되었는지를 보여줍니다.\n",
    "  - (V)Volume (거래량):  특정 기간 동안 거래된 주식의 총 수량을 나타냅니다. 거래량은 주식 시장에서 매우 중요한 지표 중 하나이며, 주식의 유동성과 관련이 있습니다. 더 높은 거래량은 주식 시장의 활발한 거래를 나타낼 수 있습니다.\n",
    "  - Change (변동률): 이전 주가와 비교해 변화된 변동률 입니다.\n",
    "  - code (종목 코드): 종목(회사)를 구분하는 코드입니다.\n",
    "* 데이터셋 저작권 : Apache Software License (Apache)"
   ]
  },
  {
   "cell_type": "markdown",
   "metadata": {
    "id": "tMbQ5FwAX2Bl"
   },
   "source": [
    "### 환경 설정\n",
    "- **패키지 설치 및 임포트**"
   ]
  },
  {
   "cell_type": "code",
   "execution_count": 1,
   "metadata": {
    "colab": {
     "base_uri": "https://localhost:8080/"
    },
    "executionInfo": {
     "elapsed": 68304,
     "status": "ok",
     "timestamp": 1698150842847,
     "user": {
      "displayName": "이동빈",
      "userId": "02086753221575393526"
     },
     "user_tz": -540
    },
    "id": "FcAC-8MS8UTT",
    "outputId": "7263e846-df04-4f08-e60f-a9de90a3e808"
   },
   "outputs": [
    {
     "name": "stdout",
     "output_type": "stream",
     "text": [
      "Collecting scikit-learn==1.3.0\n",
      "  Obtaining dependency information for scikit-learn==1.3.0 from https://files.pythonhosted.org/packages/18/36/60b58b6199547b7b46be03e05508d053162fbce146639bfc65609fa49b23/scikit_learn-1.3.0-cp311-cp311-macosx_12_0_arm64.whl.metadata\n",
      "  Downloading scikit_learn-1.3.0-cp311-cp311-macosx_12_0_arm64.whl.metadata (11 kB)\n",
      "Requirement already satisfied: numpy>=1.17.3 in /Users/myeongjinlee/anaconda3/lib/python3.11/site-packages (from scikit-learn==1.3.0) (1.24.3)\n",
      "Requirement already satisfied: scipy>=1.5.0 in /Users/myeongjinlee/anaconda3/lib/python3.11/site-packages (from scikit-learn==1.3.0) (1.11.1)\n",
      "Requirement already satisfied: joblib>=1.1.1 in /Users/myeongjinlee/anaconda3/lib/python3.11/site-packages (from scikit-learn==1.3.0) (1.2.0)\n",
      "Requirement already satisfied: threadpoolctl>=2.0.0 in /Users/myeongjinlee/anaconda3/lib/python3.11/site-packages (from scikit-learn==1.3.0) (2.2.0)\n",
      "Downloading scikit_learn-1.3.0-cp311-cp311-macosx_12_0_arm64.whl (9.4 MB)\n",
      "\u001b[2K   \u001b[90m━━━━━━━━━━━━━━━━━━━━━━━━━━━━━━━━━━━━━━━━\u001b[0m \u001b[32m9.4/9.4 MB\u001b[0m \u001b[31m6.0 MB/s\u001b[0m eta \u001b[36m0:00:00\u001b[0m00:01\u001b[0m00:01\u001b[0m\n",
      "\u001b[?25hInstalling collected packages: scikit-learn\n",
      "  Attempting uninstall: scikit-learn\n",
      "    Found existing installation: scikit-learn 1.2.2\n",
      "    Uninstalling scikit-learn-1.2.2:\n",
      "      Successfully uninstalled scikit-learn-1.2.2\n",
      "Successfully installed scikit-learn-1.3.0\n",
      "Collecting numpy==1.23.5\n",
      "  Downloading numpy-1.23.5-cp311-cp311-macosx_11_0_arm64.whl (13.3 MB)\n",
      "\u001b[2K     \u001b[90m━━━━━━━━━━━━━━━━━━━━━━━━━━━━━━━━━━━━━━━━\u001b[0m \u001b[32m13.3/13.3 MB\u001b[0m \u001b[31m5.8 MB/s\u001b[0m eta \u001b[36m0:00:00\u001b[0m00:01\u001b[0m00:01\u001b[0mm\n",
      "\u001b[?25hInstalling collected packages: numpy\n",
      "  Attempting uninstall: numpy\n",
      "    Found existing installation: numpy 1.24.3\n",
      "    Uninstalling numpy-1.24.3:\n",
      "      Successfully uninstalled numpy-1.24.3\n",
      "\u001b[31mERROR: pip's dependency resolver does not currently take into account all the packages that are installed. This behaviour is the source of the following dependency conflicts.\n",
      "tables 3.8.0 requires blosc2~=2.0.0, which is not installed.\n",
      "tables 3.8.0 requires cython>=0.29.21, which is not installed.\n",
      "gensim 4.3.0 requires FuzzyTM>=0.4.0, which is not installed.\u001b[0m\u001b[31m\n",
      "\u001b[0mSuccessfully installed numpy-1.23.5\n",
      "Requirement already satisfied: lightgbm==4.0.0 in /Users/myeongjinlee/anaconda3/lib/python3.11/site-packages (4.0.0)\n",
      "Requirement already satisfied: numpy in /Users/myeongjinlee/anaconda3/lib/python3.11/site-packages (from lightgbm==4.0.0) (1.23.5)\n",
      "Requirement already satisfied: scipy in /Users/myeongjinlee/anaconda3/lib/python3.11/site-packages (from lightgbm==4.0.0) (1.11.1)\n",
      "Collecting gdown==4.6.6\n",
      "  Downloading gdown-4.6.6-py3-none-any.whl (14 kB)\n",
      "Requirement already satisfied: filelock in /Users/myeongjinlee/anaconda3/lib/python3.11/site-packages (from gdown==4.6.6) (3.9.0)\n",
      "Requirement already satisfied: requests[socks] in /Users/myeongjinlee/anaconda3/lib/python3.11/site-packages (from gdown==4.6.6) (2.31.0)\n",
      "Requirement already satisfied: six in /Users/myeongjinlee/anaconda3/lib/python3.11/site-packages (from gdown==4.6.6) (1.16.0)\n",
      "Requirement already satisfied: tqdm in /Users/myeongjinlee/anaconda3/lib/python3.11/site-packages (from gdown==4.6.6) (4.65.0)\n",
      "Requirement already satisfied: beautifulsoup4 in /Users/myeongjinlee/anaconda3/lib/python3.11/site-packages (from gdown==4.6.6) (4.12.2)\n",
      "Requirement already satisfied: soupsieve>1.2 in /Users/myeongjinlee/anaconda3/lib/python3.11/site-packages (from beautifulsoup4->gdown==4.6.6) (2.4)\n",
      "Requirement already satisfied: charset-normalizer<4,>=2 in /Users/myeongjinlee/anaconda3/lib/python3.11/site-packages (from requests[socks]->gdown==4.6.6) (2.0.4)\n",
      "Requirement already satisfied: idna<4,>=2.5 in /Users/myeongjinlee/anaconda3/lib/python3.11/site-packages (from requests[socks]->gdown==4.6.6) (3.4)\n",
      "Requirement already satisfied: urllib3<3,>=1.21.1 in /Users/myeongjinlee/anaconda3/lib/python3.11/site-packages (from requests[socks]->gdown==4.6.6) (1.26.16)\n",
      "Requirement already satisfied: certifi>=2017.4.17 in /Users/myeongjinlee/anaconda3/lib/python3.11/site-packages (from requests[socks]->gdown==4.6.6) (2023.11.17)\n",
      "Requirement already satisfied: PySocks!=1.5.7,>=1.5.6 in /Users/myeongjinlee/anaconda3/lib/python3.11/site-packages (from requests[socks]->gdown==4.6.6) (1.7.1)\n",
      "Installing collected packages: gdown\n",
      "  Attempting uninstall: gdown\n",
      "    Found existing installation: gdown 4.7.1\n",
      "    Uninstalling gdown-4.7.1:\n",
      "      Successfully uninstalled gdown-4.7.1\n",
      "Successfully installed gdown-4.6.6\n",
      "Requirement already satisfied: pandas==1.5.3 in /Users/myeongjinlee/anaconda3/lib/python3.11/site-packages (1.5.3)\n",
      "Requirement already satisfied: python-dateutil>=2.8.1 in /Users/myeongjinlee/anaconda3/lib/python3.11/site-packages (from pandas==1.5.3) (2.8.2)\n",
      "Requirement already satisfied: pytz>=2020.1 in /Users/myeongjinlee/anaconda3/lib/python3.11/site-packages (from pandas==1.5.3) (2023.3.post1)\n",
      "Requirement already satisfied: numpy>=1.21.0 in /Users/myeongjinlee/anaconda3/lib/python3.11/site-packages (from pandas==1.5.3) (1.23.5)\n",
      "Requirement already satisfied: six>=1.5 in /Users/myeongjinlee/anaconda3/lib/python3.11/site-packages (from python-dateutil>=2.8.1->pandas==1.5.3) (1.16.0)\n"
     ]
    }
   ],
   "source": [
    "!pip install scikit-learn==1.3.0\n",
    "!pip install numpy==1.23.5\n",
    "!pip install lightgbm==4.0.0\n",
    "!pip install gdown==4.6.6\n",
    "!pip install pandas==1.5.3"
   ]
  },
  {
   "cell_type": "code",
   "execution_count": 28,
   "metadata": {
    "executionInfo": {
     "elapsed": 3247,
     "status": "ok",
     "timestamp": 1698150846090,
     "user": {
      "displayName": "이동빈",
      "userId": "02086753221575393526"
     },
     "user_tz": -540
    },
    "id": "S0Ij5w_JNKBl"
   },
   "outputs": [],
   "source": [
    "# 계산\n",
    "import numpy as np\n",
    "import time\n",
    "# 전처리\n",
    "from sklearn.preprocessing import LabelEncoder, MinMaxScaler\n",
    "from sklearn.model_selection import train_test_split, KFold, StratifiedKFold, GroupKFold, TimeSeriesSplit\n",
    "\n",
    "# 평가\n",
    "from sklearn.metrics import mean_squared_error\n",
    "\n",
    "# 모델링\n",
    "import lightgbm as lgb\n",
    "\n",
    "from sklearn.ensemble import GradientBoostingRegressor\n",
    "\n",
    "# 출력 및 시각화\n",
    "import matplotlib.pyplot as plt\n",
    "\n",
    "from tqdm.auto import tqdm\n",
    "\n",
    "# 데이터셋 로드 및 정제\n",
    "import pandas as pd\n",
    "import joblib\n",
    "import gdown\n",
    "\n",
    "# 코드 셀 실행 후 경고를 무시\n",
    "import warnings\n",
    "warnings.filterwarnings(action='ignore')"
   ]
  },
  {
   "cell_type": "markdown",
   "metadata": {
    "id": "siW2vxW_5R8u"
   },
   "source": [
    "## 1. 실습 데이터 준비\n",
    "\n",
    "```\n",
    "💡 목차 개요 : 데이터 분할과 LightGBM 학습을 위한 데이터를 준비합니다.\n",
    "```\n",
    "- **1-1 데이터 불러오기 및 전처리**"
   ]
  },
  {
   "cell_type": "markdown",
   "metadata": {
    "id": "wOhHH9j78vg0"
   },
   "source": [
    "### 1-1. 데이터 불러오기 및 전처리"
   ]
  },
  {
   "cell_type": "markdown",
   "metadata": {
    "id": "0swGTp9x2tnk"
   },
   "source": [
    "#### 📝 설명 : (1-1)\n",
    "* 데이터 분할을 진행하기에 앞서 학습에 사용 될 데이터를 불러옵니다.\n",
    "* 데이터의 구성을 확인하고, 학습에 알맞는 전처리를 진행합니다.\n"
   ]
  },
  {
   "cell_type": "markdown",
   "metadata": {
    "id": "EOiKDQoAp2XW"
   },
   "source": [
    "#### 👨‍💻 코드 : (1-1)"
   ]
  },
  {
   "cell_type": "markdown",
   "metadata": {
    "id": "2d7ipXU07cdS"
   },
   "source": [
    "> 이번 실습에서는 금융 도메인의 주가 데이터셋(OHLCV)을 이용합니다."
   ]
  },
  {
   "cell_type": "code",
   "execution_count": 6,
   "metadata": {
    "colab": {
     "base_uri": "https://localhost:8080/"
    },
    "executionInfo": {
     "elapsed": 3534,
     "status": "ok",
     "timestamp": 1698150851706,
     "user": {
      "displayName": "이동빈",
      "userId": "02086753221575393526"
     },
     "user_tz": -540
    },
    "id": "96GkK5d10J4L",
    "outputId": "f65b68ab-abc5-45aa-a79f-89fd80409058",
    "scrolled": true
   },
   "outputs": [],
   "source": [
    "# # OHLCV 데이터셋 불러오기\n",
    "# file_id = \"1xa3PwhjxN3mUEz_YrczQi2TVImReIL-X\"\n",
    "# OHLCV_file = \"OHLCV.parquet\"\n",
    "# gdown.download(f\"https://drive.google.com/uc?id={file_id}\", OHLCV_file)\n",
    "# OHLCV_data = pd.read_parquet(OHLCV_file)\n",
    "\n",
    "# # 날짜는 데이터셋의 index로 되어 있습니다.\n",
    "# # .loc을 통해서 날짜 범위를 지정해줍시다.\n",
    "# OHLCV_data = OHLCV_data.loc[\"2020-01-01\":\"2023-07-31\"]\n",
    "\n",
    "# # 상장법인정보 파일도 불러오도록 하겠습니다.\n",
    "# file_id = \"16Uzp-FWMNY5aeohcHGunVYwobia7up5W\"\n",
    "# company_file = \"Company.parquet\"\n",
    "# gdown.download(f\"https://drive.google.com/uc?id={file_id}\", company_file)\n",
    "# company_data = pd.read_parquet(company_file)"
   ]
  },
  {
   "cell_type": "code",
   "execution_count": 4,
   "metadata": {},
   "outputs": [],
   "source": [
    "# OHLCV 데이터셋 불러오기\n",
    "file_path = \"/Users/myeongjinlee/Desktop/UPSTAGE AI/ml advanced\"\n",
    "OHCLV_file = \"[ML Advanced] 실습용 데이터 셋 - OHCLV.parquet\"\n",
    "\n",
    "OHLCV_data = pd.read_parquet(f\"{file_path}/{OHCLV_file}\")\n",
    "\n",
    "# 날짜는 데이터셋의 index로 되어 있습니다.\n",
    "# .loc을 통해서 날짜 범위를 지정해줍시다.\n",
    "OHLCV_data = OHLCV_data.sort_index()\n",
    "OHLCV_data = OHLCV_data.loc[\"2020-01-01\":\"2023-07-31\"]\n",
    "\n",
    "# 상장법인정보 파일도 불러오도록 하겠습니다.\n",
    "company_file = \"[ML Advanced] 실습용 데이터 셋 - Company.parquet\"\n",
    "company_data =  pd.read_parquet(f\"{file_path}/{company_file}\")"
   ]
  },
  {
   "cell_type": "code",
   "execution_count": 5,
   "metadata": {
    "colab": {
     "base_uri": "https://localhost:8080/",
     "height": 709
    },
    "executionInfo": {
     "elapsed": 7,
     "status": "ok",
     "timestamp": 1698150851706,
     "user": {
      "displayName": "이동빈",
      "userId": "02086753221575393526"
     },
     "user_tz": -540
    },
    "id": "6oUc82paStX7",
    "outputId": "59f702f5-d849-4aea-dd5e-c80086a90a85"
   },
   "outputs": [
    {
     "data": {
      "text/html": [
       "<div>\n",
       "<style scoped>\n",
       "    .dataframe tbody tr th:only-of-type {\n",
       "        vertical-align: middle;\n",
       "    }\n",
       "\n",
       "    .dataframe tbody tr th {\n",
       "        vertical-align: top;\n",
       "    }\n",
       "\n",
       "    .dataframe thead th {\n",
       "        text-align: right;\n",
       "    }\n",
       "</style>\n",
       "<table border=\"1\" class=\"dataframe\">\n",
       "  <thead>\n",
       "    <tr style=\"text-align: right;\">\n",
       "      <th></th>\n",
       "      <th>Open</th>\n",
       "      <th>High</th>\n",
       "      <th>Low</th>\n",
       "      <th>Close</th>\n",
       "      <th>Volume</th>\n",
       "      <th>Change</th>\n",
       "      <th>code</th>\n",
       "    </tr>\n",
       "  </thead>\n",
       "  <tbody>\n",
       "    <tr>\n",
       "      <th>2020-01-02</th>\n",
       "      <td>7037.0</td>\n",
       "      <td>7123.0</td>\n",
       "      <td>7018.0</td>\n",
       "      <td>7106.0</td>\n",
       "      <td>13986.0</td>\n",
       "      <td>0.009518</td>\n",
       "      <td>001530</td>\n",
       "    </tr>\n",
       "    <tr>\n",
       "      <th>2020-01-02</th>\n",
       "      <td>31400.0</td>\n",
       "      <td>32350.0</td>\n",
       "      <td>31100.0</td>\n",
       "      <td>32100.0</td>\n",
       "      <td>75206.0</td>\n",
       "      <td>0.033816</td>\n",
       "      <td>003350</td>\n",
       "    </tr>\n",
       "    <tr>\n",
       "      <th>2020-01-02</th>\n",
       "      <td>7300.0</td>\n",
       "      <td>7450.0</td>\n",
       "      <td>7270.0</td>\n",
       "      <td>7340.0</td>\n",
       "      <td>60800.0</td>\n",
       "      <td>0.009629</td>\n",
       "      <td>005870</td>\n",
       "    </tr>\n",
       "    <tr>\n",
       "      <th>2020-01-02</th>\n",
       "      <td>1165.0</td>\n",
       "      <td>1180.0</td>\n",
       "      <td>1160.0</td>\n",
       "      <td>1175.0</td>\n",
       "      <td>117291.0</td>\n",
       "      <td>0.008584</td>\n",
       "      <td>006340</td>\n",
       "    </tr>\n",
       "    <tr>\n",
       "      <th>2020-01-02</th>\n",
       "      <td>95100.0</td>\n",
       "      <td>95200.0</td>\n",
       "      <td>91800.0</td>\n",
       "      <td>91900.0</td>\n",
       "      <td>250460.0</td>\n",
       "      <td>-0.035677</td>\n",
       "      <td>010950</td>\n",
       "    </tr>\n",
       "    <tr>\n",
       "      <th>2020-01-02</th>\n",
       "      <td>77800.0</td>\n",
       "      <td>78900.0</td>\n",
       "      <td>77200.0</td>\n",
       "      <td>77700.0</td>\n",
       "      <td>3389.0</td>\n",
       "      <td>-0.001285</td>\n",
       "      <td>02826K</td>\n",
       "    </tr>\n",
       "    <tr>\n",
       "      <th>2020-01-02</th>\n",
       "      <td>769000.0</td>\n",
       "      <td>771000.0</td>\n",
       "      <td>757000.0</td>\n",
       "      <td>770000.0</td>\n",
       "      <td>1023.0</td>\n",
       "      <td>-0.001297</td>\n",
       "      <td>051905</td>\n",
       "    </tr>\n",
       "    <tr>\n",
       "      <th>2020-01-02</th>\n",
       "      <td>11600.0</td>\n",
       "      <td>11750.0</td>\n",
       "      <td>11400.0</td>\n",
       "      <td>11400.0</td>\n",
       "      <td>1549105.0</td>\n",
       "      <td>-0.017241</td>\n",
       "      <td>316140</td>\n",
       "    </tr>\n",
       "    <tr>\n",
       "      <th>2020-01-02</th>\n",
       "      <td>427932.0</td>\n",
       "      <td>434356.0</td>\n",
       "      <td>420520.0</td>\n",
       "      <td>423485.0</td>\n",
       "      <td>109563.0</td>\n",
       "      <td>-0.010392</td>\n",
       "      <td>207940</td>\n",
       "    </tr>\n",
       "    <tr>\n",
       "      <th>2020-01-02</th>\n",
       "      <td>90400.0</td>\n",
       "      <td>92300.0</td>\n",
       "      <td>89100.0</td>\n",
       "      <td>91900.0</td>\n",
       "      <td>20863.0</td>\n",
       "      <td>0.027964</td>\n",
       "      <td>090435</td>\n",
       "    </tr>\n",
       "  </tbody>\n",
       "</table>\n",
       "</div>"
      ],
      "text/plain": [
       "                Open      High       Low     Close     Volume    Change  \\\n",
       "2020-01-02    7037.0    7123.0    7018.0    7106.0    13986.0  0.009518   \n",
       "2020-01-02   31400.0   32350.0   31100.0   32100.0    75206.0  0.033816   \n",
       "2020-01-02    7300.0    7450.0    7270.0    7340.0    60800.0  0.009629   \n",
       "2020-01-02    1165.0    1180.0    1160.0    1175.0   117291.0  0.008584   \n",
       "2020-01-02   95100.0   95200.0   91800.0   91900.0   250460.0 -0.035677   \n",
       "2020-01-02   77800.0   78900.0   77200.0   77700.0     3389.0 -0.001285   \n",
       "2020-01-02  769000.0  771000.0  757000.0  770000.0     1023.0 -0.001297   \n",
       "2020-01-02   11600.0   11750.0   11400.0   11400.0  1549105.0 -0.017241   \n",
       "2020-01-02  427932.0  434356.0  420520.0  423485.0   109563.0 -0.010392   \n",
       "2020-01-02   90400.0   92300.0   89100.0   91900.0    20863.0  0.027964   \n",
       "\n",
       "              code  \n",
       "2020-01-02  001530  \n",
       "2020-01-02  003350  \n",
       "2020-01-02  005870  \n",
       "2020-01-02  006340  \n",
       "2020-01-02  010950  \n",
       "2020-01-02  02826K  \n",
       "2020-01-02  051905  \n",
       "2020-01-02  316140  \n",
       "2020-01-02  207940  \n",
       "2020-01-02  090435  "
      ]
     },
     "metadata": {},
     "output_type": "display_data"
    },
    {
     "data": {
      "text/html": [
       "<div>\n",
       "<style scoped>\n",
       "    .dataframe tbody tr th:only-of-type {\n",
       "        vertical-align: middle;\n",
       "    }\n",
       "\n",
       "    .dataframe tbody tr th {\n",
       "        vertical-align: top;\n",
       "    }\n",
       "\n",
       "    .dataframe thead th {\n",
       "        text-align: right;\n",
       "    }\n",
       "</style>\n",
       "<table border=\"1\" class=\"dataframe\">\n",
       "  <thead>\n",
       "    <tr style=\"text-align: right;\">\n",
       "      <th></th>\n",
       "      <th>company</th>\n",
       "      <th>code</th>\n",
       "      <th>industry</th>\n",
       "      <th>products</th>\n",
       "      <th>listing_date</th>\n",
       "      <th>closing_month</th>\n",
       "      <th>region</th>\n",
       "    </tr>\n",
       "  </thead>\n",
       "  <tbody>\n",
       "    <tr>\n",
       "      <th>0</th>\n",
       "      <td>시지트로닉스</td>\n",
       "      <td>429270</td>\n",
       "      <td>반도체 제조업</td>\n",
       "      <td>특화반도체 소자</td>\n",
       "      <td>2023-08-03</td>\n",
       "      <td>12월</td>\n",
       "      <td>전라북도</td>\n",
       "    </tr>\n",
       "    <tr>\n",
       "      <th>1</th>\n",
       "      <td>에피바이오텍</td>\n",
       "      <td>446440</td>\n",
       "      <td>자연과학 및 공학 연구개발업</td>\n",
       "      <td>탈모 치료제</td>\n",
       "      <td>2023-07-31</td>\n",
       "      <td>12월</td>\n",
       "      <td>인천광역시</td>\n",
       "    </tr>\n",
       "    <tr>\n",
       "      <th>2</th>\n",
       "      <td>조선내화</td>\n",
       "      <td>462520</td>\n",
       "      <td>내화, 비내화 요업제품 제조업</td>\n",
       "      <td>내화 요업제품</td>\n",
       "      <td>2023-07-28</td>\n",
       "      <td>12월</td>\n",
       "      <td>전라남도</td>\n",
       "    </tr>\n",
       "    <tr>\n",
       "      <th>3</th>\n",
       "      <td>에이엘티</td>\n",
       "      <td>172670</td>\n",
       "      <td>반도체 제조업</td>\n",
       "      <td>반도체 테스트 및 패키징(반도체 후공정)</td>\n",
       "      <td>2023-07-27</td>\n",
       "      <td>12월</td>\n",
       "      <td>충청북도</td>\n",
       "    </tr>\n",
       "    <tr>\n",
       "      <th>4</th>\n",
       "      <td>유안타제14호스팩</td>\n",
       "      <td>450940</td>\n",
       "      <td>금융 지원 서비스업</td>\n",
       "      <td>금융 지원 서비스</td>\n",
       "      <td>2023-07-27</td>\n",
       "      <td>12월</td>\n",
       "      <td>서울특별시</td>\n",
       "    </tr>\n",
       "    <tr>\n",
       "      <th>5</th>\n",
       "      <td>파로스아이바이오</td>\n",
       "      <td>388870</td>\n",
       "      <td>자연과학 및 공학 연구개발업</td>\n",
       "      <td>PHI-101 급성골수성백혈병 치료제 및 재발성난소암 치료제</td>\n",
       "      <td>2023-07-27</td>\n",
       "      <td>12월</td>\n",
       "      <td>경기도</td>\n",
       "    </tr>\n",
       "    <tr>\n",
       "      <th>6</th>\n",
       "      <td>길교이앤씨</td>\n",
       "      <td>456700</td>\n",
       "      <td>건축기술, 엔지니어링 및 관련 기술 서비스업</td>\n",
       "      <td>강합성 라멘교</td>\n",
       "      <td>2023-07-26</td>\n",
       "      <td>12월</td>\n",
       "      <td>경상북도</td>\n",
       "    </tr>\n",
       "    <tr>\n",
       "      <th>7</th>\n",
       "      <td>버넥트</td>\n",
       "      <td>438700</td>\n",
       "      <td>소프트웨어 개발 및 공급업</td>\n",
       "      <td>산업용 XR 솔루션</td>\n",
       "      <td>2023-07-26</td>\n",
       "      <td>12월</td>\n",
       "      <td>서울특별시</td>\n",
       "    </tr>\n",
       "    <tr>\n",
       "      <th>8</th>\n",
       "      <td>뷰티스킨</td>\n",
       "      <td>406820</td>\n",
       "      <td>기타 화학제품 제조업</td>\n",
       "      <td>화장품 제조, 브랜드, 유통 사업</td>\n",
       "      <td>2023-07-24</td>\n",
       "      <td>12월</td>\n",
       "      <td>인천광역시</td>\n",
       "    </tr>\n",
       "    <tr>\n",
       "      <th>9</th>\n",
       "      <td>SK증권제9호스팩</td>\n",
       "      <td>455910</td>\n",
       "      <td>금융 지원 서비스업</td>\n",
       "      <td>기업인수목적회사</td>\n",
       "      <td>2023-07-21</td>\n",
       "      <td>12월</td>\n",
       "      <td>서울특별시</td>\n",
       "    </tr>\n",
       "  </tbody>\n",
       "</table>\n",
       "</div>"
      ],
      "text/plain": [
       "     company    code                  industry  \\\n",
       "0     시지트로닉스  429270                   반도체 제조업   \n",
       "1     에피바이오텍  446440           자연과학 및 공학 연구개발업   \n",
       "2       조선내화  462520          내화, 비내화 요업제품 제조업   \n",
       "3       에이엘티  172670                   반도체 제조업   \n",
       "4  유안타제14호스팩  450940                금융 지원 서비스업   \n",
       "5   파로스아이바이오  388870           자연과학 및 공학 연구개발업   \n",
       "6      길교이앤씨  456700  건축기술, 엔지니어링 및 관련 기술 서비스업   \n",
       "7        버넥트  438700            소프트웨어 개발 및 공급업   \n",
       "8       뷰티스킨  406820               기타 화학제품 제조업   \n",
       "9  SK증권제9호스팩  455910                금융 지원 서비스업   \n",
       "\n",
       "                            products listing_date closing_month region  \n",
       "0                           특화반도체 소자   2023-08-03           12월   전라북도  \n",
       "1                             탈모 치료제   2023-07-31           12월  인천광역시  \n",
       "2                            내화 요업제품   2023-07-28           12월   전라남도  \n",
       "3             반도체 테스트 및 패키징(반도체 후공정)   2023-07-27           12월   충청북도  \n",
       "4                          금융 지원 서비스   2023-07-27           12월  서울특별시  \n",
       "5  PHI-101 급성골수성백혈병 치료제 및 재발성난소암 치료제   2023-07-27           12월    경기도  \n",
       "6                            강합성 라멘교   2023-07-26           12월   경상북도  \n",
       "7                         산업용 XR 솔루션   2023-07-26           12월  서울특별시  \n",
       "8                 화장품 제조, 브랜드, 유통 사업   2023-07-24           12월  인천광역시  \n",
       "9                           기업인수목적회사   2023-07-21           12월  서울특별시  "
      ]
     },
     "metadata": {},
     "output_type": "display_data"
    }
   ],
   "source": [
    "# OHLCV은 종목별 주가와 관련된 정보를 나타내는 데이터셋입니다.\n",
    "display(OHLCV_data.head(10))\n",
    "\n",
    "# 상장법인정보 데이터셋입니다.\n",
    "display(company_data.head(10))"
   ]
  },
  {
   "cell_type": "markdown",
   "metadata": {
    "id": "VamYeKfM7Qy0"
   },
   "source": [
    "- 이번 실습을 시작하기 전에 우리는 크게 두 가지 성향의 파생 변수를 만들고 시작할거에요.\n",
    "- 첫 번째는 금융 도메인 지식에 기반해서 파생 변수를 만들고 시작할게요!\n",
    "- 자칫 어려울수도 있으나, 주가 관련한 금융 도메인에서는 이런 파생 변수가 존재하는걸 인지만하시고 넘어가시면 됩니다."
   ]
  },
  {
   "cell_type": "code",
   "execution_count": 7,
   "metadata": {
    "colab": {
     "base_uri": "https://localhost:8080/",
     "height": 35
    },
    "executionInfo": {
     "elapsed": 6,
     "status": "ok",
     "timestamp": 1698150851706,
     "user": {
      "displayName": "이동빈",
      "userId": "02086753221575393526"
     },
     "user_tz": -540
    },
    "id": "dW1O5pHg7yPw",
    "outputId": "5f3b7d5f-3291-43a6-fd13-c769399176ee"
   },
   "outputs": [
    {
     "data": {
      "text/plain": [
       "\"데이터셋 컬럼: ('Open', 'High', 'Low', 'Close', 'Volume', 'Change', 'code')\""
      ]
     },
     "metadata": {},
     "output_type": "display_data"
    }
   ],
   "source": [
    "# 데이터셋의 컬럼을 확인합니다.\n",
    "\n",
    "display(f\"데이터셋 컬럼: {tuple(OHLCV_data.columns)}\")"
   ]
  },
  {
   "cell_type": "code",
   "execution_count": 8,
   "metadata": {
    "executionInfo": {
     "elapsed": 28721,
     "status": "ok",
     "timestamp": 1698150880422,
     "user": {
      "displayName": "이동빈",
      "userId": "02086753221575393526"
     },
     "user_tz": -540
    },
    "id": "Xg8cYa-Wtv2w"
   },
   "outputs": [],
   "source": [
    "# 현재 데이터프레임의 인덱스가 날짜로 되어있습니다.\n",
    "# 분석 편의를 위해서 Date컬럼을 새로 만들고, 인덱스는 새로 초기화 하겠습니다.\n",
    "OHLCV_data[\"Date\"] = OHLCV_data.index\n",
    "OHLCV_data[\"Date\"] = pd.to_datetime(OHLCV_data[\"Date\"])\n",
    "OHLCV_data.reset_index(drop=True, inplace=True)\n",
    "\n",
    "# 두 파일을 결합시켜 OHCLV와 상장법인정보를 함께 볼수 있도록 하겠습니다.\n",
    "OHLCV_data = pd.merge(OHLCV_data, company_data, on=\"code\", how=\"inner\")\n",
    "\n",
    "OHLCV_data[\"Target\"] = OHLCV_data.groupby(\"code\")[\"Close\"].shift(-1)\n",
    "\n",
    "# 파생 변수1 - 가격 차이를 구합시다.\n",
    "OHLCV_data[\"PriceRange\"] = OHLCV_data[\"High\"] - OHLCV_data[\"Low\"]\n",
    "# 파생 변수2 - 종목의 대푯값인 평균 가격를 구합시다.\n",
    "OHLCV_data[\"AveragePrice\"] = (OHLCV_data[\"Open\"] + OHLCV_data[\"High\"] + OHLCV_data[\"Low\"] - OHLCV_data[\"Close\"]) / 4\n",
    "# 파생 변수3 - 종가가 시가보다 크면 주가의 방향은 양(1)으로, 반대로 종가가 시가보다 작으면 음(-1)을 표현하도록 하겠습니다.\n",
    "OHLCV_data['PriceDirection'] = OHLCV_data.apply(lambda row: 1 if row['Close'] > row['Open'] else -1, axis=1)\n",
    "# 파생 변수4 - 일일 수익률을 계산합니다.\n",
    "OHLCV_data['DailyReturn'] = OHLCV_data.groupby('code')['Close'].transform(lambda x: x.pct_change() * 100)\n",
    "# 파생 변수5 - 장기, 중기, 단기 이동평균을 파생변수로 추가합니다.\n",
    "OHLCV_data[\"MovingAverage5d\"] = OHLCV_data.groupby(\"code\")[\"Close\"].transform(lambda x: x.rolling(window=5).mean())\n",
    "OHLCV_data[\"MovingAverage20d\"] = OHLCV_data.groupby(\"code\")[\"Close\"].transform(lambda x: x.rolling(window=20).mean())\n",
    "OHLCV_data[\"MovingAverage60d\"] = OHLCV_data.groupby(\"code\")[\"Close\"].transform(lambda x: x.rolling(window=60).mean())\n",
    "OHLCV_data[\"MovingAverage120d\"] = OHLCV_data.groupby(\"code\")[\"Close\"].transform(lambda x: x.rolling(window=120).mean())\n",
    "\n",
    "# 파생 변수6 - 볼린저 밴드(Bolinger bands)는 이동 평균을 기준으로 상한, 하한 밴드를 구성하여 추세와 변동성을 파악하는 기술입니다.\n",
    "# 표준편차에 대한 상한 및 하한 밴드의 배수 설정\n",
    "std_multiplier = 2\n",
    "std = OHLCV_data.groupby(\"code\")[\"Close\"].transform(lambda x: x.rolling(window=20).std())\n",
    "# 상한은 일반적으로 20일 이동평균에 2배의 표준편차 더하기\n",
    "# 하한은 일반적으로 20일 이동평균에 2배의 표준편차 빼기\n",
    "OHLCV_data[\"LowerBollingerBand\"] = OHLCV_data[\"MovingAverage20d\"] + (std_multiplier * std)\n",
    "OHLCV_data[\"UpperBollingerBand\"] = OHLCV_data[\"MovingAverage20d\"] - (std_multiplier * std)\n",
    "\n",
    "# 파생 변수7 - MACD (Moving Average Convergence & Divergence)는 추가 추세의 힘과 방향성을 파악하여 매매신호를 잡는 목적으로 사용됩니다.\n",
    "OHLCV_data['ShortEMA'] = OHLCV_data[\"Close\"].ewm(span=12, adjust=False).mean()\n",
    "OHLCV_data['LongEMA'] = OHLCV_data[\"Close\"].ewm(span=26, adjust=False).mean()\n",
    "OHLCV_data['MACD'] = OHLCV_data['ShortEMA'] - OHLCV_data['LongEMA']"
   ]
  },
  {
   "cell_type": "markdown",
   "metadata": {
    "id": "WiFXamZhtx-T"
   },
   "source": [
    "- 두 번째는 상장법인정보를 기반으로 만들어볼거에요!\n",
    "- 업종(industry), 주요 제품(products), 상장일(listing_date) 등을 결합해서 새로운 파생 변수를 만들어보도록 하겠습니다."
   ]
  },
  {
   "cell_type": "code",
   "execution_count": 9,
   "metadata": {
    "executionInfo": {
     "elapsed": 4322,
     "status": "ok",
     "timestamp": 1698150884741,
     "user": {
      "displayName": "이동빈",
      "userId": "02086753221575393526"
     },
     "user_tz": -540
    },
    "id": "K2BpM5R88Hob"
   },
   "outputs": [],
   "source": [
    "# 파생 변수8 - OHLCV컬럼 모두 업종별로 일일 평균, 중앙값을 집계해보겠습니다.\n",
    "# 일별, 업종별로 집계를 해야하기 때문에 두개의 변수(Date, industry)가 집계요소로 들어갑니다.\n",
    "# 일별 시가의 평균, 중앙값\n",
    "open_stats = OHLCV_data.groupby([\"Date\", \"industry\"])[\"Open\"].agg([\"mean\", \"median\"])\n",
    "open_stats.columns = [\"OpenMean\", \"OpenMedian\"]\n",
    "OHLCV_data = pd.merge(OHLCV_data, open_stats, how=\"inner\", on=[\"industry\", \"Date\"])\n",
    "# 일별 고가의 평균, 중앙값\n",
    "high_stats = OHLCV_data.groupby([\"Date\", \"industry\"])[\"High\"].agg([\"mean\", \"median\"])\n",
    "high_stats.columns = [\"HighMean\", \"HighMedian\"]\n",
    "OHLCV_data = pd.merge(OHLCV_data, high_stats, how=\"inner\", on=[\"industry\", \"Date\"])\n",
    "# 일별 저가의 평균, 중앙값\n",
    "low_stats = OHLCV_data.groupby([\"Date\", \"industry\"])[\"Low\"].agg([\"mean\", \"median\"])\n",
    "low_stats.columns = [\"LowMean\", \"LowMedian\"]\n",
    "OHLCV_data = pd.merge(OHLCV_data, low_stats, how=\"inner\", on=[\"industry\", \"Date\"])\n",
    "# 일별 종가의 평균, 중앙값\n",
    "close_stats = OHLCV_data.groupby([\"Date\", \"industry\"])[\"Close\"].agg([\"mean\", \"median\"])\n",
    "close_stats.columns = [\"CloseMean\", \"CloseMedian\"]\n",
    "OHLCV_data = pd.merge(OHLCV_data, close_stats, how=\"inner\", on=[\"industry\", \"Date\"])\n",
    "# 일별 거래량의 평균, 중앙값\n",
    "volume_stats = OHLCV_data.groupby([\"Date\", \"industry\"])[\"Volume\"].agg([\"mean\", \"median\"])\n",
    "volume_stats.columns = [\"VolumeMean\", \"VolumeMedian\"]\n",
    "OHLCV_data = pd.merge(OHLCV_data, volume_stats, how=\"inner\", on=[\"industry\", \"Date\"])\n",
    "\n",
    "# 파생 변수 9 - 시간관련 파생 변수\n",
    "# Date, listing_date컬럼은 \"2020-01-01\" 형태로 되어있어요.\n",
    "# 이걸 컴퓨터가 인식할 수 있도록 년,월,일 정수 컬럼으로 나눠서 표현해볼게요.\n",
    "# Date컬럼 나누기\n",
    "OHLCV_data[\"DateYear\"] = OHLCV_data[\"Date\"].dt.year\n",
    "OHLCV_data[\"DateMonth\"] = OHLCV_data[\"Date\"].dt.month\n",
    "OHLCV_data[\"DateDay\"] = OHLCV_data[\"Date\"].dt.day\n",
    "# listing_date컬럼 나누기\n",
    "OHLCV_data[\"ListingDateYear\"] = OHLCV_data[\"listing_date\"].dt.year\n",
    "OHLCV_data[\"ListingDateMonth\"] = OHLCV_data[\"listing_date\"].dt.month\n",
    "OHLCV_data[\"ListingDateDay\"] = OHLCV_data[\"listing_date\"].dt.day\n",
    "# closing_month컬럼은 \"12월\" 형태이기 때문에 \"월\"을 빼고 정수만 남기도록 할게요.\n",
    "OHLCV_data[\"ClosingMonthInt\"] = OHLCV_data[\"closing_month\"].str.replace('월', '').astype(int)"
   ]
  },
  {
   "cell_type": "markdown",
   "metadata": {
    "id": "dSRQPvVZt04V"
   },
   "source": [
    "- 학습을 위해서 범주형 변수를 인코딩 하는 작업을 하겠습니다.\n",
    "- Label Encoding, Frequency Encdoing, Target Encoding"
   ]
  },
  {
   "cell_type": "code",
   "execution_count": 10,
   "metadata": {
    "executionInfo": {
     "elapsed": 557,
     "status": "ok",
     "timestamp": 1698150885295,
     "user": {
      "displayName": "이동빈",
      "userId": "02086753221575393526"
     },
     "user_tz": -540
    },
    "id": "lbaHssC2t2YB"
   },
   "outputs": [],
   "source": [
    "# Label Encoding을 진행합니다.\n",
    "# sklearn에서 제공하는 LabelEncoder를 활용합시다.\n",
    "label_encoder = LabelEncoder()\n",
    "\n",
    "OHLCV_data[\"LEncodedIndustry\"] = label_encoder.fit_transform(OHLCV_data[\"industry\"])\n",
    "OHLCV_data[\"LEncodedProducts\"] = label_encoder.fit_transform(OHLCV_data[\"products\"])\n",
    "OHLCV_data[\"LEncodedRegion\"] = label_encoder.fit_transform(OHLCV_data[\"region\"])\n",
    "OHLCV_data[\"LEncodedCode\"] = label_encoder.fit_transform(OHLCV_data[\"code\"])\n",
    "\n",
    "# Frequency Encoding을 진행합니다.\n",
    "frequency_encoder = OHLCV_data[\"industry\"].value_counts()\n",
    "OHLCV_data['FEncodedIndustry'] = OHLCV_data['industry'].map(frequency_encoder)\n",
    "\n",
    "# Target Encoding을 진행합니다.\n",
    "# 각 업종별 종가의 평균 계산\n",
    "target_encoder = OHLCV_data.groupby(\"industry\")[\"Close\"].mean()\n",
    "OHLCV_data[\"TEncodedIndustry\"] = OHLCV_data['industry'].map(target_encoder)"
   ]
  },
  {
   "cell_type": "markdown",
   "metadata": {
    "id": "JsQ3Lcxmt4Fp"
   },
   "source": [
    "- 마지막으로 결측치와 학습에 불필요한 컬럼들은 모두 제거하겠습니다."
   ]
  },
  {
   "cell_type": "code",
   "execution_count": 11,
   "metadata": {
    "executionInfo": {
     "elapsed": 1521,
     "status": "ok",
     "timestamp": 1698150886813,
     "user": {
      "displayName": "이동빈",
      "userId": "02086753221575393526"
     },
     "user_tz": -540
    },
    "id": "yGV80rO2t5fB"
   },
   "outputs": [],
   "source": [
    "# 결측치 모두 제거\n",
    "OHLCV_data.dropna(inplace=True)\n",
    "\n",
    "# OHLCV의 0이 되는 이상치 및 결측치는 모두 제거\n",
    "OHLCV_data = OHLCV_data[(OHLCV_data[[\"Open\", \"High\", \"Low\", \"Close\", \"Volume\", \"Change\"]] != 0).all(axis=1)]\n",
    "\n",
    "OHLCV_data.drop([\n",
    "    \"company\", \"industry\",\n",
    "    \"products\", \"listing_date\", \"closing_month\",\n",
    "    \"region\", \"code\"\n",
    "    ], axis=1, inplace=True)\n",
    "\n",
    "OHLCV_data.reset_index(drop=True, inplace=True)"
   ]
  },
  {
   "cell_type": "code",
   "execution_count": 12,
   "metadata": {
    "colab": {
     "base_uri": "https://localhost:8080/",
     "height": 35
    },
    "executionInfo": {
     "elapsed": 12,
     "status": "ok",
     "timestamp": 1698150886816,
     "user": {
      "displayName": "이동빈",
      "userId": "02086753221575393526"
     },
     "user_tz": -540
    },
    "id": "_Gx5OaPW4H-Q",
    "outputId": "d8f12387-0a99-423e-a715-796640062908"
   },
   "outputs": [
    {
     "data": {
      "text/plain": [
       "'데이터셋 날짜 범위: 2020-06-25 00:00:00 ~ 2023-07-28 00:00:00'"
      ]
     },
     "metadata": {},
     "output_type": "display_data"
    }
   ],
   "source": [
    "# 데이터의 날짜 범위를 알아보도록 하겠습니다.\n",
    "\n",
    "display(f\"데이터셋 날짜 범위: {OHLCV_data['Date'].min()} ~ {OHLCV_data['Date'].max()}\")"
   ]
  },
  {
   "cell_type": "code",
   "execution_count": 13,
   "metadata": {
    "colab": {
     "base_uri": "https://localhost:8080/",
     "height": 54
    },
    "executionInfo": {
     "elapsed": 12,
     "status": "ok",
     "timestamp": 1698150886817,
     "user": {
      "displayName": "이동빈",
      "userId": "02086753221575393526"
     },
     "user_tz": -540
    },
    "id": "V48Smnvl4Vjd",
    "outputId": "23fa0afd-90f0-4a70-d936-38980c1adec6"
   },
   "outputs": [
    {
     "data": {
      "text/plain": [
       "'학습 데이터셋 : 546452 개'"
      ]
     },
     "metadata": {},
     "output_type": "display_data"
    },
    {
     "data": {
      "text/plain": [
       "'테스트 데이터셋 : 15241 개'"
      ]
     },
     "metadata": {},
     "output_type": "display_data"
    }
   ],
   "source": [
    "# 마지막 1개월을 기준으로 학습/테스트 세트를 분리합니다.\n",
    "train_data = OHLCV_data.loc[OHLCV_data[\"Date\"] < \"2023-07-01\"].reset_index(drop=True)\n",
    "test_data = OHLCV_data.loc[OHLCV_data[\"Date\"] >= \"2023-07-01\"].reset_index(drop=True)\n",
    "\n",
    "# 이후 time series split에서 사용하기 위해 날짜에 대한 정보를 별도로 저장해둡니다.\n",
    "date_list = (train_data['Date'])\n",
    "\n",
    "# Date 컬럼은 이제 필요가 없으니 제거하겠습니다.\n",
    "train_data.drop(\"Date\", axis=1, inplace=True)\n",
    "test_data.drop(\"Date\", axis=1, inplace=True)\n",
    "\n",
    "display(f\"학습 데이터셋 : {len(train_data)} 개\")\n",
    "display(f\"테스트 데이터셋 : {len(test_data)} 개\")"
   ]
  },
  {
   "cell_type": "code",
   "execution_count": 14,
   "metadata": {
    "colab": {
     "base_uri": "https://localhost:8080/",
     "height": 72
    },
    "executionInfo": {
     "elapsed": 11,
     "status": "ok",
     "timestamp": 1698150886817,
     "user": {
      "displayName": "이동빈",
      "userId": "02086753221575393526"
     },
     "user_tz": -540
    },
    "id": "Lr6mTsN2vVcV",
    "outputId": "781b6c28-4271-480c-81e6-a9e9a400bf00"
   },
   "outputs": [
    {
     "data": {
      "text/plain": [
       "\"Input Featrue : ['Open', 'High', 'Low', 'Close', 'Volume', 'Change', 'PriceRange', 'AveragePrice', 'PriceDirection', 'DailyReturn', 'MovingAverage5d', 'MovingAverage20d', 'MovingAverage60d', 'MovingAverage120d', 'LowerBollingerBand', 'UpperBollingerBand', 'ShortEMA', 'LongEMA', 'MACD', 'OpenMean', 'OpenMedian', 'HighMean', 'HighMedian', 'LowMean', 'LowMedian', 'CloseMean', 'CloseMedian', 'VolumeMean', 'VolumeMedian', 'DateYear', 'DateMonth', 'DateDay', 'ListingDateYear', 'ListingDateMonth', 'ListingDateDay', 'ClosingMonthInt', 'LEncodedIndustry', 'LEncodedProducts', 'LEncodedRegion', 'LEncodedCode', 'FEncodedIndustry', 'TEncodedIndustry']\""
      ]
     },
     "metadata": {},
     "output_type": "display_data"
    },
    {
     "data": {
      "text/plain": [
       "'Target : Target'"
      ]
     },
     "metadata": {},
     "output_type": "display_data"
    }
   ],
   "source": [
    "# input값들과 target값을 구분합니다.\n",
    "target_col = \"Target\" # 다음날의 종가 (Close)\n",
    "input_cols = list(train_data.columns)\n",
    "input_cols.remove(target_col)\n",
    "\n",
    "display(f\"Input Featrue : {input_cols}\")\n",
    "display(f\"Target : {target_col}\")"
   ]
  },
  {
   "cell_type": "code",
   "execution_count": 15,
   "metadata": {
    "colab": {
     "base_uri": "https://localhost:8080/",
     "height": 109
    },
    "executionInfo": {
     "elapsed": 11,
     "status": "ok",
     "timestamp": 1698150886817,
     "user": {
      "displayName": "이동빈",
      "userId": "02086753221575393526"
     },
     "user_tz": -540
    },
    "id": "pcJp3b8Av5Ur",
    "outputId": "eae40866-bd2b-4e69-9fb1-6a61b0a357a6"
   },
   "outputs": [
    {
     "data": {
      "text/plain": [
       "'학습에 사용할 최종 데이터의 형태는 아래와 같습니다.'"
      ]
     },
     "metadata": {},
     "output_type": "display_data"
    },
    {
     "data": {
      "text/plain": [
       "'Train Input : (546452, 42)'"
      ]
     },
     "metadata": {},
     "output_type": "display_data"
    },
    {
     "data": {
      "text/plain": [
       "'Train Target : (546452,)'"
      ]
     },
     "metadata": {},
     "output_type": "display_data"
    },
    {
     "data": {
      "text/plain": [
       "'Test Input : (15241, 42)'"
      ]
     },
     "metadata": {},
     "output_type": "display_data"
    },
    {
     "data": {
      "text/plain": [
       "'Test Target : (15241,)'"
      ]
     },
     "metadata": {},
     "output_type": "display_data"
    }
   ],
   "source": [
    "# 학습과 테스트세트에서 입력값과 목표값을 분리합니다.\n",
    "\n",
    "X_train = train_data[input_cols]\n",
    "Y_train = train_data[target_col]\n",
    "\n",
    "X_test = test_data[input_cols]\n",
    "Y_test = test_data[target_col]\n",
    "\n",
    "display(\"학습에 사용할 최종 데이터의 형태는 아래와 같습니다.\")\n",
    "display(f\"Train Input : {X_train.shape}\")\n",
    "display(f\"Train Target : {Y_train.shape}\")\n",
    "display(f\"Test Input : {X_test.shape}\")\n",
    "display(f\"Test Target : {Y_test.shape}\")"
   ]
  },
  {
   "cell_type": "markdown",
   "metadata": {
    "id": "xHf1ptoMdl90"
   },
   "source": [
    "## 2. 데이터 분할\n",
    "\n",
    "```\n",
    "💡 목차 개요 : 다양한 데이터 분할을 적용해봅니다.\n",
    "```\n",
    "- **2-1 Holdout**\n",
    "- **2-2 K-Fold**\n",
    "- **2-3 Stratified K-Fold**\n",
    "- **2-4 Group K-Fold**\n",
    "- **2-5 Time-Series Split**"
   ]
  },
  {
   "cell_type": "markdown",
   "metadata": {
    "id": "SbpSYaj3dl90"
   },
   "source": [
    "### 2-1 Holdout\n"
   ]
  },
  {
   "cell_type": "markdown",
   "metadata": {
    "id": "OQo9BTv0dl90"
   },
   "source": [
    "#### 📝 설명 : (2-1)\n",
    "\n",
    "- 가장 기본적인 분할 방법입니다.\n",
    "- 전체 데이터를 8:2 등과 같이 일정 비율로 분리하는 기법으로, 랜덤하게 분리하거나 경우에 따라 가장 최근 20%를 검증데이터로 사용합니다.\n",
    "\n",
    "![image.png](data:image/png;base64,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)"
   ]
  },
  {
   "cell_type": "markdown",
   "metadata": {
    "id": "OIXBdCcidl90"
   },
   "source": [
    "#### 👨‍💻 코드 : (2-1)\n"
   ]
  },
  {
   "cell_type": "code",
   "execution_count": 16,
   "metadata": {
    "colab": {
     "base_uri": "https://localhost:8080/",
     "height": 128
    },
    "executionInfo": {
     "elapsed": 554,
     "status": "ok",
     "timestamp": 1696319263022,
     "user": {
      "displayName": "이동빈",
      "userId": "02086753221575393526"
     },
     "user_tz": -540
    },
    "id": "Arp-iEUPD73r",
    "outputId": "8c235a80-1fb5-4e00-97ee-fbf1742121c1"
   },
   "outputs": [
    {
     "data": {
      "text/plain": [
       "'Train Input : (437161, 42)'"
      ]
     },
     "metadata": {},
     "output_type": "display_data"
    },
    {
     "data": {
      "text/plain": [
       "'Train Target : (437161,)'"
      ]
     },
     "metadata": {},
     "output_type": "display_data"
    },
    {
     "data": {
      "text/plain": [
       "'Valid Input : (109291, 42)'"
      ]
     },
     "metadata": {},
     "output_type": "display_data"
    },
    {
     "data": {
      "text/plain": [
       "'Valid Target : (109291,)'"
      ]
     },
     "metadata": {},
     "output_type": "display_data"
    },
    {
     "data": {
      "text/plain": [
       "'Test Input : (15241, 42)'"
      ]
     },
     "metadata": {},
     "output_type": "display_data"
    },
    {
     "data": {
      "text/plain": [
       "'Valid Target : (15241,)'"
      ]
     },
     "metadata": {},
     "output_type": "display_data"
    }
   ],
   "source": [
    "# 학습데이터를 학습/검증 데이터로 분리합니다.\n",
    "# Sklearn의 Holdout을 이용해 랜덤으로 8:2로 분리합니다.\n",
    "\n",
    "holdout_X_train, holdout_X_valid, holdout_Y_train, holdout_Y_valid = train_test_split(X_train, Y_train, test_size=0.2, shuffle=True) # default shuffle : True\n",
    "\n",
    "display(f\"Train Input : {holdout_X_train.shape}\")\n",
    "display(f\"Train Target : {holdout_Y_train.shape}\")\n",
    "display(f\"Valid Input : {holdout_X_valid.shape}\")\n",
    "display(f\"Valid Target : {holdout_Y_valid.shape}\")\n",
    "display(f\"Test Input : {X_test.shape}\")\n",
    "display(f\"Valid Target : {Y_test.shape}\")"
   ]
  },
  {
   "cell_type": "code",
   "execution_count": 17,
   "metadata": {
    "id": "a0tCMDPrMJeF"
   },
   "outputs": [],
   "source": [
    "# LightGBM을 선언합니다.\n",
    "# 학습은 총 1000번을 반복합니다.\n",
    "# 데이터셋 분할에 따른 성능비교를 위해 별도의 Parameter 튜닝은 적용하지 않고 기본값을 사용합니다.\n",
    "\n",
    "gbm = lgb.LGBMRegressor(n_estimators=1000)"
   ]
  },
  {
   "cell_type": "code",
   "execution_count": 19,
   "metadata": {
    "colab": {
     "base_uri": "https://localhost:8080/",
     "height": 998
    },
    "executionInfo": {
     "elapsed": 29751,
     "status": "ok",
     "timestamp": 1696319292769,
     "user": {
      "displayName": "이동빈",
      "userId": "02086753221575393526"
     },
     "user_tz": -540
    },
    "id": "qatFjUlGGbv8",
    "outputId": "626f400c-126c-415a-a579-2101bd47a991"
   },
   "outputs": [
    {
     "name": "stdout",
     "output_type": "stream",
     "text": [
      "[LightGBM] [Warning] Auto-choosing row-wise multi-threading, the overhead of testing was 0.007458 seconds.\n",
      "You can set `force_row_wise=true` to remove the overhead.\n",
      "And if memory is not enough, you can set `force_col_wise=true`.\n",
      "[LightGBM] [Info] Total Bins 8143\n",
      "[LightGBM] [Info] Number of data points in the train set: 437161, number of used features: 42\n",
      "[LightGBM] [Info] Start training from score 41952.472174\n",
      "Training until validation scores don't improve for 10 rounds\n",
      "[10]\ttraining's rmse: 34828.1\ttraining's l2: 1.21299e+09\tvalid_1's rmse: 34154.8\tvalid_1's l2: 1.16655e+09\n",
      "[20]\ttraining's rmse: 12752.4\ttraining's l2: 1.62624e+08\tvalid_1's rmse: 12528\tvalid_1's l2: 1.5695e+08\n",
      "[30]\ttraining's rmse: 5618.21\ttraining's l2: 3.15642e+07\tvalid_1's rmse: 5640.39\tvalid_1's l2: 3.1814e+07\n",
      "[40]\ttraining's rmse: 3750.93\ttraining's l2: 1.40694e+07\tvalid_1's rmse: 3953.02\tvalid_1's l2: 1.56264e+07\n",
      "[50]\ttraining's rmse: 3308.17\ttraining's l2: 1.0944e+07\tvalid_1's rmse: 3603.27\tvalid_1's l2: 1.29836e+07\n",
      "[60]\ttraining's rmse: 3147.77\ttraining's l2: 9.90843e+06\tvalid_1's rmse: 3501.38\tvalid_1's l2: 1.22597e+07\n",
      "[70]\ttraining's rmse: 3045.68\ttraining's l2: 9.27617e+06\tvalid_1's rmse: 3465.32\tvalid_1's l2: 1.20084e+07\n",
      "[80]\ttraining's rmse: 2961.95\ttraining's l2: 8.77316e+06\tvalid_1's rmse: 3424.83\tvalid_1's l2: 1.17294e+07\n",
      "[90]\ttraining's rmse: 2891.88\ttraining's l2: 8.36298e+06\tvalid_1's rmse: 3398.82\tvalid_1's l2: 1.1552e+07\n",
      "[100]\ttraining's rmse: 2835.38\ttraining's l2: 8.0394e+06\tvalid_1's rmse: 3381.65\tvalid_1's l2: 1.14355e+07\n",
      "[110]\ttraining's rmse: 2772.05\ttraining's l2: 7.68425e+06\tvalid_1's rmse: 3351.15\tvalid_1's l2: 1.12302e+07\n",
      "[120]\ttraining's rmse: 2722.09\ttraining's l2: 7.40975e+06\tvalid_1's rmse: 3330.02\tvalid_1's l2: 1.1089e+07\n",
      "[130]\ttraining's rmse: 2679.5\ttraining's l2: 7.17975e+06\tvalid_1's rmse: 3316.87\tvalid_1's l2: 1.10016e+07\n",
      "[140]\ttraining's rmse: 2636.45\ttraining's l2: 6.95087e+06\tvalid_1's rmse: 3300.45\tvalid_1's l2: 1.08929e+07\n",
      "[150]\ttraining's rmse: 2598.88\ttraining's l2: 6.75417e+06\tvalid_1's rmse: 3296.34\tvalid_1's l2: 1.08659e+07\n",
      "[160]\ttraining's rmse: 2565.75\ttraining's l2: 6.58307e+06\tvalid_1's rmse: 3289.42\tvalid_1's l2: 1.08203e+07\n",
      "[170]\ttraining's rmse: 2532.05\ttraining's l2: 6.4113e+06\tvalid_1's rmse: 3280.33\tvalid_1's l2: 1.07606e+07\n",
      "[180]\ttraining's rmse: 2502.68\ttraining's l2: 6.26339e+06\tvalid_1's rmse: 3277.04\tvalid_1's l2: 1.0739e+07\n",
      "[190]\ttraining's rmse: 2470.01\ttraining's l2: 6.10096e+06\tvalid_1's rmse: 3272.93\tvalid_1's l2: 1.07121e+07\n",
      "[200]\ttraining's rmse: 2442.67\ttraining's l2: 5.96665e+06\tvalid_1's rmse: 3267.61\tvalid_1's l2: 1.06773e+07\n",
      "[210]\ttraining's rmse: 2414.91\ttraining's l2: 5.83178e+06\tvalid_1's rmse: 3264.45\tvalid_1's l2: 1.06566e+07\n",
      "[220]\ttraining's rmse: 2387.26\ttraining's l2: 5.69901e+06\tvalid_1's rmse: 3257.89\tvalid_1's l2: 1.06139e+07\n",
      "[230]\ttraining's rmse: 2363.22\ttraining's l2: 5.5848e+06\tvalid_1's rmse: 3254.37\tvalid_1's l2: 1.05909e+07\n",
      "[240]\ttraining's rmse: 2337.55\ttraining's l2: 5.46415e+06\tvalid_1's rmse: 3250.01\tvalid_1's l2: 1.05625e+07\n",
      "[250]\ttraining's rmse: 2315.58\ttraining's l2: 5.36191e+06\tvalid_1's rmse: 3249.34\tvalid_1's l2: 1.05582e+07\n",
      "[260]\ttraining's rmse: 2293.7\ttraining's l2: 5.26105e+06\tvalid_1's rmse: 3246.29\tvalid_1's l2: 1.05384e+07\n",
      "[270]\ttraining's rmse: 2273.36\ttraining's l2: 5.16818e+06\tvalid_1's rmse: 3242.92\tvalid_1's l2: 1.05165e+07\n",
      "[280]\ttraining's rmse: 2251.46\ttraining's l2: 5.06908e+06\tvalid_1's rmse: 3236.43\tvalid_1's l2: 1.04745e+07\n",
      "[290]\ttraining's rmse: 2229.25\ttraining's l2: 4.96957e+06\tvalid_1's rmse: 3232.18\tvalid_1's l2: 1.0447e+07\n",
      "[300]\ttraining's rmse: 2209.27\ttraining's l2: 4.88085e+06\tvalid_1's rmse: 3227.43\tvalid_1's l2: 1.04163e+07\n",
      "[310]\ttraining's rmse: 2191.44\ttraining's l2: 4.80241e+06\tvalid_1's rmse: 3226.36\tvalid_1's l2: 1.04094e+07\n",
      "[320]\ttraining's rmse: 2173.52\ttraining's l2: 4.72418e+06\tvalid_1's rmse: 3222.19\tvalid_1's l2: 1.03825e+07\n",
      "[330]\ttraining's rmse: 2156.62\ttraining's l2: 4.65103e+06\tvalid_1's rmse: 3218.6\tvalid_1's l2: 1.03594e+07\n",
      "[340]\ttraining's rmse: 2140.66\ttraining's l2: 4.5824e+06\tvalid_1's rmse: 3218.71\tvalid_1's l2: 1.03601e+07\n",
      "[350]\ttraining's rmse: 2126.07\ttraining's l2: 4.52017e+06\tvalid_1's rmse: 3213.78\tvalid_1's l2: 1.03284e+07\n",
      "[360]\ttraining's rmse: 2111.92\ttraining's l2: 4.46019e+06\tvalid_1's rmse: 3210.32\tvalid_1's l2: 1.03062e+07\n",
      "[370]\ttraining's rmse: 2094.75\ttraining's l2: 4.38798e+06\tvalid_1's rmse: 3207.01\tvalid_1's l2: 1.02849e+07\n",
      "[380]\ttraining's rmse: 2082.84\ttraining's l2: 4.33821e+06\tvalid_1's rmse: 3204.33\tvalid_1's l2: 1.02678e+07\n",
      "[390]\ttraining's rmse: 2067.42\ttraining's l2: 4.27422e+06\tvalid_1's rmse: 3201.25\tvalid_1's l2: 1.0248e+07\n",
      "[400]\ttraining's rmse: 2050.64\ttraining's l2: 4.20513e+06\tvalid_1's rmse: 3197.34\tvalid_1's l2: 1.0223e+07\n",
      "[410]\ttraining's rmse: 2036.89\ttraining's l2: 4.1489e+06\tvalid_1's rmse: 3192.85\tvalid_1's l2: 1.01943e+07\n",
      "[420]\ttraining's rmse: 2023.36\ttraining's l2: 4.09398e+06\tvalid_1's rmse: 3191.24\tvalid_1's l2: 1.0184e+07\n",
      "[430]\ttraining's rmse: 2009.05\ttraining's l2: 4.03629e+06\tvalid_1's rmse: 3187.63\tvalid_1's l2: 1.0161e+07\n",
      "[440]\ttraining's rmse: 1996.65\ttraining's l2: 3.98662e+06\tvalid_1's rmse: 3183.78\tvalid_1's l2: 1.01364e+07\n",
      "[450]\ttraining's rmse: 1985.65\ttraining's l2: 3.94279e+06\tvalid_1's rmse: 3182.08\tvalid_1's l2: 1.01256e+07\n",
      "[460]\ttraining's rmse: 1972.15\ttraining's l2: 3.88936e+06\tvalid_1's rmse: 3181.13\tvalid_1's l2: 1.01196e+07\n",
      "[470]\ttraining's rmse: 1960.87\ttraining's l2: 3.84502e+06\tvalid_1's rmse: 3180.45\tvalid_1's l2: 1.01152e+07\n",
      "[480]\ttraining's rmse: 1949.09\ttraining's l2: 3.79895e+06\tvalid_1's rmse: 3178.58\tvalid_1's l2: 1.01034e+07\n",
      "[490]\ttraining's rmse: 1936.83\ttraining's l2: 3.75131e+06\tvalid_1's rmse: 3176.31\tvalid_1's l2: 1.00889e+07\n",
      "[500]\ttraining's rmse: 1925.14\ttraining's l2: 3.70617e+06\tvalid_1's rmse: 3172.85\tvalid_1's l2: 1.0067e+07\n",
      "[510]\ttraining's rmse: 1911.66\ttraining's l2: 3.65445e+06\tvalid_1's rmse: 3171.56\tvalid_1's l2: 1.00588e+07\n",
      "Early stopping, best iteration is:\n",
      "[502]\ttraining's rmse: 1921.84\ttraining's l2: 3.69345e+06\tvalid_1's rmse: 3171.18\tvalid_1's l2: 1.00564e+07\n"
     ]
    },
    {
     "data": {
      "text/html": [
       "<style>#sk-container-id-1 {color: black;}#sk-container-id-1 pre{padding: 0;}#sk-container-id-1 div.sk-toggleable {background-color: white;}#sk-container-id-1 label.sk-toggleable__label {cursor: pointer;display: block;width: 100%;margin-bottom: 0;padding: 0.3em;box-sizing: border-box;text-align: center;}#sk-container-id-1 label.sk-toggleable__label-arrow:before {content: \"▸\";float: left;margin-right: 0.25em;color: #696969;}#sk-container-id-1 label.sk-toggleable__label-arrow:hover:before {color: black;}#sk-container-id-1 div.sk-estimator:hover label.sk-toggleable__label-arrow:before {color: black;}#sk-container-id-1 div.sk-toggleable__content {max-height: 0;max-width: 0;overflow: hidden;text-align: left;background-color: #f0f8ff;}#sk-container-id-1 div.sk-toggleable__content pre {margin: 0.2em;color: black;border-radius: 0.25em;background-color: #f0f8ff;}#sk-container-id-1 input.sk-toggleable__control:checked~div.sk-toggleable__content {max-height: 200px;max-width: 100%;overflow: auto;}#sk-container-id-1 input.sk-toggleable__control:checked~label.sk-toggleable__label-arrow:before {content: \"▾\";}#sk-container-id-1 div.sk-estimator input.sk-toggleable__control:checked~label.sk-toggleable__label {background-color: #d4ebff;}#sk-container-id-1 div.sk-label input.sk-toggleable__control:checked~label.sk-toggleable__label {background-color: #d4ebff;}#sk-container-id-1 input.sk-hidden--visually {border: 0;clip: rect(1px 1px 1px 1px);clip: rect(1px, 1px, 1px, 1px);height: 1px;margin: -1px;overflow: hidden;padding: 0;position: absolute;width: 1px;}#sk-container-id-1 div.sk-estimator {font-family: monospace;background-color: #f0f8ff;border: 1px dotted black;border-radius: 0.25em;box-sizing: border-box;margin-bottom: 0.5em;}#sk-container-id-1 div.sk-estimator:hover {background-color: #d4ebff;}#sk-container-id-1 div.sk-parallel-item::after {content: \"\";width: 100%;border-bottom: 1px solid gray;flex-grow: 1;}#sk-container-id-1 div.sk-label:hover label.sk-toggleable__label {background-color: #d4ebff;}#sk-container-id-1 div.sk-serial::before {content: \"\";position: absolute;border-left: 1px solid gray;box-sizing: border-box;top: 0;bottom: 0;left: 50%;z-index: 0;}#sk-container-id-1 div.sk-serial {display: flex;flex-direction: column;align-items: center;background-color: white;padding-right: 0.2em;padding-left: 0.2em;position: relative;}#sk-container-id-1 div.sk-item {position: relative;z-index: 1;}#sk-container-id-1 div.sk-parallel {display: flex;align-items: stretch;justify-content: center;background-color: white;position: relative;}#sk-container-id-1 div.sk-item::before, #sk-container-id-1 div.sk-parallel-item::before {content: \"\";position: absolute;border-left: 1px solid gray;box-sizing: border-box;top: 0;bottom: 0;left: 50%;z-index: -1;}#sk-container-id-1 div.sk-parallel-item {display: flex;flex-direction: column;z-index: 1;position: relative;background-color: white;}#sk-container-id-1 div.sk-parallel-item:first-child::after {align-self: flex-end;width: 50%;}#sk-container-id-1 div.sk-parallel-item:last-child::after {align-self: flex-start;width: 50%;}#sk-container-id-1 div.sk-parallel-item:only-child::after {width: 0;}#sk-container-id-1 div.sk-dashed-wrapped {border: 1px dashed gray;margin: 0 0.4em 0.5em 0.4em;box-sizing: border-box;padding-bottom: 0.4em;background-color: white;}#sk-container-id-1 div.sk-label label {font-family: monospace;font-weight: bold;display: inline-block;line-height: 1.2em;}#sk-container-id-1 div.sk-label-container {text-align: center;}#sk-container-id-1 div.sk-container {/* jupyter's `normalize.less` sets `[hidden] { display: none; }` but bootstrap.min.css set `[hidden] { display: none !important; }` so we also need the `!important` here to be able to override the default hidden behavior on the sphinx rendered scikit-learn.org. See: https://github.com/scikit-learn/scikit-learn/issues/21755 */display: inline-block !important;position: relative;}#sk-container-id-1 div.sk-text-repr-fallback {display: none;}</style><div id=\"sk-container-id-1\" class=\"sk-top-container\"><div class=\"sk-text-repr-fallback\"><pre>LGBMRegressor(n_estimators=1000)</pre><b>In a Jupyter environment, please rerun this cell to show the HTML representation or trust the notebook. <br />On GitHub, the HTML representation is unable to render, please try loading this page with nbviewer.org.</b></div><div class=\"sk-container\" hidden><div class=\"sk-item\"><div class=\"sk-estimator sk-toggleable\"><input class=\"sk-toggleable__control sk-hidden--visually\" id=\"sk-estimator-id-1\" type=\"checkbox\" checked><label for=\"sk-estimator-id-1\" class=\"sk-toggleable__label sk-toggleable__label-arrow\">LGBMRegressor</label><div class=\"sk-toggleable__content\"><pre>LGBMRegressor(n_estimators=1000)</pre></div></div></div></div></div>"
      ],
      "text/plain": [
       "LGBMRegressor(n_estimators=1000)"
      ]
     },
     "execution_count": 19,
     "metadata": {},
     "output_type": "execute_result"
    }
   ],
   "source": [
    "# 학습을 진행합니다.\n",
    "# 비교를 위해 %%time을 이용해 학습시간을 측정합니다.\n",
    "\n",
    "\n",
    "gbm.fit(holdout_X_train, holdout_Y_train,                                                  # 학습 데이터를 입력합니다.\n",
    "        eval_set=[(holdout_X_train, holdout_Y_train), (holdout_X_valid, holdout_Y_valid)], # 평가셋을 지정합니다.\n",
    "        eval_metric ='rmse',                                                               # 평가과정에서 사용할 평가함수를 지정합니다.\n",
    "        callbacks=[lgb.early_stopping(stopping_rounds=10),                                 # 10번의 성능향상이 없을 경우, 학습을 멈춥니다.\n",
    "                   lgb.log_evaluation(period=10, show_stdv=True)]                          # 매 iteration마다 학습결과를 출력합니다.\n",
    ")\n"
   ]
  },
  {
   "cell_type": "code",
   "execution_count": 20,
   "metadata": {
    "colab": {
     "base_uri": "https://localhost:8080/"
    },
    "executionInfo": {
     "elapsed": 430,
     "status": "ok",
     "timestamp": 1696319293187,
     "user": {
      "displayName": "이동빈",
      "userId": "02086753221575393526"
     },
     "user_tz": -540
    },
    "id": "SG5TTiFjKd5N",
    "outputId": "3d5c4d10-8de9-4ba4-f1e1-acd3009b153f"
   },
   "outputs": [
    {
     "data": {
      "text/plain": [
       "['holdout_gbm.pkl']"
      ]
     },
     "execution_count": 20,
     "metadata": {},
     "output_type": "execute_result"
    }
   ],
   "source": [
    "# 학습한 모델을 저장합니다.\n",
    "\n",
    "joblib.dump(gbm, 'holdout_gbm.pkl')"
   ]
  },
  {
   "cell_type": "code",
   "execution_count": 21,
   "metadata": {
    "id": "RAOllZECdl94"
   },
   "outputs": [],
   "source": [
    "# 저장한 모델을 불러옵니다.\n",
    "\n",
    "gbm_trained = joblib.load('holdout_gbm.pkl')"
   ]
  },
  {
   "cell_type": "code",
   "execution_count": 22,
   "metadata": {
    "colab": {
     "base_uri": "https://localhost:8080/"
    },
    "executionInfo": {
     "elapsed": 6,
     "status": "ok",
     "timestamp": 1696319293187,
     "user": {
      "displayName": "이동빈",
      "userId": "02086753221575393526"
     },
     "user_tz": -540
    },
    "id": "j0OF726Tn7OI",
    "outputId": "38d3fc8d-0c59-4cbb-f873-925f99f8c650"
   },
   "outputs": [
    {
     "name": "stdout",
     "output_type": "stream",
     "text": [
      "Test rmse : 3496.5261242582365\n"
     ]
    }
   ],
   "source": [
    "# 불러온 모델을 통해 추론을 진행합니다.\n",
    "# 이후, Test set에 대한 rmse를 측정합니다.\n",
    "\n",
    "predicts = gbm_trained.predict(X_test)\n",
    "RMSE = mean_squared_error(Y_test, predicts)**0.5\n",
    "print(f\"Test rmse : {RMSE}\")"
   ]
  },
  {
   "cell_type": "markdown",
   "metadata": {
    "id": "jzRhGpuaipy_"
   },
   "source": [
    "- Holdout 학습의 최종결과는 아래와 같습니다.\n",
    "  - Training Time : 29.9s\n",
    "  - Train RMSE : 2097.48\n",
    "  - Valid RMSE : 3015.71\n",
    "  - Test RMSE : 3487.40"
   ]
  },
  {
   "cell_type": "markdown",
   "metadata": {
    "id": "BYtO6MTRLbDj"
   },
   "source": [
    "- Valid RMSE와 Test RMSE의 차이가 크게 나는 모습을 확인할 수 있습니다.\n",
    "- Random하게 Train/valid의 Split을 진행했기에 Test셋에 대해서는 적합하지 않은 Valid셋이 구성되었다는 점을 알 수 있습니다."
   ]
  },
  {
   "cell_type": "markdown",
   "metadata": {
    "id": "bBb7X--cdl94"
   },
   "source": [
    "#### 📚 자료\n",
    "- [train_test_split - Scikit-Learn 공식문서](https://scikit-learn.org/stable/modules/generated/sklearn.model_selection.train_test_split.html)"
   ]
  },
  {
   "cell_type": "markdown",
   "metadata": {
    "id": "b43mklucP0CK"
   },
   "source": [
    "### 2-2 K-Fold\n"
   ]
  },
  {
   "cell_type": "markdown",
   "metadata": {
    "id": "nXJcopU6P0CL"
   },
   "source": [
    "#### 📝 설명 : (2-2)\n",
    "\n",
    "- K번의 Holdout으로 데이터를 분리하는 방법입니다.\n",
    "- K-1개를 학습 세트로, 1개를 검증 세트로 사용하며 동일한 Fold가 없도록 해야합니다.\n",
    "- 최적의 학습,검증 Fold셋을 찾아내거나 모델들의 결과를 앙상블해서 사용합니다\n",
    "\n",
    "![image.png](data:image/png;base64,iVBORw0KGgoAAAANSUhEUgAABY4AAALACAYAAAA0Z+Z/AAAKr2lDQ1BJQ0MgUHJvZmlsZQAASImVlwdUU+kSgP970xstIdIJvQnSCSAlhBZ6bzZCEiCUGBOCihVEXIEVRUQEFEFXRRRcCyBrxYJtUSzYXZBFQF0XC6Ki8i5wCLv7znvvvDlnznx3Mv/M/Pf8f85cACg0rlicASsBkCnKkkT4eTHi4hMYuAGAAySgBNQBkcuTillhYUEAkWn7d/nYDaAJe8dyIte///5fRZkvkPIAgMIQTuJLeZkIH0d0mCeWZAGA2ov4DZZmiSf4CsI0CdIgwk8mOGWKhyc4aZLR6MmYqAg2wmoA4MlcriQFALIh4mdk81KQPGRvhK1FfKEIYeQZuGdmLuYjjNQFpkiMGOGJ/Mykv+RJ+VvOJHlOLjdFzlN7mRS8t1AqzuAu/z9fx/+WzAzZdA1jRMmpEv8IxCJ9QQ/SFwfKWZQUEjrNQv5k/CSnyvyjp5knZSdMM5/rHShfmxESNM3JQl+OPE8WJ2qaBVKfyGmWLI6Q10qWsFnTzJXM1JWlR8v9qQKOPH9OalTsNGcLY0KmWZoeGTgTw5b7JbIIef8CkZ/XTF1f+d4zpX/Zr5AjX5uVGuUv3zt3pn+BiDWTUxon740v8PaZiYmWx4uzvOS1xBlh8nhBhp/cL82OlK/NQg7kzNow+TtM4waETTMIAn6AAaIRGwUiAAvEAg7wBj5ZgmUTZxSwF4uXS4QpqVkMFnLLBAyOiGc1m2FrbWsHwMSdnToS7+mTdxGiX5vxrbcHwPXq+Pj4yIwvsASAY54AKFXM+IypyPMoAO27eTJJ9pRv4joBDCACRUBD/g10gAEwBZbAFjgCV+AJfEAACEX6jQcLAQ+kgkwgAUvBSpALCkAR2Ay2gUpQA/aAA+AwOApawClwHlwG18EtcA88Bj2gH7wCw+AjGIMgCAdRICqkDulCRpAFZAsxIXfIBwqCIqB4KBFKgUSQDFoJrYOKoFKoEqqF6qGfoZPQeegq1AU9hHqhIegd9AVGwWSYBmvDxvAcmAmz4EA4Cl4Ap8BL4Bw4H94EV8B18CG4GT4PX4fvwT3wK3gEBVAkFB2lh7JEMVFsVCgqAZWMkqBWowpR5ag6VCOqDdWBuoPqQb1GfUZj0VQ0A22JdkX7o6PRPPQS9Gp0MboSfQDdjL6IvoPuRQ+jv2MoGC2MBcYFw8HEYVIwSzEFmHLMPswJzCXMPUw/5iMWi6VjTbBOWH9sPDYNuwJbjN2JbcKew3Zh+7AjOBxOHWeBc8OF4ri4LFwBbgfuEO4s7jauH/cJT8Lr4m3xvvgEvAifhy/HH8Sfwd/GD+DHCEoEI4ILIZTAJywnlBD2EtoINwn9hDGiMtGE6EaMIqYRc4kVxEbiJeIT4nsSiaRPciaFk4SktaQK0hHSFVIv6TNZhWxOZpPnk2XkTeT95HPkh+T3FArFmOJJSaBkUTZR6ikXKM8onxSoClYKHAW+whqFKoVmhdsKbxQJikaKLMWFijmK5YrHFG8qvlYiKBkrsZW4SquVqpROKt1XGlGmKtsohypnKhcrH1S+qjyoglMxVvFR4avkq+xRuaDSR0VRDahsKo+6jrqXeonaT8PSTGgcWhqtiHaY1kkbVlVRtVeNUV2mWqV6WrWHjqIb0zn0DHoJ/Si9m/5llvYs1izBrI2zGmfdnjWqpqnmqSZQK1RrUrun9kWdoe6jnq6+Rb1F/akGWsNcI1xjqcYujUsarzVpmq6aPM1CzaOaj7RgLXOtCK0VWnu0bmiNaOto+2mLtXdoX9B+rUPX8dRJ0ynTOaMzpEvVddcV6pbpntV9yVBlsBgZjArGRcawnpaev55Mr1avU29M30Q/Wj9Pv0n/qQHRgGmQbFBm0G4wbKhrGGy40rDB8JERwYhplGq03ajDaNTYxDjWeINxi/GgiZoJxyTHpMHkiSnF1MN0iWmd6V0zrBnTLN1sp9ktc9jcwTzVvMr8pgVs4WghtNhp0TUbM9t5tmh23ez7lmRLlmW2ZYNlrxXdKsgqz6rF6s0cwzkJc7bM6Zjz3drBOsN6r/VjGxWbAJs8mzabd7bmtjzbKtu7dhQ7X7s1dq12b+0t7AX2u+wfOFAdgh02OLQ7fHN0cpQ4NjoOORk6JTpVO91n0phhzGLmFWeMs5fzGudTzp9dHF2yXI66/Olq6ZruetB1cK7JXMHcvXP73PTduG61bj3uDPdE993uPR56HlyPOo/nngaefM99ngMsM1Ya6xDrjZe1l8TrhNco24W9in3OG+Xt513o3emj4hPtU+nzzFffN8W3wXfYz8Fvhd85f4x/oP8W//scbQ6PU88ZDnAKWBVwMZAcGBlYGfg8yDxIEtQWDAcHBG8NfhJiFCIKaQkFoZzQraFPw0zCloT9Eo4NDwuvCn8RYROxMqIjkhq5KPJg5Mcor6iSqMfRptGy6PYYxZj5MfUxo7HesaWxPXFz4lbFXY/XiBfGtybgEmIS9iWMzPOZt21e/3yH+QXzuxeYLFi24OpCjYUZC08vUlzEXXQsEZMYm3gw8Ss3lFvHHUniJFUnDfPYvO28V3xPfhl/SOAmKBUMJLsllyYPprilbE0ZSvVILU99LWQLK4Vv0/zTatJG00PT96ePZ8RmNGXiMxMzT4pUROmii4t1Fi9b3CW2EBeIe5a4LNm2ZFgSKNknhaQLpK1ZNGQ4uiEzla2X9Wa7Z1dlf1oas/TYMuVlomU3lpsv37h8IMc356cV6BW8Fe0r9VbmruxdxVpVuxpanbS6fY3Bmvw1/Wv91h7IJeam5/6aZ51XmvdhXey6tnzt/LX5fev91jcUKBRICu5vcN1Q8wP6B+EPnRvtNu7Y+L2QX3ityLqovOhrMa/42o82P1b8OL4peVNniWPJrs3YzaLN3Vs8thwoVS7NKe3bGry1uYxRVlj2YduibVfL7ctrthO3y7b3VARVtO4w3LF5x9fK1Mp7VV5VTdVa1RurR3fyd97e5bmrsUa7pqjmy27h7ge1frXNdcZ15Xuwe7L3vNgbs7fjJ+ZP9fs09hXt+7ZftL/nQMSBi/VO9fUHtQ6WNMANsoahQ/MP3Trsfbi10bKxtoneVHQEHJEdeflz4s/dRwOPth9jHms8bnS8+gT1RGEz1Ly8ebgltaWnNb6162TAyfY217YTv1j9sv+U3qmq06qnS84Qz+SfGT+bc3bknPjc6/Mp5/vaF7U/vhB34e7F8IudlwIvXbnse/lCB6vj7BW3K6euulw9eY15reW64/XmGw43Tvzq8OuJTsfO5ptON1tvOd9q65rbdea2x+3zd7zvXL7LuXv9Xsi9ru7o7gf359/vecB/MPgw4+HbR9mPxh6vfYJ5UvhU6Wn5M61ndb+Z/dbU49hzute798bzyOeP+3h9r36X/v61P/8F5UX5gO5A/aDt4Kkh36FbL+e97H8lfjX2uuAP5T+q35i+Of6n5583huOG+99K3o6/K36v/n7/B/sP7SNhI88+Zn4cGy38pP7pwGfm544vsV8GxpZ+xX2t+Gb2re174Pcn45nj42KuhDs5CqAQhZOTAXi3HwBKPADUWwAQ503N1JMCTX0HTBL4Tzw1d0+KIwBHkBkkFNGJMa5hLQBG5wBQRHRiLIryBLCdnVyn59/JWX1CdJBvhV25AL2F+Fu37BP4h0zN8X/p+58WyLP+zf4LlZQKKjWd6/IAAAA4ZVhJZk1NACoAAAAIAAGHaQAEAAAAAQAAABoAAAAAAAKgAgAEAAAAAQAABY6gAwAEAAAAAQAAAsAAAAAA26NGfgAAQABJREFUeAHs3QmUXFWd+PH7qnpLJ52ELJ2dBAhkky0hGwwhQBJABxj/yBFQBxTlr6OiDiiCmVHHYVzmf4ZtzowMwjCIHAYEBVQggDRrEiDIngjIGpIQsneSXqve/96q/r267/Wrrdeqet/Hae7y7lvup95L1fv17VtKsSCAAAIIIIAAAggggAACCCCAAAIIIIAAAggggAACCCCAAAIIIIAAAggggAACCCCAAAIIIIAAAggggAACCCCAAAIIIIAAAggggAACCCCAAAIIIIAAAggggAACCCCAAAIIIIAAAggggAACCCCAAAIIIIAAAggggAACCCCAAAIIIIAAAggggAACCCCAAAIIIIAAAggggAACCCCAAAIIIIAAAggggAACCCCAAAIIIIAAAggggAACCCCAAAIIIIAAAggg0G8CTr/tmR1XugDXTqW/wvSv0gXcHnSQ+74HaGyCAAIIIIAAAggggAACCCCAQD8L9OQZP+8pEQTIS0SDLgGuFS4FBCpfIPhGw31f+a85PUQAAQQQQAABBBBAAAEEEKg8geDzfY96SFCgR2yR2qjQa6TQdpHCo7MIlJhAn7xxWH3ivrcwyCKAAAIIIIAAAggggAACCCAwQAKFPt8X2i70tHnoD2WhUgvkujZyrQMPAQTKS8B+Ewne27nWlVcvOVsEEEAAAQQQQAABBBBAAAEEKlvAfoYP9jTXumBbrxwMEngryERWINs1EawPliMLRscRKFMB+01D7me7znQrWC/lMu0yp40AAggggAACCCCAAAIIIIBARQoEn+eDZel0tnpZ70sJAvg4Il8Iux7sOjtvsILlyAMCgEAZCcibhdzHUg52IbheysF2lBFAAAEEEEAAAQQQQAABBBBAYOAFgs/zdtnOy5mF1ck6X0oAwMcR6ULwWrDLkpdUoILlfPWynhQBBAZOoNA3BNPO3NPSXvLZ7vNgDwptF9yOMgIIIIAAAggggAACCCCAAAII5BeQ5/WwlvY6yUtq2tv5sHLYPhkxGqoSvcpgwEfK2VIjJOuC+ejp0WMEyktA3izMPSz5Qntgb2P/G1Do9rRDAAEEEEAAAQQQQAABBBBAAIG+EbCf6cPyUhdM5ehSL+VuKQ/+3UgiVxG8BqRsp3beAAXLdl3kAOkwAmUkIG8K5h6WvEmlLKnpkuTt1K6XvElZEEAAAQQQQAABBBBAAAEEEEBg4ATkmd4cUfJhaVidfZay3q7z8lVejkwUBUxAyF6kbNJu+a+O+P0JtWrYSrOBo2JL7A3JI4BAeQokVPuV5syv3n2ySc19L28aqfx5Z65fMqR20hWOLjmOfd/LPxFmaxYEEEAAAQQQQAABBBBAAAEEEBhMgWSy/Z/N8W+844AfZTkP87xvP/ebZsGyb1Oe/H0ckSvYr7/kTSo/BiSV//sRj60iWBy564MOR0igU7X9yzW7l/1Yd9kLHF949o4/OLGq49P/DOj/m+ixt9h5r5IMAggggAACCCCAAAIIIIAAAggMooAJIOvgsQkim+d7ecaXvF2Ws5Q6KXtpzMuRiZqAHfWRvEnlx3ik8t8c8cg/EDSO2uVBf6MmUKVqr/jW8KY/6H6b94XY+f9n0xXKiR3vWu8zrmu/l9j5qGnRXwQQQAABBBBAAAEEEEAAAQRKUyAWq1n5xU83r9Jn1y3G11VnTtysk8XOS10qzbrC14pCJQrYr73JS1nyJo3poPHKuKr5XiUC0CcEEOgusD359hnJZSceW1097Lupfxa6Rhk7Xe83jDrubkYNAggggAACCCCAAAIIIIAAAqUmsK9l06m33XPoY/q8kvrHjP6SH3Oqdl7KJvUtjDj2cUSmIEFi0+Fg3pTtn8ig0FEEEFBqpDP5smSy0/FGGvtGGet3Fl+ZUcdcMwgggAACCCCAAAIIIIAAAgiUokB93TgzENSO8UleTteUZbHzUqf4cjyPItIZuXDs1PxSwWG0caSvCzofUYHqmmGXua7+haQTS/9mSceHXf2vQ/pdJP3/iNLQbQQQQAABBBBAAAEEEEAAAQTKScA8xJsYnxl1HFzyjgZjxHGQrPLLdtTHzts9l3pJ7XXkEUCgggXiTvVxelhxuoeSBvrLqOMACEUEEEAAAQQQQAABBBBAAAEESkzAceL6y+67xoBl0uBZ2rE/O59qx4jjIFf0yuaiCPtJjTiOHgc9RgABM02Fo3/S4WOT1wujjrkwEEAAAQQQQAABBBBAAAEEECg3AfNILyOOU4/3gQ7kHHXMiOOAFkUviGwouD64IBCIqkBqtLGJFud8D4mqDv1GAAEEEEAAAQQQQAABBBBAoBwEZGCoDBot6pwJDBbFVVGNw37LYF9EYesrCoDOIIBAuICZiiIz3jiTt1v7p6uw15BHAAEEEEAAAQQQQAABBBBAAIESEbDje3bczz49u41dz4hSn0a0C/ZFIheSXRdtHXqPQKQEukYZ+0YbM/I4UpcAnUUAAQQQQAABBBBAAAEEEKgUAYnzSX+CZanvljLiuBtJpCrkQpEAsZ3KukiB0FkEENACZsSxNerYm67CqyOIzHWCAAIIIIAAAggggAACCCCAQBkISHzPTuW0pU7K3VICx91IKrrCXBD5FruNnc+3HesRQKBCBGSainR3CgkSF9KmQnDoBgIIIIAAAggggAACCCCAAALlI1BsbM/XnsBx+bzQ/X2m9oVh8na5v4/N/hFAoOQE/MFgfzC55E6WE0IAAQQQQAABBBBAAAEEEEAAgXCBHsf5CByHg0a1NnghETyO6pVAvyMuYAWNvekpIk5C9xFAAAEEEEAAAQQQQAABBBAoPwE7tidxP7suZ48IHOfkifTKgi+iSCvReQQQQAABBBBAAAEEEEAAAQQQQAABBEpXoMcxPgLHpfuicmYIIIDA4AnokcYsCCCAAAIIIIAAAggggAACCCAQXQECx9F87fP9pkHWSxpNJXqNAAI5BVyCyzl9WIkAAggggAACCCCAAAIIIIDAIAtIbE/SbKcTup7AcTYu6hFAAIGICkhAWNKIMtBtBBBAAAEEEEAAAQQQQAABBCpVIDRQHOwsgeOgSDTLBV0s0aSh1wggkBFg+oqMBTkEEEAAAQQQQAABBBBAAAEEKluAwHFlv770DgEEEEAAAQQQQAABBBBAAAEEEEAAAQQQKFqAwHHRZGyAAAIIIIAAAggggAACCCCAAAIIIIAAAghUtgCB48p+fekdAggggAACCCCAAAIIIIAAAggggAACCCBQtACB46LJ2AABBBBAAAEEEEAAAQQQQAABBBBAAAEEEKhsAQLHlf360jsEEEAAAQQQQAABBBBAAAEEEEAAAQQQQKBoAQLHRZOxAQIIIIAAAggggAACCCCAAAIIIIAAAgggUNkCBI4r+/WldwgggAACCCCAAAIIIIAAAggggAACCCCAQNECBI6LJmMDBBBAAAEEEEAAAQQQQAABBBBAAAEEEECgsgUIHFf260vvEEAAAQQQQAABBBBAAAEEEEAAAQQQQACBogUIHBdNxgYIIIAAAggggAACCCCAAAIIIIAAAggggEBlCxA4ruzXl94hgAACCCCAAAIIIIAAAggggAACCCCAAAJFCxA4LpqMDRBAAAEEEEAAAQQQQAABBBBAAAEEEEAAgcoWIHBc2a8vvUMAAQQQQAABBBBAAAEEEEAAAQQQQAABBIoWIHBcNBkbIIAAAggggAACCCCAAAIIIIAAAggggAAClS1A4LiyX196hwACCCCAAAIIIIAAAggggAACCCCAAAIIFC1QVfQWbNAvAtNPO622dldySkIlJ6mkszfZ2f7u6+uatvXLwdgpAggggAACCCCAAAIIIIAAAggggAACCCCQQ6DPAsczjls+MZ5UTyRdVZPjeFlXxRzn1tdWr7o8a4MerJhz7MnzE8nY3bJpXV3H4S80Ne2Sck/SWYuX3+K66kSzraPcn69f8/CVPdmPbDNn4cmzXSf2bXdn5wXJ1D7N/1wVr65Wsxcvf0sf68ctdR23vtPU1CrbkFaWwPQlI9VFd8/xOvXAle+qP1610Svny3z1gSPU1GMaUs1cfRFd1vhUvk2KWv+9l+erERPSt/Ubj+1SN5z1auj2drvtb7eqn85fF9qukMqjPzVWnfvzw7ymP5m3Tu14l1vAAyGDAAIIIIAAAiUvcMnKWnXozHivz/PJpk516y/ae72fvtrBRd+oVXPnp/uln/3UV/92v9LPLCwIIIAAAgggUIECfRY4rupMjkw6sYOdniK56sCebpptu4QbH6eDu5NlfVtz7RCd71XgWH8qmuMop2ufsUmy756ksxYs+0TScX6XbVv9Aexgve6Gurbqc+fNO/30devu25+tLfXlK7DjnVYVq8rcOcd/ZVLBgeO6hriatnC4cro2b9ub6HOIhrHV3vkN7woghx3Ebjd0THVYk4LrRh9U5x3TbFR/QJUOHBe8OQ0RQAABBBBAAIFBFxg9NqZivY8bq1GjM58TB71T+gTGjHW8fjHvYSm8IpwDAggggAAC/SfAe33/2ebc86xFp8xVsexBY3tjPQD5pP3VrbfadeQrR2DHe62q+cPMKJKGxmo16sC6gjq4+MIJXtDYbLDhoZ0FbUcjBBBAAAEEEEAAAQQQQAABBBBAAAEEcgn02Yjj4EF0sPPBZMx5LFifrey6ydXZ1lVivaOSP7D/ost4ua57XW1951MdLfGJiZhzkuM611l9/+TsRSsWvrZm1VqrjmyFCLx0z3Z13EUTvN4svXiSuvvSv3jlbJljzmn0rWq6tvApLnwb9kGh+aMONXx8ekqLne8zrUQfkLILBBBAAAEEEChjgaaHOtXsw8PH6UyeGlPDR2RGEn+42VXbPzIT13VfHtP7KaVl+0eumjItfUad+tSYpqKUXh3OBQEEEEAAgb4V6LfAcVI5d29Yveq/+vZ0K2NvM447dYabSJxu9eb1RNWQs//81L3NXXVmOo3XZi9cts91nJusdhfr/GesMtkKEXhUB3ztwPHhp4/OGziuqo2pxhn1noCZpuL9P+31ygOdufLwZwf6kBwPAQQQQAABBBAoWYFVv+tQq7JMSveZC2vUCcsyj2K/v7tDrXmytALE2WCvv6Yt2yrqEUAAAQQQQKDCBMJ/BV5hnSy17sQ7E/Ptc4q57oVW0Nhb9drah//bjESWiqRyl0metLIEdm1s809XMa5GjZxcm7OTCz47jmkqcgqxEgEEEEAAAQQQQAABBBBAAAEEEECgpwJlFTietnRp3bx583r3rVtFSOkvpMsM5yxiu7xNHf8XAdZ1Dnk+2zbJmHpa1uk/ZmucM+fs9FwAUklaMQJmugp7OfHiyXaxW37B58b56gqZpsJ8mV5VXWnd9rVD46p6SGmdkw+WAgIIIIAAAgggUCYC9UP113hnZsDIe9ZV+smqbkgRG+TdY2ENzHnG+PhXGBatEEAAAQQQGESBzN9HDeJJZDv09NNOq63a2Xmu/ihzvp4PeLbTqhr3V49SMxct36o/Et3jOupmPR2GF1jNtp9C6w+et2xETbVzod73+Xq2riP2q1Y1a9Fyvbn7vHKdW9YfOPLf1fu9//Ix3ZcR9jmtW3fffrts5x3X/UipzIe5xNAdDXq9P8Job0C+bAWC01UcceZo9ZvvhM9z7OgP2hM/NtTra7ZpKo7+1Fh10t9PViMn1qq64VXKbGcWV0+h19GaUB9uaFG//uab6oOXej/FxbnXH6amLRye2v9fntit7vj6G6l82P8Wnj9eLf/OFDViQq3vnMzcyPde8XbYJtQhgAACCCCAAAKRF5h8YEx9+Vvpz0/m89w1P25Vs4+Iq+NPrlITJ8WUCQSbZfs2V912Y7t6+YVEuqLr/wdOi6lzLqhRjeMdZYK3VV1Pg2aeYjNf8Z5drvrN7e3qmaf929k7OfGUKrXs4+kD7W121Y9Xdv9ui7A2Z51XrY6cF1djGvV5dh23tcVVzz+TUHf8skPt36dPggUBBBBAAAEESkqgZAPHZh5gZ2fnwzpkmhp2mQmdpsKo+hvB3C/paRy+pAO7N9Z37PjKunXrOnojO3PRqdOUSjyRPl7wQ4szV8du585+f/cCVzl1vTlO17bp6Jou6CNtzbU/fbwWu+8qVk3gOBdYGa+T6Soa9DQVZjHpCB3w3b2p+zxyR501VsWqMlfGhof9v9CYfNQwdeEdc1RDY9fTQ8DFBJBr6uNqytxh6luPH6WevnGzuvuS8CB1YNOsxVkrRqn6A9L/pMStcwtu8OX7DlfTj/f97iTVxJzTqKl16vxbZ6n318l038GtKSOAAAIIIIAAAtEVOPhQ/R0XOugriwkCH350XIpeOnqMo75+Wa16+A+dOijbrqr1R8Lv/qhOTdFfyhe2mFHKps3osY764tdr1Sc+mVTf/3b3gLDZ9oi5cTW2MX0OY3T7sCXY5nJ97IOmdz+2Ge187AlV6qj5cfVDfbydO4LPYWF7pw4BBBBAAAEEBkqg+7v3QB05x3E+duxJh8QSnc/qjyG5/1Y/vY8LW6pH9epL+Mz0DzEn8Ui+47nKPU8fcnaOUy9olT6OHXxuz7WR4+px1tbixlXuiW+ttmTLT+DF327znfSJF0/ylaVw7BcmSDaVNl2z0Vc2AeFsQWNfw67CYr0/E2zu7+Wsq6aHBo3t45oHlwOPMb8fYUEAAQQQQAABBBDIJRAWNLbbv/JieuSwCdBmCxrb7SU/YXJMnX5W+AAEaVNoaj7bhQWN7e3r6x11+T/bj0j2WvIIIIAAAgggMFgC/Tbi2Ikl6wuZj7ihocFtamrSfxiVWZLJqn/SY3G9yJEZlasDqLc5yl2XdNwhjhP7hHLdM2ULvf6CGQtPueXPax98VOqKSRMNu87To5cPDmxzh54m4gH9d/Ttrps80nWc8/VnHj3S2V70ZBk9Whw9pDT92/SYo3IGjnVkv1P/FZq3xNvdfnvNvIOQGTSBR6/5QP3V/53oHf+Ivxmjfvvdt7yyZA6c590eKmyaitU3bVGnXD5VDRtbnVq/5uYt6t1nmtWmV/aq+lHV6tATRqoTvzlZmTmPzWI+0H/iB9PU9X/zihyiz1Mzt/LCwLzMiQ43Nbr4/Rf2qmGjq9X0JSNSI62DBzfnx4IAAggggAACCCAQLvDi8wm1/uWEamhw1GI9gnfUaEf98cFO9dpL6cBx8x5XmTZH6tHCSV313Bq97uWkevetZOpz4BQ9hcUnPlntG8188mlV6r67evVHnb6TNdNhPLc6oTZvSqZGNy9eUqVGHpD5kGfyRx0TVy88lz5n38YUEEAAAQQQQGBQBPovCOk6V+n5iK/K16uWNmWiYodIuzmLT5medJNmZG/X4ja7ydiiDc+seltqdHrDrEUrVurg64+kLuYkv63zPQocO477BT2HsexKp+7K9WsevtKq+NWshctv0NNVvG7V9TirRy57I731Byhf0Dy404STTOo5l73qZFXC29arJFMxAmZaij1b2tXw8enpKkw6YkKN2r058/uFWSsOUPGazDURnKZCMH5+xsvqoMXDlQki+5a3WtV7zzWrtf+zRf3jhgXelBcHHNi/ozwWf368dyxzPmZevn87/k96nmX/FN/fXjtXjZvRP99L6XOggAACCCCAAAIIVIDADde2qWd1QFaWe+7sUA3DHWWCxfbyi+va1MmnVqtHHuhQbb6/aVRq43tJtfrxTvWTfx+SCjqb7YboUcB9tST06X3/0ha1dUvmnH5ze0dqlPFBh2Qeb5auqCJw3Ffo7AcBBBBAAIE+EMi8S/fBznqyi6SrfH8fn0i6J/n248Yu+rM/aJxaPa6u/Sf6o8xTVtvTpi1dWnTky3wBnw4aHy/7MfscV9f5UylLun7tQ2/oEchfkHIv04LdHR3Vto/lJn0RbnsV+QoReCkwXcXSb/hnbDnuosyIZNPlx677ILTnW9bv7x40tlru3dahPnw9E7QtZmoLazcFZ2cuO8DX9oEr3+0WNDYN/uPjLyszEpkFAQQQQAABBBBAILfAtq2uL2gsrYNBY1NvgsV/+G33oLFsY9J1eiSyLOYvvswX6PXF8uC9Hb6gsezz+qv93+UxekzBj0myC1IEEEAAAQQQ6EeBkntn1nHSBXZ/xw1p/7VdlryZ3kKP1r1eyiYd0lpb9PzDsV2Jg+x96Kkwbg9OnSHr9ddK3CX5Xqb27BM5d+W6/kCxE/MHknNuzMqyFHj0Wn8g+Eg9XYW9HHJc5ovlzDQV7/Xii+Sat2T+/DDXF9rZx+9pvvEw/yjiR6/2z8ss+923vUNt/NNeKZIigAACCCCAAAIIZBH407OZQG+WJkVV2yOCzYZDhxa1edbGT/pnJvTa7djmqjYrdjwsMxub14YMAggggAACCAyeQP9NVaHUrXok7+/zdc1Vzoe+No4zRs9fnKrS/382WxDXNNCjldfrOYKtJTHKKhSUrXYSDcnMzBF6p07W6SjeXHv/npmLlm/VhwzMdVzQobxGeuoJferpPurf5Od8DeJuLKaD2d62sc54wUFnbyMyZSUQNl2FmbLCTGExbdFwVT0k8/uePz+yM2/fpi8ZmZqyYszBdalpL1IT2XVtNeVo34D/vPvqTYNqPcexLG37Enp+vcx1LfWSbnp1n5q6gCcH8SBFAAEEEEAAAQTCBD7cnP3zVFh7U2e++O7wo+Jq/ERHjRrjqHjmI5oa02gVsu2gyHrzaGdGRmdb9u11VW1t+qHO6fvDZzss9QgggAACCCBQgEDOoGUB22dtogfKPrFh7arbszbItsJ1veGUMVftyNYsVV8db1ZmwqyuRX8cGS75QtNE0vH/AVbMyTnUUX+k2aX33avAsQ4ae8M8dQQ5PZltlhPWExynv72sa32ixunbYQVZjkv14AqY6Sr+6suZKSlO+Nokdd/Kt9WSr2TqzBk2BUYn22d9zLmN6q//6aDUF+TZ9YOVN1+OJ0uiLfvDg2nTupvLXKxIEUAAAQQQQACBbAI7d+T+TGVvN/XgmLrgyzVq0pTMZzJ7/WDlzZf1sSCAAAIIIIBAaQqU1qcGbaQDs9VCpSdpyDm6NtaZ8K2POY4vyCr7yZUGt9HB6nwfXayIljUUONdBAuv0dBzWH2TlDhzrwcm1vs07ku2+MoWKFHj0Gv80DkedNTbVz8NOyswTnGuaiiPOGKPO+c/DSiZobE7ezJMni56CRbKhaaLTvz5P89B9UIkAAggggAACCCCQFhg5ylGX/bCu5ILGvD4IIIAAAgggUNoC/TbiuKfd1sHiXV2zOOhIk5vz7+iTKqn/aN+Kfbu5RwuHnZP+srl9dkTL7DOsndTp4FddJojln39Y2uRNXadZ2jjKzX085QyxQ2iJ2njOEdGyX9LyFti9uT01NYWZosIsIybUqEOXjlR1DZnfjeSapuIzN87wAbToEbxvNO1SO95rU3s/0gPeuy7iY784QY2aWvR3Svr2XWgh0Z65kuM11n0bsgO7n2a1HXQOaU4VAggggAACCCCAQA6Bb3y3VlVZT36deijM6+sTassmV+3a6eopxNIbz5itp7E4OvN5M8cuWYUAAggggAACERCwPj6URm8d19kt8//q6S780a/AKeoBxlN1BMyr1dM67PYKBWaSyt0fM+OcuxZ9/CmSD6bz5s2r3u+qg4P1xZZ1zG535pBOw/TTTqt98/777VHI3i61gR5qmuljZ7zFCzp7jchUpMCLerqK463pKs7/5SxfP7NNUzHpiGEqXp25pt98fJf6+Rmv+LaVgpn/eKACxx1tmT8QqB2a+4Fk9LSBCWaLAykCCCCAAAIIIFDJAuMnZn5pb+YUvuxrLao95Olj/74qAseVfCHQNwQQQAABBIoUyHyCKHLD/mvuvir71qGvxtnzT5kj5WAaU+4Kuy7Z3p71i+3sdna+KlblmxNAj2w8yV5v5/fVjJ5vl3ua1+OU37e3rdqR+Jhd9ufduVLW4eOt7zQ1tUqZtLIFmgLTVdijcM2Xy723Lvx3CDOXZ6azMEJ3XvxmVqjheiTzQC179ChqWcwXnxxynDeduVR76dQFRU9X7m1LBgEEEEAAAQQQQCAjYKapiFu/s3/soc7QoLHZonF8ZvBBZg/kEEAAAQQQQCCqAiUXONajhp+yXww3nrjFjMi160x+xsJTTtSB1K9Z9a+9vq5pm1VWTkJ/9Zy1ONXugVYxlX119YPmC/i8gLPe4IJZi5YtC7abN+/0esd1/ztY35Oy6yaf923nuP8Z1sc5i5afodt9Uto6jrNa8qSVLyDTVYT1NNc0FfZoY7Pt0DHetOG+XdWPqlLjZtT76sIKmalZ9LdPjut5oPkvT5rvlcwsF9w2yzcyWtacddV0VX9Ayf0xhJweKQIIIIAAAgggUFYC9hQV5sTrh2UPDs9bxGewsnpxOVkEEEAAAQT6WaDkAscbJo98UvfZC+Tq2U3n1uxM3DRj0fLjzFQRRxy7onHWwhXnOE7ydp+N4/ybr6wLSeV8aNe5jvvVOYtPmT5nztm+6Jf+iru7fO2U86vZi5efPXPByaPNMWcuXnHs/urWm3Wbw+x2Pc3/ee0jL+n5m5+Q7fVHt/nVOzt/MWvRKXPV2WfHzXHnLFzxKT2Nxq3SxqR6PuTr7DL5yhd44e6PQjuZbZoK03jTy/t823z+ttlq5GT/714mHzVMXfr03NDArW9jXWhtznxf5NDR1WrZpVNScy6bUcPFLGtv8d2OasiIKnXJU3PV0WePTZ3HxMOHKhM0Xvz58cXslrYIIIAAAggggAACOQS2bdUTAVrDaZacVKVmzLGGIOttG4Y76pKVtWpsY/agco5DsAoBBBBAAAEEKlSg9H6lfOedCXfRikt1kPReMdcfdc7TMarz9leP0tFg/alHf56xP9Lo6SXecvaM+KW0l7S2ynmvwx507KrP6S+/+5xq2GUC0978yW5n7DpVnbxcttP7btQfru5wYjG1PzZKx3itT1rSqLepE1upP8E9Zu3ms7pzn531vh6VqY+rg8Z6ldVLHWh+bfXDj1jtyUZA4LHrPlBL/m6Sr6epaSqeC5+mwjR87YEdqlPPJ1xVm47sNjRWq5WvzE99KV5HazI1mrd2mP9hwXeAQGHPljZl9iHLqSunKvPz6NUb1e9/8I5U500/erNFffDiXjXpyMx3XjYeNkR95oYZqZ+8O6ABAggggAACCCCAQI8ENm1MqklT0p8NY/pjoAkS79df3tKixxvU6a/qrh/q8GXEPZJlIwQQQAABBCpboMgxgwODsWHNqvt03PSbhRzNBI2rklUnvPrqnZkJVLs2fOnpVVt16PXm4H50SNb39/nr1z24WbnOucF2wbLebqO/To9V7uGy/ulVj+uNP1/Y5s5LbsL1pqwobBtaVYKAma7C/NhLrmkqTLtkwk3Na+xmvosutfmwsdXqgCm1yg4aJzvzX8K/+8d3UtsH/1dTX3jwWba96dz1ygS+8y0m8G0v/fG7G3v/5BFAAAEEEEAAgUoW+K9r21Vri/9zX329o0aPddRQPXWFfqZKLYn8H9MqmYm+IYAAAggggEBAoM8Cx51uvMXet/7wsdsuF5tfv/aha/SI3MX6M4xvzuPMftxm/RHnh8lEcsFLa+8PBHQzrVo7XB2Adv8jU6MH9DrKH4nTK9evXXW7Dk6dotv65x/u2tCcR9JJLNLFpq4qMxLZP2mrrCgw3bDmoZv1yZygmz8UvonbrL9I7/u1de0nbHjmke3hbaitdIHVN272umgCqI9elfVy99qt+9+t6v8d+7zav6PTq7MziXZXPf2LzWr1TVu86o5AsFZWvNG0S5ngsdnGXhKd/uCuHey1p7ewt9m9qU39bP7zqZHHdr3kTf9euneb+t3335GqVNq6J7wfvkYUEEAAAQQQQACBMhFo0aN97WXPHn/ZXmfng9vtbS5su816xPGlX2lR777t//wm+zafwd5+M6muutL/PdxtbdIik7ZaT33J8N3pIHWmfbY20qKjI9OH9pDjSTtSBBBAAAEEEBh4ga7fLQ/8gYs54vTjTxtb29k+TyXjwxIx1aqD0u80u81/2bh6tfWRJN8efxA7bPHjE2rc2PBER3xXapRxlk1mHHfqjFiic4rrOGP1nBHb47HYW/pL9N7M0rxPqg9bfNIkx41Pi7nOFOUmm924em+v2vdmcX3MeyryetupyZtfIEhq8mYoaSq9ZMQTvi8c1PUsZSYwfHyNOnTpSDVFz2u89Y0W9er9O5QJ4PZkMVNWTPjYUBWvctQbj+9WnXrqi54uIybWqkNPGKHGzx6a2oWZyuKle7apll0EiXtq2lfbbT1pmv6dlv5nQE9kHTOTWesfx/yYfyYk7ZpKR39pZ9dhJe2rs2A/CCCAAAIIINAfArV1Ss2cHVfTZ8ZUi36aevn5hHr/3Z5/puuPc2SfCCCAAAIIINA3AjfcPnSM3pP5myLzZi+pyZvf3Eoqv8UNpl1P/rolSyQEJLJjpyZP4DgSLz+dRKAwAQLHhTnRCgEEEEAAAQQQQAABBBBAAIFSFuht4NgEDFkQQAABBBBAAAEEEEAAAQQQQAABBBBAAAEEEPAECBx7FGQQQAABBBBAAAEEEEAAAQQQQAABBBBAAAEEjACBY64DBBBAAAEEEEAAAQQQQAABBBBAAAEEEEAAAZ8AgWMfBwUEEEAAAQQQQAABBBBAAAEEEEAAAQQQQAABAsdcAwgggAACCCCAAAIIIIAAAggggAACCCCAAAI+AQLHPg4KCCCAAAIIIIAAAggggAACCCCAAAIIIIAAAgSOuQYQQAABBBBAAAEEEEAAAQQQQAABBBBAAAEEfAIEjn0cFBBAAAEEEEAAAQQQQAABBBBAAAEEEEAAAQQIHHMNIIAAAggggAACCCCAAAIIIIAAAggggAACCPgECBz7OCgggAACCCCAAAIIIIAAAggggAACCCCAAAIIEDjmGkAAAQQQQAABBBBAAAEEEEAAAQQQQAABBBDwCRA49nFQQAABBBBAAAEEEEAAAQQQQAABBBBAAAEEECBwzDWAAAIIIIAAAggggAACCCCAAAIIIIAAAggg4BMgcOzjoIAAAggggAACCCCAAAIIIIAAAggggAACCCBA4JhrAAEEEEAAAQQQQAABBBBAAAEEEEAAAQQQQMAnQODYx0EBAQQQQAABBBBAAAEEEEAAAQQQQAABBBBAgMAx1wACCCCAAAIIIIAAAggggAACCCCAAAIIIICAT4DAsY+DAgIIIIAAAggggAACCCCAAAIIIIAAAggggACBY64BBBBAAAEEEEAAAQQQQAABBBBAAAEEEEAAAZ8AgWMfBwUEEEAAAQQQQAABBBBAAAEEEEAAAQQQQAABAsdcAwgggAACCCCAAAIIIIAAAggggAACCCCAAAI+AQLHPg4KCCCAAAIIIIAAAggggAACCCCAAAIIIIAAAgSOuQaMgAsDAgggkF/Ayd+EFggggAACCCCAAAIIIIAAAgggUBECBI4r4mWkEwgggEDfCThOOkAsad/tmT0hgAACCCCAAAIIIIAAAggggEAJCBQ0iJTAcQm8UoNwCvkuDlkv6SCcIodEAIFSFyCwXOqvEOeHAAIIIIAAAggggAACCCAQcQGJ7UmajSN0PYHjbFzUI4AAAlEW6Bp1HGUC+o4AAggggAACCCCAAAIIIIBAlAUIHEf51c/d99DfNOTehLUIIIAAAggggAACCCCAAAIIIIAAAgggUEICPY7xETguoVexBE7FXEj2xeQm3I6nSuC8OAUEEBhAgUSiZa13OD3y2PzHggACCCCAAAIIIIAAAggggAACZSfgi/Ppsw/G/nJ2iMBxTp5IrQy7kCIFQGcRQECpZvfDa9MO/mAxwWOuDgQQQAABBBBAAAEEEEAAAQTKR6C9fdfPus62qGCx3UMCx7ZG5eft4HC23tpt3F3uxp9ma0g9AghUnoCj4sktO565OtMzfwA5U2/nCmljtyePAAIIIIAAAggggAACCCCAAAL9KeA4sZ4EjO24oCJw3J+vUOnvWy4guSjsNLXu5ua/fYrpKkr/heQMEegLgb3utquv3/PJax554jNrEsnWNd4oY/miPG/aCgLFfeHNPhBAAAEEEEAAAQQQQAABBBDoDwEz2vjmuyaYEcd27E/ycshgWeq9lMCxRxH5jLlYZJELJ5VeveekM1vVnn+VlaQIIFB5Ap1u22odNL5K98zc98lbfzPt0/tbthQ58rjyXOgRAggggAACCCCAAAIIIIAAAuUkkEy2P/U/d0+SoLE5dYnzSTeCZanvljJsrBtJxVfYr7nJB3/MLxPMj6mPW2nsqyN+/x1Xuc4QNeJSXc+CAAJlLmCCxaYLW5Lrr/rfvV9f09Ud8wYii3PO6a99K6b/ORgyZMK3lDXi2JFRyKmW9j8rsikpAggggAACCCCAAAIIIIAAAggMhEAi0fa0Oc6O3a/8629XLXlSZ5M5fiRwbKdmc7PYMYFUcDBdzf+jImBHeIJBYynbwWPJ26m0C6bG0NSxIIBAaQr43gC6TlHeKOSM7TZyP8u9Lm1M2bST9VJPigACCCCAAAIIIIAAAggggAAC/Scgz+ySmgCxyctPWMDYrJN6aRdM5YxNvbdUeTkyURXwXRBdCKbOXFAmWCwXkinLIkGkYGqvlzwpAggMroC5hyXAK/e7pObMJC9p8GzlPrfrZX+Smm0lb7cjjwACCCCAAAIIIIAAAggggAACfSNgP7ebfNhPWIDY1IW1tfcXeoYEjkNZKrrSXBQS4LHzdqel3qTmR4LIEjw22wd/ZHvZt5RJEUBg8AXknjZnYvLBJaxO2tjbSp1J5V7Ptt5uSx4BBBBAAAEEEEAAAQQQQAABBHovYD+/m3zwR4LEkkp7SYNnYNfb+VQ7AsdBrmiWu10YmsEOFpuRx6YsgSI7aGzE7HpTNovUpUv8HwEEBkMg7N42deb+lHWS5jq/sPu50Lpc+2UdAggggAACCCCAAAIIIIAAAgjkF7Cf3SVv0mDeDhhLXlJpL2neoxI4zktUkQ3MBSJBn2De7rBZZxYJGss2dmrn060z+5YyKQIIDJ6A3Mf2GQTr7LK5p+2y2c788sgsUi/3fbo2/f+wOns9eQQQQAABBBBAAAEEEEAAAQQQ6LmAPJObPUjepHY+W5BY2klbex/BvCmnFh70RSJ6qf3aS96k8mNEJC9BI5MG20o7OzX5sEW2DVtHHQII9E7A/sc/bE9mvbkH7XZSJ+1NWdbL/SppsK3sS9bLPoJpvvXB9pQRQAABBBBAAAEEEEAAAQQQiLKAPJdnM5D1dmrnTfDYLHYQ2ZRNG/mRsknNItunS13/54HexxG5gv36S96k8mNAJG+ndr3kTSqLacuCAAKlIRD6j78+tXz12e7jYutLQ4GzQAABBBBAAAEEEEAAAQQQQKC8BYLP8VI2aTAvdWH1RkHqg3lT9hamqvAoIp8xF4wJCNkXjo0i600bu50EkSS1t7Hz+dbbbckjgEDPBLLdv7I3uY+D7aQcvLelvWwvqbTLd1/nWy/7I0UAAQQQQAABBBBAAAEEEEAAgYyAPKdnavw5WS+pWWvy8mOXw/KmLu/CQ31eoopvELwGpGyndt6ABMt2XcWD0UEEylhA3lDMPSx5k0pZUtNFydupXS95k7IggAACCCCAAAIIIIAAAggggMDACcgzvTmi5MPSsDr7LGW9XeflTUCABYHgdSDlbKkRk3XBPJoIIFDaAvKmYO5hyRd6xvY29r8BhW5POwQQQAABBBBAAAEEEEAAAQQQ6BsB+5k+LC91wVSOLvVS7pby4N+NJLIVwWvBLkteUoNk54NoudYF21JGAIH+Fcj7RtB1eNPO3LvSXvKF3s+Ftuvf3rJ3BBBAAAEEEEAAAQQQQAABBCpTQJ7Xw3pnr5O8pKa9nQ8rh+0zZ/AvdAMqK1ogLPBj19l5AxEsVzQOnUOgwgTkTUPuYykHuxlcL+VgO8oIIIAAAggggAACCCCAAAIIIDDwAsHnebts5+XMwupknS8lAODjoKAFsl0TwfpgGTwEECgvAfuNQu5nu870Jlgv5fLqKWeLAAIIIIAAAggggAACCCCAQGULBJ/ng2XpfbZ6We9LCQL4OChYArmujVzrrF2QRQCBMhCw3zSC93audWXQNU4RAQQQQAABBBBAAAEEEEAAgcgI2M/wwU7nWhds65WDQQJvBRkEugQKvUYKbQcsAggMnkCP3ihynC73fQ4cViGAAAIIIIAAAggggAACCCDQTwKFPt8X2i70NHnoD2WhMkSAayUEhSoEKkwg+IbCfV9hLzDdQQABBBBAAAEEEEAAAQQQiIRA8Pm+R50mKNAjNjbSAlw7XAYIlLdAT95EuO/L+zXn7BFAAAEEEEAAAQQQQAABBCpToCfP+JUpQa8QQAABBBBAAAEEEEAAAQQQQAABBBBAAAEEEEAAAQQQQAABBBBAAAEEEEAAAQQQQAABBBBAAAEEEEAAAQQQQAABBBBAAAEEEEAAAQQQQAABBBBAAAEEEEAAAQQQQAABBBBAAAEEEEAAAQQQQAABBBBAAAEEEEAAAQQQQAABBBBAAAEEEEAAAQQQQAABBBBAAAEEEEAAAQQQQAABBBBAAAEEEEAAAQQQQAABBBBAAAEEEEAAAQQQQAABBBBAAAEEEEAAAQQQQAABBBBAAAEEEEAAAQQQQAABBBBAAAEEEEAAAQQQQAABBBBAAAEEEEAAAQQQQAABBBBAAAEEEEAAAQQQQAABBBBAAAEEEEAAAQQQQAABBBBAAAEEEEAAAQQQQAABBBBAAAEEEEAAAQQQQAABBBBAAAEEEEAAAQQQQAABBBBAAAEEEEAAAQQQQAABBBBAAAEEEEAAAQQQQAABBBBAAAEEEEAAAQQQQAABBBBAAAEEEEAAAQQQQAABBBBAAAEEEEAAAQQQQAABBBBAAAEEEEAAAQQQQAABBBBAAAEEEEAAAQQQQAABBBBAAAEEEEAAAQQQQAABBBBAAAEEEEAAAQQQQAABBBBAAAEEEEAAAQQQQAABBBBAAAEEEEAAAQQQQAABBBBAAAEEEEAAAQQQQAABBBBAAAEEEEAAAQQQQAABBBBAAAEEEEAAAQQQQAABBBBAAAEEEEAAAQQQQAABBBBAAAEEEEAAAQQQQAABBBBAAAEEEEAAAQQQQAABBBBAAAEEEEAAAQQQQAABBBBAAAEEEEAAAQQQQACBARNwBuxIHKjSBLh2Ku0VpT9RE3B70GHu+x6gsQkCJSTAfV9CLwanggACCCCAAAIIIIBAHwr05LN+3sMTBMhLRIMuAa4VLgUEKl8g+EbDfV/5rzk9RID7nmsAAQQQQAABBBBAAIHKEwh+zu9RDwkK9IgtUhsVeo0U2i5SeHQWgRIT6JM3DqtP3PcWBlkESlSA+75EXxhOCwEEEEAAAQQQQACBXggU+jm/0Hahp8JDfygLlVog17WRax14CCBQXgL2m0jw3s61rrx6ydkigIAtkOvezrXO3gd5BBBAAAEEEEAAAQQQKC0B+7N88MxyrQu29crBIIG3gkxkBbJdE8H6YDmyYHQcgTIVsN805H6260y3gvVSLtMuc9oIRF7AvsflfrbrDFCwXsqRxwMAAQQQQAABBBBAAIESFgh+rg+W5dSz1ct6X8rDgI8j8oWw68Gus/MGK1iOPCAACJSRgLxZyH0s5WAXguulHGxHGQEESl9A7nO5j6UcPPPgeikH21FGAAEEEEAAAQQQQACBwRcIfq63y3ZezjSsTtb5Uh4EfByRLgSvBbsseUkFKljOVy/rSRFAYOAECn1DMO3MPS3tJW/f59Im7OztdmHrqUMAgYETkPs43xHlnpb2Yfd9rn1w3+fSYR0CCCCAAAIIIIAAAn0rIJ/bw/Zqr5O8pKa9nQ8rh+2TEaOhKtGrDD74STlbaoRkXTAfPT16jEB5CcibhbmHJV9oD+xt7H8DCt2edgggMDgCcq/b93ChZ2Jvw31fqBrtEEAAAQQQQAABBBDofwH5nG+OFJaXumAqZyb1Uu6W8gDQjSRyFcFrQMp2aucNULBs10UOkA4jUEYC8qZg7mHJm1TKkpouSd5O7XrJm5QFAQRKV0DudbmXzZly35fu68WZIYAAAggggAACCCBQiIB8zjdtJR+WhtXZ+5f1dp2Xr/JyZKIoYB4i7UXKJu2W/+wn3z2hrmbUSrOB48SW2BuSRwCB8hRIJtquNGd+452jTGrue3nTSOW/PPzXS+qcMVfEUivt+17+idArWBBAoMQF5LZOn2ZCpe/7q3cvD73vzzvzjSX1deOvMK15vy/xl5bTQwABBBBAAAEEEECgSyCZbP9nk73xjgN+lAXFPBjYz/2mWbDs25Qnfx9H5Ar26y95k8qPAUnlv/jp5lU8PEbu+qDDERJIdLb8y02/HvNj3WWJMDnfHP7IH2JO1fHC4KT+OciUJEeKAAKlLiC3tbnBM/kO1fIv1+0+1Xfff/HTe/7gOHHvvi/1nnF+CCCAAAIIIIAAAggg4BcwAWQdPDZBZPPhXx4AJG+XZUOpk7KXmkFkLNEUkECx6b3kJWDsK1949o5/IGgczYuEXkdHIF415AoTMNI9Nu8Lsa+NuP8Kfd8fbweZ7HzmvSc6RvQUgfIUyHwGtO9hk69StVdcPPxh777//Ke26vueoHF5vs6cNQIIIIAAAggggAACaYFYrGalGQCqSxLnMyskb8f80htk4oJS9lJp7FWQiYyA/drLxWM6L3mTxnTQeGUsXvu9yKjQUQQiLrBj96tnjHv6w2Nr1NDvpkcYp/+pkNHGkqaZ0usiTkb3EShxgeyB4/T4Y1dtT751RnzFXx9bXd3w3RLvDKeHAAIIIIAAAggggAACBQrsa9l06m33HPqYbp7UP+bBQH7MHuy8lE3qWxhx7OOITMGO9gTzpmz/RAaFjiKAgFIjGw69TI9ETP27kB6dmAk6GR97xGL6fQY1BBAoXYHM/Wvfu3JvS90IZ9Jl+n62Pw+Ubpc4MwQQQAABBBBAAAEEEChIoL5unBkIasf4JC/b288Adl7Wp/4k2SuQiayAXDh2mvouLEYbR/aaoOMRFqh2h1zmuuYXkhIoNuGlTAAqwjR0HYGyFwgGjdP3uquqq4fr4DELAggggAACCCCAAAIIVJiAifWlYnw6teN+Jp93YcRxXqKKa2BfGHbe7qjUS2qvI48AAhUsoOdCOk66ly1Y7K8noCxepAiUlkDm3vTfs5mzlPqYqvbu+8xacggggAACCCCAAAIIIFDOAl3fXyKxPUmDXbLr7XyqHYHjIFf0yuaiCPuR30ZET4QeIxB5ARNO0kEnNx14SgeXuuoibwMAAuUr0O1e1ve41JVvrzhzBBBAAAEEEEAAAQQQyCFgYn4S4wuL/+XYNL1hzgasjJyAXESm4/xiIXIvPx1GQKanSKfpoBIqCCBQaQLpkLH55ZDJpaemqbQ+0h8EEEAAAQQQQAABBBDoFjQuioTAYFFcFdXYBIiDix00DlsfbE8ZAQQqUiAdTEp1rWvUcbCbBJSDIpQRKE2BrPeqdW+n/7agNM+fs0IAAQQQQAABBBBAAIFeCdjxPTvuZ+/UbmPXM6LUpxHtgn2RyIVk10Vbh94jECEBGYNodzlr8MluRB4BBEpcwNzJ/jBxsFziHeD0EEAAAQQQQAABBBBAoHgBifPJlsGy1HdLGXHcjSRSFXKhSIDYTmVdpEDoLAIIGAEZcZwOMGUCS92DTnghgEB5CGTuY3saGv+9Xh494SwRQAABBBBAAAEEEECgCAGJ79mpbC51Uu6WEjjuRlLRFeaCyLfYbex8vu1YjwACFSIQDDDl75Z/BGP+9rRAAIH+FSjunrTv+f49L/aOAAIIIIAAAggggAACAyxQbGzP157A8QC/WiV8OPvCMHm7XMKnzakhgEB/CBQXduqPM2CfCCDQ3wL8DUF/C7N/BBBAAAEEEEAAAQRKQiAY5ys45kfguCRev5I5iR5fSCXTA04EAQT6QCAdNvZGIVpfotUHO2cXCCAw2ALd7ml+VTTYLwnHRwABBBBAAAEEEECgnwTsIHEw7pf3kASO8xJFtoF9YUUWgY4jgAACCCBQrgLeL39ydoCgcU4eViKAAAIIIIAAAgggUP4ChcT4QtsQOC7/F58eIIAAAv0gQDCpH1DZJQIIIIAAAggggAACCCCAAAJlI0DguGxeqj490dDfIlhHkPWSWqvIIoAAAmmBwkYzooUAAqUrEJiWpnRPlDNDAAEEEEAAAQQQQACBnglIbE/SovZC4LgoLhojgAAClS+QCQgz6rjyX216GCWBzL0dpV7TVwQQQAABBBBAAAEEEAgRKCiQTOA4RC6CVQVdLBF0ocsIIGAJEHSyMMgigAACCCCAAAIIIIAAAgggUOECBI4r/AWmewgggAACCCCAAAIIIIAAAggggAACCCCAQLECBI6LFaM9AggggAACCCBQ9gLMb1z2LyEdQAABBBBAAAEEEECgMAGZaUDSwrbSrQgcF0xFQwQQQAABBBBAAAEEEEAAAQQQQAABBBBAIBoCBI6j8TrTSwQQQAABBBBAAAEEEEAAAQQQQAABBBBAoGABAscFU9EQAQQQQAABBBBAAAEEEEAAAQQQQAABBBCIhgCB42i8zvQSAQQQQAABBBBAAAEEEEAAAQQQQAABBBAoWIDAccFUNEQAAQQQQAABBBBAAAEEEEAAAQQQQAABBKIhQOA4Gq8zvUQAAQQQQAABBBBAAAEEEEAAAQQQQAABBAoWIHBcMBUNEUAAAQQQQAABBBBAAAEEEEAAAQQQQACBaAgQOI7G60wvEUAAAQQQQAABBBBAAAEEEEAAAQQQQACBggUIHBdMRUMEEEAAAQQQQAABBBBAAAEEEEAAAQQQQCAaAgSOo/E600sEEEAAAQQQQAABBBBAAAEEEEAAAQQQQKBgAQLHBVPREAEEEEAAAQQQQAABBBBAAAEEEEAAAQQQiIYAgeNovM70EgEEEEAAAQQQQAABBBBAAAEEEEAAAQQQKFiAwHHBVDREAAEEEEAAAQQQQAABBBBAAAEEEEAAAQSiIUDgOBqvM71EAAEEEEAAAQQQQAABBBBAAAEEEEAAAQQKFqgquGWehjOOWz4xnlRPJF1Vk6dp6OqY49z62upVl4eu7GHlnGNPnp9Ixu6WzevqOg5/oalpl5R7ks5avPwW11Unmm0d5f58/ZqHr+zJfoLbHDxv2Yi6GvWzpOt8PL1vtX/9muNmKfWDZLAt5coQuGRlrTp0ZrzXnXmyqVPd+ov2Xu+nr3Zw0Tdq1dz56X7pfw/UV/92v9L3DAsCCFgC05eMVBfdPcereeDKd9Ufr9rolfNlvvrAEWrqMQ2pZq5+l7is8al8mxS1/nsvz1cjJqTfzt94bJe64axXQ7e3221/u1X9dP660HaFVB79qbHq3J8f5jX9ybx1ase7rV6ZDAIIIIAAAuUiwOf8cnmlOE8EEEAAgXwCfRY4rupMjkw6sYOdfEfMtt5VB2Zb1dP6hBsfp4O7k2X7tubaITrfq8CxjoDNcZTTtc/YJNl3b9LZi1YsTCr31zq4Ntn2W7q0KdbUpAgc9wa3hLcdPTamYr2PG6tRo+2rZvA7PGas4/WLP2kY/NeDMyhNgR3vtKpYVebePf4rkwoOHNc1xNW0hcOV07V5295En3eyYWy1d37DuwLIYQex2w0dUx3WpOC60QfVecc0G9UfUKUDxwVvTkMEEEAAAQRKRoDP+SXzUnAiCCCAAAK9FCCu00vAXm1+9tnxWYuWX+Yqd41+/vcC3L3aJxsjgAACCJS8wI73WlXzh5m/FGhorFajDqwr6LwXXzjBCxqbDTY8tLOg7WiEAAIIIIAAAggggAACCCCAQDECfTbiOHhQx1UPJmPOY8H6bGXXTa7Otq5S62dt3H2X7tuZldo/+pVboOmhTjX78PDf3UyeGlPDR3QNJ9S7+XCzq7Z/FD74/DG9n1Jatm/S/M8AAEAASURBVH/kqinT0mfUqU+NaSpK6dXhXEpJ4KV7tqvjLprgndLSiyepuy/9i1fOljnmnEbfqqZrC5/iwrdhHxSaP+pQw8enp7TY+T7TSvQBKbtAAAEEEKgAAT7nV8CLSBcQQAABBFIC/RY4Tirn7g2rV/0XzjkEXJegcQ6eSl+16ncdatXvwnv5mQtr1AnLMrfn7+/uUGueLK0AcfiZK3X9NW3ZVlGPAAKWwKM64GsHjg8/fXTewHFVbUw1zqj39mKmqXj/T3u98kBnrjz82YE+JMdDAAEEEECg5AX4nF/yLxEniAACCCBQoED4cMcCN6ZZXwm4za7jnK7/9viLfbVH9oMAAgggUNoCuza2+aerGFejRk6uzXnSCz47jmkqcgqxEgEEEEAAAQQQQAABBBBAoK8EyipwPG3p0rp58+b17tt3ipCbN+/0zLCuIrYrpqmejOC+uOseqkdnZxl7WszeaItAboH6ofqrHTMzYORurNdW6butbkgRG+TdY2ENzHnGyupfp8L6RSsEggJmugp7OfHiyXaxW37B58b56gqZpsJ8mV5VXWndULVD46p6SGmdkw+WAgIIIIAAAmUmwOf8MnvBOF0EEECgTAQyfwtfgic8/bTTaqt2dp6rw1bnu0rNdlpV4/7qUWrmouVbdfjrHtdRN+uA69N9deoHz1s2oqbauVDv+3w9M+sR+1Wr0l9ep3fvPq9c55b1B478d/V+330JkZOIfey1Zx98zRygr/rAfqItMPnAmPryt2qVo+Mxrp4S+Zoft6rZR8TV8SdXqYmTYqlAsBHavs1Vt93Yrl5+IeEDO3BaTJ1zQY1qHO8o8+GzqutfCDNPsZmveM8uV/3m9nb1zNP+7eydnHhKlVr28fTvd/Y2u+rHK7vPexrW5qzzqtWR8+JqTKM+z67jtra46vlnEuqOX3ao/fu4TWxn8pUhEJyu4ogzR6vffCd8nmNzX0/82FCv49mmqTj6U2PVSX8/WY2cWKvqhlel/j0wG5l/EzpaE+rDDS3q1998U33wUu+nuDj3+sPUtIXDU+f0lyd2qzu+/oZ3fsHMwvPHq+XfmaJGTEj/G2XWm3MycyPfe8XbweaUEUAAAQQQQMAS4HO+hUEWAQQQQGDABEo2cDzjuFNnODs7H9ZB49TwK3vMo87rbwZyv6S/gO9LOrB7Y33Hjq+sW7euozdqMxedOk2pxBPp4wUDVM5c5ai5s9/fvcBVTmFfe1/Ayeig8asFNKMJAgULHHyonv9UB31lMUHgw4+OS9FLR49x1Ncvq1UP/6FTB2XbVbWO8373R3Vqiv5SvrDFjFI2bUaPddQXv16rPvHJpPr+t7sHhM22R8yNq7GN6XMYo9uHLcE2l+tjHzS9+7HNaOdjT6hSR82Pqx/q4+3cEbw3w/ZOHQLlIyDTVTToaSrMYtIROuC7e1P3ucKPOmusilVl7qkND/t/kTn5qGHqwjvmqIbG9C9uggom8FxTH1dT5g5T33r8KPX0jZvV3ZeEB6mD22Yrz1oxStUfkP4oEbfOLdj+y/cdrqYfPyJYnQpqj5pap86/dZZ6f11zt/VUIIAAAggggEBagM/5XAkIIIAAAoMh0D1SMxhnETjmx4496ZBYovNZ/Xic+29209td2FI9qldfwjdnztk1MSfxSL7juco9Tx9yduB0KSJQsgJhQWP7ZF95MT1y2ARoswWN7faSnzA5pk4/Kzw4JW0KTU1QOixobG9fX++oy/+5z35nY++aPAKDLvDib7f5zuHEiyf5ylI49gsTJJtKm67Z6CubgHC2oLGvYVdhsd6fCTb393LWVdNDg8b2cc2/Awce02BXkUcAAQQQQACBHAJ8zs+BwyoEEEAAgT4T6LcRx04sWV/IfMQNDQ1uU1OT/iP4zJJMVv2THlHsPUHqMYZbHde5zVHuuqTjDnGc2CeU654pW+j1F8xYeMotf1774KNSV0yaaNh1nh69fHBgmzsc131AD4dqd93kkfrL687Xz7V6pLO96MkyWBAoA4EXn0+o9S8nVEODoxbrEbyjRjvqjw92qtdeSgeOm/e4yrQ5Uo8WTuqq59bodS8n1btvJVNzIk/RU1h84pPVvtHMJ59Wpe67q1cD/X1yZjqM51Yn1OZNydTo5sVLqtTIAzK3mMkfdUxcvfBc+px9G1NAoIwFHr3mA/VX/3ei14Mj/maM+u133/LKkjlwnve2qMKmqVh90xZ1yuVT1bCx1an1a27eot59plltemWvqh9VrQ49YaQ68ZuTlZnz2CwmWPuJH0xT1//NK3KIPk/N3MoLA/MyJzrc1Oji91/Yq4aNrlbTl4xIjbQOHtycHwsCCCCAAAII5Bbgc35uH9YigAACCPROoN8Cx3pO4Kv0fMRX5Tu9ljZlno4PkXZzFp8yPekmzcjersVtdpOxRRueWfW21Oj0hlmLVqzUweUfSV3MSX5b53sUOHYc9wv6fGVXOnVXrl/z8JVWxa9mLVx+g56u4nWrjiwCZSFww7Vt6lkdkJXlnjs7VMNwR5lgsb384ro2dfKp1eqRBzpUW2AWio3vJdXqxzvVT/59SCrobLYbokcB99WS0Kf3/Utb1NYtmXP6ze0dqVHGBx2S+cOIpSuqCBz3FTr7KRkBMy3Fni3tavj49HQVJh0xoUbt3tzuneOsFQeoeE3mngtOUyENf37Gy+qgxcOVCSL7lrda1XvPNau1/7NF/eOGBd6UFwcc2L8j+Rd/frx3LHM+Zk7jfzv+T3qe5f2+0/v22rlq3Ix+/z5a3zEpIIAAAgggUO4CfM4v91eQ80cAAQRKXyATkRmkc026yvd3somke5LvVNzYRX/2B41Tq8fVtf9EP0I/ZbU9bdrSpUU/AZsv4NNB4+NlP2af4+o6fyplSdevfegNPQL5C1ImRaAcBLZtdX1BYznnYNDY1Jtg8R9+2z1oLNuYdJ0eiSyLGQ1ovkCvL5YH7+3wBY1ln9df7Z/ndfSYQf8nS06NFIE+FXgpMF3F0m/4Z2o67qLMiGRz4Meu+yD0+FvW7+8eNLZa7t3WoT58PRO0LWZqC2s3BWdnLjvA1/aBK9/tFjQ2Df7j4y8rMxKZBQEEEEAAAQQKE+BzfmFOtEIAAQQQ6J1AyUVh9OjfBXaXxg1p/7VdlryZ3kL/afv1UjbpkNbaoucfju1KHGTvQ0+FcXtw6gxZr79C7C7JkyJQDgJ/ejYT6O2L87VHBJv9DR3aF3tV6kn/bDXeTndsc1WbFTselvlLfa8NGQQqQeDRa/2B4CP1dBX2cshxmS+WM9NUvNeLL5Jr3pKZYibXF9rZx+9pvvEw/yjiR6/2z8ss+923vUNt/NNeKZIigAACCCCAQB4BPufnAWI1AggggECfCPTfVBVK3apH8v4+31m6yvnQ18Zxxuj5i1NV+v/PZgvimgZ6tPL6mG/AY2KUb18FFKqdREPSteLnSSfrdBRvrr1/z8xFy7fqQwbmOi7gQDRBYBAEPtxc/Ag+88V3hx8VV+MnOmrUGEfFrdtjTKNV6KP+mNvdjJjItuzb66ra2vSN7vT94bMdlnoEBlQgbLoKM2WFmcJi2qLhqnpI5uL/8yM7857b9CUjU1NWjDm4LjXtRWpC466tphzt+0OfvPvqTYNqPcexLG37EnoO9ez3+qZX96mpC/jtkHiRIoAAAgggkEuAz/m5dFiHAAIIINBXAv0WOHZd54kNa1fdXvSJuq43rCrmqh05t6+ONyszOWrXoh9Hh0u+0DSRdPx/bB9zcg550uGrXXrfBI4LBabdoArs3JE9SBM8sakHx9QFX65Rk6ZkAj3BNoNRNl/Wx4JAFATMdBV/9eXMlBQnfG2Sum/l22rJVzJ1xqEpMDrZtjnm3Eb11/90UOoL8uz6wcqbL8eTJdGW+9+j1t19+xcSclxSBBBAAAEEKlGAz/mV+KrSJwQQQKD0BDJPdCVybjowWy2nor+vTn+NTvYl1pnwrY85Tvqr4rNv0m1NcBsdrM4XprKebJ3cT8HdjkYFAqUpMHKUoy77YV3JBY1LU4uzQqB/BB69xj+Nw1FnjU0d6LCTMvME55qm4ogzxqhz/vOwkgkam5M3c6HL4nb9NZGUg2mi0/+Wmqd5cHPKCCCAAAIIIBAiwOf8EBSqEEAAAQQKFui3EccFn0GgoQ4W71Ly7Oi4Of+eNqmS+o93rdi3m3u0cOBQqaKbdPfZT7Zmn2HtpE4/BNdlHmb12bIgUAEC3/huraqy/jXo1L8eeX19Qm3Z5KpdO1395+XpTs6YraexOLro389UgBBdQKD/BXZvbk9NTWGmqDDLiAk16tClI1VdQ+aeyzVNxWdunOE7yRY9gveNpl1qx3ttau9Hel7jrjevY784QY2aWvR3yfr2XWgh0S5v6ErFa6z365Ad2P00q+2gc0hzqhBAAAEEEECgAAE+5xeARBMEEEAAgawCVqgoa5sBXeG4zm63K3Ksp7vwPwUHzkQPMJ6qn4S92qSjdnuFAjNJ5e6PqUz8Vx9/SrZN582bV73fVQdnW089AuUqMH5iJqBj5hS+7Gstqt36Ujrp1/59VQSOBYMUgX4QeFFPV3G8NV3F+b+c5TtKtmkqJh0xTMWrM+9lbz6+S/38jFd820rBzH88UIHjjrbMHwbVDs0EwOVc7HT0tIEJZtvHJI8AAggggEClC/A5v9JfYfqHAAII9K9AJlrUv8cpYu/uq9JYPwI3zp5/yhwpB9OYclfYdcn29qxfbGe3s/NVsSrf3wbrEU4n2evt/L6a0fPtMnkEKkHA/Pla3IrnPPZQZ2jQ2PS1cXwmMFUJfacPCJSaQFNgugp7FK75crn31jWHnvLM5ZnpLEyDOy9+M7SdqRyuRzIP1LJHj6KWxXy55SHHeV9jINVeOnVB0V9T4G1LBgEEEEAAAQS6C/A5v7sJNQgggAACxQmUXOBYjxp+yu6CG0/cMv2002rtOpOfsfCUE/VY469Z9a+9vq5pm1VWTiKZGY6sVzjV7oH2epN/dfWD5gv4vICz3uCCWYuWLQu2mzfv9HrHdf87WE8ZgXIXsKeoMH2pH5Y9ODxvUcn9kUK583P+CPgEZLoKX2VXIdc0FfZoY9N86Bjv6wJ8u6ofVaXGzaj31YUVMlMy6UDzuJ4Hmv/ypPk+2cxywW2zfCOjZc1ZV01X9Qfw74t4kCKAAAIIINAXAnzO7wtF9oEAAghEW6DkAscbJo98Ur8kXiBXh3vn1uxM3DRj0fLjzFQRRxy7onHWwhXnOE7ydt9L5zj/5ivrQlI5H9p1ruN+dc7iU6bPmXO27ylYf8XdXb52yvnV7MXLz5654OTR5pgzF684dn916826zWF2O/IIVILAtq16chjrVyxLTqpSM+ZYQ5B1JxuGO+qSlbVqbGP2oHIlWNAHBEpB4IW7Pwo9jWzTVJjGm17e59vm87fNViMn+3/nOvmoYerSp+eGBm59G+tCa3Pme2KHjq5Wyy6dkppz2YwaLmZZe4vvbVgNGVGlLnlqrjr67LGp85h4+FBlgsaLPz++mN3SFgEEEEAAAQQKEOBzfgFINEEAAQQQyClQesN77rwz4S5acamj3HvlzHVY6zz9rHre/upROhqsI1w6dmWHr/T0Em85e0b8UtpLWlvlvNdhDzp21ef0l999TjXsMoFpb/5ktzN2napOXi7b6X036kDaHU4spvbHRik90lhWkSJQkQKbNibVpCnpiFBMx4xNkHi/ntC7Rcei6vTXRdYPdfiiqop85elUKQo8dt0HasnfTfKdWmqaiufCp6kwDV97YIfq1PMJV9Wm7+OGxmq18pX5qS/F62hNpkbz1g7z/0LId4BAYc+WNmX2IcupK6cq8/Po1RvV73/wjlTnTT96s0V98OJeNenIzHfdNh42RH3mhhmpn7w7oAECCCCAAAII9EqAz/m94mNjBBBAIPICRY4dGhivDWtW3ae/8+6bhRzNBI2rklUnvPrqnZmJFLs2fOnpVVt1EPjm4H50GNj3d7rr1z24WbnOucF2wbLebqO/To9VZkGgAgT+69p21driv5zr6x01eqyjhuqpK/R9lloSmUGIFdBruoBAaQqY6SrMj73kmqbCtEsm3NS8xm7mu+hSmw8bW60OmFKr7KBxstN/r9vHkfzv/vEdyfrSmvrCg8+y4U3nrlcm8J1vMYFve+F3trYGeQQQQAABBHomwOf8nrmxFQIIIIBAWqDPAsedbrzFRtWBpt12udj8+rUPXaP/fn6xjlf55jzO7Mdt1uGsHyYTyQUvrb0/ENDNtGrtcHUA2v2PTI1SMUf5n8j1yvVrV92uH1JP0W2ft9tK3pxH0kks0uUmr851/ZM3yoqepkll/a2x29zUtNT/FN3T/bJd2Qm06NG+9rJnj79sr7Pzwe32Nhe23WY94vjSr7Sod98Ov+RMAOftN5Pqqitb7cOptjZfMVVotf4lSIbvTgepM9tlayMtOjoyfWgPOZ60I0WgkgRW37jZ6465/x69KuvbnNdu3f9uVf/v2OfV/h2dXp2dSbS76ulfbFarb9riVXcEgrWy4o2mXcoEj8029pLo9N/UdrDXnt7C3mb3pjb1s/nPp0Ye2/WSN/176d5t6nfff0eqUmnrnvB++BpRQAABBBBAoMwEgp/X+ZyffgH5nF9mFzKniwACkRHoGkdY2v2dfvxpY2s72+epZHxYIqZadVD6nWa3+S8bV6+2wk/5+vCD2GGLH59Q48aGJzriu1KjjLNsMuO4U2fEEp1TXMcZqydK3h6Pxd7SX6KX/Svqs+ynBKvl9bZTkze/QJDU5M2QslT6pXP2+b5wUNezVLhAbZ1SM2fH1fSZMdWi77CXn0+o99/1B4sqnCDy3av+w6P6H4C4/kfB/NeVdk1u6+g1plaWTD5TJ+tIB09g+PgadejSkWqKntd46xst6tX7dygTwO3JYqasmPCxoSpe5ag3Ht+tOvXUFz1dRkysVYeeMEKNnz00tQszlcVL92xTLbsIEvfUNHy7dMBfT/XlrTZ5V3+oMYurh6abvPkx/5m04+Mnem3JIIAAAghUpgCf8yvzdaVXCCCAQC6BG24fOkavNw8C5s9A7dQ8LJiySeXBIZhaT/+6FUvFC0hkx05NnsBxxb/0dBCBwgUIHBduRUsESlMg/XmPwHFpvjqcFQIIIIAAAggggAACAyXQ28CxCRiyIIAAAggggAACCCCAAAIIIIAAAggggAACCCDgCRA49ijIIIAAAggggAACCCCAAAIIIIAAAggggAACCBgBAsdcBwgggAACCCCAAAIIIIAAAggggAACCCCAAAI+AQLHPg4KCCCAAAIIIIAAAggggAACCCCAAAIIIIAAAgSOuQYQQAABBBBAAAEEEEAAAQQQQAABBBBAAAEEfAIEjn0cFBBAAAEEEEAAAQQQQAABBBBAAAEEEEAAAQQIHHMNIIAAAggggAACCCCAAAIIIIAAAggggAACCPgECBz7OCgggAACCCCAAAIIIIAAAggggAACCCCAAAIIEDjmGkAAAQQQQAABBBBAAAEEEEAAAQQQQAABBBDwCRA49nFQQAABBBBAAAEEEEAAAQQQQAABBBBAAAEEECBwzDWAAAIIIIAAAggggAACCCCAAAIIIIAAAggg4BMgcOzjoIAAAggggAACCCCAAAIIIIAAAggggAACCCBA4JhrAAEEEEAAAQQQQAABBBBAAAEEEEAAAQQQQMAnQODYx0EBAQQQQAABBBBAAAEEEEAAAQQQQAABBBBAgMAx1wACCCCAAAIIIIAAAggggAACCCCAAAIIIICAT4DAsY+DAgIIIIAAAggggAACCCCAAAIIIIAAAggggACBY64BBBBAAAEEEEAAAQQQQAABBBBAAAEEEEAAAZ8AgWMfBwUEEEAAAQQQQAABBBBAAAEEEEAAAQQQQAABAsdcAwgggAACCCCAAAIIIIAAAggggAACCCCAAAI+AQLHPg4KCCCAAAIIIIAAAggggAACCCCAAAIIIIAAAgSOuQYQQAABBBBAAIHICTipHjsqnUau+3QYAQQQQAABBBBAAIHoCLhdXZW04J4TOC6YioYIIIAAAggggAACCCCAAAIIIIAAAggggEA0BAgcR+N1ztfLon/jkG+HrEcAgcoTYGRi5b2m9AgBBBBAAAEEEEAAAQQQQACBbAIEjrPJUI8AAghEVCATIOZP2CN6CdDtChXI3NsV2kG6hQACCCCAAAIIIIAAAoUKFDSIlMBxoZyV1S7fxSHrJa2s3tMbBBDoEwGCUH3CyE4QGEQB5jkeRHwOjQACCCCAAAIIIIDAQAhIbE/Soo5J4LgoLhojgAACURFgtHFUXmn6iQACCCCAAAIIIIAAAggggECYAIHjMBXqjECPfhMBHQIIIIAAAgiUhkBhfxXAL4lK49XiLBBAAAEEEEAAAQQQ6DeBQmJ8oW0IHPfba1KWOzYXiX2huMlk+1Nl2RNOGgEEeizQ4bauNRt7QSeHwFKPMdkQgVIU6HZPO6qzc3/qvi/F0+WcEEAAAQQQQAABBBBAoMcCvjif3otdzrtTAsd5iSLTwL5wTN4uRwaBjiIQdYF9+96/1hgQKo76lUD/oyBgfjlk7vW9ya2p+z4KfaaPCCCAAAIIIIAAAghERaC9fdfPuvoajPMVHPMjcByVqyXdz0IuDLuNu6v5jZ9Gi4jeIhBtAceJJ7e4G64WBW/UsVSEpoSZQ1moRGDQBIq7Jx1Vldy87Wnvvh+00+bACCCAAAIIIIAAAggg0GcCjhMLBowL2bcdF1QEjgshq9w2cgHJRWGnqXV33b/gKaarqNwLgJ4hYAvs37/p6l/de+g19+793ppOt32NjDvOBI9lfKK9FXkEECgHgcx9nJ6GJl121D614+qb9372mgeazlzTmWjR9z0LAggggAACCCCAAAIIlLuAGW18810TzIhjO/YneelesCz1Xkrg2KOIfMZcLLLIhZNKb7zjgDPb2nb8q6wkRQCByhNIJFpX66DxVbpnSfPzn81nfHq/2u6NQLSDTpXXe3qEQFQE/L/8Sai21TftOc/c9+b9Pvnfd475tPkFUlQ06CcCCCCAAAIIIIAAApUoYAaA/s/dkyRobLoocT7pbrAs9d3S4v6WsdvmVJShgP2am3zwx/wywfyY+riVxv72k+9/R19rTm3t6Et1PQsCCJS5gAkWmy58uP2Zq37/x9PMSEPz5mEWk6b+bfjS8Du/ZUJNQ53R35JxiqaBP5BsmrIggEBpCcjtbG7odN6k+ssvU/f9luSrV/167yUywjjTWN/enznjjb83f9Y2ZMh4fd+zIIAAAggggAACCCCAQKkLJBJtT5tz3LH7lX/97aolT+psalBYltR8/g/+6KrUYj8bpAIDsoI0GgJ2hCcVGNLdDqZ28FjydhpsL2UjaPIsCCBQmgK+N4CuU5Q3Czlju43cz/Y9Lu1MKuvtOvIIIFBaAvY9LWdW7H0v97rZTvKyL1IEEEAAAQQQQAABBBAYOAH5fG+nJkgsn/HDAsZmndRLu2AqPTD13lLl5chEVcB3QXQhmDpzQZlgsVxIpiyLBJGCqb1e8qQIIDC4AuYelkCP3O+SmjOTvKTBs5X73K6X/UlqtpW83Y48AggMjoB9T8q9Lak5I8lLGjxL7vugCGUEEEAAAQQQQAABBAZfwP78bvJhP2EBYlMX1tbeX2jvCByHslR0pbkoJMBj5+1OS71JzY8EkSV4LA+Udirby76lTIoAAoMvIPe0OROTDy5hddLG3lbqTCr3erb1dlvyCCAw8AL2vRl2j4fVyVna20qdSbnvbQ3yCCCAAAIIIIAAAggMvID9Od7kgz8SJJZU2ksaPGO73s6n2hE4DnJFs9ztwtAMdrDYjDw2ZXlgNKn86Kyv3pTNIm3TJf6PAAKDIRB2b5s6c3/KOklznZ99P8u2dp1sG1Yn60gRQGBgBMLu6d7e93LmYfd4WJ20J0UAAQQQQAABBBBAAIG+EbA/50vepMG8HTCWvKTSXtK8Z0bgOC9RRTYwF4g86AXzdofNOrNI0Fi2sVM7n26d2beUSRFAYPAE5D62zyBYZ5fNPW2XzXbml0dmkXq579O16f+H1dnrySOAwMAJyL1qHzFYZ5e5720p8ggggAACCCCAAAIIlKaA/Rle8ia189mCxNJO2poeZst7vedB36OIXMZ+7SVvUvkxIJKXoJFJg22lnZ2afNgi24atow4BBHonYP+DH7Yns97cg3Y7qZP2pizr5X6VNNhW9iXrZR/BNN/6YHvKCCBQuIDcr9m2kPvWbid1so0py3q5XyUNtjX1wTrZj53K9nYdeQQQQAABBBBAAAEEEChMQD6fZ2st6+3UzpvgsVnsILIpmzbyI2WTmkW2T5e6/s8Hex9H5Ar26y95k8qPAZG8ndr1kjepLKYtCwIIlIZA6D/++tTy1We7j4utLw0FzgKBaAnku7+DGtK+2Ps7W/vg/ikjgAACCCCAAAIIIIBA7wXkc7vsScomDealLqzebC/1wbwpewtTVXgUkc+YC8Y8ANoXjo0i600bu508NEpqb2Pn862325JHAIGeCWS7f2Vvch8H20k5eG9Le9leUmmX777Ot172R4oAAj0XkPs32x7kPg62k7Lcz2Z7yYfdu7nW2ccO29ZeTx4BBBBAAAEEEEAAAQTyC8jn9WwtZb2kpp3Jy49dDsuburwLH+7zElV8g+A1IGU7tfMGJFi26yoejA4iUMYC8oZi7mHJm1TKkpouSt5O7XrJm5QFAQRKV0DudbmXzZly35fu68WZIYAAAggggAACCCBQiIB8zjdtJR+WhtXZ+5f1dp2XNw8RLAgErwMpZ0uNmKwL5tFEAIHSFpA3BXMPS77QM7a3sf8NKHR72iGAwOAIyL1u38OFnom9Dfd9oWq0QwABBBBAAAEEEECg/wXkc745Ulhe6oKpnJnUS7lbygNAN5LIVgSvBbsseUkNkp0PouVaF2xLGQEE+lcg7xtB1+FNO3PvSnvJF3o/F9quf3vL3hFAwAjIfZxPg/s+nxDrEUAAAQQQQAABBBAoHYFcn/PtdZKX1PTAzoeVQ3vJg34oS2Qrw64Hu87OG6RgObJwdByBMhSQNw25j6Uc7EpwvZSD7SgjgEDpC8h9LvexlINnHlwv5WA7yggggAACCCCAAAIIIDD4AsHP9XbZzsuZhtXJOl/Kg4CPg4IWyHZNBOuDZfAQQKC8BOw3Crmf7TrTm2C9lMurp5wtAgiIgH2Py/1s15l2wXopyz5IEUAAAQQQQAABBBBAoPQEgp/rg2U542z1st6X8jDg46BgCeS6NnKts3ZBFgEEykDAftMI3tu51pVB1zhFBBDIIpDr3s61LsvuqEYAAQQQQAABBBBAAIESELA/ywdPJ9e6YFuvHAwSeCvIINAlUOg1Umg7YBFAYPAEevRGkeN0ue9z4LAKgRIR4L4vkReC00AAAQQQQAABBBBAoA8FCv2cX2i70FPjoT+UhcoQAa6VEBSqEKgwgeAbCvd9hb3AdAeBEAHu+xAUqhBAAAEEEEAAAQQQKHOB4Of8HnWHoECP2NhIC3DtcBkgUN4CPXkT4b4v79ecs0eA+55rAAEEEEAAAQQQQACByhToyWf9ypSgVwgggAACCCCAAAIIIIAAAggggAACCCCAAAIIIIAAAggggAACCCCAAAIIIIAAAggggAACCCCAAAIIIIAAAggggAACCCCAAAIIIIAAAggggAACCCCAAAIIIIAAAggggAACCCCAAAIIIIAAAggggAACCCCAAAIIIIAAAggggAACCCCAAAIIIIAAAggggAACCCCAAAIIIIAAAggggAACCCCAAAIIIIAAAggggAACCCCAAAIIIIAAAggggAACCCCAAAIIIIAAAggggAACCCCAAAIIIIAAAggggAACCCCAAAIIIIAAAggggAACCCCAAAIIIIAAAggggAACCCCAAAIIIIAAAggggAACCCCAAAIIIIAAAggggAACCCCAAAII/H/27gRAjrJO+P9TPT1H7vsiJxDIJeGIucgSAiQBlvVgWVRQFxRlcVUUxUUx67l474bg/n1lEV68+LOgHF5AQBnkSAIEMRyJgpwhF0lIMknm7Kr3ebr71/1UTXVPT0/PTHX3tzQ8Rz1V9TyfPqr6N9VPI4AAAggggAACCCCAAAIIIIAAAggggAACCCCAAAIIIIAAAggggAACCCCAAAIIIIAAAggggAACCCCAAAIIIIAAAggggAACCCCAAAIIIIAAAggggAACCCCAAAIIIIAAAggggAACCCCAAAIIIIAAAggggAACCCCAAAIIIIAAAggggAACCCCAAAIIIIAAAggggAACCCCAAAIIIIAAAggggAACCCCAAAIIIIAAAggggAACCCCAAAIIIIAAAggggAACCCCAAAIIIIAAAggggAACCCCAAAIIIIAAAggggAACCCCAAAIIIIAAAggggAACCCCAAAIIIIAAAggggAACCCCAAAIIIIAAAggggAACCCCAAAIIIIAAAggggAACCCCAAAIIIIAAAggggAACCCCAAAIIIIAAAggggAACCCCAAAIIIIAAAggggECfCTh9diQOVGkCPHcq7RFlPAgggAAClS7gFTFAzvdFoLEJAhES4HUfoQeDriCAAAIIINBLAsWc7wvqCh8GCmKikRbgucLTAAEEEEAAgcoTCF5kcr6vvMeYESEQFOB1HxShjAACCCCAQOUJBM/3RY2QDwdFsVXVRoU+RwptV1V4DBYBBBBAAIF+FijJBaM1Bs73FgZZBCIqwOs+og8M3UIAAQQQQKCEAoWe7wttF9o1Lv5DWajUAvmeG/nWgYcAAggggAAC0RawLx6D5/R866I9KnqHAAL5BPK9tvOty7dP1iGAAAIIIIBAtATsc3qwZ/nWBdtmysEPC5kVZKpWINdzIqw+rK5q4Rg4AggggAACERewLxblHG7Xme4H66Uc8aHRPQQQyCFgv8bl9WzXmc3C6qUux26pRgABBBBAAIEICQTP7aZrYXX56kOHwwVBKEvVVoY9H+w6O2+QguWqhWPgCCCAAAIIlIGAXDzK+VvKwa4H10s52I4yAghEX0Be5/I6lnKw58H1Ug62o4wAAggggAAC0RMInt/tsp2XnofVyTpfygWBj6OqC8Hngl2WvKQGys4H4fKtC7aljAACCCCAAAKlFSj0QtC0M+dsaS95+zwubcJ6aLcLW08dAgj0nYC8jrs6orympX3Y6z7fPnjd59NhHQIIIIAAAr0rIOfvsKPY6yQvqWlv58PKYfvMG/wL3YDKihQIXgBKOVdqEGRdMF+RQAwKAQQQQACBMhaQi0Rz7pZ8ocOxt7HP/YVuTzsEEOgfAXmt26/hQntib8PrvlA12iGAAAIIIND3AnK+N0cOy0tdMJWeSr2UO6VcCHQiqbqK4HNAynZq5w1QsGzXVR0gA0YAAQQQQCDCAnIxaM7dkjeplO3UDCO4ztRJG8mblAUBBKIrIK91+7UbfG0H20hbk5pFypJPVvIfBBBAAAEEEIiMgJzLTYckny8NrpOBSL2UfWncV6JQbQJyYSjjlrJJO+U/cO6rpzbUjVxlGjtObKlsRIoAAggggAACURbwXwu6iZZrTG9vvH20Sc35Xhok85cNvWvpQGfE1aaNozjfGwcWBMpdIKHakq/7a/efEfq6v/Bdm5cOqJ94taPfBfzX+fKRoNwF6D8CCCCAAAKVL+C6bf9hRnnjbSO+bo3WXOsHT+hy/W+aJT8DWO192eCGvpUUKl7Afvwlb1L5ZwCS+Y+8t2mt/yKy4m0YIAIIIIAAAhUikL0u9DzJe6qj/fA3br5j/Df1IKXSuWJo4+9iTs0pFTJwhoEAAgGBDtX6jTX7l/te95ecv/d3TiyuX/epjwOOiR5nFjufqSSDAAIIIIAAAhEWMAFkHTw2QWRznS/X+pK3yzIKqZNyJo1lcmSqTcC+CpS8SeWf8Ujm9cXkvxM0rranB+NFAAEEEKgMgew1oB009vT1Y0284epLzt/zOz1Ocz0Yu3zY2qsJGlfGo84oEMglEFf1V5s/EOn1ydf9Rf+47WrlxE4x7wnyuTL7XmH2kn0PMSUWBBBAAAEEEIi+QCxWt8rcAKp72inGl64zgzDrZLHzUpdMc67wtaJQiQL2Y2/yUpa8SWM6aLwqVlP/xUoEYEwIIIAAAghUvkA26JMKBqXKySBR8u5jT+3e9+w7p2w4tKRODbqq8j0YIQIIGIE97svvdJefdnJt7eDPJz8GpO8ydtKfL7nrmOcJAggggAAC5S9wqHnbWbfcfcxDeiSu/id/JZYPCFKWgUq9lJMpdxz7OKqmIEFiM+Bg3pTtf1WDwkARQAABBBCoLIHstZ99B6EdNDb54UOOIWBcWQ88o0GgS4HhzqSrXLfDydxpnJnGJrWp/Z7BXcddctIAAQQQQACBSAoMbBhnbgS1Y3ySl/6asix2XuoUP46XoajqjDxx7NT8UcHhbuOqfl4weAQQQACBihIwISIdTE7faZwsefrmA/2Pu40r6oFmMAgUJFBbN/gqz7wHOLHUnSTm7UF/Gkh9akz9t6Ad0QgBBBBAAAEEoixgTuomxmfuOg4u2TtNgmvSZe44zgFTwdX2VaCdt4cs9ZLa68gjgAACCCCAQOQFsteA/jsHrY6n7zCMxeJLrFqyCCBQBQI1Tu2S1B+R9GADdxvL8P3vHdn3FFlPigACCCCAAALRFnBSP3otsT1Jg5226+18sh13HAe5qq9snhRh/5J3HFcfByNGAAEEEECgEgVC7jZO3n3spu5CrsQhMyYEEMgrYN4VnMw7gMnrhbuO85qxEgEEEEAAgTIUkJif6XrydB8YQ96/DnPHcUCLYiaIbCh4fvCEQAABBBBAoBIF0tNVmKH57yqsxMEyJgQQyCkg7wU57jrOuR0rEEAAAQQQQKBcBCRwLGm3+k1gsFtcFdU47K8Mdp2dr6iBMxgEEEAAAQSqRSAsKJy69zh1Y4HJsyCAQHUKmPcHeQ+w3xdsjbD3EHs9eQQQQAABBBCIvEAwYBwW7wurSw6MwHHkH98+66A8SeQJJWmfdYADIYAAAggggEBvC1iB4swdhlZdbx+e/SOAQIQE0q/9zHuB6RrvBxF6gOgKAggggAACpRCQ+J6kZp8mX9BC4LggpoptJE8aecLYqayr2MEzMAQQQAABBKpDIH1XoQSH0mmy1uSlvjowGCUCCIiAfu3bdx1n3gtMfTKATBBZqEgRQAABBBAoY4FgfK9bsT8Cx2X8yBfRdXly5NvUbmPn823DOgQQQAABBBCIjEAhwZ5sm1SAKDKdpyMIINBHAv7XfvY9IffhC2mTe2vWIIAAAggggEC/CEhsz6SSz9cRXxsCx/moqmud/cQo9MlUXUKMFgEEEEAAgTIX8AeKzGAIBJX5Q0r3EeihgP89oPN7RA93z+YIIIAAAgggEAUBO+Zn+hMs5+wjgeOcNFW5IvjECZarEoVBI4AAAgggUEkCycCQb3oKf+CoksbKWBBAIJ+A9drPTE+Rrz3rEEAAAQQQQKAMBSS2F0wLGgqB44KYqqpRUU+kqhJisAgggAACCFSKgC+AXCmDYhwIIIAAAggggAACCCBgCRQd6yNwbCmSRQABBBBAAAEEEEAAAQSqRoA/HlXNQ81AEUAAAQQQKEaAwHExauW/jfyloauRFNquq/2wHgEEEEAAAQT6WMDrIiAk6yXt4+5xOAQQKBMB3iPK5IGimwgggAACCIQLFBrbC21H4DgctdprQ58s1Y7C+BFAAAEEEEAAAQQQqBQBCQhLWinjYhwIIIAAAgggECpQVKyPwHGoZdVVFvXkqTolBowAAggggEBZC1g/hFXW46DzCCDQuwK8V/SuL3tHAAEEEEAgEgIFxQIJHEfisaITCCCAAAIIIIAAAggggAACCCCAAAIIIIBAdAQIHEfnsaAnCCCAAAIIIIAAAggggAACCCCAAAIIIIBAJAQIHEfiYaATCCCAAAIIIIAAAggggAACCCCAAAIIIIBAdAQIHEfnsaAnCCCAAAIIIIAAAggggAACCCCAAAIIIIBAJAQIHEfiYaATCCCAAAIIIIAAAggggAACCCCAAAIIIIBAdAQIHEfnsaAnCCCAAAIIIIAAAggggAACCCCAAAIIIIBAJAQIHEfiYaATCCCAAAIIIIAAAggggAACCCCAAAIIIIBAdAQIHEfnsaAnCCCAAAIIIIAAAggggAACCCCAAAIIIIBAJAQIHEfiYaATCCCAAAIIIIAAAggggAACCCCAAAIIIIBAdAQIHEfnsaAnCCCAAAIIIIAAAggggAACCCCAAAIIIIBAJAQIHEfiYaATCCCAAAIIIIAAAggggAACCCCAAAIIIIBAdAQIHEfnsaAnCCCAAAIIIIAAAggggAACCCCAAAIIIIBAJAQIHEfiYaATCCCAAAIIIIAAAggggAACCCCAAAIIIIBAdAQIHEfnsaAnCCCAAAIIIIAAAggggAACCCCAAAIIIIBAJAQIHEfiYaATCCCAAAIIIIAAAggggAACCCCAAAIIIIBAdATi0ekKPZkzf9l4FYtPT8TU/kFtb23ZuHFjOyoIIIAAAggggAACCCCAAAIIIIAAAggggEBfC5QscDxjyYojalz1sOupumIGEXOcnz2/bu0Xitk21zZzTj5jfsKN3SHrGxraj3u6sXGflItJZy1e8RPPU6eZbR3l/XDz+geuKWY/ss3ck1eObXe9byjlvcdVzpDkfj2lDteOVDMXrXhC3xJ+0/OTh9+gbr89IduQIoBAeQt8dlW9OmZmTY8H8Uhjh/rZj9p6vJ9S7eDST9Wrk+anxqXPBerj/3xY6fdLFgQQQAABLTB96XB16R1zMhb3XvOq+sPqrZlyV5mP3ztXTX178lJRea5SV419tKtNurX+i8/MV8MmpC7jX3hon7rhvOdCt7fb7Xm5RX17/sbQdoVUnvhPY9QFPzw20/Rb8zaqva+2ZMpkEEAAgXIT4Dq/3B4x+osAAl0JlCxwHO9wh7tO7CinqyPmWu+pKblWFVuf8GrG6eDuJNm+tal+gM73KHCsoyBzHOWk9xmbKPsuJp21YPk57a77/+sQtP4U0FlO18zXMZf5s1/f94H43JVnbtq09lAxx2EbBBCIlsCoMTEV63ncWI0c1fl9oz9HOnqMkxkX8yD15yPBsRFAIIoCe19p0V8sy75vn/KxiQUHjhuG1KhpC4cqJ71568HS308wZExtpn9D0wHkMEe73aDRtWFNCq4bdWRD5phmo4Ej4jpwXPDmNEQAAQQiJ8B1fuQeEjqEAAI9FOCzfQ8Bi918zuIzp6uY85tU0Dj/XnTweEnHQPXj/K1YiwACCCCAAAIIIBBVgb2vtaimndlviQwZW6tGTmkoqLuLL5mQCRqbDbbc/1ZB29EIAQQQQAABBBBAAIGeCJTsjuNgJxxP3efGnIeC9bnKnueuy7WuEutdz/2Bb1yOc7e+6XjVuLq2LTub6sd4cfdCfVfJ96SNp7zzdLB5wXPr7ntc6kgRQKA8BRrv71Czjwv/u92kqTE1dFj6ljI9vJ3bPbXnTf2d5JDlIb2fKC173vTU5GmpHnXorjFNRZQeHfqCAAJRENh09x615NIJma4su3yiuuPKv2XKuTJvf99Y36rG6wqf4sK3YQkKTW+2q6HjU1NavPU600qUgJRdIIBABQlwnV9BDyZDQQCBpECvBY71fL13bFm39n9w7iygA8AjdeB4hbXm/s3rTv5Hpb7ibk5VbtfJf85auPIN5Xh6KovUooPrH9Q5AscCQopAmQqs/U27Wqu/bxC2vP+SOnXq8uxb82/vaFfrH4lWgDis36bu+jWtuVZRjwACCCCgBR7UAV87cHzcO0Z1GTiO18fU2BkDM35mmorX/3QwU+7rzDXHPdHXh+R4CCCAQNkIcJ1fNg8VHUUAgQIFwm95K3BjmhUn4CYSi31bet6XTNDYV6cLmzesvVXfdfyS1LuOmi15UgQQQAABBBBAAIHyEti3tdU/XcW4OjV8Un3eQSz4wDimqcgrxEoEEEAAAQQQQACB3hIoq8DxtGXLGubNm9ezX+HohuS8ee/I3t7Rje26aqqnnViv7yS+Qre7zUzpsXnKiJy3buj5jdM3IevZkD01qat9sx4BBBAIExg4SP+sZ3YGjLAmvrq4fqdtGNCNDXxbF18w/YyV1Zmp+LGyJQIIVKeAma7CXk67PP/l3YIPjrObq0KmqTA/phdviNabaf2gGlU7IFp98sFSQAABBMpUgOv8Mn3g6DYCZSKQ/T50BDs8/eyz6+NvdVygQxcX6QDqbKdFjT1cO1LNXLRilw6B3O056mY9HcZjper6UfOWD6urdS7R+75Iz84597BqUbMWmRklvKeU5/xk85Th/61e7/mPkWx5/PfmE8O16X9Kbcg9Aj32WXrsyUXn/5K7JWsQQKCaBSZNianLrqhXjv5M7unvL6z5ZouaPbdGnXJGXB0xMaZMINgse3Z76pYb29QzTydSFen/TpkWU++7uE6NHe8oc/EZT58dzDzFZr7iA/s8deetberxx/zb2Ts57cy4Wv73qQMdbPLUN1d1nvsyrM15F9aq4+fVqNFjdT/Tx21p9tRTjyfUbT9tV4cPybugfTTyCCCAQHkKBKermPuuUerOfwuf59i8px/xtkGZgeaapuLEfxqjTv/MJDX8iHrVMDSePBeYjcz5oL0loXZuaVa/+PSL6o1NPZ/i4oLrj1XTFg5N9ulvD+9Xt33yhUz/gpmFF41XK/5tsho2IXV+MutNn8zcyL+6+uVgc8oIIIAAAiECXOeHoFCFAAJ9JhDZwPGMJWfNcN7qeEAHS5O3Yeg0s+i8/oUQ76P6DtyP6sDujQPb935s48aN7ZkGRWRmLjprmlKJh1PHCwYpnJP0D9edNPv1/Qs85RT289dF9CG4ybGLT5+ogzZHSb0+NvMbCwYpAgj4BI46Rs+BqYO+spgg8HEn1kgxk44a7ahPXlWvHvhdhw7KtqlaHef9/Ncb1GT9o3xhi7lL2bQZNcZRH/lkvTrnXFd9+XOdA8Jm27kn1agxY1N9GK3bhy3BNl/Qxz5yeudjm7udTz41rk6YX6O+qo/31t7g+3LY3qlDAAEEoi8g01UM0dNUmMWkw3TAd/+2zvPEn3DeGBWLZ99Ptzzgv4Fh0gmD1SW3zVFDxqb/OhgYvgk81w2sUZNPGqyu+OMJ6rEbt6s7PhsepA5smrM4a+VINXBE6iNEjdW34AaX/fo4Nf2UYcHqZFB75NQGddHPZqnXNzZ1Wk8FAggggIBfgOt8vwclBBDoW4HOn9b79vihR3vbyacfHUt0PKEvk/N/dy+19SXNtSN79CN8c+acXxdzEr/v6nh6iokL9SH7bJ7huBf/jg3keR6BYxuEPAII5BQICxrbjZ/9c+rOYROgzRU0tttLfsKkmHrHeeEBCmlTaGqC0mFBY3v7gQMd9YX/6LO/19mHJo8AAgj0msCf79rt2/dpl0/0laVw8ocnSDaZNq7Z6iubgHCuoLGvYbqwWO/PBJt7ezlv9fTQoLF9XHMOmPL2IXYVeQQQQACBAgS4zi8AiSYIIFAygV6749iJuQMLmY94yJAhXmNjo/4idHZx3fjX9B3FmStJfZ/ZLsdzbnGUt9F1vAGOEztHed67ZAu9/uIZC8/8yV823Peg1HUnTQzZd6G+e/mowDZ6/mHvXn1bRJvnucd7jnORvr7Vdzrbi54so5eWmQtXrEwHqtNH8J4aP6DjD1t66XjsFgEEKlPgz08l1OZnEmrIEEct1nfwjhzlqD/c16Ge35QKHDcd8JRpc7y+W9jVVU+u1+uecdWrL7nJOZEn6ykszjm31nc38xlnx9Wvf9mjL3n4sM10GE+uS6jt29zk3c2Ll8bV8BHZt1eTP+HtNerpJ1N99m1MAQEEEChDgQfXvKH+7l+OyPR87rtHq7s+n/k95Ez9lHmZy2EVNk3Fupt2qDO/MFUNHlObXL/+5h3q1ceb1LZnD6qBI2vVMacOV6d9epIycx6bxQRrz/nKNHX9u5/NHKPUGTO38sLAvMyJdi95d/HrTx9Ug0fVqulLhyXvtA4e2/SPBQEEEECgMAGu8wtzohUCCPRMoNcCx3pO4NV6PuLVXXWvuVWZq+Sjpd2cxWdOdz3X3NmbXrwmz40t2vL42pelRqc3zFq0cpUOLn9d6mKO+zmdLypw7Djeh3V/ZVc69VZtXv/ANVbFz2ctXHGDnq7ir1Zdr2XfNn/l5ITj/kJf3lvHqPloY+MDvgC7tZIsAggg0Enghuta1RM6ICvL3be3qyFDHWWCxfbyo++3qjPOqlW/v7ddtQZmodj6mqvW/bFDfeu/BySDzma7Afou4FItCd29L1/ZrHbtyPbpzlvbk3cZH3l09ksxy1bGCRyXCp39IIBAvwuYaSkO7GhTQ8enpqsw6bAJdWr/9rZM32atHKFq6rLvt8FpKqThD9/5jDpy8VBlgsi+5aUW9dqTTWrDj3eoL21ZkJnyYsSU3v0Wx+IPjc8cy/THzGn8X6f8Sc+zfNjXvc9tOEmNmzHQV0cBAQQQQKAwAa7zC3OiFQII9Fwg+6m85/sqag+up3zfl0u43um+HXmxS//iDxonV49raPuWvpR+1Gp79rRly7p9JWx+gE8HjU+R/Zh9jmvo+LaUJd284f4X9B3IH5Zyb6VmDB013i910Dhzi4nu039uXn/fU711TPaLAAKVJ7B7l+cLGssIg0FjU2+Cxb+7q3PQWLYx6UZ9J7Is5o4w8wN6pVju+1W7L2gs+7z+Wv9cn6NG9/vpSrpGigACCJREYFNguopln5rk2++SS7N3JJsVD33/Dd96KezYfLhz0FhW6vTg7na186/ZoG13prawdlNwdubyEb62917zaqegsWnwg79/Rpk7kVkQQAABBLonwHV+97xojQACPROI3CdxfffvAntI4wa06TtvOy9megv99ebr7TUDWuq7Pf9wbF/iSHsfeiqMW4NTZ8h6/TNSOqDbu8uAltrVOhwzX46i84+2jYh/UcqkCCCAQCECf3oiG+gtpH1Xbew7gk3bQYO62qKw9Y/4ZyrKbLR3t6dardjx4Myf0jJNyCCAAAJlLfDgdf5A8PF6ugp7OXpJ9oflzDQVr/Xgh+SadmSnF8r3g3b28YvNjz3Wfxfxg9f652WW/R7a0662/umgFEkRQAABBAoU4Dq/QCiaIYBASQR6b6oKpX6m7+T9bVe99JSz09fGcUbr+YuTVfq/T+QK4poG+m7lzTHfTW+Jkb59FVCodRJDXM+Kn7tOzukoXtxwz4GZi1bs0ocMzHVcwIEKaDJ74fIP6TFfJk11fpdbo97z4j33WOETWUuKAAII5BbYuT31Ppq7Rec15ofvjjuhRo0/wlEjRzuqxnprHD3WKnTetKga81Zv7pjItRw66Kn6+tSbvFP6w+c6LPUIIIBAnwiETVdhpqwwU1hMWzRU1Q7IvvH95fdvddmn6UuHJ6esGH1UQ3Lai+SExumtJp/o+4Jfl/vqSYNaPcexLK2HEnr+/Nzv89ueO6SmLuAvg+JFigACCBQiwHV+IUq0QQCBUgn0WuDY85yHt2xYe2u3O+p5mdsrYp7am3f72pomZSbITC/6snSo5AtNE67j/8J1zMl764MOYezT+y554HjmwpXzPMe7yddvxzn3L4+u3earo4AAAggUIPDW3twf1IObTz0qpi6+rE5NnJz9sB9s0x9l82N9LAgggEAlC5jpKv7usuyUFKd+YqL69aqX1dKPZevM+BsDdyfbJm+/YKz6h68dmfyBPLu+v/Lmx/FkSbTmPxe17C/tt2PkuKQIIIBAJQtwnV/Jjy5jQyB6Atkru4j0TQdma6Ur+vfq9M9p5F5iHQnf+pjjpH4yOvcmndYEt9HB6q5CFdYVrpP/arjT0cIrjp23bLRVHr08AABAAElEQVRyvLvstXoO0cu2rFv7mF1HHgEEECi1wPCRjrrqqw2RCxqXepzsDwEEEIiiwINr/NM4nHDemGQ3jz09O09wvmkq5r5ztHrf/zk2MkFj03kzD74sXvpbhFIOpokO/6V0F82Dm1NGAAEEEMgjwHV+HhxWIYBAwQK9dsdxwT0INNTB4n1KriEdL+/36lzl6i/xWbFvL//dwoFDJYue6x2yr3DNPsPaSZ2+GG7IXtTq3vZwWbZsWXxnS+0tejf2L6Lc+Py6+33zN/fwMGyOAAIIhAp86vP1Km6dCTr0n8b+ujmhdmzz1L63PP0V49RmM2braSxO7Pbf5kKPSSUCCCCAQEpg//a25NQUZooKswybUKeOWTZcNQzJvt/mm6bi/TfOSO0o/d9mfQfvC4371N7XWtXBN/W8xumL1pM/MkGNnNrt35D27bvQQqJNLuSVqqmzrtNDdmCP06y2g84hzalCAAEEEOiGANf53cCiKQII5BSwwgU52/TpCsdz9nvpyLGe7sJ/NRzoib7BeKq+Is7Uuo7anykUmHGVdzimsvFfffzJuTadN29e7WFPHZVrfTH1O1pqv6qPvkK21aN5oqWh/RNSJkUAAQR6U2D8EdkP9WZO4as+0azaQmZVP3woTuC4Nx8I9o0AAlUr8Gc9XcUp1nQVF/10ls8i1zQVE+cOVjW12WvYF/+4T/3wnc/6tpWCmf+4rwLH7a3ZLwTWD8oGwKUvdjpqWt8Es+1jkkcAAQSqRYDr/Gp5pBknAr0rkI0Y9O5xurF37zlprC+Fx86ef+YcKQfTmPJW2nVuW1vOH7az29n5eCzu+46gvtPhdHu9nT9UN2q+Xe5pftbile/WY7w6ux+vqc6L/+MrjY0t2TpyCCCAQO8ImK+v1Vif6R+6vyM0aGyOPnZ8NjjRO71hrwgggEB1CjQGpquw78I1Py732samUJiZK7LTWZgGt1/+Ymg7UzlU38ncV8sBfRe1LOaHTY9ekvn5EqnOpFMXdPvnSTLbkkEAAQQQyC3AdX5uG9YggED3BCIXONZ3DT9qD8GrSfxk+tln19t1Jj9j4Zmn6btz7Ttzn//rxsbddjsn4WZvR9YrnFpvir3e5J9bd5/5Ab5MwFlvcPGsRcuXB9vNm/eOgY7n/d9gfbHlGUvOmqG/Pninb/tY7B82bbjHF8j2raeAAAIIlFDAnqLC7Hbg4NzB4XmLIvcFlRJKsCsEEECg/wRkuoqwHuSbpsK+29hsO2h05mdCfLsaODKuxs0Y6KsLK2SnYtOB5nHFB5r/9oj5HenscvEts3x3Rsua81ZPVwNHcG4RD1IEEECglAJc55dSk30hUN0Ckbta2zJp+COzXt9nArnHph4a56S6txI3zVi04geD2/c+3l4/akR7Qp3uOe4a30PnOP/lK+uCq5yddmTcc7yPz1l85h51YOhrzz13e+Z2CP0Td7/UsxV/Qbb3lPPz2YtXfMJNuH8YlNh3wNxpfNhr+bRen+6TtCwunbNs2WC3JfGrwNa3eQl1aObClfMC9ZliTczZrwPduW8nybQkgwACCHQtsHuXnhhI/7VM5pRcenpcbdyQUH95LvsboUOGOurSy+vUmLG5g8pdH4kWCCCAAAL5BJ6+40219F8ndmqSa5oK03DbM4d87T90y2y15vSn1b6t2fmGJp0wWH341tmhgVvfxrrQ0pRQtfrXQ8wyaFStWn7lZPXEz3eqAzvblJedfSK5Pt9/Nvxkp1p2efanOwYMi6vPPnqSuv+7r6lNelqOcTMHqsUfnqAWf2h8vt2wDgEEEECgBwJc5/cAj00RQMAnELnAsbr99oS3aOWVjvIygVUd2rhQX8ZeeLh2pI4GmyhH8v+Zgeigx0vOgWE/zVSkM/Vx57V2+6ZjT31Q//jdB9WQZGA6M3+y1xH7vqp1M4FjvfuxOphymxOLqcOxkUrfaRzcdY/KXnP8DD2GYBD6PY7jvSffjrXDS3r90fnasA4BBBDojsC2ra6aODkVKIjpaSs+u6peHdaTuTfreESD/qnQgYOcTGC5O/ulLQIIIIBA4QIPff+NToHj5DQVT4ZPU2H2/Py9e1WHnk84Xp96Dx8ytlatenZ+8kfx2lvc5N289YOt+Yi66M6BHa3K7EOWs1ZNVebfg9duVb/9yitS3WX65ovN6o0/H1QTj8/+xvXYYweo998wI/mvyx3QAAEEEECgJAJc55eEkZ0gUPUCqSvNiDFsWb/21/o378wdvl0uJmgcd+On2ncQy0abHlu7SweBb5aypDoM7Pu+3uaN921XnnOBrM+V6u22+tfpe5WLWWJO8d//K+Z4bIMAAgjkEPif69pUS7P/rWzgQEeNGuOoQXrqCrkbOZG9CTnHnqhGAAEEEChWwExXYf7ZS75pKkw7N+El5zUO3g08eEytGjG5XtlBY7fD/z5vH0fyv/nSK5L1pXUDCw8+y4Y3XbBZmcB3V4sJfNtLie/VsHdNHgEEEKg6Aa7zq+4hZ8AI9IpAyQLHHV5Ns91DHWzYb5e7m9+84f41+jvUi3Xg1zfncXY/XpMOaXxVTyexIN+8wC3tng5Aez/IbqdUzFH+K3O9cvOGtbfqi9Uzddun7LaSN/1wncQiXW7M1HmefxI3WdFF6iW8w100CV2tb57eE7qCSgQQqBiBZn23r70cOOAv2+vsfHC7g02Fbbdd33F85cea1asv+z+8y77Nh/iXX3TV6mv8v9nZmv0mtDTVAehMVrnhuyuojeylvT07hraQ40k7UgQQQKASBNbduD0zDPPe++DqwP0KmbXZzMb/3aW+d/JT6vDejmyllUu0eeqxH21X627akaltDwRrZcULjfuUCR6bbewl0eF/Q7eDvWZ6i7Bl/7ZW9Z35TyXvPA5bb8a36Ve71W++/IpvdcuB8HH4GlFAAAEEylQgeL3OdX7qgeQ6v0yf0HS7agR0PDT6y/RTzh5T39E2T7k1gxMx1aKD0q80eU1/27punRWm6GocX4kdu/iPE+q82NBEe82+5F3GOTYxP1wXS3RM9hxnjJ4oeU9NLPZShcwtLI+3nZq8+QOCpCZvbi1Jph993yHfDw7qehYEEKhQgfoGpWbOrlHTZ8ZUs353feaphHr9VX/AoEKHzrAQqDCBVODPM9G55KInu9L/MxPVJnPmFlX9z82kCTX2D6+k25KUq8DQ8XXqmGXD1WQ9r/GuF5rVc/fsVSaAW8xipqyY8LZBqibuqBf+uF916Kkvil2GHVGvjjl1mBo/e1ByF2Yqi01371bN+wgSF2taqu12nT5N31CjL/udmE71pb/+55h/yXkB02nyI4JeJV9BSpdL1Qf2gwACfSPAdX7fOHMUBKIocMOtg0brfpm/9psLOklN3nxYkDT7wUFX6kXKnPlTHlXzXztgbAZtyhIwlpTAcdU8HRgoAggggEBlCqSu8wgcV+ajy6gQKJUAgeNSSbIfBBBAAAEEoivQ08CxCRKyIIAAAggggAACCCCAAAIIIIAAAggggAACCCCQESBwnKEggwACCCCAAAIIIIAAAggggAACCCCAAAIIIGAECBzzPEAAAQQQQAABBBBAAAEEEEAAAQQQQAABBBDwCRA49nFQQAABBBBAAAEEEEAAAQQQQAABBBBAAAEEECBwzHMAAQQQQAABBBBAAAEEEEAAAQQQQAABBBBAwCdA4NjHQQEBBBBAAAEEEEAAAQQQQAABBBBAAAEEEECAwDHPAQQQQAABBBBAAAEEEEAAAQQQQAABBBBAAAGfAIFjHwcFBBBAAAEEEEAAAQQQQAABBBBAAAEEEEAAAQLHPAcQQAABBBBAAAEEEEAAAQQQQAABBBBAAAEEfAIEjn0cFBBAAAEEEEAAAQQQQAABBBBAAAEEEEAAAQQIHPMcQAABBBBAAAEEEEAAAQQQQAABBBBAAAEEEPAJEDj2cVBAAAEEEEAAAQQQQAABBBBAAAEEEEAAAQQQIHDMcwABBBBAAAEEEEAAAQQQQAABBBBAAAEEEEDAJ0Dg2MdBAQEEEEAAAQQQQAABBBBAAAEEEEAAAQQQQIDAMc8BBBBAAAEEEEAAAQQQQAABBBBAAAEEEEAAAZ8AgWMfBwUEEEAAAQQQQAABBBBAAAEEEEAAAQQQQAABAsc8BxBAAAEEEEAAAQQQQAABBBBAAAEEEEAAAQR8AgSOfRwUEEAAAQQQQAABBBBAAAEEEEAAAQQQQAABBAgc8xxAAAEEEEAAAQQQQAABBBBAAAEEEEAAAQQQ8AkQOPZxUEAAAQQQQAABBBBAAAEEEEAAAQQQQAABBBAgcMxzAAEEEEAAAQQQQAABBBBAAAEEEEAAAQQQQMAnQODYx0EBAQQQQAABBBBAAAEEEEAAAQQQQAABBBBAgMAxzwEj4MGAAAIIIIAAApUu4FT6ABkfAgiURID3ipIwshMEEEAAAQSiLVBQLJDAcbQfxP7qXUFPnv7qHMdFAAEEEEAAAQQQQACBngk4TipALGnP9sbWCCCAAAIIIBBxgaJifQSOI/6o9lL3Cn2yFNqul7rJbhFAAAEEEECgWIGugkGyXtJij8N2CCBQ2QK8R1T248voEEAAAQQqXqDQ2F5oOwLHFf/8YIAIIIAAAggggAACCCCAQIhA+q7jkDVUIYAAAggggAACisAxT4KggPyFQdLgesoIIIAAAgggUCkCBI0q5ZFkHAgggAACCCCAAAII5BKQGJ+kudp1qidw3ImkqiuCTyDPddserWoRBo8AAggggECFCThKz2vqCxg7qt1r3lBhw2Q4CCDQhUAiYb3u9XtC8r2hi21YjQACCCCAAAJlJyCxvmBa0EAIHBfEVBWN5AlkBmvydrkqABgkAggggAAClS7QOTDkqMOH37iu0sfN+BBAwC/Q5O1Mv+5TP5Anazu/R8gaUgQQQAABBBAoN4G2tn3fSfc5GOMLlnMOjcBxTpqKXFHIE8Nu4+1reuHbFSnBoBBAAAEEEKhYAX8gKHyY2TYxp8bd5j57bXg7ahFAoBIFHFXj7tj7uPW6z74n5B5vIW1yb80aBBBAAAEEEOhbAceJmRifxPnsfL6OSPtkGwLH+agqf508aeRJYafJdb+8Z8GjTFdR+U8ERogAAgggUMkC6a+gy/QU6dTUNrfsvPa2e+at+cXBz6xv91rWV7ICY0MAgZTAQW/3tdcfOHfN7x9+//qE27I+c5ex9R6RqiNQzHMGAQQQQACBchUwdxvf/MsJ5o5jif3JUDrF/mRFWErgOEylOuvCnjjJJ9eNt414V2vr3u9WJwujRgABBBBAoJIEsoGgRKJt3W2/PX61Hp1r/l13YMV7TUCpkkbLWBBAwC/Q4bWu00HjzOv+Z3dOe+/h5h3W6z77HuHfkhICCCCAAAIIlIuAuQH0x3dMtIPGEjy2Y38FDYcrg4KYKqqR/ZibfPCf+WOC+Wfqa6w09s/nvnaVLqv6+lFXmpQFAQQQQAABBKIqINeE+hYDL3Wd6OmbDdxE8zpXh4l37tmw+t6H3mXuMJaGJk1eE1w29K4rzKgGOaOSqcmzIIBA+QqYYLHp/Q538+r/PfjJ0Nf9e9/x7GdqVI03YMCEK8yPZ8odx47chZwcvnmLYEEAAQQQQACBKAokEq2PmX7t3f/sd+9au/QRnTU3hyTSqcmb6/3kDSPpfOpDQu47knWz1AeEZIb/VI2AfcWX/ICYfh7YeTt4LHk7tdvaeYNoyiwIIIAAAgggEA0BCQzbvZGLRKmz28h5XM7v0kZSWS9lUgQQiJ6A/ZqW3vG6FwlSBBBAAAEEyltAzvNybg+mEhwOpqadBJCD25iyLHZexaWWtGoFfE+ItIKpM08mEyw2eSnrbHKRD5PB1F4veVIEEEAAAQQQ6FsBc96WAK/Jm0XSVCl7fpeyncr5PVhnyvZ+JW+3I48AAv0j0NXrXt4DJA32ktd9UIQyAggggAAC0ROwz+MmH/ZPAsZh68Lq8o6SwHFenopcaZ4k8kHPztuDlXp5QkkQ2aRmkQtLO02tye5byqQIIIAAAggg0PcCci43Rzb54BJWJ23sbaXOpF1dP9htySOAQN8L2K/dsNd4WJ300t5W6kzK697WII8AAggggED/C9jnc5MP/jOxO1MnqbSXNDgCu97OJ9sROA5yVWe50xNDM9jBYnPnsSnLhWMwYGzXi6DUSZkUAQQQQAABBHpfIOycburMeVnWSZqvN/Z5XLa162TbsDpZR4oAAn0jEPaa5nXfN/YcBQEEEEAAgb4SsM/3krdTk7eDxXY5WG/WybZ5+0/gOC9Pxa40Tw75oBfM24OWJ5EEjWUbO7Xzsq3USZkUAQQQQAABBPpOQM7f9hGDdXZZztvBOlMvddLG3mdYnb2ePAII9J2AvFbtIwbr7LL9+pZtzM0iZpF2Ya/xsLrUVvwXAQQQQAABBHpbQM7R5jiSN6n8M/W5gsTSRrYzbXPlzbrkwolfJKovtR97yZtU/hkRyctFpEmDbaWdnZp82CLbhq2jDgEEEEAAAQS6J2Bf6IVtadabc6/dTuqkvSnLejlPSxpsK/uS9bKPYNrV+mB7ygggULiAvF5zbSGvW7ud1Mk2pizr5fUqabCtqQ/WyX7sVLa368gjgAACCCCAQHECcp7OtbWst9Ng3pTtILLZl6mTf1I2qVlk+1Qp/V9O8D6OqivYj7/kTSr/DIjk7dSul7xJZTFtWRBAAAEEEECgfwRCL/p0V7qqz3X+7m59/4yaoyJQ3QJdvb6DOtK+u6/vXO2D+6eMAAIIIIAAAqUXkPO37FnKJg3mpS6s3mwv9cG8KWcWpqrIUFR9xjxhzIWg/cSxUWS9aWO3k4tHSe1t7HxX6+225BFAAAEEEECgMIFc523ZWs7fwXZSDp7Tpb1sL6m06+p83tV62R8pAggULyCv31x7kNdxsJ2U5fVstpd82Gs33zr72GHb2uvJI4AAAggggED3BeS8nWtLWS+paWfy8s8uS96kZrG3SdXk+C8n+RwwVVQdfA5I2U7tvKEJlu26KqJjqAgggAACCEReQC4Kzblb8iaVsp2awQTXmTppI3mTsiCAQHQF5LVuv3aDr+1gG2lrUrNIWfLJSv6DAAIIIIAAApERkHO56ZDk86XBdTIQqZeyL5ULA18lhaoTCD4PpJwrNUCyLpivOjwGjAACCCCAQMQF5GLQnLslX2iX7W3sc3+h29MOAQT6R0Be6/ZruNCe2Nvwui9UjXYIIIAAAgj0vYCc782Rw/JSF0ylp1Iv5U4pFwKdSKq2IvhcsMuSl9Qg2fkgWr51wbaUEUAAAQQQQKC0Al1eAKYPZ9qZc7a0l3yh5/FC25V2dOwNAQTCBOR1HLbOruN1b2uQRwABBBBAoLwE8p3v7XWSl9SM0s6HlUMluOAPZanayrDng11n5w1SsFy1cAwcAQQQQACBMhCQi0U5f0s52PXgeikH21FGAIHoC8jrXF7HUg72PLheysF2lBFAAAEEEEAgegLB87tdtvPS87A6WedLa3wlCgjkDgZz8cizAwEEEEAAgfIWkAtESc1o7Lwpy/le6qVs1rEggED5CchrWVIzAjtvyvI6D9abdSwIIIAAAgggEH2BsHN4WJ0ZSa760FHKRULoSiqrWiDfcyPfuqpGY/AIIIAAAgiUgYB9sRg8p+dbVwZDo4sIIJBDIN9rO9+6HLujGgEEEEAAAQQiKGCf04Pdy7cu2DZTDn5YyKwgg0BaoNDnSKHtgEUAAQQQQACBvhMo6gIxT/c43+fBYRUCERHgdR+RB4JuIIAAAggg0IsChZ7vC20X2lUu/kNZqAwR4LkSgkIVAggggAACZS4QvJDkfF/mDyjdR6AAAV73BSDRBAEEEEAAgTIXCJ7vixoOHw6KYmMjLcBzh6cBAggggAAC5SVQzMUj5/vyeozpLQJBAV73QRHKCCCAAAIIVJ5AMef7ylNgRAgggAACCCCAAAIIIIAAAggggAACCCCAAAIIIIAAAggggAACCCCAAAIIIIAAAggggAACCCCAAAIIIIAAAggggAACCCCAAAIIIIAAAggggAACCCCAAAIIIIAAAggggAACCCCAAAIIIIAAAggggAACCCCAAAIIIIAAAggggAACCCCAAAIIIIAAAggggAACCCCAAAIIIIAAAggggAACCCCAAAIIIIAAAggggAACCCCAAAIIIIAAAggggAACCCCAAAIIIIAAAggggAACCCCAAAIIIIAAAggggAACCCCAAAIIIIAAAggggAACCCCAAAIIIIAAAggggAACCCCAAAIIIIAAAggggAACCCCAAAIIIIAAAggggAACCCCAAAIIIIAAAggggAACCCCAAAIIIIAAAggggAACCCCAAAIIIIAAAggggAACCCCAAAIIIIAAAggggAACCCCAAAIIIIAAAggggAACCCCAAAIIIIAAAggggAACCCCAAAIIIIAAAggggAACCCCAAAIIIIAAAggggAACCCCAAAIIIIAAAggggAACCCCAAAIIIIAAAggggAACCCCAAAIIIIAAAggggAACCCCAAAIIIIAAAggggAACCCCAAAIIIIAAAggggAACCCCAAAIIIIAAAggggAACCCCAAAIIIIAAAggggAACCCCAAAIIIIAAAggggAACCCCAAAIIIIAAAggggAACCCCAAAIIIIAAAggggAACCCCAAAIIIIAAAggggAACCCCAAAIIIIAAAggggAACCCCAAAIIIIAAAggggAACCCCAAAIIIIAAAggggECfCzh9fkQOWCkCPHcq5ZFkHAgggAACCCCAAAKVLOB1c3Bc53cTjOYIREygu695031e9xF7EOkOAt0UKOZ1X9AheHMoiIlGWoDnCk8DBBBAAAEEEEAAAQTKXyD44ZLr/PJ/TBkBAl0J8LrvSoj1CFSeQPB1X9QIuUgoiq2qNir0OVJou6rCY7AIIIAAAggggAACCPSxQEk+KFp95jrfwiCLQEQFeN1H9IGhWwj0okChr/tC24V2lYuAUBYqtUC+50a+deAhgAACCCCAAAIIIIBAtATsD43Ba/l866I1CnqDAALdEcj32s63rjvHoC0CCERLwH5tB3uWb12wbaYcvGjIrCBTtQK5nhPB+mC5asEYOAIIIIAAAggggAACERaQD4py/S5l6XKwXsqynhQBBMpLwH6Ny+vZrjOjCdZLubxGSm8RQEAEgq9xUx9Wl69e9uVLeXPwcVR9Iez5YNfZeYMVLFc9IAAIIIAAAggggAACCERIQD40ynW7lINdDK6XcrAdZQQQiL6AvM7ldSzlYM+D66UcbEcZAQSiLxB8ndtlOy8jCauTdb6UNwYfR1UXgs8Fuyx5SQ2UnQ/C5VsXbEsZAQQQQAABBBBAAAEEeiZQ6AdA085cq0t7ydvX79ImrEd2u7D11CGAQN8JyOu4qyPKa1ra87rvSoz1CERXQF7HYT2010leUtPezoeVw/aZN/gXugGVFSkQvACUcq7UIMi6YL4igRgUAggggAACCCCAAAJlJCAfDs01u+QL7b69jX3NX+j2tEMAgf4RkNe6/RoutCf2NrzuC1WjHQL9LyCve9OTsLzUBVPpudRLuVPKG0InkqqrCD4HpGyndt4ABct2XdUBMmAEEEAAAQQQQAABBCIkIB8CzTW75E0qZUlNlyVvp3a95E3KggAC0RWQ17q8lk1Ped1H9/GiZwiUQkBe92Zfkg9Lw+rs48t6uy6Tj2dyZKpRwJxU7EXKJu2U/8C5r57aUDdyldnAcWJL7Q3JI4AAAggggAACCCCAQFQE/J8B3UTLNaZnN94+2qTmOl8aJPP/OuzXpzSooV80bRzFdb5xYEGg3AUSqi35ur92/xmhr/sL37V56YD6iVc7+l3A//leQgHlLkD/Eag+Addt+w8z6htvG/H1LkYv1wGmmX1d0Gkz3hE6kVRVhf34S96k8s9gJPMfeW/TWv/JpKqcGCwCCCCAAAIIIIAAAmUkkP086HmS91RH++Fv3HzH+G/qgUilc8XQxt/FnJpTymhwdBUBBLoh0KFav7Fm/3Lf6/6S8/f+zonF9es+FQZwTPQ4s9j5TCUZBBAoIwETQNbBYxNENud7OedL3i7LqKROypk0lsmRqTYB+2wgeZPKP+ORzOuTyr8TNK62pwfjRQABBBBAAAEEEChPgexnPzto7OnPjTXxhqsvOX/P7/S4zOfA2OXD1l5N0Lg8H2V6jUChAnFVf7X5A5Fun3zdX/SP265WTuwU854g8aTse4XZa/Y9xJRYEECg/ARisbpV5gZQ3fNOMb50nRmUWSeLnZe6ZJpzha8VhUoUsB97k5ey5E0a00HjVbGa+uTX1ioRgTEhgAACCCCAAAIIIFBZAtmgTyoYlCong0TJu489tXvfs++csuHQkjo16KrKGjujQQCBXAJ73Jff6S4/7eTa2sGfT378T99l7KTjStx1nEuOegTKV+BQ87azbrn7mEY9AvlLkVwkBMtmkLLO5DMLdxxnKKoqI0FiM+hg3g4c2+uqCojBIoAAAggggAACCCBQfgLZz3z2HYR20Njkhw85hoBx+T249BiBHgkMdyZd5bodTuZO48w0Nqnd2u8ZOeJHPTo+GyOAQN8LDGwYZ24ENbFfO9Znd8SO+9n5TBt+HC9DUdUZ+wkk+eQTi7uNq/p5weARQAABBBBAAAEEylrAhIh0MDl9p3Gy5Lm67CruNi7rB5bOI1CUQG3d4Ks88x7gxFJ3kJm3Bx0BSEWLUv8tasdshAACURYwL24T49Mv/k5L9i/OnValKrjjOAdMBVfbZwM7bw9Z6iW115FHAAEEEEAAAQQQQACByAlkP/v57xy0Opq+wzAWiy+xaskigEAVCNQ4tUtSf0TSgw3cbSzD9793ZN9TZD0pAgiUl4CT+vFbie1JGhyEXW/nk+244zjIVX1l86QI+ye3slefCCNGAAEEEEAAAQQQQKDsBULuNk7efeym7kIu+/ExAAQQ6K6AeVdwMu8AJq8X7jruLiPtESg3AYn5mX4nX/aBAeT9KxF3HAe0KPqCyDw/eEIggAACCCCAAAIIIFAJAunpKsxQ/HcVVsLgGAMCCBQsIO8FOe46Lng/NEQAgXIRkMCxpN3qN4HBbnFVVOOwvzIEn0RhbSoKgcEggAACCCCAAAIIIFBJAmFB4dS9x6kbikyeBQEEqlPAvD/Ie4D9vmBrhL2H2OvJI4BA2QnYsT47bw8kZ/yPwLHNVL354BMnWK5eGUaOAAIIIIAAAggggEBZC1iB4swdhlZdWY+NziOAQPcE0q/9zHuB2Zr3g+4Z0hqBshOQGJ8dHLbzeQdE4DgvT8WvlCePDFTKdirrSBFAAAEEEEAAAQQQQKAsBNJ3FUpwKJ0ma01e6stiLHQSAQRKJqBf+/Zdx5n3AlOfDCATRC6ZNTtCIDoCwRifKZslWJ+qDfyXwHEApMKL8uQodJjdbV/ofmmHAAIIIIAAAggggAACJRMoJNiTbZMKEJXs4OwIAQTKRMD/2s++J+TufiFtcm/NGgQQiISAHduz87k652tD4DgXU/XV208Mk7fL1afBiBFAAAEEEEAAAQQQqAABf6DIDIhAUAU8rAwBgR4I+N8DOr9H9GDXbIoAAlEVCMb4guWc/SZwnJOmKlcEA8YFP5GqUotBI4AAAggggAACCCBQBgLJwJBvegp/4KgMhkAXEUCgJALWaz8zPUVJdsxOEEAgugIS25OYn5QL6jGB44KYKq5RIU+SQtpUHAwDQgABBBBAAAEEEECgogV8AeSKHimDQwABBBBAAIEeChA47iEgmyOAAAIIIIAAAggggAACCCCAAAJlIcAfj8riYaKTCJRYoOibQwkcl/iRqJDdyRNK0goZFsNAAAEEEEAAAQQQQKByBbwuAkKyXtLKlWBkCCDQEwHeI3qix7YIlK1AaAyQwHHZPp4l7Xjok6OkR2BnCCCAAAIIIIAAAggggAACCCDQbwISEJa03zrCgRFAoC8FJOYnabeOTeC4W1w0RgABBBBAAAEEEEAAAQTKRcD6Iaxy6TL9RACBfhDgvaIf0DkkAv0tUFAgmcBxfz9MHB8BBBBAAAEEEEAAAQQQQAABBBBAAAEEEIiYAIHjiD0gEeiO/MVB0gh0iS4ggAACCCCAAAIIIIAAAggggAACCCCAQF8KEDjuS22OhQACCCCAAAIIIIAAAggggAACCCCAAAIIlIEAgeMyeJDoIgIIIIAAAggggAACCCCAAAIIIIAAAggg0JcCBI77UptjIYAAAggggAACCCCAAAIIIIAAAggggAACZSBA4LgMHiS6iAACCCCAAAIIIIAAAggggAACCCCAAAII9KUAgeO+1OZYCCCAAAIIIIAAAggggAACCCCAAAIIIIBAGQgQOC6DB4kuIoAAAggggAACCCCAAAIIIIAAAggggAACfSlA4LgvtTkWAggggAACCCCAAAIIIIAAAggggAACCCBQBgIEjsvgQaKLCCCAAAIIIIAAAggggAACCCCAAAIIIIBAXwoQOO5LbY6FAAIIIIAAAggggAACCCCAAAIIIIAAAgiUgQCB4zJ4kOgiAggggAACCCCAAAIIIIAAAggggAACCCDQlwIEjvtSm2MhgAACCCCAAAIIIIAAAggggAACCCCAAAJlIEDguAweJLqIAAIIIIAAAggggAACCCCAAAIIIIAAAgj0pQCB477U5lgIIIAAAggggAACCCCAAAIIIIAAAggggEAZCMTLoI9V0cVly5bFd7fFpna4scleTXz7hNqWvzU2NnZUxeAZJAIIIIAAAggggAACCCCAAAIIIIAAAghESqBkgeMZS1YcUeOqh11P1RUzwpjj/Oz5dWu/UMy2ubaZc/IZ8xNu7A5Z39DQftzTjY37pFxMOmvxip94njrNbOso74eb1z9wTTH7kW3mLDjzeLfGvWZnizontU+930RC7UzUqlmLlj/lOM63nl93/y/0Ok+2IUUAAQQQKE+Bz66qV8fMrOlx5x/Rf1f82Y/aeryfUu3g0k/Vq5Pmp8alrwPUx//5sNLnShYEEEAAAQSqWmD60uHq0jvmZAzuveZV9YfVWzPlrjIfv3eumvr2IclmnqvUVWMf7WqTbq3/4jPz1bAJqY/vLzy0T91w3nOh29vt9rzcor49f2Nou0IqT/ynMeqCHx6bafqteRvV3ldbMmUyCJSrANf55frI0e+uBEoWOI53uMNdJ3aU09URc6331JRcq4qtT3g143Rwd5Js39pUP0DnexQ41p+E5zjKSe8zNlH2XUw6a+GKf3cd92u5Q8LOSfqD922zFq24c1xD+3u4A7kYZbZBAAEEoiMwakxMxXoeN1YjRxV9tu0VjNFjnMy4mAOrV4jZKQIIIIBAGQrsfaVFxeLZc/YpH5tYcOC4YUiNmrZwqHLSm7ceTJRcYMiY2kz/hqYDyGEHsdsNGl0b1qTgulFHNmSOaTYaOCKuA8cFb05DBCIrwHV+ZB8aOtZDAT7f9RCw2M1nL1z+IX3L8tcK3P7cnc113y2wLc0QQAABBBBAAAEEEEAAAQT6WWDvay2qaWf2G0JDxtaqkVMaCurV4ksmZILGZoMt979V0HY0QgABBBBAoJQCJbvjONgpx1P3uTHnoWB9rrLnuetyrau0+mnLljV4LWpNYFzfrkk4/9+z04Ztm/l60+SYSnxCf8v3s5k2jvfpuQvP/s9NG+4p/LtNmY3JIIAAAghEQaDx/g41+7jwv9lOmhpTQ4dl70raud1Te97U30sNWR7S+4nSsudNT02elupRh+4a01RE6dGhLwgggAAC/Smw6e49asmlEzJdWHb5RHXHlX/LlHNl3v6+sb5Vjdf138fApjfb1dDxqSkt3nqdaSV8DwwFBNICXOfzVKhUgV4LHLvKuWPLurX/U6lwPRnXgNa6s/TH6tRkVWZHjvrp5nX3fz65zyf0X5OVekXnr9RTWey370puczreo+v/K9mO/yCAAAIIlJ3A2t+0q7W/Ce/2+y+pU6cuz56Wf3tHu1r/SLQCxOE9V+r6Na25VlGPAAIIIIBAVQs8qAO+duD4uHeM6jJwHK+PqbEzBmbczDQVr//pYKbc15lrjtMfUlkQQCCvANf5eXlYWcYC4bc9lfGAyqHr+u5qPc+ys0n66sZUKmgsFem0KXbwe3aVnlt5ul0mjwACCCCAAAIIIIAAAgggEF2BfVtb/dNVjKtTwyfV5+3wgg+MY5qKvEKsRAABBBDoK4GyChybKR7mzZvXs9n4uyE7b947sn/m7cZ2XTXdsv6Bxs3r1x6faG8fo6enmPKXR+/fFrbN1nXrmvWPIbyUWeeoIzJ5MggggAACCBQgMHCQ/rNjdgaMLreI67Nsw4BubNDlHgtrYPoZK6urksLGRSsEEEAAAQTMdBX2ctrlk+xip/yCD47z1RUyTYX5Mb14Q7ROpPWDalTtgGj1yQdLAYEyF+A6v8wfwDLpfvY7sRHs8PSzz66Pv9Vxgf74epGe73e206LGHq4dqWYuWrFLfwy+23PUzXo6jMdK1fWj5i0fVlfrXKL3fZGeSmLuYdWiZi1aoXfvPaU85yebpwz/b/V66X6U4K8bG3fn7/tXYp736FGZNp6nZ7FgQQABBBBAICswaUpMXXZFvXL05zJPT4m85pstavbcGnXKGXF1xMSYMoFgs+zZ7albbmxTzzzt/1X2KdNi6n0X16mx4x1lLj7j6SsDM0+xma/4wD5P3Xlrm3r8Mf92qb2m/nvamXG1/O9TBzrY5KlvrmqxVyfzYW3Ou7BWHT+vRo0eq/uZPm5Ls6eeejyhbvtpuzp8SHeCBQEEEEAAgTIXCE5XMfddo9Sd/xY+z7E5nx/xtkGZEeeapuLEfxqjTv/MJDX8iHrVMDSevA4wG5lrgfaWhNq5pVn94tMvqjc29XyKiwuuP1ZNWzg02ae/Pbxf3fbJFzL9C2YWXjRerfi3yWrYhNS1iVlv+mTmRv7V1S8Hm1NGAIE8Alzn58FhVZ8JRDZwPGPJWTOctzoe0EHj5J9j7XufdF7/UoD3Uf0DfB/Vgd0bB7bv/djGjRvbe6I2c9FZ05RKPJw6XvCDqnOSnmv4pNmv71/gKaewn8HtSWfS285c9Ng59m5invOkXSaPAAIIIIDAUcfoeRB10FcWEwQ+7sQaKWbSUaMd9cmr6tUDv+vQQdk2VavjvJ//eoOarH+UL2wxdymbNqPGOOojn6xX55zrqi9/rnNA2Gw796QaNWZsqg+jdfuwJdjmC/rYR07vfGxzt/PJp8bVCfNr1Ff18d7aGzwnh+2dOgQQQAABBKIrINNVDNHTVJjFpMN0wHf/ts6/EXDCeWNULJ49l255wH/j0qQTBqtLbpujhoxN/2U4MGwTeK4bWKMmnzRYXfHHE9RjN25Xd3w2PEgd2DRncdbKkWrgiFTooMbqW3CDy359nJp+yrBgdTKoPXJqg7roZ7PU6xubOq2nAgEEwgW4zg93obZvBTp/Yuvb44ce7W0nn350LNHxhD5d5v8OT2rrS5prR/boR/jmzDm/LuYkft/V8TzlXagPOTu00yWunHPyGfN1cPxH2d16TQkv8WC2TA4BBBBAAIHOAmFBY7vVs39O3TlsArS5gsZ2e8lPmBRT7zgv/EOqtCk0NUHpsKCxvf3AgY76wn/02d9q7UOTRwABBBBAoOQCf77L/2XT0y6fGHqMkz88wVffuGarr2wCwrmCxr6G6cJivT8TbO7t5bzV00ODxvZxzfl/ytuzvxFvryOPAAJdC3Cd37URLUov0Gt3HDsxd2Ah8xEPGTLEa2xs1F+GzS6uG/+aDppmzij6XqNdjufc4ihvo+t4Axwndo7yvHfJFnr9xTMWnvmTv2y4r6jAamLIvgv13ctHyf7S6W2O592r/zzapn/M7njPcS7S5zl9p7O96MkySrRMX3i2/oJRx0f1nc0j9Qn1eNdV59g7j3mxDz/3+Fr/5FglOja7QQABBBCoPIE/P5VQm59JqCFDHLVY38E7cpSj/nBfh3p+Uypw3HTAU6bN8fpuYVdXPbler3vGVa++5CbnRJ6sp7A459xa393MZ5wdV7/+ZY++4OODNtNhPLkuobZvc5N3Ny9eGlfDR2TPfiZ/wttr1NNPpvrs25gCAggggAACZSTw4Jo31N/9S/Yna+a+e7S66/PZn7ORoUyZl/kYrMKmqVh30w515hemqsFjapPr19+8Q736eJPa9uxBNXBkrTrm1OHqtE9PUmbOY7OYYO05X5mmrn/3s3KIkqdmbuWFgXmZE+1e8u7i158+qAaPqlXTlw5L3mkdPLjpHwsCCHRPgOv87nnRumcCvRY41nMCr9bzEa/uqnvNrckffzta2s1ZfOZ013PNnb3pxWvy3NiiLY+vfVlqdHrDrEUrV+ng8telLua4n9P5ogLHjuN9WPdXdqVTb9Xm9Q9cY1X8fNbCFTfooO5frbqSZuOxxNt08Pp7yZ3qD9L2oudc/sBzG9b+wq4jjwACCCCAQC6BG65rVU/ogKwsd9/eroYMdZQJFtvLj77fqs44q1b9/t521RqYhWLra65a98cO9a3/HpAMOpvtBui7gEu1JHT3vnxls9q1I9unO29tT95lfOTR2S9ELVsZJ3BcKnT2gwACCCDQbwJmWooDO9rU0PGp6SpMOmxCndq/vS3Tp1krR6iauuy5NjhNhTT84TufUUcuHqpMENm3vNSiXnuySW348Q71pS0LMlNejJjSu9/gWfyh8Zljmf6YOY3/65Q/6XmWD/u697kNJ6lxM3rl9+d9x6GAQCULcJ1fyY9uNMeW/WTWT/1zPeX73kzC9U73dcWLXfoXf9A4uXpcQ9u39Cn1Uavt2dOWLev2GdH8AJ8OGp8i+zH7HNfQ8W0pS7p5w/0v6DuQPyzlvkw9x/2XSYsXD+jLY3IsBBBAAIHyFNi9y/MFjWUUwaCxqTfB4t/d1TloLNuYdKO+E1kWc1eQ+QG9Uiz3/ardFzSWfV5/rX++x1Gj+/1SRbpGigACCCCAQI8ENgWmq1j2qUm+/S25NHtHslnx0Pff8K2Xwo7NhzsHjWWlTg/ublc7/5oN2nZnagtrNwVnZy4f4Wt77zWvdgoamwY/+PtnlLkTmQUBBIoT4Dq/ODe26plA5D6N6bt/F9hDGjegLfROWzO9hf6K6/V22wEt9d2efzi2L3GkvQ89FcatwakzZL3+KaFfSr7kqRfbpu9o/q0JXHfatw5sD/EG/1idf37nXzvq1JgKBBBAAIFqFvjTE9lAbykc7DuCzf4GZX/ovUe7f8Q/S1VmX3t3e6rVih0Pzn5jN9OGDAIIIIAAAuUo8OB1/kDw8Xq6Cns5ekn2h+XMNBWv9eCH5Jp2ZKeWyveDdvbxi82PPdZ/F/GD1/rnZZb9HtrTrrb+6aAUSRFAoJsCXOd3E4zmJRHovakqlPqZvpP3t1310lPOTl8bxxmt5y9OVun/PpEriGsa6LuVN8d8Nz4lRvr2VUCh1kkMcT0rfu46OaejeHHDPQdmLlqxSx8yMNdxAQfqosmW9fe+opv8Q7qZM2vxindrhh9axzp/9tZ9v39e+YPlXeyW1QgggAACVSawc3v37+QxP3x33Ak1avwReqL90Y6qsU6Lo8dahRJZmtO8uWMi13LooKfq61MnePPr8CwIIIAAAghUgkDYdBVmygozhcW0RUNV7YDsSe8vv3+ryyFPXzo8OWXF6KMaktNeJCc0Tm81+UTfF3u73FdPGtTqOY5laT2U0L+dkPscv+25Q2rqAv4qLF6kCHRHgOv87mjRtlQCvRY49jzn4S0b1t7a7Y56XubPrDFP7c27fW1NkzKTJKYXfXoaKvlC04Tr+L90G3Py/glUf4zdp/dd8sBxoL/e5nX33zl78fJXtONTsk7n/1XnfXdZyzpSBBBAAAEEjMBbe3N/WAsKTT0qpi6+rE5NnJz9wBds0x9l82N9LAgggAACCFSigJmu4u8uy05JceonJqpfr3pZLf1Yts6MuzFwd7Jt8fYLxqp/+NqRyR/Is+v7K29+HE+WRGv+65CW/aX9ZpQclxSBahDgOr8aHuXojTH7Dh+RvunAbK10Rf9enZ5WP/cS60j41sccp9tTOQS30cHqrj6uWmc6/XN2vbg8v+6BP2mPm7OH8ObOm/cO//eAsivJIYAAAgggULDA8JGOuuqrDZELGhc8ABoigAACCCBQhgIPrvFP43DCeWOSozj29Ow8wfmmqZj7ztHqff/n2MgEjU3nzW8gyOKlvz0s5WCa6PB/hO6ieXBzygggUIAA1/kFINGkYIFeu+O44B4EGupg8T4l5xLHy/v9Gle5+ss8Vuzby3+3cOBQyaLneofsM53ZZ1g7qdMnxYbsyU33tpcXT3mP61PxxXKYw/GWiTr/gpRJEUAAAQQQKEbgU5+vV3HrKqBD/1n0r5sTasc2T+17y9NfM03tdcZsPY3Fid3+u2wxXWIbBBBAAAEEKl5g//a25NQUZooKswybUKeOWTZcNQzJnmvzTVPx/htn+Iya9R28LzTuU3tfa1UH39TzGqc/rJ78kQlq5NRu/3a8b9+FFhJt8gFeqZo66/N5yA7scZrVdtA5pDlVCCBQhADX+UWgsUlOAesjY842fbrC8Zz9OliaPKaemsF/Vgz0RN9gPFWfGTO1rqP2ZwoFZlzlHY7pX6WTRR9/suSD6bx582oPe+qoYH2x5bkLz550sKO96aWND+Tpt5P9VQN9oFitZ/1kULFHZjsEEEAAgWoXGH9E9oOdmVP4qk80q7aQM8zhQ3ECx9X+ZGH8CCCAAAIlFfiznq7iFGu6iot+Osu3/1zTVEycO1jV1GY/u774x33qh+981retFMz8x30VOG5vzX4RuH5QNgAufbHTUdP6JphtH5M8AtUmwHV+tT3ivTve7KfG3j1ON/buPSeN9Slx7Oz5Z86RcjCNKW+lXee2teX8YTu7nZ2Px+K+7wrpv3iebq+384fqRs23y8XmZy1aeYX+kb3X252O1+trnXuXLVuWL4A/L3scr+m5Rx54PVsmhwACCCCAQPcFzNfXaqzPdQ/d3xEaNDZ7Hjs++wG1+0diCwQQQAABBBAICjQGpquw78I1Py732sam4CbJ8swV2eksTMXtl78Y2s5UDtV3MvfVckDfRS2L+VHbo5dkfrZIqjPp1AXd/lmizLZkEECgawGu87s2okX3BCIXONZ3DT9qD8GrSfxk+tln19t1Jj9j4Zmn6XuNP2HVP//XjY27rbJyEm72dmS9wqn1ptjrTf65dfeZH+DLBJz1BhfPWrR8ebCdmVvY8bz/G6wvruwdrz+GT0pvu2hnc+3Hw/bztkXLzZ+eL5N1nuM8ofO+Mck6UgQQQAABBAoVsKeoMNsMHJw7ODxvUb6/bRZ6RNohgAACCCCAgAjIdBVSttN801TYdxubbQaNzvw8kL0LNXBkXI2b0fVP42SnYNSB5nHFB5r/9oj5/fjscvEts3x3Rsua81ZPVwNHcF0hHqQI9IYA1/m9oVrd+4xc4HjLpOGP6IckE8jV4d6T6t5K3DRj0YolZqqIuSevHDtr4cr3OY57q++hc5z/8pV1wVXOTrvOc7yPz1l85vQ5c873nRX1T9z90tdOOT+fvXjF+TMXnDHKHHPm4pUnH65tuVm3OdZuV2zeUc7/+rZ11LX6DuTPzFm2LDmnswmUz1q88t0dymm028U85ya7TB4BBBBAAIFiBHbv0pNCWX+GXHp6XM2YY92CrHc6ZKijPruqXo0ZmzuoXMyx2QYBBBBAAAEElHr6jjdDGXJNU2Eab3vmkG+bD90yWw2f5L/HatIJg9WVj50UGrj1bawLLU3Z34UfNKpWLb9ycnLOZXPXcHeWDT/xfexWA4bF1WcfPUmdeP6YZD+OOG6QMkHjxR8a353d0hYBBIoQ4Dq/CDQ2ySsQvT/33X57wlu08kpHeb+SnuuPtxfqc9eFh2tH6miw/qSrP8PaH2P19BIvOQeG/VTaS1ofd15rt2869tQH9Y/ffVAN2WcC05n5k72O2PdVrfsF2U7ve6z+QH2bE4upw7GRSt9pLKtKkj6/fu09sxatuFPv7FzZoT7mf7ottf+pA8i7nLc6xpp63xiV+rXe7ufSnhQBBBBAAIGeCGzb6qqJk1OfDGM6ZmyCxIf1RP7N+jNpwwB9F/Ig/WdO+0TUk4OxLQIIIIAAAgj4BB76/htq6b+a3z3PLslpKp4Mn6bCtHr+3r2qQ88nHK9Pnb+HjK1Vq56dn/xRvPYWN3k3b/1g/x+Cs3vvnDuwo1WZfchy1qqpyvx78Nqt6rdfeUWqu0zffLFZvfHng2ri8dnfth977AD1/htmJP91uQMaIIBASQW4zi8pZ9XvrJt/S+wbry3r1/5aT8jw6UKOZoLGcTd+6nPP3Z6dWCm94abH1u7Sn3lvDu5Hh4F939vZvPG+7cpzLgi2C5b1dlv9dfpe5SKX1nbvQ3rWiR8EN9f9TQaNffWO97CTaL/UV0cBAQQQQACBHgj8z3VtqqXZfxobONBRo8Y4apCeukKCxonszUg9OBqbIoAAAggggIAtYKarMP/sJd80Faadm/CS8xp72d+iS24+eEytGjG5XtlBY7fDf463jyP533zpFcn60rqBhQefZcObLtisTOC7q8UEvu2lxPdo2bsmj0DVCnCdX7UPfa8MvGSB4w6vptnuof7Aud8udze/ecP9a/T3aBfrQOqj4dt6Tfpj7VfdhLtg04Z7AgHd7BYt7Z4OQPsDtDFH+c/QuvnmDWtv1SetM3Xbp7JbZ3OmH66TWKRrGqVW34nsn8xJVhSQvrTxgf2b1z/w8ZgTW6jvLd4Utok+1e/yPOdfNq/7u2XPPdG4I6wNdQgggAAClSHQrO/2tZcDB/xle52dD253sKmw7bbrO46v/FizevVl/wc42bf5IPfyi65afU2LVCXT1lZfMVlosa4A3PDd6SB1drtcbaRFe3t2DG0hx5N2pAgggAACCJSzwLobt2e6b867D67O+bE2027j/+5S3zv5KXV4b0emzs4k2jz12I+2q3U3ZT8+tgeCtdL+hcZ9ygSPzTb2kujwn8ztYK89vYW9zf5treo7859K3nls10vejG/Tr3ar33z5FalKpi0Hwsfha0QBgTIXCF6vc52fekC5zi+PJ7aOh0Z/mX7K2WPqO9rmKbdmcCKmWnRQ+pUmr+lvW9etsz6GdjWOr8SOXfzHCXVebGiivWZf8i7jHJvMWHLWjFiiY7L+MboxeqLkPTWx2Ev6R/Ry/2Rtjv10o9qZNe/M8V6dd6TjqikxT+1SXtvzvRAslsfbTk3e/AFBUvPnZVNOph993yHfDw7qehYEEEAAgQoTqG9QaubsGjV9Zkw16zPrM08l1Ouv+j80VtiQGQ4CCCBQYQKpwJ9nonPJRU/2Z35TW9+amsyZW1T1PzeTJtTYP7ySbktSrgJDx9epY5YNV5P1vMa7XmhWz92zV5kAbjGLmbJiwtsGqZq4o174437Voae+KHYZdkS9OubUYWr87EHJXZipLDbdvVs17yNIXKxpqbbbdfo0FXP0R309kbW+iS2ZOjrVN+Wl8smwQCpc4MjXz5J1peoB++lrAa7z+1o8ese74dZBo3WvzFdCzBu7pCZvLhokzV5A6Eq9SJl3gJRH1fw3dQZIBYnNoE3Z/CNwbDRYEEAAAQQQQAABBBAoS4HU5zsCx2X54NFpBPpMgMBxn1FzIAQiI9DTwLEJGLIggAACCCCAAAIIIIAAAggggAACCCCAAAIIIJARIHCcoSCDAAIIIIAAAggggAACCCCAAAIIIIAAAgggYAQIHPM8QAABBBBAAAEEEEAAAQQQQAABBBBAAAEEEPAJEDj2cVBAAAEEEEAAAQQQQAABBBBAAAEEEEAAAQQQIHDMcwABBBBAAAEEEEAAAQQQQAABBBBAAAEEEEDAJ0Dg2MdBAQEEEEAAAQQQQAABBBBAAAEEEEAAGK6Y5wAAPPtJREFUAQQQQIDAMc8BBBBAAAEEEEAAAQQQQAABBBBAAAEEEEAAAZ8AgWMfBwUEEEAAAQQQQAABBBBAAAEEEEAAAQQQQAABAsc8BxBAAAEEEEAAAQQQQAABBBBAAAEEEEAAAQR8AgSOfRwUEEAAAQQQQAABBBBAAAEEEEAAAQQQQAABBAgc8xxAAAEEEEAAAQQQQAABBBBAAAEEEEAAAQQQ8AkQOPZxUEAAAQQQQAABBBBAAAEEEEAAAQQQQAABBBAgcMxzAAEEEEAAAQQQQAABBBBAAAEEEEAAAQQQQMAnQODYx0EBAQQQQAABBBBAAAEEEEAAAQQQQAABBBBAgMAxzwEEEEAAAQQQQAABBBBAAAEEEEAAAQQQQAABnwCBYx8HBQQQQAABBBBAAAEEEEAAAQQQQAABBBBAAAECxzwHEEAAAQQQQAABBBBAAAEEEEAAAQQQQAABBHwCBI59HBQQQAABBBBAAAEEEEAAAQQQQAABBBBAAAEECBzzHEAAAQQQQAABBBBAAAEEEEAAAQQQQAABBBDwCRA49nFQQAABBBBAAAEEEEAAAQQQQAABBBBAAAEEECBwzHMgKOClKyQNrqeMAAIIIIAAAggggAACCCCAAAIIIIAAAhUuQOC4wh9ghocAAggggAACCCCAAAIIIIAAAggggAACCHRXgMBxd8VojwACCCCAAAIIIIAAAgiUhYBTFr2kkwgg0N8CvFf09yPA8RHoB4GCZhogcNwPj0wED1nQkyWC/aZLCCCAAAIIIIAAAggggAACCCBQgIDjpALEkhawCU0QQKD8BSTmJ2m3RkTguFtcVdNYnkySVs3AGSgCCCCAAAIIIIAAAuUq0FUwSNZLWq7jpN8IINC7ArxH9K4ve0cgogKhMUACxxF9tOgWAggggAACCCCAAAIIIIAAAgggUFKB9F3HJd0nO0MAgagLhAaFC+k0geNClCqvTSFPmELaVJ4MI0IAAQQQQAABBBBAoJIFCBpV8qPL2BBAAAEEECipAIHjknKW/c5MsNgOGHuu2/Zo2Y+KASCAAAIIIIAAAgggUMUCjtLzmvoCxo5q95o3VDEJQ0egKgUSCet1r98Tku8NVSnBoBGoKgGJ80nMT8oFIRA4LoipKhrZTxx5MlXFwBkkAggggAACCCCAAAKVKtA5MOSow4ffuK5Sx8u4EEAgXKDJ25l+3ad+IE9adX6PkDWkCCBQ7gJtbfu+kx6DHfMzVcFyzqESOM5JU5ErCn5ipEfv7Wt64dsVKcGgEEAAAQQQQAABBBCoGAF/ICh8WNk2MafG3eY+e214O2oRQKASBRxV4+7Y+7j1us++J+QebyFtcm/NGgQQ6F8Bx4kFbwwtJC7oa0PguH8fw/4+etgTSOqS6S/vWfAo01X098PE8RFAAAEEEEAAAQQQ6I5A+ivoMj1FOjW1zS07r73tnnlrfnHwM+vbvZb13dkrbRFAoDwFDnq7r73+wLlrfv/w+9cn3Jb1mbuMrfeIVB2B4vJ8hOk1Ap0FzN3GN/9ygrnj2I7zmYambJZgfao28F8CxwGQKi3Kk0WGb5e9G28b8a7W1r3flZWkCCCAAAIIIIAAAgggUC4C2UBQItG27rbfHr9a99zV/7zrDqx4rwkolctI6CcCCHRfoMNrXaeDxvK6d39257T3Hm7eYb3us+8R3d87WyCAQBQFzA2gP75jYjBoLAFj02U7n3cIvEPk5anIlfZjbvLBf+aPCaH//vnc164yIvX1o640KQsCCCCAAAIIIIAAAghERSD7GdDzUveBePpzoZtoXufqMPHOPRtW3/vQu8wdxmal+Qwgqbps6F1XmFEMckYlU5NnQQCB8hUwwWLT+x3u5tX/e/CT8ro3VfK6d973jueviOm3ggEDJlxhfjxT7jh25C5k0zr5VpHM8B8EEIi4QCLR+pjp4t79z373rrVLH9FZ80fiRDpN/sE4kE9dLKTeF0xeFjvPu4CoVFHaVeDYrJfAsZ2XOpOaellnUrME01Qt/0UAAQQQQAABBBBAAIG+FJDAkDmmfPgzqeTtermGN3Umb5dNnVnC6lJr+C8CCERFwH59S59yve7Nenld87oXLVIEykdAXu/yGrfTYIDYlOWfaSfr7W0kLwKmnFnimRyZahXwPSHSCKbOPJlMkFieQP+vvTuBk6uqEz1+bnV3OntCNhJIWAPZZJEIJGRYJSzy3D6MnxEdBxXl6YioI4q84c3oOLiM7xkBP44bjoPohweK4gYElICEJGIQ2cIma1gCSUjSWTrdXXXf+Vf1v+rc07e27urqulW/C52z3nvP/da93bf+ffuUlHXRHy7Spnn9wSN93LyuQ4oAAggggAACCCCAAALDI6D35bJ1ycuiaa5UuK/XspvqPb1fJ2W9t3f34fYjjwACIyPgXpN6vWsqI9K8pv4oue59EcoINL6Aez1L3v/SwLCmfntcueRREzguydOUjXKSlLv50z56QmkQWYPH+gPGTRVLt61lUgQQQAABBBBAAAEEEBh+Ab2Hlz1J3l/i6rSPu67WSar39sXa3b7kEUCg/gLutRl3jcfV6SjddbVOUq57V4M8Ao0n4F7Xkve/NGisqfbX1D8it97NZ/sROPa5WrM84MSwDG6wWJ48lrL+AJG0WN42ZRdt1zIpAggggAACCCCAAAII1F4g7l6+0jp3NO79u+RlG26d9o2r0zZSBBCoj0Cxa1yvXRlFXB9/dO71rOu6ddo/rk7bSBFAoD4C7jWteTeVvBssdst+vbTpuiVHT+C4JE/TNsrJod/4/bx70HoSadBY13FTN6/rap2WSRFAAAEEEEAAAQQQQGD4BPS+3d2D1sm9ueS1LH30ft2v075uH8nroutpmRQBBEZOwL1+dRR+nVt2r2/tLw+JyaL94q7xuLrcWvyLAAL1FtBrVfareUn1S+r9ILFflj666Dak7Oa1PX/DkK8g0zIC7jd/zUuqXwKhef1hIqnfV/u5qeTjFl03ro06BBBAAAEEEEAAAQQQKC0Q+6bOWUXa5Z7b7ad10k3rNdX7c03dvtJft6XtUhe3lGuPW4c6BBCoTECv12K99bp1+2mdriNlbdfrVVO/r9T7dbodN9X13TryCCBQGwG9XottTdvd1M9L2Q0ay7akTr+0LKksun6u1P8vF3qEo+UK7uuveUn1S0A076ZuveYl1UX6siCAAAIIIIAAAggggEB9BGLf7Nldl6svdt9ebX19jpK9IICAK1Du+nb7Sl77V3t9F+vvb58yAggMv4Bex7onLUvq57Uurl7W13o/L+X8wlQVeYqWz8gJIz8Q3BPHRdF26eP20x8imrrruPly7W5f8ggggAACCCCAAAIIIBAvUOx+XXvrfbvfT8v+vbxbr9uQVPuVu48v1+5ukzwCCAxOQK/TYmtLu16zbh9dz23TfNy1W6rN3W7cum47eQQQGLqAXr/FtqTtmko/yeuXW9a8pLK46+RqivzLxV4EpoWq/XNAy27q5oXGL7t1LUTHoSKAAAIIIIAAAggg0HAC+mZQ7tk1L6mWNZWBa95N3XrNS8qCAAKNK6DXul7LMlKu+8Z9vRgZArUQ0OtetqX5uDSuzt2/trt1+bx8U2FBwD8PtFwsFTFt8/NoIoAAAggggAACCCCAwMgK6JtAuWfXfKUjctdx7/krXZ9+CCAwMgJ6rbvXcKUjcdfhuq9UjX4IjLyAXvcykri81vmpjlzrtTwg5RvCAJKWrfDPBbeseU0Fyc37aKXa/L6UEUAAAQQQQAABBBBAYGgCZd/49W9e+sm9uvbXfKX375X2G9rRsDYCCFQioNdxub5c9+WEaEcgOQKlrnu3TfOayhG6+bhyrAI/+GNZWrYy7nxw69y8IPnlloXjwBFAAAEEEEAAAQQQaEABfZOo9+1a9ofqt2vZ70cZAQQaX0Cvc72OteyP3G/Xst+PMgIINL6Af527ZTevRxJXp22RlG8MEQ4KVqDYOeHX+2XwEEAAAQQQQAABBBBAoPEE9M2h3r9rWUfq12tZ20kRQCBZAu41rtezWydH49drOVlHymgRQEAF/Gtc6uPqStXrtiIp3xwiHBQcgVLnRqk2ZxNkEUAAAQQQQAABBBBAoAEE3DeP/r18qbYGGDpDQACBQQqUurZLtQ1yd6yGAAINIOBe2/5wSrX5ffNl/6Yh30AGgX6BSs+RSvsBiwACCCCAAAIIIIAAAsMnMKg3hiWGw31+CRyaEGgQAa77BnkhGAYCdRSo9LqvtF/s0LkJiGWhMkaAcyUGhSoEEEAAAQQQQAABBBIm4L+B5D4/YS8gw0VgEAJc94NAYxUEEi7gX/eDOhxuEgbFxkpWgHOH0wABBBBAAAEEEEAAgcYXqPaNI/f5jf+aMkIESglUe83LtrjuS4nShkDjCwzmum/8o2KECCCAAAIIIIAAAggggAACCCCAAAIIIIAAAggggAACCCCAAAIIIIAAAggggAACCCCAAAIIIIAAAggggAACCCCAAAIIIIAAAggggAACCCCAAAIIIIAAAggggAACCCCAAAIIIIAAAggggAACCCCAAAIIIIAAAggggAACCCCAAAIIIIAAAggggAACCCCAAAIIIIAAAggggAACCCCAAAIIIIAAAggggAACCCCAAAIIIIAAAggggAACCCCAAAIIIIAAAggggAACCCCAAAIIIIAAAggggAACCCCAAAIIIIAAAggggAACCCCAAAIIIIAAAggggAACCCCAAAIIIIAAAggggAACCCCAAAIIIIAAAggggAACCCCAAAIIIIAAAggggAACCCCAAAIIIIAAAggggAACCCCAAAIIIIAAAggggAACCCCAAAIIIIAAAggggAACCCCAAAIIIIAAAggggAACCCCAAAIIIIAAAggggAACCCCAAAIIIIAAAggggAACCCCAAAIIIIAAAggggAACCCCAAAIIIIAAAggggAACCCCAAAIIIIAAAggggAACCCCAAAIIIIAAAggggAACCCCAAAIIIIAAAggggAACCCCAAAIIIIAAAggggAACCCCAAAIIIIAAAggggAACCCCAAAIIIIAAAggggAACCCCAAAIIIIAAAggggAACCCCAAAIIIIAAAggggAACCCCAAAIIIIAAAggggAACCCCAAAIIIIAAAggggAACCCCAAAIIIIAAAggggAACCCCAAAIIIIAAAggggAACCCCAAAIIIIAAAggggAACCCCAQMMLBA0/QgbYqAKcO436yjAuBBBAAAEEEEAAAQQQQACBVhYIqzx43t9XCUZ3BBpMoNprvuLh882hYqqW78i50vKnAAAIIIAAAggggAACCCCAAAIJFPCDSry/T+CLyJARqFLAv+6rXD3XnW8Wg2JrqZUqPUcq7ddSeBwsAggggAACCCCAAAIIIIAAAsMsUJMAkTNG3t87GGQRaFCBSq/7SvvFHibfDGJZqLQCpc6NUm3gIYAAAggggAACCCCAAAIIIIDAyAq4wSL/PXyptpEdNXtHAIGhCLjXtr+dUm1+33zZ/+aRbyDTsgLFzgm/3i+3LBgHjgACCCCAAAIIIIAAAggggEADCWiASN+3a1mH6NdrWdtJEUAgWQL+NS6jj6srVR97xHxziGVp2cq488Gtc/OC5JdbFo4DRwABBBBAAAEEEEAAAQQQQKABBDRYpO/XtewPzW/Xst+PMgIINL6Af527ZTevRxJXp22RlG8MEY6WLvjnglvWvKYC5eZ9uFJtfl/KCCCAAAIIIIAAAggggAACCCBQnUClgR/pJ+/Rtb/m3fft2iduBG6/uHbqEECgfgJ6Hcft0W3TvKbS383HleO2WTL4F7sClU0p4P8g0HKxVBC0zc83JRAHhQACCCCAAAIIIIAAAggggEADC2hQSN6ra77S4brruO/1K12ffgggMDIC7rUel9c6P9XRar2WB6R8QxhA0nIV/jmgZTd18wLkl926lgPkgBFAAAEEEEAAAQQQQAABBBAYQQEN/sh7dc1LqmVNZYiad1O3XvOSsiCAQOMK6LUuI9R8XBpX5x6Vtrt1+Xx7PkemFQXkB4W7aFnSAfm/f+dzJ48eNeVyWSEIUie5K5JHAAEEEEAAAQQQQAABBBBAAIGREojGfjLp7itkJNfcOE1SeX+vHbL5f5z0qxNHm4n/LH0Cw/t7cWBBIOkCmaDv3+UYVmw79YtljkW/H0g39/vDgNU0ODiggYqWEHBff81Lql+CkM1/6O+6VhIsbolzgoNEAAEEEEAAAQQQQAABBBBInEAhDhSGmg9NX+/uL/3wpplftoejlcGnJq76bSpoOzFxh8iAEUCgIgEJINvgsQSR5brXa1/zblm3p3VazqcaLMxXkGkZAfe113w2SGwFIuUL3rX1f6faOrO/iWwZHQ4UAQQQQAABBBBAAAEEEEAAgUQIFGI+btA4lHiRBJHD9B+uuXHqOXIoF09aeVmHGXNZIg6LQSKAwKAFQpO5++vbTz7DbkC+Qeg3Cc27Zd2H1mk5m2qAMFJJoSUE3NdeA8Zy4JqXNGWDxpcTNG6J84GDRAABBBBAAAEEEEAAAQQQSKRAId6TCxznyvnAsY0Zbd728NsOWLdr2Sgz7tJEHiKDRgCBqgV2hVvO+vaOd6yyK8o3Bf2S7Wg+981CagrB5Vyp/99UpEShVQT8oLEetxs01ry2kSKAAAIIIIAAAggggAACCCCAQEMJFOI+haeNJQJk67NTVkguNJMnHEbAuKFeNwaDwPALjDGTZfYAif1qjM+NB8oA3LKbl7bswofjqURrp+4JpPnsicXTxq19YnD0CCCAAAIIIIAAAggggAACSRLIBYrdoHEYZmwQOWN42jhJryNjRaBmAhLnkxif/UYwYCn85mlAU66CJ46LwDRxtfsbBDfvHrLWa+q2kUcAAQQQQAABBBBAAAEEEEAAgREXKMR83KeNI8Pq/6C8VKp9WaSeAgIINL1A/4dgamxPU/+43Xo3n+3HE8c+V+uV5aSI+9JH2VtPhCNGAAEEEEAAAQQQQAABBBBAIHECMU8bZ6esyGSnq0jc4TBgBBCohYDG/GRbAwLDtq7wG6iYvfHEcQxKi1fpCSUp50eLnwwcPgIIIIAAAggggAACCCCAQEIF+uc4ltEXfSI5oYfGsBFAoGIBN84XFzguuSECgyV5mrox7mTRk0kPPK6PtpEigAACCCCAAAIIIIAAAggggMAIC8QFhXPPHuceJJQ8CwIItKyAG+tz8y5I0fgfgWOXqXXz/onjl1tXhiNHAAEEEEAAAQQQQAABBBBAIFECTqC4f47jMn+NnqijY7AIIFCVgMb43OCwmy+5MQLHJXmavlFPHj1QLbuptpEigAACCCCAAAIIIIAAAggggEBDCrjzG9sB9geMs7WSzweQG3LwDAoBBIZPwI/xSVkWvz5X6/1L4NgDafKinhyVHma1/SvdLv0QQAABBBBAAAEEEEAAAQQQQGDQAs5TxUW3UejDdBVFkWhAoNkF3Niemy923JE+BI6LMbV2vZwkkROltTk4egQQQAABBBBAAAEEEEAAAQSSITAwSFwIICfjCBglAgjUWMCP8fnlorsjcFyUpuUaNFjsnjxuvuVAOGAEEEAAAQQQQAABBBBAAAEEkiiQDR5HpqcgeJzE15ExI1ADAY3txcX9ym6ewHFZoqbsoCdNqYOrpE+p9WlDAAEEEEAAAQQQQAABBBBAAIGRFogEkEd6MOwfAQSSJEDgOEmvFmNFAAEEEEAAAQQQQAABBBBAAAEEEEAAAQQqFxj0w6EEjitHbqWeekJp2krHzrEigAACCCCAAAIIIIAAAgggkAiBsMzTxNquaSIOikEigMBICMTGAAkcj8RL0Xj7jD05Gm+YjAgBBBBAAAEEEEAAAQQQQAABBBBAAAEEKhTQmJ+mFa6W60bguCouOiOAAAIIIIAAAggggAACCCCAAAKNKsCH4DXqK8O4EGgwgYoCyQSOG+xVYzgIIIAAAggggAACCCCAAAIIIIAAAggggMBICxA4HulXoPH2X9FvHBpv2IwIAQQQQAABBBBAAAEEEEAAAQQQQAABBGolQOC4VpJsBwEEEEAAAQQQQAABBBBAAAEEEEAAAQQQaBIBAsdN8kJyGAgggAACCCCAAAIIIIAAAggggAACCCCAQK0ECBzXSpLtIIAAAggggAACCCCAAAIIIIAAAggggAACTSJA4LhJXkgOAwEEEEAAAQQQQAABBBBAAAEEEEAAAQQQqJUAgeNaSbIdBBBAAAEEEEAAAQQQQAABBBBAAAEEEECgSQQIHDfJC8lhIIAAAggggAACCCCAAAIIIIAAAggggAACtRIgcFwrSbaDAAIIIIAAAggggAACCCCAAAIIIIAAAgg0iQCB4yZ5ITkMBBBAAAEEEEAAAQQQQAABBBBAAAEEEECgVgIEjmslyXYQQAABBBBAAAEEEEAAAQQQQAABBBBAAIEmESBw3CQvJIeBAAIIIIAAAggggAACCCCAAAIIIIAAAgjUSoDAca0k2Q4CCCCAAAIIIIAAAggggAACCCCAAAIIINAkAgSOm+SF5DAQQAABBBBAAAEEEEAAAQQQQAABBBBAAIFaCRA4rpUk20EAAQQQQAABBBBAAAEEEEAAAQQQQAABBJpEgMBxk7yQHAYCCCCAAAIIIIAAAggggAACCCCAAAIIIFArgfZabWjesuX7tWXMHzKhGTWYbaaC4LpH16y8bDDrFltn0QlvPjadSd2k7aNH9x7xwKpV27Q8mHTB0uXXhqE5VdYNTPjtDWvvuGIw2ym2zvyly0+20fwfqGNbGJ73yLo77inWn3oEEEAAAQQQaHyBT1/eaQ6b3zbkgd6zqs9c9/2eIW+nVhu48BOd5phjc8dl713Mx/5ht7H3SSwIIIAAAggggEBLCsw9abK58KZF+WO/9YrnzO9XbMyXy2U+duuR5sA3Tch2CzPGXDpjdblVqmr/54eONZNm5cJ2T961zXzv3Edi13f7bXmm23z12PWx/SqpfOPfTjfnffvwfNevLF5vtj7XnS+TaWyBmgWO2/sykzNB6pBgsMcbmgMGu2qx9dJh2742uDtb2/d2dY6x+SEFju27oUWBCfq3mdpft12rNBWaK+z7rX7HsGuv6XiwVttmOwgggAACCCAwMgJTp6dMauhxYzNl6qDvtIblwKdND/LHxZ+xDQsxG0UAAQQQQACBBAlsfbbbpNoL92snfnT/igPHoye0mYOOn2iC/tX37kzX/MgnTO/Ij29ifwA5biduv3HTOuK6VFw39eDR+X3KSmP3abeB44pXp+MIC3CPP8IvgLv7BcefvsQGjZc5dVc+te6WHU6ZLAIIIIAAAggggAACCCCAAAIIIIBAAwpsfb7bdG0q/HXYhBkdZsoBoysa6dILZuWDxrLCY7e/XtF6dEJgOAVq9sSxP8ggNLdlUsFdfn2xchhm1hRra5n6IPise6yZtuA/3TJ5BBBAAAEEEEimwKrb+8zCI+J/Xz/7wJSZOKnwZMqml0Oz5TX7t4kxy112O420bHktNHMOyo2ozw6NaSoa6dVhLAgggAACCCAwEgIP3rzFLLtwVn7Xp1y8v7npkr/my8Uyb3r3jEjTqqsqn+IismINCl2v9ZqJM3NTWrz+AtNK1IA0sZsYtsBxxgQ3PbZm5XcTK1PngR++9Iz59t3WO3W3QRB+9/HVd7ykZVIEEEAAAQQQSK7Ayl/3mpW/jh//ey8YZU4+vXBL9pubes3aexorQBw/cmO+c+XeYk3UI4AAAggggAACLSlwpw34uoHjI946tWzguL0zZWbMG5v3kmkqXvjzzny53pkrjriv3rtkfw0qEP/oS4MOtpmH1W4yn3KPr8+kVrhl8ggggAACCCCAAAIIIIAAAggggAACjS2wbePe6HQV+44yk2d3lhz0cX+/L9NUlBSicaQEEhU4PuiUU0YvXrx4aLNyVyG9ePFbC7/uqWK9arvOW7Z8vzAMLsyvFwQ3P7Fm5WP5MhkEEEAAAQQQQKBKgbHj7Mf5FmbAKLt2u73DGj2mihXKbrGyDjLOVKLuSCs7LnohgAACCCCAQOsKyHQV7nLqxbPd4oD8ce/bN1JXyTQV8mF67aMb6yaqc1yb6RjTWGOKwFKoWqDwd5FVrzr8K8w9++zO9tf7zrNvYc63Hxq3MOg2M3Z3TDHzlyx/1b4VujkMzA/tdBj31mokhyw+fdKojuACu+3z7Sx9R+423WbBkuV28+H9Jgyu3XDA5G+aF2o/OXlbn7nIHkt+yYTh1/IFMggggAACCCCAQIzA7ANS5iOf6jSBvTcP7ZTIV3652yw8ss2c+OZ2s9/+KSOBYFm2bA7NT67pMQ89EP1k7gMOSpl3v3+UmTEzMBK8be+/K5R5imW+4h3bQvPz63vMH++Nrpfbau7fU89sN6e/JbejnV2h+fLlA+fAi+tz7ns6zFGL28y0GXac/fvt3hOa+/+YNjf8qNfs3mUHwYIAAggggAACCCRUwJ+u4si3TzU//2z8PMdyL7ffG8blj7TYNBVv/Nvp5rR/mm0m79dpRk9sz94DykpyH9jbnTabHttjfvrJp8yLDw59iovzvnO4Oej4idkx/fUP280NH38yPz4/c/z5M83yz84xk2bl7kulXcYkcyP/8n8943ennDCBhg0cz1t21rzg9b47bDw1+2sZJ65qbN7OGB5+2H4A34dtYPeasb1bP7p+/freodjPX3LWQcak/5Dbn/9mJTjG7vSYhS9sPy40QWUfh1nhYCRYHQbhRUaOKresfXzt7au1QIoAAggggAACCMQJHHKYnQvPBn11kSDwEW9s02I+nTotMB+/tNPc8ds+G5TtMR02zvu5L442c+yH8sUt8pSy9Jk6PTAf+ninOeedGfOvnxkYEJZ1jzymzUyfkRvDNNs/bvH7XGb3ffDcgfuWp51POLndHH1sm/mC3d/rW/37sbitU4cAAggggAACCDSegE5XMcFOUyGLpJNswHf7SwM/H+Loc6ebVHvhPuqxO6IPLM4+ery54IZFZsKM3C/r/aOVwPOosW1mzjHjzafuPtrce83L5qZPxwep/XWLlRecMcWM3ScXMmxzxub3/8ivjjBzT5zkV2eD2lMOHG3Ov26BeWF914B2KpIjMPCuvQHG/oYTTjs0le67z142pZ/lz431gj0dU4b0IXyLFr1rVCpI/67c/kITvsfucmEtieQJZxs0nqDbDMLwK5onRQABBBBAAAEEKhWICxq76z78l9yTwxKgLRY0dvtrftbslHnrufFvVLRPpakEpeOCxu76Y8cG5rJ/r+nv6d3Nk0cAAQQQQAABBOoi8JdfbI7s59SL94+UtXDCB2dpNpuuunJjpCwB4WJB40jH/sJSuz0JNg/3cu6KubFBY3e/cu93wJvyIS+3iXxCBIbtieMglRlbyXzEEyZMCFetWmX/ILKwZDLt/2afKM6fWfZ5k1eDMPhJYML1mSAcEwSpc0wYvl3XsO3vn3f8mdc+vu62O7WumjQ9Ydt77NPLh3jr3GCDuLfaX5P0hGHmqDAIzrfnu33S2V3cCSbc+sryMhWHeb3vUu1tL6inH52zz6/NOmNkfuXdHXvOt1NkZIP7mfYx1z6++pf8mkaxSBFAAAEEEEAgVuAv96fNhofSZsKEwCy1T/BOmRqY39/WZx59MBc47toRGulzlH1aOGOr/rTWtj2UMc89ncnOiTzHTmFxzjs7Ik8zv/nsdvOrnw3pj7siY5XpMP60Jm1efimTfbp56UntZvI+9k6rf5H80W9qMw/8KTdmrSdFAAEEEEAAAQSSInDnlS+av/mf++WHe+Q7pplffO7pfFkzByzOh79M3DQVa37wijnzsgPN+Okd2fa1P3zFPPfHLvPSwzvN2Ckd5rCTJ5tTPznbyJzHskiw9pzPH2S+846HdRc1T2Vu5eO9eZnTvWH26eIXHthpxk/tMHNPmpR90trfuYyPJTkCwxY4tgHPFXY+4hXlKPbsNXLVHKr9Fi09c24mzMiTvf1L2BVmUkse++PKZ7TGpt9bsOSMy21w+Ytalwoyn7H5QQWOgyD8oB2vbsqm4eUb1t5xhVPx4wXHL/+enU3iCaduyNn++ZvzwWg7DcaXzI03Zt8h7e7omW8v92/pDBap9N41dof3D3mnbAABBBBAAAEEmlbge1ftNffZgKwuN9/YayZMDIwEi93l+1fvNW8+q8P87tZes9ebhWLj8xmz5u4+85VvjskGnWW9MfYp4FotaTu8f71kj3n1lcKYfn59b/Yp44MPLfwx3ClntBM4rhU620EAAQQQQACBugvItBQ7XukxE2fmpquQdNKsUWb7yz35sSw4Yx/TNqpwn+VPU6Edv/22h8zBSycaCSJHlqe7zfN/6jLr/vsV8y+PHZef8mKfA4b3r7eWfmBmfl8yHpnT+Osn/tnOs7w7MrzPrDvG7DtvbKSOQrIECnfnIzTuTGgiz8+nM+FpkaGEqQsfjwaNs837ju75ir20Vjt9zz7olFOqvjKyT/2GwYm6HdnmvqP7vqplTTesu/1J+wTyB7U89PTzKbuvywrbCbu6TNdPCmVyCCCAAAIIIIBA5QKbXw0jQWNd0w8aS70Ei3/7i4FBY11H0vX2SWRd5MkQ+QC9Wiy3/bI3EjTWbX7nG9E5/6ZOG/HbVB0aKQIIIIAAAgggMCiBB73pKk75RHRG1mUXFp5Ilh3cdfWLsft5ZcPugUFjp+fOzb1m0xOFoG01U1s4m6k4O//0fSJ9b73iuQFBY+nwrbc8ZORJZJbkCjTcHbl9+vc4l3PfMT0/dcual+kt7J85fkfLko7p7qx6/uHUtvTB7jbsVBjX+1NnaLv9OJmfaX6o6fwl955jt3G4bscey5c2rlmzR8ukCCCAAAIIIIBANQJ/vq8Q6K1mvWJ93SeCpc+4wod9F1ulovp7ojOU5dfZujk0e53Y8fjCX23m+5BBAAEEEEAAAQSSJHDnVdFA8FF2ugp3OXRZ4YPlZJqK54fwQXJdrxSmFSv1gXbu/gebn3F49CniO78RnZdZt7trS6/Z+OedWiRNoMDwTVVhzHV2+offlDOx0zNsivQJgml2/uJslf33vmJBXOlgn1beII/tFpb0lEK+slxHkJ6QCZ34eSYoOh3FU+tu2TF/yfJX7S7z00tUtpeBvVImvNT9nUtbqu27A3tRgwACCCCAAAIIVCaw6WX3zqKydeSD7444us3M3C8wU6YFps25JZo2wylUtrmyveQWT56MLrbs2hmazs7czV3uUx6K9aQeAQQQQAABBBBofIG46SpkygqZwuKgJRNNx5jC/dbjv3u97AHNPWlydsqKaYeMzk57kZ3QuH+tOW+M/EF/2W0NpUOHneNYl7270vZzM4rf3730yC5z4HE8EaBeSUuHLXAchsEfHlu38vqqQcIw/+uWVGi2lly/o63LyER5/Ys9TSdqvtI0nQmif3iZCkr+KsS+ldlmtz2kwPH8pWecEIbhMh2j3ebXH1lzW+lj1c6kCCCAAAIIIIBAjMDrW4vfsPvdDzwkZd7/kVFm/zmFm36/z0iU5cP6WBBAAAEEEEAAgWYSkOkq/uYjhSkpTr5of/Ory58xJ320UCfHu8p7Otk1eNN5M8z/+LeDsx+Q59aPVF4+HE+X9N7S96Dd22v7V3G6X9L6CBRe6frsr+xebBC1QzvZz6uz02sXX1J96Uh7KghyHyFZfJUBLf46Nlhd7i2Lc8YHpa+OAXvLVdhj/KzblDFtV7tl8ggggAACCCCAwHAJTJ4SmEu/MLrhgsbDdbxsFwEEEEAAAQQQGEmBO6+MTuNw9LnTs8M5/LTCPMGlpqk48m3TzLv/8/CGCRrL4OXzL3SxD0ZqNjZN90Xby3SP3QaVIycwbE8cD/aQbLB4m9FzKghLPmefMRn7UL8T+w5LPy0cN6YwE+5yz3jZZlw/rbMXx+jCSW5HW+WyaOmZczNh5u3uakHQ944FS093q0wQZg5VBmmwMfQP2D4nBSbY8+ia22VaC7c5si4FBBBAAAEEEECgmMAnPtdp2p07wD77K/EnNqTNKy+FZtvrof1Tw9ya8xbaaSzeWPXv5IvtlnoEEEAAAQQQQKAlBba/3JOdmkKmqJBl0qxR5rBTJpvREwr3WaWmqXjvNfMibnvsE7xPrtpmtj6/1+x8zc5r3B+kOuFDs8yUA0dH+g5XId1TCEm1jXLicjE7dI9Tmt2gc0x3qhpMwHnb0BgjC8Jge9gfE7XTXUSvDm+I9gHjA934aSYw270uZYsZE+5O2bCsLnb/czTvp4sXL+7YHZpD/PpqyulM5pABF0kYrPC3UbgEcy22fJGdMzors2jRu/7rkUdu7PHXoYwAAggggAACCJQTmLlf4eZe5hS+9KI9psf5UDpdf/eudgLHikGKAAIIIIAAAggMQeAvdrqKE53pKs7/0YLI1opNU7H/keNNW0chZvXU3dvMt9/2cGRdLcj8x/UKHPfuLUwA0DmuEADXsbjp1IPqE8x290m+dgKFdw612+YQtxQ+ohuwl8aMhceeuUjLfmo/YO4Mty7T0/OEW64k355q3+j2s0Hd09yym981auqxbpk8AggggAACCCCQJAGZpqLNube/6/a+2KCxHNOMmYU3KUk6RsaKAAIIIIAAAgg0msAqb7oK9ylc+XC559d3xQ55/vLCdBbS4caLn4rtJ5UT7ZPM9Vp22KeodZEPND50Wf7jyrQ6nx54XNUfR5Zfl8zICzRc4Ng+NbzaZQnb0tfOPfvsTrdO8vOOP/PU7FO4hYZHn1i/anOhaB9/T2ciD+4GHeEBbrvk+z+ULh9wtiu8f8GS06PzRth+ixe/dWwQhv/lr19tOWxve86uc519Nv/mkl/GrPW2vTbb35j/fuSRRc48y14viggggAACCCCAQBEBd4oK6TJ2fPHg8OIlDfeHaUWOimoEEEAAAQQQQKCxBXS6irhRlpqmwn3aWNYdNy3/sWCRTY2d0m72nTc2UhdXKEy9agPN+w4+0PzXe7ZFNv/+nyyIPBmtjeeumGvG7sM9pXokMW24V++x2ZPvWfDCNgnkHp4DDY4Z9Xr6B/OWLP/W+N6tf+ztnLpPb9qcFgaZKyPgQfD1SNkWMibY5EbGwyD8mJ1jeIvZMfF5d6oH+xF3P7OzQFym64cm+PHCpcsvyqQzvx+X3rZDnjTeHXZ/0rb3j0l7Vp8+vvrWx+1a7yu35oIlZx5jj2B9oV/qYxvW3HZ/rnx7oZocAggggAACCCBQocDmV+2EYPa35Dpt1kmntZv169Lm8UcKnw08YWJgLrx4lJk+o3hQucLd0Q0BBBBAAAEEEECgX+CBm14zJ/3j/gM8ik1TIR1femhXpP8HfrLQXHnaA2bbxsI8Y7OPHm8+eP3C2MBtZGVb6O5Kmw77aWGyjJvaYU6/ZI6578ebzI5NPSYszD6RbS/1z7prN5lTLp6d7zJmUrv59OpjzO1fe948aKfl2Hf+WLP0g7PM0g/MzPchk0yBhgscmxtvTIdLzrjEzub7SyW1b3HeY0/r9+zumGJjqfJuJ/u/Nsubn6eDHZN+lK/oz3S2B8/3ug8dh+Z99sPv3mcmZAPT+fmTw77U1aYjkw8c283PsG+qbghSKbM7NcV+UJ3dJwsCCCCAAAIIINAEAi9tzJj95+TeMKTstBWfvrzT7LYf4rDHvi8ZbT8ieOw4+1G8xIyb4JXmEBBAAAEEEECgkQTuuvrFAYHj7DQVf4qfpkLG/uitW02fnU+4vTN37zZhRoe5/OFjsx+K19udyT7N2znemYeszAHveGWvkW3octblBxr5uvMbG81vPv+sVpdNX3tqj3nxLzvN/keNz/edcfgY897vzct+5SvJJF4gd+Y12GE8tnblr+ynwMkTvmUXCRq3Z9pPdp8g1pUevHflq/Z9zw+1rKkNA0ee39+w/raX7QfPnaftxVK73sZom31WmQUBBBBAAAEEEEiQwHev6jHde6K3MGPHBmbq9MCMs1NXaNA4XXgIOUFHx1ARQAABBBBAAIHGFJDpKuTLXUpNUyH9MukwO6+x/zTw+OkdZp85ncYNGmf6ovd37n40/+t/eVazkXTU2MqDz7riD87bYCTwXW6RwLe78Gymq9H4+ZoFjvvCtj3u4do3HdvdcrX5Detuv9L+LeVSG/iNzHlc2E7YZd/afMFOJ3Hcg+tu8QK6hV7dvaENQIffKtQYkwpM9Eq1jRvWrbzenrxn2r7900G4a2SfcF6dCdJLbO0qbbFPIkcnddGGGqRtJh3xtH8zUPxXUDXYH5tAAAEEEEAAgZER2GOf9nWXHTuiZbfNzfvr7eyqbL2X7RPHl3x0j3numehNvG5bbuafeSpjVlzRrVXZdG/hLyLz9d3O3UomfnM2SJ3vbor10R69vYVj6InZn/YjRQABBBBAAAEEkiiw5pqX88OWe647VxQNZ+X7rf9/r5r/c8L9ZvfW+I+7SveE5t7vv2zW/OCV/Dq9XrBWG55ctc1I8FjWcZd0X/RGzg32yvQWccv2l/aa/zj2/uyTx3HtcnwP/nKz+fW/Phtp7t4RfxyRThQaRiARf4g498Szp3f29Sw2mbbx6ZTptkHpZ7vCrr9uXLPGeStSzvTzqcOX3j1rVJiamO5t25Z9yrjIKvOWnTUvle6bEwbBdDtR8pa2VOpp+yF6TxXpnqRqfb3dVPLyCwRN5ddMUpavtg+/e1fkAwdtHQsCCCCAAAIINIlA52hj5i9sM3Pnp8wee1f10P1p88Jz0TcOTXKoHAYCCCCAAAJNJpAL/IUSncsudpJP+59MVJvNySOq9iuTT9Nmxu+f7e9LklSBiTNHmcNOmWzm2HmNX31yj3nklq1GAriDWWTKillvGGfa2gPz5N3bTZ+d+mKwy6T9Os1hJ08yMxeOy25CprJ48ObNZs82gsSDNa3Vev93+4nT7LYk+i8vsKaSl28emha+kdhKu2g5GyzMVfFvKwi4AWM5XilrwFhTAsetcCZwjAgggAACCCCAAAIIIIAAAgkWyMV1CBwn+CVk6AjUQWCogeOaTVVRh2NlFwgggAACCCCAAAIIIIAAAggggAACCCCAAAJ1ECBwXAdkdoEAAggggAACCCCAAAIIIIAAAggggAACCCRJgMBxkl4txooAAggggAACCCCAAAIIIIAAAggggAACCNRBgMBxHZDZBQIIIIAAAggggAACCCCAAAIIIIAAAgggkCQBAsdJerUYKwIIIIAAAggggAACCCCAAAIIIIAAAgggUAcBAsd1QGYXCCCAAAIIIIAAAggggAACCCCAAAIIIIBAkgQIHCfp1WKsCCCAAAIIIIAAAggggAACCCCAAAIIIIBAHQQIHNcBmV0ggAACCCCAAAIIIIAAAggggAACCCCAAAJJEiBwnKRXi7EigAACCCCAAAIIIIAAAggggAACCCCAAAJ1ECBwXAdkdoEAAggggAACCCCAAAIIIIAAAggggAACCCRJgMBxkl4txooAAggggAACCCCAAAIIIIAAAggggAACCNRBgMBxHZDZBQIIIIAAAggggAACCCCAAAIIIIAAAgggkCQBAsdJerUYKwIIIIAAAggggAACCCCAAAIIIIAAAgggUAcBAsd1QGYXCCCAAAIIIIAAAggggAACCCCAAAIIIIBAkgQIHCfp1WKsCCCAAAIIIIAAAggggAACCCCAAAIIIIBAHQQIHNcBmV0ggAACCCCAAAIIIIAAAggggAACCCCAAAJJEiBwnKRXi7EigAACCCCAAAIIIIAAAggggAACCCCAAAJ1ECBwXAdkdoEAAggggAACCCCAAAIIIIAAAggggAACCCRJgMBxkl4txooAAggggAACCCCAAAIIIIAAAggggAACCNRBgMBxHZDZBQIIIIAAAggggAACCCCAAAIIIIAAAgggkCQBAsdJerXqM9awPrthLwgggAACCCCAAAIIIIAAAggggAACCCDQqAIEjhv1lWFcCCCAAAIIIIAAAggggAACCCCAAAIIIIDACAkQOB4heHaLAAIIIIAAAggggAACCCCAAAII1FYgqO3m2BoCCDSrQEUzDhA4btaXv7rjquhkqW6T9EYAAQQQQAABBBBAAAEEEEAAAQQQQACBERTQmJ+mVQ2FwHFVXC3TWU8mTVvmwDlQBBBAAAEEEEAAAQQQQAABBJIiEASlnzDWdk2TclyMEwEE6i4QGwMkcFz314EdIoAAAggggAACCCCAAAIIIIAAAggggAACdRGIDQpXsmcCx5UoNV+fSk6YSvo0nwxHhAACCCCAAAIIIIAAAggggEAzCZR5KrmZDpVjQQCB2goQOK6tZ5K3JoFi/dLjCDOZntVaIEUAAQQQQAABBBBAAAEEEEAAgcYXCIydwiISMA5Mb7hnXeOPnBEigECNBfTBUI35abmi3RA4roip5TrpydRyB84BI4AAAggggAACCCCAAAIIIJBkgWzQOHIAgdm9+8WrIlUUEECg6QX2mq7/6D9IP1jsl4taEDguStOUDRWfGHpibet68qtNKcFBIYAAAggggAACCCCAAAIIIJBYgdIfipc7rEKfVNCWeSnz8DcSe7gMHAEEqhYITMp/MLSSuGCkD4HjqtmbaoW4E0jrsunPbjluNdNVNNVrzsEggAACCCCAAAIIIIAAAgg0nYA8Z+xMT9E/TYXU7ene9I0bbll85U93/tPa3rB7bdMdOgeEAAIDBORp46u3nyVPHLtxPuknZVn8+lyt9y+BYw+kRYt6sujhu+Xwmhv2efvevVu/po2kCCCAAAIIIIAAAggggAACCCDQqAKFJ43T6Z41N/zmqBV2pBn7FV61Y/nf7Qw38+Rxo750jAuBGgikw97V39z+Fj9orAFj2YObL7nHwneTkt1obCIB9zWXvP8lv0yI/fqHd77wWXtuBZ2dUy9pIg8OBQEEEEAAAQQQQAABBBBAAIEEChRiP2GYe/4rtPGgTHrPmowNE2/asm7FrXe9XZ4wlkZ576+p+cjEX3xKDnhcMDWbSp4FAQSSK9AX9twro98SPvO167o+dI/Nyi+L0v1p9hdHXj73TSP3fUHyurj57DcObSBtDYFygWNp18Cxm9c6SaVev6Qsi5Rl0TRX4l8EEEAAAQQQQAABBBBAAAEEEBhOAQ0IuwEfyftlGYP7nl3f1/tjc/v4bZQRQGBkBfS61mvcTf0AsZT1S/ppu7uO5vWopJxf2vM5Mq0qEDkh+hGkTk4mCQrrCSRlXfSHi6TSrmW3XfOkCCCAAAIIIIAAAggggAACCCBQWwF9Ly5blbwsmuZKhffzWnZT/328tEmdLJq6+8i18C8CCIykgHuNS97/0sCwpn57XLnk8RA4LsnTlI1ykpT7IaB99ITSILIGj/UHjJsqlm5by6QIIIAAAggggAACCCCAAAIIIFB7AX3vLluWvL/E1Wkfd12tk1Tf0xdrd/uSRwCB+gu417Xk/S8NGmuq/TX1R+zWu/lsPwLHPldrlgecGJbBDRbLk8dS1h8gGjAWLT8vdbJo31yJfxFAAAEEEEAAAQQQQAABBBBAoBYCce/hK61z9+++b5e8bMOt075xddpGigAC9RFwr3HNu6nk3WCxW/brpU3XLTl6AscleZq2UU4O/cbv592D1pNIg8a6jpu6eV1X67RMigACCCCAAAIIIIAAAggggAACtRPQ9+vuFrVO3pNLXsvSR9+n+3Xa1+0jeV10PS2TIoDAyAm416/mJdUvGZkfJPbL7uh1G1Ln5vN9CBznKVo+IyeI+wNByhow1rmO9cljwZK+2t9PpT1u0X5xbdQhgAACCCCAAAIIIIAAAggggEBUIDaY43TR9/JuP62Tblqvqb4vl1Tq3L7SX+u1n9TFLeXa49ahDgEEKhPQ67VYb213Uz8vZTdorNuSeu2rdUVTLvSiNC3R4L7+mpdUvwRB827q1mteUl2kLwsCCCCAAAIIIIAAAggggAACCAyPQLHAT7n6Yu/Xq60fnqNiqwggUErAv761LKmf17q4etmH1vt5KecXnjjOU7R8Rk4Y+UHhnjguirZLH7ef/nDR1F3HzZdrd/uSRwABBBBAAAEEEEAAAQQQQACBnECx9+nqo+/X/X5a9t/Du/W6DUm1X7n37+Xa3W2SRwCBwQnodVpsbW3XVPpJXr/csuYllcVdJ1dT5F8u9iIwLVTtnwNadlM3LzR+2a1rIToOFQEEEEAAAQQQQAABBBBAAIERF9AgkLxX17ykWtZUBqp5N3XrNS8pCwIINK6AXusyQs3HpXF17lFpu1uXz8s3ChYE/PNAy8VSEdM2P48mAggggAACCCCAAAIIIIAAAgjUV0CDP/JeXfOVjsBdx32vX+n69EMAgZERcK/1uLzW+amOVuu1PCDlG8IAkpat8M8Ft6x5TQXJzftopdr8vpQRQAABBBBAAAEEEEAAAQQQQKA6gbIBn/7NST95j679NV/p+/ZK+1U3enojgMBgBPQ6jlvXbdO8ptLfzceV47ZZMvgXuwKVTS0Q9wPBrXPzAuGXmxqHg0MAAQQQQAABBBBAAAEEEECgwQU0OKTv17XsD9tv17LfjzICCDS+gH+du2U3r0cSV6dtkZRvDBEOClag2Dnh1/tl8BBAAAEEEEAAAQQQQAABBBBAYOQFNCik79u1rCPz67Ws7aQIIJAsAf8al9HH1ZWqjz1ivjnEslBpBUqdG6XawEMAAQQQQAABBBBAAAEEEEAAgZEVcING/nv4Um0jO2r2jgACQxFwr21/O6Xa/L75sv/NI99ABoF+gUrPkUr7AYsAAggggAACCCCAAAIIIIAAArUTGFRAqMTueX9fAocmBBpEoNLrvtJ+sYfFN4NYFipjBDhXYlCoQgABBBBAAAEEEEAAAQQQQKDBBfzAEe/vG/wFY3gI1EDAv+4Htcn/D7yjisvMAT7AAAAAAElFTkSuQmCC)\n"
   ]
  },
  {
   "cell_type": "markdown",
   "metadata": {
    "id": "1gcDBYg4P0CL"
   },
   "source": [
    "#### 👨‍💻 코드 : (2-2)"
   ]
  },
  {
   "cell_type": "code",
   "execution_count": 23,
   "metadata": {
    "executionInfo": {
     "elapsed": 10,
     "status": "ok",
     "timestamp": 1698150886817,
     "user": {
      "displayName": "이동빈",
      "userId": "02086753221575393526"
     },
     "user_tz": -540
    },
    "id": "zpOzJxaIRStf"
   },
   "outputs": [],
   "source": [
    "# 분할된 데이터를 fold별로 시각화하기 위한 함수를 구성합니다.\n",
    "# Scikit-learn에서 https://scikit-learn.org/stable/auto_examples/model_selection/plot_cv_indices.html 사용한 코드를 가져와서 사용하겠습니다.\n",
    "cmap_data = plt.cm.Paired\n",
    "cmap_cv = plt.cm.coolwarm\n",
    "\n",
    "def plot_cv_indices(x, y, cv, ax, split_strategy='KFold', group=None, lw=10):\n",
    "    \"\"\"Create a sample plot for indices of a cross-validation object.\"\"\"\n",
    "\n",
    "    for ii, (tr, tt) in enumerate(cv.split(X=x, y=y, groups=group)):\n",
    "        # Fill in indices with the training/test groups\n",
    "        print(f\"Fold {ii} :\")\n",
    "        print(f\"  Train : index={tr[:5]}...\")\n",
    "        print(f\"  Valid : index={tt[:5]}...\")\n",
    "        indices = np.array([np.nan] * len(x))\n",
    "        indices[tt] = 1\n",
    "        indices[tr] = 0\n",
    "        # Visualize the results\n",
    "        ax.scatter(\n",
    "            range(len(indices)),\n",
    "            [ii + 0.5] * len(indices),\n",
    "            c=indices,\n",
    "            marker=\"_\",\n",
    "            lw=lw,\n",
    "            cmap=cmap_cv,\n",
    "            vmin=-0.2,\n",
    "            vmax=0.2,\n",
    "        )\n",
    "\n",
    "    # Formatting\n",
    "    yticklabels = list(range(5))\n",
    "\n",
    "    ax.set(\n",
    "        yticks=np.arange(len(yticklabels)) + 0.5,\n",
    "        yticklabels=yticklabels,\n",
    "        xlabel=\"Sample index\",\n",
    "        ylabel=\"CV iteration\",\n",
    "        ylim=[len(yticklabels) + 0.2, -0.2],\n",
    "        xlim=[0, len(x)],\n",
    "    )\n",
    "    ax.set_title(split_strategy, fontsize=15)\n",
    "    return ax"
   ]
  },
  {
   "cell_type": "code",
   "execution_count": 24,
   "metadata": {
    "id": "4hAnZlhlRR4m"
   },
   "outputs": [],
   "source": [
    "# Kfold 함수를 선언합니다.\n",
    "kf = KFold(n_splits=5)"
   ]
  },
  {
   "cell_type": "code",
   "execution_count": 25,
   "metadata": {
    "colab": {
     "base_uri": "https://localhost:8080/",
     "height": 769
    },
    "executionInfo": {
     "elapsed": 28058,
     "status": "ok",
     "timestamp": 1696319321241,
     "user": {
      "displayName": "이동빈",
      "userId": "02086753221575393526"
     },
     "user_tz": -540
    },
    "id": "uvXIi4dLy2ef",
    "outputId": "21643bc8-d594-4be8-809d-1a03aba8e94e"
   },
   "outputs": [
    {
     "name": "stdout",
     "output_type": "stream",
     "text": [
      "Fold 0 :\n",
      "  Train : index=[109291 109292 109293 109294 109295]...\n",
      "  Valid : index=[0 1 2 3 4]...\n",
      "Fold 1 :\n",
      "  Train : index=[0 1 2 3 4]...\n",
      "  Valid : index=[109291 109292 109293 109294 109295]...\n",
      "Fold 2 :\n",
      "  Train : index=[0 1 2 3 4]...\n",
      "  Valid : index=[218582 218583 218584 218585 218586]...\n",
      "Fold 3 :\n",
      "  Train : index=[0 1 2 3 4]...\n",
      "  Valid : index=[327872 327873 327874 327875 327876]...\n",
      "Fold 4 :\n",
      "  Train : index=[0 1 2 3 4]...\n",
      "  Valid : index=[437162 437163 437164 437165 437166]...\n"
     ]
    },
    {
     "data": {
      "text/plain": [
       "<Axes: title={'center': 'K-Fold'}, xlabel='Sample index', ylabel='CV iteration'>"
      ]
     },
     "execution_count": 25,
     "metadata": {},
     "output_type": "execute_result"
    },
    {
     "data": {
      "image/png": "[encoded data removed]",
      "text/plain": [
       "<Figure size 640x480 with 1 Axes>"
      ]
     },
     "metadata": {},
     "output_type": "display_data"
    }
   ],
   "source": [
    "# kfold를 시각화합니다.\n",
    "fig, ax = plt.subplots()\n",
    "plot_cv_indices(x=X_train,\n",
    "                y=Y_train,\n",
    "                cv=kf,\n",
    "                ax=ax,\n",
    "                split_strategy='K-Fold')"
   ]
  },
  {
   "cell_type": "code",
   "execution_count": 26,
   "metadata": {
    "colab": {
     "base_uri": "https://localhost:8080/"
    },
    "executionInfo": {
     "elapsed": 4,
     "status": "ok",
     "timestamp": 1696319321241,
     "user": {
      "displayName": "이동빈",
      "userId": "02086753221575393526"
     },
     "user_tz": -540
    },
    "id": "dSJnuZq5ykip",
    "outputId": "68b846dd-fd0a-4c42-82c3-04b8ea48c427"
   },
   "outputs": [
    {
     "data": {
      "text/plain": [
       "<generator object _BaseKFold.split at 0x286dcb0a0>"
      ]
     },
     "metadata": {},
     "output_type": "display_data"
    }
   ],
   "source": [
    "# 학습 데이터를 Kfold로 나눕니다.\n",
    "train_folds = kf.split(X_train, Y_train)\n",
    "display(train_folds)"
   ]
  },
  {
   "cell_type": "markdown",
   "metadata": {
    "id": "pB7N6vXsy-xm"
   },
   "source": [
    "- Kfold적용 시, 결과는 generator object로 반환됩니다.\n",
    "- python generator는 iterator를 생성해주는 함수입니다.\n",
    "- 즉, loop를 통해 불러올때 값을 확인할 수 있습니다."
   ]
  },
  {
   "cell_type": "code",
   "execution_count": 30,
   "metadata": {
    "colab": {
     "base_uri": "https://localhost:8080/"
    },
    "executionInfo": {
     "elapsed": 40488,
     "status": "ok",
     "timestamp": 1696319361726,
     "user": {
      "displayName": "이동빈",
      "userId": "02086753221575393526"
     },
     "user_tz": -540
    },
    "id": "Xym7Dtsp0qW3",
    "outputId": "7d5559a9-267b-45d1-85b3-928b0c6054f8"
   },
   "outputs": [
    {
     "name": "stdout",
     "output_type": "stream",
     "text": [
      "--------0번째 fold의 학습을 시작합니다.--------\n",
      "[LightGBM] [Warning] Auto-choosing row-wise multi-threading, the overhead of testing was 0.012534 seconds.\n",
      "You can set `force_row_wise=true` to remove the overhead.\n",
      "And if memory is not enough, you can set `force_col_wise=true`.\n",
      "[LightGBM] [Info] Total Bins 8121\n",
      "[LightGBM] [Info] Number of data points in the train set: 437161, number of used features: 42\n",
      "[LightGBM] [Info] Start training from score 38976.098026\n",
      "Training until validation scores don't improve for 10 rounds\n",
      "[10]\ttraining's rmse: 31845.1\ttraining's l2: 1.01411e+09\tvalid_1's rmse: 63607.3\tvalid_1's l2: 4.04588e+09\n",
      "[20]\ttraining's rmse: 11660.8\ttraining's l2: 1.35975e+08\tvalid_1's rmse: 45851.2\tvalid_1's l2: 2.10233e+09\n",
      "[30]\ttraining's rmse: 5152.95\ttraining's l2: 2.65529e+07\tvalid_1's rmse: 41219.2\tvalid_1's l2: 1.69902e+09\n",
      "[40]\ttraining's rmse: 3454.61\ttraining's l2: 1.19343e+07\tvalid_1's rmse: 39774.1\tvalid_1's l2: 1.58198e+09\n",
      "[50]\ttraining's rmse: 3061.06\ttraining's l2: 9.37008e+06\tvalid_1's rmse: 39279.4\tvalid_1's l2: 1.54287e+09\n",
      "[60]\ttraining's rmse: 2912.43\ttraining's l2: 8.48223e+06\tvalid_1's rmse: 39200.6\tvalid_1's l2: 1.53669e+09\n",
      "Early stopping, best iteration is:\n",
      "[55]\ttraining's rmse: 2971.78\ttraining's l2: 8.83148e+06\tvalid_1's rmse: 39175.8\tvalid_1's l2: 1.53474e+09\n",
      "--------0번째 fold는 kfold0_gbm.pkl에 저장되었습니다.--------\n",
      "\n",
      "\n",
      "--------1번째 fold의 학습을 시작합니다.--------\n",
      "[LightGBM] [Warning] Auto-choosing row-wise multi-threading, the overhead of testing was 0.010917 seconds.\n",
      "You can set `force_row_wise=true` to remove the overhead.\n",
      "And if memory is not enough, you can set `force_col_wise=true`.\n",
      "[LightGBM] [Info] Total Bins 8116\n",
      "[LightGBM] [Info] Number of data points in the train set: 437161, number of used features: 42\n",
      "[LightGBM] [Info] Start training from score 38913.555491\n",
      "Training until validation scores don't improve for 10 rounds\n",
      "[10]\ttraining's rmse: 32993.5\ttraining's l2: 1.08857e+09\tvalid_1's rmse: 46330.1\tvalid_1's l2: 2.14648e+09\n",
      "[20]\ttraining's rmse: 12065.8\ttraining's l2: 1.45584e+08\tvalid_1's rmse: 23633.8\tvalid_1's l2: 5.58555e+08\n",
      "[30]\ttraining's rmse: 5276.56\ttraining's l2: 2.78421e+07\tvalid_1's rmse: 16576.6\tvalid_1's l2: 2.74785e+08\n",
      "[40]\ttraining's rmse: 3479.21\ttraining's l2: 1.21049e+07\tvalid_1's rmse: 14175.4\tvalid_1's l2: 2.00941e+08\n",
      "[50]\ttraining's rmse: 3043.35\ttraining's l2: 9.26199e+06\tvalid_1's rmse: 13541.2\tvalid_1's l2: 1.83364e+08\n",
      "[60]\ttraining's rmse: 2875.2\ttraining's l2: 8.26679e+06\tvalid_1's rmse: 13253.8\tvalid_1's l2: 1.75662e+08\n",
      "[70]\ttraining's rmse: 2778.15\ttraining's l2: 7.71813e+06\tvalid_1's rmse: 13215.6\tvalid_1's l2: 1.74652e+08\n",
      "[80]\ttraining's rmse: 2691.93\ttraining's l2: 7.24647e+06\tvalid_1's rmse: 13179.3\tvalid_1's l2: 1.73693e+08\n",
      "[90]\ttraining's rmse: 2622.19\ttraining's l2: 6.8759e+06\tvalid_1's rmse: 13105\tvalid_1's l2: 1.71741e+08\n",
      "[100]\ttraining's rmse: 2571.02\ttraining's l2: 6.61012e+06\tvalid_1's rmse: 13118.6\tvalid_1's l2: 1.72099e+08\n",
      "Early stopping, best iteration is:\n",
      "[93]\ttraining's rmse: 2609.56\ttraining's l2: 6.80981e+06\tvalid_1's rmse: 13085.5\tvalid_1's l2: 1.7123e+08\n",
      "--------1번째 fold는 kfold1_gbm.pkl에 저장되었습니다.--------\n",
      "\n",
      "\n",
      "--------2번째 fold의 학습을 시작합니다.--------\n",
      "[LightGBM] [Warning] Auto-choosing row-wise multi-threading, the overhead of testing was 0.013762 seconds.\n",
      "You can set `force_row_wise=true` to remove the overhead.\n",
      "And if memory is not enough, you can set `force_col_wise=true`.\n",
      "[LightGBM] [Info] Total Bins 8100\n",
      "[LightGBM] [Info] Number of data points in the train set: 437162, number of used features: 42\n",
      "[LightGBM] [Info] Start training from score 44830.847940\n",
      "Training until validation scores don't improve for 10 rounds\n",
      "[10]\ttraining's rmse: 36269\ttraining's l2: 1.31544e+09\tvalid_1's rmse: 26719.9\tvalid_1's l2: 7.13953e+08\n",
      "[20]\ttraining's rmse: 13276.6\ttraining's l2: 1.76268e+08\tvalid_1's rmse: 13046.5\tvalid_1's l2: 1.7021e+08\n",
      "[30]\ttraining's rmse: 5845.76\ttraining's l2: 3.41729e+07\tvalid_1's rmse: 12070.6\tvalid_1's l2: 1.45698e+08\n",
      "Early stopping, best iteration is:\n",
      "[25]\ttraining's rmse: 8458.33\ttraining's l2: 7.15433e+07\tvalid_1's rmse: 12037\tvalid_1's l2: 1.44888e+08\n",
      "--------2번째 fold는 kfold2_gbm.pkl에 저장되었습니다.--------\n",
      "\n",
      "\n",
      "--------3번째 fold의 학습을 시작합니다.--------\n",
      "[LightGBM] [Warning] Auto-choosing row-wise multi-threading, the overhead of testing was 0.010652 seconds.\n",
      "You can set `force_row_wise=true` to remove the overhead.\n",
      "And if memory is not enough, you can set `force_col_wise=true`.\n",
      "[LightGBM] [Info] Total Bins 8095\n",
      "[LightGBM] [Info] Number of data points in the train set: 437162, number of used features: 42\n",
      "[LightGBM] [Info] Start training from score 43533.638347\n",
      "Training until validation scores don't improve for 10 rounds\n",
      "[10]\ttraining's rmse: 35645.6\ttraining's l2: 1.27061e+09\tvalid_1's rmse: 30398.7\tvalid_1's l2: 9.24082e+08\n",
      "[20]\ttraining's rmse: 13059.7\ttraining's l2: 1.70556e+08\tvalid_1's rmse: 11265.5\tvalid_1's l2: 1.26913e+08\n",
      "[30]\ttraining's rmse: 5778.03\ttraining's l2: 3.33857e+07\tvalid_1's rmse: 5321.3\tvalid_1's l2: 2.83162e+07\n",
      "[40]\ttraining's rmse: 3885.78\ttraining's l2: 1.50993e+07\tvalid_1's rmse: 3978.01\tvalid_1's l2: 1.58245e+07\n",
      "[50]\ttraining's rmse: 3449.47\ttraining's l2: 1.18988e+07\tvalid_1's rmse: 3795.86\tvalid_1's l2: 1.44086e+07\n",
      "Early stopping, best iteration is:\n",
      "[49]\ttraining's rmse: 3474.64\ttraining's l2: 1.20731e+07\tvalid_1's rmse: 3790.36\tvalid_1's l2: 1.43668e+07\n",
      "--------3번째 fold는 kfold3_gbm.pkl에 저장되었습니다.--------\n",
      "\n",
      "\n",
      "--------4번째 fold의 학습을 시작합니다.--------\n",
      "[LightGBM] [Warning] Auto-choosing row-wise multi-threading, the overhead of testing was 0.012850 seconds.\n",
      "You can set `force_row_wise=true` to remove the overhead.\n",
      "And if memory is not enough, you can set `force_col_wise=true`.\n",
      "[LightGBM] [Info] Total Bins 7980\n",
      "[LightGBM] [Info] Number of data points in the train set: 437162, number of used features: 42\n",
      "[LightGBM] [Info] Start training from score 42956.835272\n",
      "Training until validation scores don't improve for 10 rounds\n",
      "[10]\ttraining's rmse: 36397.8\ttraining's l2: 1.3248e+09\tvalid_1's rmse: 26462.1\tvalid_1's l2: 7.00245e+08\n",
      "[20]\ttraining's rmse: 13296.9\ttraining's l2: 1.76807e+08\tvalid_1's rmse: 9607.14\tvalid_1's l2: 9.22972e+07\n",
      "[30]\ttraining's rmse: 5790.94\ttraining's l2: 3.3535e+07\tvalid_1's rmse: 4561\tvalid_1's l2: 2.08027e+07\n",
      "[40]\ttraining's rmse: 3808.51\ttraining's l2: 1.45048e+07\tvalid_1's rmse: 3541.99\tvalid_1's l2: 1.25457e+07\n",
      "[50]\ttraining's rmse: 3343.96\ttraining's l2: 1.11821e+07\tvalid_1's rmse: 3430.55\tvalid_1's l2: 1.17686e+07\n",
      "[60]\ttraining's rmse: 3167.88\ttraining's l2: 1.00355e+07\tvalid_1's rmse: 3436.15\tvalid_1's l2: 1.18071e+07\n",
      "Early stopping, best iteration is:\n",
      "[55]\ttraining's rmse: 3240.67\ttraining's l2: 1.0502e+07\tvalid_1's rmse: 3427.49\tvalid_1's l2: 1.17477e+07\n",
      "--------4번째 fold는 kfold4_gbm.pkl에 저장되었습니다.--------\n",
      "\n",
      "\n"
     ]
    }
   ],
   "source": [
    "# 학습을 진행합니다.\n",
    "\n",
    "fold_save_files = []\n",
    "\n",
    "for fold_idx, (train_idx, valid_idx) in enumerate(train_folds):\n",
    "    print(f\"--------{fold_idx}번째 fold의 학습을 시작합니다.--------\")\n",
    "\n",
    "    # index를 통해 fold의 학습세트를 가져옵니다.\n",
    "    X_train_fold = X_train.iloc[train_idx, :]\n",
    "    Y_train_fold = Y_train[train_idx]\n",
    "\n",
    "    # index를 통해 fold의 평가세트를 가져옵니다.\n",
    "    X_valid_fold = X_train.iloc[valid_idx, :]\n",
    "    Y_valid_fold = Y_train[valid_idx]\n",
    "\n",
    "    # fold의 데이터로 학습을 진행합니다.\n",
    "    gbm = lgb.LGBMRegressor(n_estimators=1000)\n",
    "    gbm.fit(X_train_fold, Y_train_fold,                                               # 학습 데이터를 입력합니다.\n",
    "        eval_set=[(X_train_fold, Y_train_fold), (X_valid_fold, Y_valid_fold)], # 평가셋을 지정합니다.\n",
    "        eval_metric ='rmse',                                                               # 평가과정에서 사용할 평가함수를 지정합니다.\n",
    "        callbacks=[lgb.early_stopping(stopping_rounds=10),                                  # 10번의 성능향상이 없을 경우, 학습을 멈춥니다.\n",
    "                   lgb.log_evaluation(period=10, show_stdv=True)]                           # 매 iteration마다 학습결과를 출력합니다.\n",
    "    )\n",
    "\n",
    "    # 각 fold별 학습한 모델을 저장합니다.\n",
    "    file_name = f\"kfold{fold_idx}_gbm.pkl\"\n",
    "    joblib.dump(gbm, file_name)\n",
    "    print(f\"--------{fold_idx}번째 fold는 {file_name}에 저장되었습니다.--------\\n\\n\")\n",
    "    fold_save_files.append(file_name)\n"
   ]
  },
  {
   "cell_type": "code",
   "execution_count": 31,
   "metadata": {
    "colab": {
     "base_uri": "https://localhost:8080/"
    },
    "executionInfo": {
     "elapsed": 15,
     "status": "ok",
     "timestamp": 1696319361726,
     "user": {
      "displayName": "이동빈",
      "userId": "02086753221575393526"
     },
     "user_tz": -540
    },
    "id": "F01bdw-HxUor",
    "outputId": "410716ce-5a12-4b15-df97-655ebe88d0fe"
   },
   "outputs": [
    {
     "data": {
      "text/plain": [
       "'kfold0_gbm.pkl - Test rmse : 3567.055964571741'"
      ]
     },
     "metadata": {},
     "output_type": "display_data"
    },
    {
     "data": {
      "text/plain": [
       "'kfold1_gbm.pkl - Test rmse : 4234.990844879663'"
      ]
     },
     "metadata": {},
     "output_type": "display_data"
    },
    {
     "data": {
      "text/plain": [
       "'kfold2_gbm.pkl - Test rmse : 6731.210851177929'"
      ]
     },
     "metadata": {},
     "output_type": "display_data"
    },
    {
     "data": {
      "text/plain": [
       "'kfold3_gbm.pkl - Test rmse : 3675.4194257296185'"
      ]
     },
     "metadata": {},
     "output_type": "display_data"
    },
    {
     "data": {
      "text/plain": [
       "'kfold4_gbm.pkl - Test rmse : 3807.7996619078413'"
      ]
     },
     "metadata": {},
     "output_type": "display_data"
    },
    {
     "data": {
      "text/plain": [
       "'최종 Test rmse : 3495.298405029362'"
      ]
     },
     "metadata": {},
     "output_type": "display_data"
    }
   ],
   "source": [
    "# 저장한 학습모델들을 불러와, Testset에 대한 추론을 진행합니다.\n",
    "# 각 fold의 예측결과를 평균을 취하는 방식으로 진행합니다.\n",
    "total_predicts = np.zeros(len(X_test))\n",
    "\n",
    "for file_name in fold_save_files:\n",
    "    gbm_trained = joblib.load(file_name)\n",
    "    fold_predicts = gbm_trained.predict(X_test)\n",
    "\n",
    "    # 각 fold의 rmse를 측정합니다.\n",
    "    RMSE = mean_squared_error(Y_test, fold_predicts)**0.5\n",
    "    display(f\"{file_name} - Test rmse : {RMSE}\")\n",
    "\n",
    "    total_predicts += fold_predicts / len(fold_save_files)\n",
    "\n",
    "RMSE = mean_squared_error(Y_test, total_predicts)**0.5\n",
    "display(f\"최종 Test rmse : {RMSE}\")"
   ]
  },
  {
   "cell_type": "code",
   "execution_count": 32,
   "metadata": {
    "colab": {
     "base_uri": "https://localhost:8080/"
    },
    "executionInfo": {
     "elapsed": 14,
     "status": "ok",
     "timestamp": 1696319361726,
     "user": {
      "displayName": "이동빈",
      "userId": "02086753221575393526"
     },
     "user_tz": -540
    },
    "id": "W74RoaEff1bb",
    "outputId": "a7af2802-ccde-469a-cfd9-f6356ea3d0cd"
   },
   "outputs": [
    {
     "data": {
      "text/plain": [
       "'kfold1_gbm.pkl - Test rmse : 4234.990844879663'"
      ]
     },
     "metadata": {},
     "output_type": "display_data"
    },
    {
     "data": {
      "text/plain": [
       "'kfold3_gbm.pkl - Test rmse : 3675.4194257296185'"
      ]
     },
     "metadata": {},
     "output_type": "display_data"
    },
    {
     "data": {
      "text/plain": [
       "'kfold4_gbm.pkl - Test rmse : 3807.7996619078413'"
      ]
     },
     "metadata": {},
     "output_type": "display_data"
    },
    {
     "data": {
      "text/plain": [
       "'최종 Test rmse : 3430.6729252664813'"
      ]
     },
     "metadata": {},
     "output_type": "display_data"
    }
   ],
   "source": [
    "# 위 학습 로그에서 검증세트를 기준으로 rmse가 가장 낮은 3개의 모델을 선택후 추론을 진행합니다.\n",
    "\n",
    "top_3_files = [\"kfold1_gbm.pkl\", \"kfold3_gbm.pkl\", \"kfold4_gbm.pkl\"]\n",
    "total_predicts = np.zeros(len(X_test))\n",
    "\n",
    "for file_name in top_3_files:\n",
    "    gbm_trained = joblib.load(file_name)\n",
    "    fold_predicts = gbm_trained.predict(X_test)\n",
    "\n",
    "    # 각 fold의 rmse를 측정합니다.\n",
    "    RMSE = mean_squared_error(Y_test, fold_predicts)**0.5\n",
    "    display(f\"{file_name} - Test rmse : {RMSE}\")\n",
    "\n",
    "    total_predicts += fold_predicts / len(top_3_files)\n",
    "\n",
    "RMSE = mean_squared_error(Y_test, total_predicts)**0.5\n",
    "display(f\"최종 Test rmse : {RMSE}\")"
   ]
  },
  {
   "cell_type": "markdown",
   "metadata": {
    "id": "sg1NU_lQON-k"
   },
   "source": [
    "- K-Fold적용 시, 모든 Fold를 사용하는 것 보다 Valid RMSE 기준으로 Top3 Fold를 사용하는 것이 더 좋은 모습입니다."
   ]
  },
  {
   "cell_type": "markdown",
   "metadata": {
    "id": "33mnLOseP0CM"
   },
   "source": [
    "- Kfold 학습의 최종결과는 아래와 같습니다.\n",
    "  - Training Time : 40.5s\n",
    "  - Train RMSE : fold마다 다름\n",
    "  - Valid RMSE : fold마다 다름\n",
    "  - Test RMSE(ALL) : 5290.11\n",
    "  - Test RMSE(Top3) : 3243.60\n",
    "  - Test RMSE(Top1) : 3447.76\n",
    "\n",
    "- 현재까지 분할 별 Test RMSE 결과는 아래와 같습니다.\n",
    "  - Holdout : 3487.40\n",
    "  - KFold(Top3) : 3243.60"
   ]
  },
  {
   "cell_type": "markdown",
   "metadata": {
    "id": "Q6cpRlEFP0CM"
   },
   "source": [
    "#### 📚 자료\n",
    "- [KFold - Scikit-Learn 공식문서](https://scikit-learn.org/stable/modules/generated/sklearn.model_selection.KFold.html#sklearn.model_selection.KFold)"
   ]
  },
  {
   "cell_type": "markdown",
   "metadata": {
    "id": "eHH0OfW392Y8"
   },
   "source": [
    "### 2-3. Stratifiend K-Fold\n"
   ]
  },
  {
   "cell_type": "markdown",
   "metadata": {
    "id": "pyIuVzhs92ZC"
   },
   "source": [
    "#### 📝 설명 : (2-3)\n",
    "\n",
    "- K개의 Fold를 구성하는 방법은 K-Fold와 동일하지만, Fold별 Y의 비율도 동일하게 하는 분할 방법입니다.\n",
    "- 데이터의 양이 적거나 불균형이 심한 데이터에 대해 K-Fold적용 시 분포가 크게 달라지는 현상을 방지할 수 있습니다.\n"
   ]
  },
  {
   "cell_type": "markdown",
   "metadata": {
    "id": "DJSjMRpmrypa"
   },
   "source": [
    "![image.png](data:image/png;base64,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)"
   ]
  },
  {
   "cell_type": "markdown",
   "metadata": {
    "id": "bMbI6BnD92ZC"
   },
   "source": [
    "#### 👨‍💻 코드 : (2-3)\n"
   ]
  },
  {
   "cell_type": "code",
   "execution_count": 33,
   "metadata": {
    "id": "oPjbgLFL92ZD"
   },
   "outputs": [],
   "source": [
    "# Stratified Kfold 함수를 선언합니다.\n",
    "kf = StratifiedKFold(n_splits=5)"
   ]
  },
  {
   "cell_type": "code",
   "execution_count": 34,
   "metadata": {
    "id": "gl8UThxl5C3n"
   },
   "outputs": [],
   "source": [
    "# Target값을 기준으로 분포에 따라 1000등분합니다.\n",
    "# Stratified KFold에서 각 구간을 기준으로 Y의 비율을 동일하게 가져가게 됩니다.\n",
    "# 0, ... 9 = 0 / 10, ..., 19 = 1 / ..\n",
    "cut_Y_train = pd.cut(Y_train,\n",
    "                     1000, # 데이터를 최소 최대 구간으로 1000등분 합니다.\n",
    "                     labels=False)"
   ]
  },
  {
   "cell_type": "code",
   "execution_count": 35,
   "metadata": {
    "colab": {
     "base_uri": "https://localhost:8080/",
     "height": 769
    },
    "executionInfo": {
     "elapsed": 28900,
     "status": "ok",
     "timestamp": 1696319391210,
     "user": {
      "displayName": "이동빈",
      "userId": "02086753221575393526"
     },
     "user_tz": -540
    },
    "id": "qzHTerk292ZD",
    "outputId": "139cf4f3-06da-4764-9482-452985af490a"
   },
   "outputs": [
    {
     "name": "stdout",
     "output_type": "stream",
     "text": [
      "Fold 0 :\n",
      "  Train : index=[2865 2953 3011 3039 3066]...\n",
      "  Valid : index=[0 1 2 3 4]...\n",
      "Fold 1 :\n",
      "  Train : index=[0 1 2 3 4]...\n",
      "  Valid : index=[2953 3011 3039 3179 3208]...\n",
      "Fold 2 :\n",
      "  Train : index=[0 1 2 3 4]...\n",
      "  Valid : index=[2865 3291 3407 3464 3629]...\n",
      "Fold 3 :\n",
      "  Train : index=[0 1 2 3 4]...\n",
      "  Valid : index=[3262 3490 3545 3572 4657]...\n",
      "Fold 4 :\n",
      "  Train : index=[0 1 2 3 4]...\n",
      "  Valid : index=[3066 3124 3321 3601 3657]...\n"
     ]
    },
    {
     "data": {
      "text/plain": [
       "<Axes: title={'center': 'Stratified K-Fold'}, xlabel='Sample index', ylabel='CV iteration'>"
      ]
     },
     "execution_count": 35,
     "metadata": {},
     "output_type": "execute_result"
    },
    {
     "data": {
      "image/png": "[encoded data removed]",
      "text/plain": [
       "<Figure size 640x480 with 1 Axes>"
      ]
     },
     "metadata": {},
     "output_type": "display_data"
    }
   ],
   "source": [
    "# Stratified Kfold를 시각화합니다.\n",
    "# 앞의 kfold에서 정의한 시각화 함수를 사용합니다.\n",
    "fig, ax = plt.subplots()\n",
    "plot_cv_indices(x=X_train,\n",
    "                y=cut_Y_train,\n",
    "                cv=kf,\n",
    "                ax=ax,\n",
    "                split_strategy='Stratified K-Fold')"
   ]
  },
  {
   "cell_type": "code",
   "execution_count": 37,
   "metadata": {
    "colab": {
     "base_uri": "https://localhost:8080/",
     "height": 465
    },
    "executionInfo": {
     "elapsed": 925,
     "status": "ok",
     "timestamp": 1696319392132,
     "user": {
      "displayName": "이동빈",
      "userId": "02086753221575393526"
     },
     "user_tz": -540
    },
    "id": "cCtujulM60bu",
    "outputId": "42c39514-2f3f-4840-d9a7-8789884d5f64"
   },
   "outputs": [
    {
     "data": {
      "image/png": "[encoded data removed]",
      "text/plain": [
       "<Figure size 640x480 with 1 Axes>"
      ]
     },
     "metadata": {},
     "output_type": "display_data"
    }
   ],
   "source": [
    "# 원래 Target값의 분포를 확인합니다.\n",
    "plt.hist(Y_train, bins=100, density=True)\n",
    "plt.xlabel('Target')\n",
    "plt.ylabel('Frequency')\n",
    "plt.show()"
   ]
  },
  {
   "cell_type": "code",
   "execution_count": 38,
   "metadata": {
    "colab": {
     "base_uri": "https://localhost:8080/",
     "height": 407
    },
    "executionInfo": {
     "elapsed": 2611,
     "status": "ok",
     "timestamp": 1696319394738,
     "user": {
      "displayName": "이동빈",
      "userId": "02086753221575393526"
     },
     "user_tz": -540
    },
    "id": "84uM1wQL-K4P",
    "outputId": "a4c2aafe-725d-4a6e-a271-a0e1fd6d6e79"
   },
   "outputs": [
    {
     "data": {
      "image/png": "[encoded data removed]",
      "text/plain": [
       "<Figure size 1000x400 with 5 Axes>"
      ]
     },
     "metadata": {},
     "output_type": "display_data"
    }
   ],
   "source": [
    "# 각 Fold별 분포를 시각화합니다.\n",
    "fig, axs = plt.subplots(1, 5, sharex=True, sharey=True, figsize=(10,4)) # 5개의 plot을 만듭니다.\n",
    "for fold_idx, (train_idx, valid_idx) in enumerate(kf.split(X_train, cut_Y_train)): # fold별로 iteration을 만듭니다.\n",
    "    axs[fold_idx].hist(Y_train[train_idx], bins=100, density=True, label=f'Fold-{fold_idx}') # 각 fold에 해당하는 Target값을 가져옵니다.\n",
    "    if fold_idx == 0:\n",
    "        axs[fold_idx].set_ylabel('Frequency')\n",
    "    if fold_idx == 2:\n",
    "        axs[fold_idx].set_xlabel(\"Target\")\n",
    "    axs[fold_idx].legend(frameon=False, handlelength=0)\n",
    "plt.tight_layout()\n",
    "plt.show()"
   ]
  },
  {
   "cell_type": "markdown",
   "metadata": {
    "id": "rYbLh1b3DJyE"
   },
   "source": [
    "- 동일한 분포의 Target값을 가지는 것을 확인할 수 있습니다."
   ]
  },
  {
   "cell_type": "code",
   "execution_count": 39,
   "metadata": {
    "colab": {
     "base_uri": "https://localhost:8080/"
    },
    "executionInfo": {
     "elapsed": 4,
     "status": "ok",
     "timestamp": 1696319394738,
     "user": {
      "displayName": "이동빈",
      "userId": "02086753221575393526"
     },
     "user_tz": -540
    },
    "id": "0WfTj78I92ZD",
    "outputId": "bc501fb4-0e6f-4bbb-9792-265be2dcae8e"
   },
   "outputs": [
    {
     "data": {
      "text/plain": [
       "<generator object _BaseKFold.split at 0x173365360>"
      ]
     },
     "metadata": {},
     "output_type": "display_data"
    }
   ],
   "source": [
    "# 학습 데이터를 Stratified Kfold로 나눕니다.\n",
    "train_folds = kf.split(X_train, cut_Y_train)\n",
    "display(train_folds)"
   ]
  },
  {
   "cell_type": "code",
   "execution_count": 42,
   "metadata": {
    "colab": {
     "base_uri": "https://localhost:8080/"
    },
    "executionInfo": {
     "elapsed": 101722,
     "status": "ok",
     "timestamp": 1696319496458,
     "user": {
      "displayName": "이동빈",
      "userId": "02086753221575393526"
     },
     "user_tz": -540
    },
    "id": "aeTJe6eU92ZD",
    "outputId": "5eddccfe-daf3-4ea8-93a3-4325c1a735f2"
   },
   "outputs": [
    {
     "name": "stdout",
     "output_type": "stream",
     "text": [
      "--------0번째 fold의 학습을 시작합니다.--------\n",
      "[LightGBM] [Warning] Auto-choosing row-wise multi-threading, the overhead of testing was 0.010359 seconds.\n",
      "You can set `force_row_wise=true` to remove the overhead.\n",
      "And if memory is not enough, you can set `force_col_wise=true`.\n",
      "[LightGBM] [Info] Total Bins 8135\n",
      "[LightGBM] [Info] Number of data points in the train set: 437161, number of used features: 42\n",
      "[LightGBM] [Info] Start training from score 41839.015310\n",
      "Training until validation scores don't improve for 10 rounds\n",
      "[10]\ttraining's rmse: 34712\ttraining's l2: 1.20492e+09\tvalid_1's rmse: 33454.2\tvalid_1's l2: 1.11918e+09\n",
      "[20]\ttraining's rmse: 12739.4\ttraining's l2: 1.62292e+08\tvalid_1's rmse: 13021\tvalid_1's l2: 1.69547e+08\n",
      "[30]\ttraining's rmse: 5652.06\ttraining's l2: 3.19458e+07\tvalid_1's rmse: 8782.53\tvalid_1's l2: 7.71329e+07\n",
      "[40]\ttraining's rmse: 3798.97\ttraining's l2: 1.44322e+07\tvalid_1's rmse: 8105.08\tvalid_1's l2: 6.56924e+07\n",
      "[50]\ttraining's rmse: 3347.59\ttraining's l2: 1.12064e+07\tvalid_1's rmse: 8027.15\tvalid_1's l2: 6.44351e+07\n",
      "[60]\ttraining's rmse: 3175.6\ttraining's l2: 1.00844e+07\tvalid_1's rmse: 7799.16\tvalid_1's l2: 6.08269e+07\n",
      "[70]\ttraining's rmse: 3050.6\ttraining's l2: 9.30618e+06\tvalid_1's rmse: 7559.98\tvalid_1's l2: 5.71533e+07\n",
      "[80]\ttraining's rmse: 2963.79\ttraining's l2: 8.78406e+06\tvalid_1's rmse: 7498.29\tvalid_1's l2: 5.62243e+07\n",
      "[90]\ttraining's rmse: 2893.22\ttraining's l2: 8.37072e+06\tvalid_1's rmse: 7399.96\tvalid_1's l2: 5.47594e+07\n",
      "[100]\ttraining's rmse: 2831.68\ttraining's l2: 8.01839e+06\tvalid_1's rmse: 7340.66\tvalid_1's l2: 5.38853e+07\n",
      "[110]\ttraining's rmse: 2771.81\ttraining's l2: 7.68296e+06\tvalid_1's rmse: 7244.34\tvalid_1's l2: 5.24804e+07\n",
      "[120]\ttraining's rmse: 2722.09\ttraining's l2: 7.40979e+06\tvalid_1's rmse: 7128.74\tvalid_1's l2: 5.0819e+07\n",
      "[130]\ttraining's rmse: 2674.31\ttraining's l2: 7.15196e+06\tvalid_1's rmse: 7055.79\tvalid_1's l2: 4.97841e+07\n",
      "[140]\ttraining's rmse: 2623.61\ttraining's l2: 6.88334e+06\tvalid_1's rmse: 7004.5\tvalid_1's l2: 4.9063e+07\n",
      "[150]\ttraining's rmse: 2581.76\ttraining's l2: 6.6655e+06\tvalid_1's rmse: 6934.26\tvalid_1's l2: 4.8084e+07\n",
      "[160]\ttraining's rmse: 2539.89\ttraining's l2: 6.45102e+06\tvalid_1's rmse: 6861.48\tvalid_1's l2: 4.70799e+07\n",
      "[170]\ttraining's rmse: 2504.42\ttraining's l2: 6.2721e+06\tvalid_1's rmse: 6811.65\tvalid_1's l2: 4.63985e+07\n",
      "[180]\ttraining's rmse: 2468.05\ttraining's l2: 6.09126e+06\tvalid_1's rmse: 6729.58\tvalid_1's l2: 4.52873e+07\n",
      "[190]\ttraining's rmse: 2439.59\ttraining's l2: 5.95159e+06\tvalid_1's rmse: 6688.15\tvalid_1's l2: 4.47314e+07\n",
      "[200]\ttraining's rmse: 2409.67\ttraining's l2: 5.80652e+06\tvalid_1's rmse: 6628.46\tvalid_1's l2: 4.39365e+07\n",
      "[210]\ttraining's rmse: 2381.25\ttraining's l2: 5.67036e+06\tvalid_1's rmse: 6537.32\tvalid_1's l2: 4.27366e+07\n",
      "[220]\ttraining's rmse: 2352.98\ttraining's l2: 5.53652e+06\tvalid_1's rmse: 6511.78\tvalid_1's l2: 4.24033e+07\n",
      "[230]\ttraining's rmse: 2326.79\ttraining's l2: 5.41394e+06\tvalid_1's rmse: 6448.86\tvalid_1's l2: 4.15878e+07\n",
      "[240]\ttraining's rmse: 2302.53\ttraining's l2: 5.30164e+06\tvalid_1's rmse: 6446.79\tvalid_1's l2: 4.15612e+07\n",
      "[250]\ttraining's rmse: 2279.04\ttraining's l2: 5.19402e+06\tvalid_1's rmse: 6425.56\tvalid_1's l2: 4.12878e+07\n",
      "[260]\ttraining's rmse: 2256.17\ttraining's l2: 5.09029e+06\tvalid_1's rmse: 6393.37\tvalid_1's l2: 4.08752e+07\n",
      "[270]\ttraining's rmse: 2235.25\ttraining's l2: 4.99636e+06\tvalid_1's rmse: 6368.52\tvalid_1's l2: 4.0558e+07\n",
      "[280]\ttraining's rmse: 2211.13\ttraining's l2: 4.8891e+06\tvalid_1's rmse: 6318.75\tvalid_1's l2: 3.99265e+07\n",
      "[290]\ttraining's rmse: 2192.16\ttraining's l2: 4.80558e+06\tvalid_1's rmse: 6269.02\tvalid_1's l2: 3.93007e+07\n",
      "[300]\ttraining's rmse: 2174.57\ttraining's l2: 4.72876e+06\tvalid_1's rmse: 6248.29\tvalid_1's l2: 3.90412e+07\n",
      "[310]\ttraining's rmse: 2156.79\ttraining's l2: 4.65173e+06\tvalid_1's rmse: 6231\tvalid_1's l2: 3.88254e+07\n",
      "[320]\ttraining's rmse: 2137.03\ttraining's l2: 4.56691e+06\tvalid_1's rmse: 6224.45\tvalid_1's l2: 3.87438e+07\n",
      "[330]\ttraining's rmse: 2119.84\ttraining's l2: 4.49372e+06\tvalid_1's rmse: 6179.35\tvalid_1's l2: 3.81843e+07\n",
      "Early stopping, best iteration is:\n",
      "[326]\ttraining's rmse: 2125.93\ttraining's l2: 4.5196e+06\tvalid_1's rmse: 6176.58\tvalid_1's l2: 3.81501e+07\n"
     ]
    },
    {
     "data": {
      "text/plain": [
       "'--------0번째 fold는 Stratified_kfold0_gbm.pkl에 저장되었습니다.--------\\n\\n'"
      ]
     },
     "metadata": {},
     "output_type": "display_data"
    },
    {
     "name": "stdout",
     "output_type": "stream",
     "text": [
      "--------1번째 fold의 학습을 시작합니다.--------\n",
      "[LightGBM] [Warning] Auto-choosing row-wise multi-threading, the overhead of testing was 0.010676 seconds.\n",
      "You can set `force_row_wise=true` to remove the overhead.\n",
      "And if memory is not enough, you can set `force_col_wise=true`.\n",
      "[LightGBM] [Info] Total Bins 8140\n",
      "[LightGBM] [Info] Number of data points in the train set: 437161, number of used features: 42\n",
      "[LightGBM] [Info] Start training from score 41826.840073\n",
      "Training until validation scores don't improve for 10 rounds\n",
      "[10]\ttraining's rmse: 34695.8\ttraining's l2: 1.2038e+09\tvalid_1's rmse: 34905.2\tvalid_1's l2: 1.21837e+09\n",
      "[20]\ttraining's rmse: 12770.8\ttraining's l2: 1.63094e+08\tvalid_1's rmse: 12872\tvalid_1's l2: 1.65689e+08\n",
      "[30]\ttraining's rmse: 5707.72\ttraining's l2: 3.25781e+07\tvalid_1's rmse: 5823.99\tvalid_1's l2: 3.39188e+07\n",
      "[40]\ttraining's rmse: 3873.98\ttraining's l2: 1.50077e+07\tvalid_1's rmse: 4069.13\tvalid_1's l2: 1.65578e+07\n",
      "[50]\ttraining's rmse: 3417.34\ttraining's l2: 1.16782e+07\tvalid_1's rmse: 3688.14\tvalid_1's l2: 1.36024e+07\n",
      "[60]\ttraining's rmse: 3239.99\ttraining's l2: 1.04976e+07\tvalid_1's rmse: 3555.99\tvalid_1's l2: 1.26451e+07\n",
      "[70]\ttraining's rmse: 3130.5\ttraining's l2: 9.80002e+06\tvalid_1's rmse: 3497.03\tvalid_1's l2: 1.22292e+07\n",
      "[80]\ttraining's rmse: 3046.33\ttraining's l2: 9.2801e+06\tvalid_1's rmse: 3462.1\tvalid_1's l2: 1.19862e+07\n",
      "[90]\ttraining's rmse: 2964.24\ttraining's l2: 8.78675e+06\tvalid_1's rmse: 3417.92\tvalid_1's l2: 1.16821e+07\n",
      "[100]\ttraining's rmse: 2899.66\ttraining's l2: 8.40803e+06\tvalid_1's rmse: 3400.59\tvalid_1's l2: 1.1564e+07\n",
      "[110]\ttraining's rmse: 2836.41\ttraining's l2: 8.04524e+06\tvalid_1's rmse: 3374.92\tvalid_1's l2: 1.13901e+07\n",
      "[120]\ttraining's rmse: 2774.72\ttraining's l2: 7.69906e+06\tvalid_1's rmse: 3351.19\tvalid_1's l2: 1.12305e+07\n",
      "[130]\ttraining's rmse: 2727.3\ttraining's l2: 7.43814e+06\tvalid_1's rmse: 3329.2\tvalid_1's l2: 1.10836e+07\n",
      "[140]\ttraining's rmse: 2677.8\ttraining's l2: 7.17061e+06\tvalid_1's rmse: 3312.76\tvalid_1's l2: 1.09744e+07\n",
      "[150]\ttraining's rmse: 2639.39\ttraining's l2: 6.9664e+06\tvalid_1's rmse: 3299.53\tvalid_1's l2: 1.08869e+07\n",
      "[160]\ttraining's rmse: 2599.43\ttraining's l2: 6.75702e+06\tvalid_1's rmse: 3288.49\tvalid_1's l2: 1.08142e+07\n",
      "[170]\ttraining's rmse: 2558.8\ttraining's l2: 6.54746e+06\tvalid_1's rmse: 3268.23\tvalid_1's l2: 1.06813e+07\n",
      "[180]\ttraining's rmse: 2524.3\ttraining's l2: 6.37208e+06\tvalid_1's rmse: 3261.39\tvalid_1's l2: 1.06366e+07\n",
      "[190]\ttraining's rmse: 2488.76\ttraining's l2: 6.19394e+06\tvalid_1's rmse: 3253.12\tvalid_1's l2: 1.05828e+07\n",
      "[200]\ttraining's rmse: 2456.46\ttraining's l2: 6.0342e+06\tvalid_1's rmse: 3244.25\tvalid_1's l2: 1.05251e+07\n",
      "[210]\ttraining's rmse: 2424.2\ttraining's l2: 5.87674e+06\tvalid_1's rmse: 3245.07\tvalid_1's l2: 1.05305e+07\n",
      "Early stopping, best iteration is:\n",
      "[200]\ttraining's rmse: 2456.46\ttraining's l2: 6.0342e+06\tvalid_1's rmse: 3244.25\tvalid_1's l2: 1.05251e+07\n"
     ]
    },
    {
     "data": {
      "text/plain": [
       "'--------1번째 fold는 Stratified_kfold1_gbm.pkl에 저장되었습니다.--------\\n\\n'"
      ]
     },
     "metadata": {},
     "output_type": "display_data"
    },
    {
     "name": "stdout",
     "output_type": "stream",
     "text": [
      "--------2번째 fold의 학습을 시작합니다.--------\n",
      "[LightGBM] [Warning] Auto-choosing row-wise multi-threading, the overhead of testing was 0.011290 seconds.\n",
      "You can set `force_row_wise=true` to remove the overhead.\n",
      "And if memory is not enough, you can set `force_col_wise=true`.\n",
      "[LightGBM] [Info] Total Bins 8130\n",
      "[LightGBM] [Info] Number of data points in the train set: 437162, number of used features: 42\n",
      "[LightGBM] [Info] Start training from score 41836.794012\n",
      "Training until validation scores don't improve for 10 rounds\n",
      "[10]\ttraining's rmse: 34718.9\ttraining's l2: 1.2054e+09\tvalid_1's rmse: 34781.2\tvalid_1's l2: 1.20973e+09\n",
      "[20]\ttraining's rmse: 12761.7\ttraining's l2: 1.62861e+08\tvalid_1's rmse: 12828.8\tvalid_1's l2: 1.64578e+08\n",
      "[30]\ttraining's rmse: 5706.06\ttraining's l2: 3.25591e+07\tvalid_1's rmse: 5738.05\tvalid_1's l2: 3.29252e+07\n",
      "[40]\ttraining's rmse: 3879.14\ttraining's l2: 1.50477e+07\tvalid_1's rmse: 3905.38\tvalid_1's l2: 1.5252e+07\n",
      "[50]\ttraining's rmse: 3428.65\ttraining's l2: 1.17556e+07\tvalid_1's rmse: 3476.97\tvalid_1's l2: 1.20893e+07\n",
      "[60]\ttraining's rmse: 3264.9\ttraining's l2: 1.06596e+07\tvalid_1's rmse: 3374.89\tvalid_1's l2: 1.13899e+07\n",
      "[70]\ttraining's rmse: 3163.85\ttraining's l2: 1.00099e+07\tvalid_1's rmse: 3329.32\tvalid_1's l2: 1.10844e+07\n",
      "[80]\ttraining's rmse: 3079.28\ttraining's l2: 9.48198e+06\tvalid_1's rmse: 3293.6\tvalid_1's l2: 1.08478e+07\n",
      "[90]\ttraining's rmse: 3012.24\ttraining's l2: 9.07359e+06\tvalid_1's rmse: 3267.62\tvalid_1's l2: 1.06773e+07\n",
      "[100]\ttraining's rmse: 2937.39\ttraining's l2: 8.62827e+06\tvalid_1's rmse: 3222.7\tvalid_1's l2: 1.03858e+07\n",
      "[110]\ttraining's rmse: 2885.61\ttraining's l2: 8.32676e+06\tvalid_1's rmse: 3194.9\tvalid_1's l2: 1.02074e+07\n",
      "[120]\ttraining's rmse: 2834.64\ttraining's l2: 8.0352e+06\tvalid_1's rmse: 3175.39\tvalid_1's l2: 1.00831e+07\n",
      "[130]\ttraining's rmse: 2788.82\ttraining's l2: 7.77754e+06\tvalid_1's rmse: 3164.4\tvalid_1's l2: 1.00134e+07\n",
      "[140]\ttraining's rmse: 2748.45\ttraining's l2: 7.554e+06\tvalid_1's rmse: 3153.18\tvalid_1's l2: 9.94257e+06\n",
      "[150]\ttraining's rmse: 2702.19\ttraining's l2: 7.30186e+06\tvalid_1's rmse: 3132.47\tvalid_1's l2: 9.81235e+06\n",
      "[160]\ttraining's rmse: 2665.79\ttraining's l2: 7.10646e+06\tvalid_1's rmse: 3120.84\tvalid_1's l2: 9.73965e+06\n",
      "[170]\ttraining's rmse: 2624.55\ttraining's l2: 6.88829e+06\tvalid_1's rmse: 3103.66\tvalid_1's l2: 9.63268e+06\n",
      "[180]\ttraining's rmse: 2589.28\ttraining's l2: 6.70435e+06\tvalid_1's rmse: 3089.68\tvalid_1's l2: 9.54611e+06\n",
      "[190]\ttraining's rmse: 2553.83\ttraining's l2: 6.52202e+06\tvalid_1's rmse: 3080.18\tvalid_1's l2: 9.48749e+06\n",
      "[200]\ttraining's rmse: 2523.66\ttraining's l2: 6.36887e+06\tvalid_1's rmse: 3072.53\tvalid_1's l2: 9.44043e+06\n",
      "[210]\ttraining's rmse: 2491.78\ttraining's l2: 6.20896e+06\tvalid_1's rmse: 3065.56\tvalid_1's l2: 9.39766e+06\n",
      "[220]\ttraining's rmse: 2460.17\ttraining's l2: 6.05244e+06\tvalid_1's rmse: 3064.65\tvalid_1's l2: 9.39206e+06\n",
      "[230]\ttraining's rmse: 2432.24\ttraining's l2: 5.91579e+06\tvalid_1's rmse: 3054.26\tvalid_1's l2: 9.3285e+06\n",
      "[240]\ttraining's rmse: 2404.71\ttraining's l2: 5.78263e+06\tvalid_1's rmse: 3039.54\tvalid_1's l2: 9.23882e+06\n",
      "[250]\ttraining's rmse: 2380.03\ttraining's l2: 5.66455e+06\tvalid_1's rmse: 3032.86\tvalid_1's l2: 9.19821e+06\n",
      "[260]\ttraining's rmse: 2355.66\ttraining's l2: 5.54912e+06\tvalid_1's rmse: 3027.78\tvalid_1's l2: 9.16743e+06\n",
      "[270]\ttraining's rmse: 2333.13\ttraining's l2: 5.44351e+06\tvalid_1's rmse: 3021.46\tvalid_1's l2: 9.12921e+06\n",
      "[280]\ttraining's rmse: 2310.33\ttraining's l2: 5.33765e+06\tvalid_1's rmse: 3016\tvalid_1's l2: 9.09627e+06\n",
      "[290]\ttraining's rmse: 2288.36\ttraining's l2: 5.2366e+06\tvalid_1's rmse: 3015.21\tvalid_1's l2: 9.09146e+06\n",
      "[300]\ttraining's rmse: 2266.85\ttraining's l2: 5.13862e+06\tvalid_1's rmse: 3014.09\tvalid_1's l2: 9.08472e+06\n",
      "[310]\ttraining's rmse: 2248.34\ttraining's l2: 5.05505e+06\tvalid_1's rmse: 3011.06\tvalid_1's l2: 9.06646e+06\n",
      "[320]\ttraining's rmse: 2229.35\ttraining's l2: 4.97001e+06\tvalid_1's rmse: 3008.78\tvalid_1's l2: 9.05277e+06\n",
      "[330]\ttraining's rmse: 2209.73\ttraining's l2: 4.88289e+06\tvalid_1's rmse: 3006.36\tvalid_1's l2: 9.03822e+06\n",
      "[340]\ttraining's rmse: 2192.17\ttraining's l2: 4.80562e+06\tvalid_1's rmse: 3004.92\tvalid_1's l2: 9.02956e+06\n",
      "[350]\ttraining's rmse: 2173.49\ttraining's l2: 4.72405e+06\tvalid_1's rmse: 3003.38\tvalid_1's l2: 9.02026e+06\n",
      "[360]\ttraining's rmse: 2156.22\ttraining's l2: 4.64928e+06\tvalid_1's rmse: 2998.61\tvalid_1's l2: 8.99167e+06\n",
      "[370]\ttraining's rmse: 2140.87\ttraining's l2: 4.58331e+06\tvalid_1's rmse: 2993.73\tvalid_1's l2: 8.96241e+06\n",
      "[380]\ttraining's rmse: 2126.22\ttraining's l2: 4.52083e+06\tvalid_1's rmse: 2993.43\tvalid_1's l2: 8.96061e+06\n",
      "[390]\ttraining's rmse: 2114.01\ttraining's l2: 4.46905e+06\tvalid_1's rmse: 2993.1\tvalid_1's l2: 8.95863e+06\n",
      "[400]\ttraining's rmse: 2097.64\ttraining's l2: 4.40008e+06\tvalid_1's rmse: 2987.9\tvalid_1's l2: 8.92752e+06\n",
      "[410]\ttraining's rmse: 2084.55\ttraining's l2: 4.34533e+06\tvalid_1's rmse: 2986.26\tvalid_1's l2: 8.91772e+06\n",
      "[420]\ttraining's rmse: 2069.34\ttraining's l2: 4.28219e+06\tvalid_1's rmse: 2985.51\tvalid_1's l2: 8.91329e+06\n",
      "Early stopping, best iteration is:\n",
      "[412]\ttraining's rmse: 2081.73\ttraining's l2: 4.33359e+06\tvalid_1's rmse: 2985.04\tvalid_1's l2: 8.91044e+06\n"
     ]
    },
    {
     "data": {
      "text/plain": [
       "'--------2번째 fold는 Stratified_kfold2_gbm.pkl에 저장되었습니다.--------\\n\\n'"
      ]
     },
     "metadata": {},
     "output_type": "display_data"
    },
    {
     "name": "stdout",
     "output_type": "stream",
     "text": [
      "--------3번째 fold의 학습을 시작합니다.--------\n",
      "[LightGBM] [Warning] Auto-choosing row-wise multi-threading, the overhead of testing was 0.012372 seconds.\n",
      "You can set `force_row_wise=true` to remove the overhead.\n",
      "And if memory is not enough, you can set `force_col_wise=true`.\n",
      "[LightGBM] [Info] Total Bins 8134\n",
      "[LightGBM] [Info] Number of data points in the train set: 437162, number of used features: 42\n",
      "[LightGBM] [Info] Start training from score 41866.525396\n",
      "Training until validation scores don't improve for 10 rounds\n",
      "[10]\ttraining's rmse: 34756.5\ttraining's l2: 1.20802e+09\tvalid_1's rmse: 34257.8\tvalid_1's l2: 1.1736e+09\n",
      "[20]\ttraining's rmse: 12741.3\ttraining's l2: 1.6234e+08\tvalid_1's rmse: 12324.3\tvalid_1's l2: 1.51888e+08\n",
      "[30]\ttraining's rmse: 5642.52\ttraining's l2: 3.18381e+07\tvalid_1's rmse: 5388.26\tvalid_1's l2: 2.90334e+07\n",
      "[40]\ttraining's rmse: 3797.99\ttraining's l2: 1.44247e+07\tvalid_1's rmse: 3741.7\tvalid_1's l2: 1.40003e+07\n",
      "[50]\ttraining's rmse: 3376.71\ttraining's l2: 1.14022e+07\tvalid_1's rmse: 3453.6\tvalid_1's l2: 1.19273e+07\n",
      "[60]\ttraining's rmse: 3199.59\ttraining's l2: 1.02374e+07\tvalid_1's rmse: 3367.54\tvalid_1's l2: 1.13403e+07\n",
      "[70]\ttraining's rmse: 3095.13\ttraining's l2: 9.57986e+06\tvalid_1's rmse: 3327.66\tvalid_1's l2: 1.10733e+07\n",
      "[80]\ttraining's rmse: 3019.44\ttraining's l2: 9.11703e+06\tvalid_1's rmse: 3286.91\tvalid_1's l2: 1.08038e+07\n",
      "[90]\ttraining's rmse: 2959.28\ttraining's l2: 8.75735e+06\tvalid_1's rmse: 3268.31\tvalid_1's l2: 1.06819e+07\n",
      "[100]\ttraining's rmse: 2900.99\ttraining's l2: 8.41572e+06\tvalid_1's rmse: 3244.52\tvalid_1's l2: 1.05269e+07\n",
      "[110]\ttraining's rmse: 2844.56\ttraining's l2: 8.09153e+06\tvalid_1's rmse: 3208.48\tvalid_1's l2: 1.02943e+07\n",
      "[120]\ttraining's rmse: 2799.75\ttraining's l2: 7.83863e+06\tvalid_1's rmse: 3194.8\tvalid_1's l2: 1.02067e+07\n",
      "[130]\ttraining's rmse: 2750.27\ttraining's l2: 7.56397e+06\tvalid_1's rmse: 3174.21\tvalid_1's l2: 1.00756e+07\n",
      "[140]\ttraining's rmse: 2709.78\ttraining's l2: 7.34291e+06\tvalid_1's rmse: 3157.65\tvalid_1's l2: 9.97073e+06\n",
      "[150]\ttraining's rmse: 2667.57\ttraining's l2: 7.11593e+06\tvalid_1's rmse: 3150.5\tvalid_1's l2: 9.92566e+06\n",
      "[160]\ttraining's rmse: 2634.53\ttraining's l2: 6.94074e+06\tvalid_1's rmse: 3143.08\tvalid_1's l2: 9.87893e+06\n",
      "[170]\ttraining's rmse: 2597.65\ttraining's l2: 6.74776e+06\tvalid_1's rmse: 3123.66\tvalid_1's l2: 9.75727e+06\n",
      "[180]\ttraining's rmse: 2566.6\ttraining's l2: 6.58744e+06\tvalid_1's rmse: 3118.82\tvalid_1's l2: 9.72705e+06\n",
      "[190]\ttraining's rmse: 2533.43\ttraining's l2: 6.41827e+06\tvalid_1's rmse: 3111.03\tvalid_1's l2: 9.67853e+06\n",
      "[200]\ttraining's rmse: 2503.59\ttraining's l2: 6.26797e+06\tvalid_1's rmse: 3108.6\tvalid_1's l2: 9.66339e+06\n",
      "[210]\ttraining's rmse: 2476.45\ttraining's l2: 6.1328e+06\tvalid_1's rmse: 3096.7\tvalid_1's l2: 9.58953e+06\n",
      "[220]\ttraining's rmse: 2449.64\ttraining's l2: 6.00073e+06\tvalid_1's rmse: 3094.02\tvalid_1's l2: 9.57298e+06\n",
      "[230]\ttraining's rmse: 2425.96\ttraining's l2: 5.88529e+06\tvalid_1's rmse: 3087.07\tvalid_1's l2: 9.52999e+06\n",
      "[240]\ttraining's rmse: 2400.81\ttraining's l2: 5.7639e+06\tvalid_1's rmse: 3077.26\tvalid_1's l2: 9.46954e+06\n",
      "[250]\ttraining's rmse: 2378.48\ttraining's l2: 5.65716e+06\tvalid_1's rmse: 3072.29\tvalid_1's l2: 9.43897e+06\n",
      "[260]\ttraining's rmse: 2356.11\ttraining's l2: 5.55123e+06\tvalid_1's rmse: 3065.22\tvalid_1's l2: 9.39555e+06\n",
      "[270]\ttraining's rmse: 2335.5\ttraining's l2: 5.45454e+06\tvalid_1's rmse: 3064.08\tvalid_1's l2: 9.38859e+06\n",
      "[280]\ttraining's rmse: 2315.25\ttraining's l2: 5.36037e+06\tvalid_1's rmse: 3056.78\tvalid_1's l2: 9.34387e+06\n",
      "[290]\ttraining's rmse: 2294.24\ttraining's l2: 5.26352e+06\tvalid_1's rmse: 3053.34\tvalid_1's l2: 9.32286e+06\n",
      "[300]\ttraining's rmse: 2273.79\ttraining's l2: 5.17011e+06\tvalid_1's rmse: 3052.09\tvalid_1's l2: 9.31527e+06\n",
      "[310]\ttraining's rmse: 2257.3\ttraining's l2: 5.09541e+06\tvalid_1's rmse: 3050.16\tvalid_1's l2: 9.30348e+06\n",
      "Early stopping, best iteration is:\n",
      "[305]\ttraining's rmse: 2265.98\ttraining's l2: 5.13466e+06\tvalid_1's rmse: 3049.79\tvalid_1's l2: 9.30121e+06\n"
     ]
    },
    {
     "data": {
      "text/plain": [
       "'--------3번째 fold는 Stratified_kfold3_gbm.pkl에 저장되었습니다.--------\\n\\n'"
      ]
     },
     "metadata": {},
     "output_type": "display_data"
    },
    {
     "name": "stdout",
     "output_type": "stream",
     "text": [
      "--------4번째 fold의 학습을 시작합니다.--------\n",
      "[LightGBM] [Warning] Auto-choosing row-wise multi-threading, the overhead of testing was 0.015277 seconds.\n",
      "You can set `force_row_wise=true` to remove the overhead.\n",
      "And if memory is not enough, you can set `force_col_wise=true`.\n",
      "[LightGBM] [Info] Total Bins 8028\n",
      "[LightGBM] [Info] Number of data points in the train set: 437162, number of used features: 42\n",
      "[LightGBM] [Info] Start training from score 41841.813497\n",
      "Training until validation scores don't improve for 10 rounds\n",
      "[10]\ttraining's rmse: 34708.5\ttraining's l2: 1.20468e+09\tvalid_1's rmse: 34952.2\tvalid_1's l2: 1.22165e+09\n",
      "[20]\ttraining's rmse: 12711.3\ttraining's l2: 1.61577e+08\tvalid_1's rmse: 13128\tvalid_1's l2: 1.72344e+08\n",
      "[30]\ttraining's rmse: 5582.03\ttraining's l2: 3.11591e+07\tvalid_1's rmse: 6189.69\tvalid_1's l2: 3.83123e+07\n",
      "[40]\ttraining's rmse: 3692.51\ttraining's l2: 1.36346e+07\tvalid_1's rmse: 4435.64\tvalid_1's l2: 1.96749e+07\n",
      "[50]\ttraining's rmse: 3236.77\ttraining's l2: 1.04767e+07\tvalid_1's rmse: 4075.13\tvalid_1's l2: 1.66067e+07\n",
      "[60]\ttraining's rmse: 3068.77\ttraining's l2: 9.41736e+06\tvalid_1's rmse: 3983\tvalid_1's l2: 1.58643e+07\n",
      "[70]\ttraining's rmse: 2959.73\ttraining's l2: 8.76002e+06\tvalid_1's rmse: 3949.31\tvalid_1's l2: 1.55971e+07\n",
      "[80]\ttraining's rmse: 2887.45\ttraining's l2: 8.33739e+06\tvalid_1's rmse: 3944.11\tvalid_1's l2: 1.5556e+07\n",
      "[90]\ttraining's rmse: 2819.51\ttraining's l2: 7.94961e+06\tvalid_1's rmse: 3921.9\tvalid_1's l2: 1.53813e+07\n",
      "[100]\ttraining's rmse: 2776.91\ttraining's l2: 7.71121e+06\tvalid_1's rmse: 3923.95\tvalid_1's l2: 1.53974e+07\n",
      "[110]\ttraining's rmse: 2717.43\ttraining's l2: 7.38442e+06\tvalid_1's rmse: 3891.21\tvalid_1's l2: 1.51415e+07\n",
      "[120]\ttraining's rmse: 2666.56\ttraining's l2: 7.11052e+06\tvalid_1's rmse: 3874.54\tvalid_1's l2: 1.50121e+07\n",
      "[130]\ttraining's rmse: 2619.95\ttraining's l2: 6.86412e+06\tvalid_1's rmse: 3858.04\tvalid_1's l2: 1.48844e+07\n",
      "[140]\ttraining's rmse: 2585.96\ttraining's l2: 6.6872e+06\tvalid_1's rmse: 3858.93\tvalid_1's l2: 1.48914e+07\n",
      "Early stopping, best iteration is:\n",
      "[130]\ttraining's rmse: 2619.95\ttraining's l2: 6.86412e+06\tvalid_1's rmse: 3858.04\tvalid_1's l2: 1.48844e+07\n"
     ]
    },
    {
     "data": {
      "text/plain": [
       "'--------4번째 fold는 Stratified_kfold4_gbm.pkl에 저장되었습니다.--------\\n\\n'"
      ]
     },
     "metadata": {},
     "output_type": "display_data"
    }
   ],
   "source": [
    "# 학습을 진행합니다.\n",
    "\n",
    "fold_save_files = []\n",
    "\n",
    "for fold_idx, (train_idx, valid_idx) in enumerate(train_folds):\n",
    "    print(f\"--------{fold_idx}번째 fold의 학습을 시작합니다.--------\")\n",
    "\n",
    "    # index를 통해 fold의 학습세트를 가져옵니다.\n",
    "    X_train_fold = X_train.iloc[train_idx, :]\n",
    "    Y_train_fold = Y_train[train_idx]\n",
    "\n",
    "    # index를 통해 fold의 평가세트를 가져옵니다.\n",
    "    X_valid_fold = X_train.iloc[valid_idx, :]\n",
    "    Y_valid_fold = Y_train[valid_idx]\n",
    "\n",
    "    # fold의 데이터로 학습을 진행합니다.\n",
    "    gbm = lgb.LGBMRegressor(n_estimators=1000)\n",
    "    gbm.fit(X_train_fold, Y_train_fold, # 학습 데이터를 입력합니다.\n",
    "        eval_set=[(X_train_fold, Y_train_fold), (X_valid_fold, Y_valid_fold)], # 평가셋을 지정합니다.\n",
    "        eval_metric ='rmse', # 평가과정에서 사용할 평가함수를 지정합니다.\n",
    "        callbacks=[lgb.early_stopping(stopping_rounds=10), # 10번의 성능향상이 없을 경우, 학습을 멈춥니다.\n",
    "                   lgb.log_evaluation(period=10, show_stdv=True)] # 매 iteration마다 학습결과를 출력합니다.\n",
    "    )\n",
    "\n",
    "    # 각 fold별 학습한 모델을 저장합니다.\n",
    "    file_name = f\"Stratified_kfold{fold_idx}_gbm.pkl\"\n",
    "    joblib.dump(gbm, file_name)\n",
    "    display(f\"--------{fold_idx}번째 fold는 {file_name}에 저장되었습니다.--------\\n\\n\")\n",
    "    fold_save_files.append(file_name)\n"
   ]
  },
  {
   "cell_type": "code",
   "execution_count": 43,
   "metadata": {
    "colab": {
     "base_uri": "https://localhost:8080/"
    },
    "executionInfo": {
     "elapsed": 1135,
     "status": "ok",
     "timestamp": 1696319497581,
     "user": {
      "displayName": "이동빈",
      "userId": "02086753221575393526"
     },
     "user_tz": -540
    },
    "id": "Y6xphymG92ZD",
    "outputId": "065cd906-a566-4ccc-aa3e-c36ef832a7d7"
   },
   "outputs": [
    {
     "data": {
      "text/plain": [
       "'Stratified_kfold0_gbm.pkl - Test rmse : 3860.542317399142'"
      ]
     },
     "metadata": {},
     "output_type": "display_data"
    },
    {
     "data": {
      "text/plain": [
       "'Stratified_kfold1_gbm.pkl - Test rmse : 3600.3209392557237'"
      ]
     },
     "metadata": {},
     "output_type": "display_data"
    },
    {
     "data": {
      "text/plain": [
       "'Stratified_kfold2_gbm.pkl - Test rmse : 3500.8021112229094'"
      ]
     },
     "metadata": {},
     "output_type": "display_data"
    },
    {
     "data": {
      "text/plain": [
       "'Stratified_kfold3_gbm.pkl - Test rmse : 3436.7329546289543'"
      ]
     },
     "metadata": {},
     "output_type": "display_data"
    },
    {
     "data": {
      "text/plain": [
       "'Stratified_kfold4_gbm.pkl - Test rmse : 3483.8671152799225'"
      ]
     },
     "metadata": {},
     "output_type": "display_data"
    },
    {
     "data": {
      "text/plain": [
       "'최종 Test rmse : 3378.2797752728734'"
      ]
     },
     "metadata": {},
     "output_type": "display_data"
    }
   ],
   "source": [
    "# 저장한 학습모델들을 불러와, Testset에 대한 추론을 진행합니다.\n",
    "# 각 fold의 예측결과를 평균을 취하는 방식으로 진행합니다.\n",
    "total_predicts = np.zeros(len(X_test))\n",
    "\n",
    "for file_name in fold_save_files:\n",
    "    gbm_trained = joblib.load(file_name)\n",
    "    fold_predicts = gbm_trained.predict(X_test)\n",
    "\n",
    "    # 각 fold의 rmse를 측정합니다.\n",
    "    RMSE = mean_squared_error(Y_test, fold_predicts)**0.5\n",
    "    display(f\"{file_name} - Test rmse : {RMSE}\")\n",
    "\n",
    "    total_predicts += fold_predicts / len(fold_save_files)\n",
    "\n",
    "RMSE = mean_squared_error(Y_test, total_predicts)**0.5\n",
    "display(f\"최종 Test rmse : {RMSE}\")"
   ]
  },
  {
   "cell_type": "code",
   "execution_count": 45,
   "metadata": {
    "colab": {
     "base_uri": "https://localhost:8080/"
    },
    "executionInfo": {
     "elapsed": 980,
     "status": "ok",
     "timestamp": 1696319498558,
     "user": {
      "displayName": "이동빈",
      "userId": "02086753221575393526"
     },
     "user_tz": -540
    },
    "id": "aN5WCwNz92ZE",
    "outputId": "311db360-3b4a-430f-9b4a-6afa7d78e6de"
   },
   "outputs": [
    {
     "data": {
      "text/plain": [
       "'Stratified_kfold1_gbm.pkl - Test rmse : 3600.3209392557237'"
      ]
     },
     "metadata": {},
     "output_type": "display_data"
    },
    {
     "data": {
      "text/plain": [
       "'Stratified_kfold2_gbm.pkl - Test rmse : 3500.8021112229094'"
      ]
     },
     "metadata": {},
     "output_type": "display_data"
    },
    {
     "data": {
      "text/plain": [
       "'Stratified_kfold3_gbm.pkl - Test rmse : 3436.7329546289543'"
      ]
     },
     "metadata": {},
     "output_type": "display_data"
    },
    {
     "data": {
      "text/plain": [
       "'최종 Test rmse : 3339.924480651084'"
      ]
     },
     "metadata": {},
     "output_type": "display_data"
    }
   ],
   "source": [
    "# 위 학습 로그에서 검증세트를 기준으로 rmse가 가장 낮은 3개의 모델을 선택후 추론을 진행합니다.\n",
    "# 실습하는 과정에서 가장 잘 나온 3개로 한번 테스트를 진행해보시기 바랍니다.\n",
    "top_3_files = [\"Stratified_kfold1_gbm.pkl\", \"Stratified_kfold2_gbm.pkl\", \"Stratified_kfold3_gbm.pkl\"]\n",
    "total_predicts = np.zeros(len(X_test))\n",
    "\n",
    "for file_name in top_3_files:\n",
    "    gbm_trained = joblib.load(file_name)\n",
    "    fold_predicts = gbm_trained.predict(X_test)\n",
    "\n",
    "    # 각 fold의 rmse를 측정합니다.\n",
    "    RMSE = mean_squared_error(Y_test, fold_predicts)**0.5\n",
    "    display(f\"{file_name} - Test rmse : {RMSE}\")\n",
    "\n",
    "    total_predicts += fold_predicts / len(top_3_files)\n",
    "\n",
    "RMSE = mean_squared_error(Y_test, total_predicts)**0.5\n",
    "display(f\"최종 Test rmse : {RMSE}\")"
   ]
  },
  {
   "cell_type": "markdown",
   "metadata": {
    "id": "2g9jjJst92ZE"
   },
   "source": [
    "- StratifiedKfold 학습의 최종결과는 아래와 같습니다.\n",
    "  - Training Time : 1분 41초\n",
    "  - Train RMSE : fold마다 다름\n",
    "  - Valid RMSE : fold마다 다름\n",
    "  - Test RMSE(ALL) : 3292.13\n",
    "  - Test RMSE(Top3) : 3357.02\n",
    "  - Test RMSE(Top1) : 3237.07\n",
    "\n",
    "- 현재까지 분할 별 Test RMSE 결과는 아래와 같습니다.\n",
    "  - Holdout : 3487.40\n",
    "  - KFold(Top3) : 3243.60\n",
    "  - Stratified KFold(Top) : 3237.07"
   ]
  },
  {
   "cell_type": "markdown",
   "metadata": {
    "id": "0vhgbviZ92ZE"
   },
   "source": [
    "#### 📚 자료\n",
    "\n",
    "- [KFold - Scikit-Learn 공식문서](https://scikit-learn.org/stable/modules/generated/sklearn.model_selection.KFold.html#sklearn.model_selection.KFold)"
   ]
  },
  {
   "cell_type": "markdown",
   "metadata": {
    "id": "FHhMJzit9431"
   },
   "source": [
    "### 2-4. Group K-Fold\n"
   ]
  },
  {
   "cell_type": "markdown",
   "metadata": {
    "id": "j5URxNhd9438"
   },
   "source": [
    "#### 📝 설명 : (2-4)\n",
    "- 특정 목적하에 사용되는 확장된 K-Fold 방법입니다.\n",
    "- Train과 Valid에 같은 값이 들어가지 않도록 Group을 구성 후, Fold별로 Group을 분배합니다.\n",
    "- 이번 실습에서는 group을 종목별과 산업군별로 각각 group kfold를 적용해봅니다.\n"
   ]
  },
  {
   "cell_type": "markdown",
   "metadata": {
    "id": "25SNwKl1r5p-"
   },
   "source": [
    "![image.png](data:image/png;base64,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)"
   ]
  },
  {
   "cell_type": "markdown",
   "metadata": {
    "id": "NbgyqP4T9438"
   },
   "source": [
    "#### 👨‍💻 코드 : (2-4)\n"
   ]
  },
  {
   "cell_type": "code",
   "execution_count": 46,
   "metadata": {
    "id": "rakdVlgVFbko"
   },
   "outputs": [],
   "source": [
    "# 종목(code)를 Group을 나누는 기준으로 사용합니다.\n",
    "groups = list(X_train['LEncodedCode'].astype('int'))"
   ]
  },
  {
   "cell_type": "code",
   "execution_count": 47,
   "metadata": {
    "id": "yz8ZPW6k9438"
   },
   "outputs": [],
   "source": [
    "# GroupKfold 함수를 선언합니다.\n",
    "kf = GroupKFold(n_splits=5)"
   ]
  },
  {
   "cell_type": "code",
   "execution_count": 48,
   "metadata": {
    "colab": {
     "base_uri": "https://localhost:8080/",
     "height": 769
    },
    "executionInfo": {
     "elapsed": 42891,
     "status": "ok",
     "timestamp": 1696319541447,
     "user": {
      "displayName": "이동빈",
      "userId": "02086753221575393526"
     },
     "user_tz": -540
    },
    "id": "2OGP_x9G9439",
    "outputId": "e329427f-89dc-452e-a204-d7845b5276a2"
   },
   "outputs": [
    {
     "name": "stdout",
     "output_type": "stream",
     "text": [
      "Fold 0 :\n",
      "  Train : index=[1 2 3 5 6]...\n",
      "  Valid : index=[ 0  4  8 11 15]...\n",
      "Fold 1 :\n",
      "  Train : index=[0 1 2 4 5]...\n",
      "  Valid : index=[ 3  7 10 14 18]...\n",
      "Fold 2 :\n",
      "  Train : index=[0 1 3 4 5]...\n",
      "  Valid : index=[ 2  6  9 13 17]...\n",
      "Fold 3 :\n",
      "  Train : index=[0 2 3 4 6]...\n",
      "  Valid : index=[ 1  5 12 16 20]...\n",
      "Fold 4 :\n",
      "  Train : index=[0 1 2 3 4]...\n",
      "  Valid : index=[2851 2860 2861 2868 2881]...\n"
     ]
    },
    {
     "data": {
      "text/plain": [
       "<Axes: title={'center': 'Code Group K-Fold'}, xlabel='Sample index', ylabel='CV iteration'>"
      ]
     },
     "execution_count": 48,
     "metadata": {},
     "output_type": "execute_result"
    },
    {
     "data": {
      "image/png": "[encoded data removed]",
      "text/plain": [
       "<Figure size 640x480 with 1 Axes>"
      ]
     },
     "metadata": {},
     "output_type": "display_data"
    }
   ],
   "source": [
    "# GroupKfold를 시각화합니다.\n",
    "fig, ax = plt.subplots()\n",
    "plot_cv_indices(x=X_train.sort_values(by='LEncodedCode'),\n",
    "                y=Y_train,\n",
    "                cv=kf,\n",
    "                group=groups,\n",
    "                ax=ax,\n",
    "                split_strategy='Code Group K-Fold')"
   ]
  },
  {
   "cell_type": "code",
   "execution_count": 49,
   "metadata": {
    "colab": {
     "base_uri": "https://localhost:8080/"
    },
    "executionInfo": {
     "elapsed": 6,
     "status": "ok",
     "timestamp": 1696319541447,
     "user": {
      "displayName": "이동빈",
      "userId": "02086753221575393526"
     },
     "user_tz": -540
    },
    "id": "xomE0gpx9439",
    "outputId": "98686b8c-34f7-480e-8fc1-8218c58d0d68"
   },
   "outputs": [
    {
     "data": {
      "text/plain": [
       "<generator object _BaseKFold.split at 0x173364040>"
      ]
     },
     "metadata": {},
     "output_type": "display_data"
    }
   ],
   "source": [
    "# 학습 데이터를 GroupKfold로 나눕니다.\n",
    "train_folds = kf.split(X_train, Y_train, groups=groups)\n",
    "display(train_folds)"
   ]
  },
  {
   "cell_type": "markdown",
   "metadata": {
    "id": "CVDuOLYI9439"
   },
   "source": [
    "- Kfold적용 시, 결과는 generator object로 반환됩니다.\n",
    "- python generator는 iterator를 생성해주는 함수이다.\n",
    "- 즉, loop를 통해 불러올때 값을 확인할 수 있습니다."
   ]
  },
  {
   "cell_type": "code",
   "execution_count": 51,
   "metadata": {
    "colab": {
     "base_uri": "https://localhost:8080/"
    },
    "executionInfo": {
     "elapsed": 49596,
     "status": "ok",
     "timestamp": 1696319591038,
     "user": {
      "displayName": "이동빈",
      "userId": "02086753221575393526"
     },
     "user_tz": -540
    },
    "id": "VwIYJ_N19439",
    "outputId": "4c8798da-8f5b-4941-b734-1cf9be6bf9d5"
   },
   "outputs": [
    {
     "data": {
      "text/plain": [
       "'--------0번째 fold의 학습을 시작합니다.--------'"
      ]
     },
     "metadata": {},
     "output_type": "display_data"
    },
    {
     "name": "stdout",
     "output_type": "stream",
     "text": [
      "[LightGBM] [Warning] Auto-choosing row-wise multi-threading, the overhead of testing was 0.012397 seconds.\n",
      "You can set `force_row_wise=true` to remove the overhead.\n",
      "And if memory is not enough, you can set `force_col_wise=true`.\n",
      "[LightGBM] [Info] Total Bins 8124\n",
      "[LightGBM] [Info] Number of data points in the train set: 437169, number of used features: 42\n",
      "[LightGBM] [Info] Start training from score 39263.613760\n",
      "Training until validation scores don't improve for 10 rounds\n",
      "[10]\ttraining's rmse: 33393.1\ttraining's l2: 1.1151e+09\tvalid_1's rmse: 43799.1\tvalid_1's l2: 1.91836e+09\n",
      "[20]\ttraining's rmse: 12237.3\ttraining's l2: 1.49751e+08\tvalid_1's rmse: 21146.1\tvalid_1's l2: 4.47157e+08\n",
      "[30]\ttraining's rmse: 5412.87\ttraining's l2: 2.92992e+07\tvalid_1's rmse: 14518.3\tvalid_1's l2: 2.10781e+08\n",
      "[40]\ttraining's rmse: 3627.24\ttraining's l2: 1.31569e+07\tvalid_1's rmse: 12286.3\tvalid_1's l2: 1.50953e+08\n",
      "[50]\ttraining's rmse: 3198.79\ttraining's l2: 1.02322e+07\tvalid_1's rmse: 11845.5\tvalid_1's l2: 1.40316e+08\n",
      "[60]\ttraining's rmse: 3032.99\ttraining's l2: 9.19901e+06\tvalid_1's rmse: 11732.4\tvalid_1's l2: 1.3765e+08\n",
      "[70]\ttraining's rmse: 2943.68\ttraining's l2: 8.66527e+06\tvalid_1's rmse: 11697.9\tvalid_1's l2: 1.36841e+08\n",
      "[80]\ttraining's rmse: 2856.98\ttraining's l2: 8.16233e+06\tvalid_1's rmse: 11589.7\tvalid_1's l2: 1.34321e+08\n",
      "Early stopping, best iteration is:\n",
      "[78]\ttraining's rmse: 2880.24\ttraining's l2: 8.29579e+06\tvalid_1's rmse: 11584.6\tvalid_1's l2: 1.34203e+08\n"
     ]
    },
    {
     "data": {
      "text/plain": [
       "'--------0번째 fold는 groupd_kfold0_gbm.pkl에 저장되었습니다.--------\\n\\n'"
      ]
     },
     "metadata": {},
     "output_type": "display_data"
    },
    {
     "data": {
      "text/plain": [
       "'--------1번째 fold의 학습을 시작합니다.--------'"
      ]
     },
     "metadata": {},
     "output_type": "display_data"
    },
    {
     "name": "stdout",
     "output_type": "stream",
     "text": [
      "[LightGBM] [Warning] Auto-choosing row-wise multi-threading, the overhead of testing was 0.011732 seconds.\n",
      "You can set `force_row_wise=true` to remove the overhead.\n",
      "And if memory is not enough, you can set `force_col_wise=true`.\n",
      "[LightGBM] [Info] Total Bins 8128\n",
      "[LightGBM] [Info] Number of data points in the train set: 437163, number of used features: 42\n",
      "[LightGBM] [Info] Start training from score 43779.460885\n",
      "Training until validation scores don't improve for 10 rounds\n",
      "[10]\ttraining's rmse: 36623.3\ttraining's l2: 1.34126e+09\tvalid_1's rmse: 24060\tvalid_1's l2: 5.78881e+08\n",
      "[20]\ttraining's rmse: 13352.2\ttraining's l2: 1.78281e+08\tvalid_1's rmse: 21869\tvalid_1's l2: 4.78253e+08\n",
      "Early stopping, best iteration is:\n",
      "[15]\ttraining's rmse: 21926.5\ttraining's l2: 4.80773e+08\tvalid_1's rmse: 20538.3\tvalid_1's l2: 4.21821e+08\n"
     ]
    },
    {
     "data": {
      "text/plain": [
       "'--------1번째 fold는 groupd_kfold1_gbm.pkl에 저장되었습니다.--------\\n\\n'"
      ]
     },
     "metadata": {},
     "output_type": "display_data"
    },
    {
     "data": {
      "text/plain": [
       "'--------2번째 fold의 학습을 시작합니다.--------'"
      ]
     },
     "metadata": {},
     "output_type": "display_data"
    },
    {
     "name": "stdout",
     "output_type": "stream",
     "text": [
      "[LightGBM] [Warning] Auto-choosing row-wise multi-threading, the overhead of testing was 0.012392 seconds.\n",
      "You can set `force_row_wise=true` to remove the overhead.\n",
      "And if memory is not enough, you can set `force_col_wise=true`.\n",
      "[LightGBM] [Info] Total Bins 8132\n",
      "[LightGBM] [Info] Number of data points in the train set: 437176, number of used features: 42\n",
      "[LightGBM] [Info] Start training from score 42142.927507\n",
      "Training until validation scores don't improve for 10 rounds\n",
      "[10]\ttraining's rmse: 34876.5\ttraining's l2: 1.21637e+09\tvalid_1's rmse: 34248\tvalid_1's l2: 1.17293e+09\n",
      "[20]\ttraining's rmse: 12777.6\ttraining's l2: 1.63267e+08\tvalid_1's rmse: 13193.7\tvalid_1's l2: 1.74073e+08\n",
      "[30]\ttraining's rmse: 5618.62\ttraining's l2: 3.15689e+07\tvalid_1's rmse: 7054.69\tvalid_1's l2: 4.97686e+07\n",
      "[40]\ttraining's rmse: 3732.32\ttraining's l2: 1.39302e+07\tvalid_1's rmse: 5772.02\tvalid_1's l2: 3.33163e+07\n",
      "[50]\ttraining's rmse: 3293.57\ttraining's l2: 1.08476e+07\tvalid_1's rmse: 5546.65\tvalid_1's l2: 3.07653e+07\n",
      "[60]\ttraining's rmse: 3123.11\ttraining's l2: 9.75383e+06\tvalid_1's rmse: 5502.41\tvalid_1's l2: 3.02765e+07\n",
      "[70]\ttraining's rmse: 3022.84\ttraining's l2: 9.13757e+06\tvalid_1's rmse: 5495.24\tvalid_1's l2: 3.01976e+07\n",
      "Early stopping, best iteration is:\n",
      "[66]\ttraining's rmse: 3056.62\ttraining's l2: 9.34296e+06\tvalid_1's rmse: 5490.96\tvalid_1's l2: 3.01507e+07\n"
     ]
    },
    {
     "data": {
      "text/plain": [
       "'--------2번째 fold는 groupd_kfold2_gbm.pkl에 저장되었습니다.--------\\n\\n'"
      ]
     },
     "metadata": {},
     "output_type": "display_data"
    },
    {
     "data": {
      "text/plain": [
       "'--------3번째 fold의 학습을 시작합니다.--------'"
      ]
     },
     "metadata": {},
     "output_type": "display_data"
    },
    {
     "name": "stdout",
     "output_type": "stream",
     "text": [
      "[LightGBM] [Warning] Auto-choosing row-wise multi-threading, the overhead of testing was 0.011305 seconds.\n",
      "You can set `force_row_wise=true` to remove the overhead.\n",
      "And if memory is not enough, you can set `force_col_wise=true`.\n",
      "[LightGBM] [Info] Total Bins 8117\n",
      "[LightGBM] [Info] Number of data points in the train set: 437142, number of used features: 42\n",
      "[LightGBM] [Info] Start training from score 42062.048986\n",
      "Training until validation scores don't improve for 10 rounds\n",
      "[10]\ttraining's rmse: 33014.5\ttraining's l2: 1.08996e+09\tvalid_1's rmse: 60343.8\tvalid_1's l2: 3.64137e+09\n",
      "[20]\ttraining's rmse: 12088.4\ttraining's l2: 1.46129e+08\tvalid_1's rmse: 44053.7\tvalid_1's l2: 1.94072e+09\n",
      "[30]\ttraining's rmse: 5359.9\ttraining's l2: 2.87285e+07\tvalid_1's rmse: 38677.3\tvalid_1's l2: 1.49594e+09\n",
      "[40]\ttraining's rmse: 3606.12\ttraining's l2: 1.30041e+07\tvalid_1's rmse: 37326.1\tvalid_1's l2: 1.39324e+09\n",
      "[50]\ttraining's rmse: 3198.51\ttraining's l2: 1.02305e+07\tvalid_1's rmse: 36870.4\tvalid_1's l2: 1.35943e+09\n",
      "[60]\ttraining's rmse: 3045.6\ttraining's l2: 9.27566e+06\tvalid_1's rmse: 36607.5\tvalid_1's l2: 1.34011e+09\n",
      "[70]\ttraining's rmse: 2957.17\ttraining's l2: 8.74486e+06\tvalid_1's rmse: 36544.2\tvalid_1's l2: 1.33548e+09\n",
      "[80]\ttraining's rmse: 2887.97\ttraining's l2: 8.34039e+06\tvalid_1's rmse: 36443.5\tvalid_1's l2: 1.32813e+09\n",
      "[90]\ttraining's rmse: 2823.07\ttraining's l2: 7.9697e+06\tvalid_1's rmse: 36500.5\tvalid_1's l2: 1.33229e+09\n",
      "Early stopping, best iteration is:\n",
      "[84]\ttraining's rmse: 2861.22\ttraining's l2: 8.1866e+06\tvalid_1's rmse: 36419.2\tvalid_1's l2: 1.32636e+09\n"
     ]
    },
    {
     "data": {
      "text/plain": [
       "'--------3번째 fold는 groupd_kfold3_gbm.pkl에 저장되었습니다.--------\\n\\n'"
      ]
     },
     "metadata": {},
     "output_type": "display_data"
    },
    {
     "data": {
      "text/plain": [
       "'--------4번째 fold의 학습을 시작합니다.--------'"
      ]
     },
     "metadata": {},
     "output_type": "display_data"
    },
    {
     "name": "stdout",
     "output_type": "stream",
     "text": [
      "[LightGBM] [Warning] Auto-choosing row-wise multi-threading, the overhead of testing was 0.011517 seconds.\n",
      "You can set `force_row_wise=true` to remove the overhead.\n",
      "And if memory is not enough, you can set `force_col_wise=true`.\n",
      "[LightGBM] [Info] Total Bins 8122\n",
      "[LightGBM] [Info] Number of data points in the train set: 437158, number of used features: 42\n",
      "[LightGBM] [Info] Start training from score 41962.975581\n",
      "Training until validation scores don't improve for 10 rounds\n",
      "[10]\ttraining's rmse: 35414.1\ttraining's l2: 1.25416e+09\tvalid_1's rmse: 30906.7\tvalid_1's l2: 9.55225e+08\n",
      "[20]\ttraining's rmse: 12975.3\ttraining's l2: 1.68357e+08\tvalid_1's rmse: 11164.9\tvalid_1's l2: 1.24655e+08\n",
      "[30]\ttraining's rmse: 5714.97\ttraining's l2: 3.26608e+07\tvalid_1's rmse: 5929.29\tvalid_1's l2: 3.51565e+07\n",
      "[40]\ttraining's rmse: 3805.28\ttraining's l2: 1.44802e+07\tvalid_1's rmse: 5173.66\tvalid_1's l2: 2.67668e+07\n",
      "[50]\ttraining's rmse: 3349.3\ttraining's l2: 1.12178e+07\tvalid_1's rmse: 5179.36\tvalid_1's l2: 2.68258e+07\n",
      "Early stopping, best iteration is:\n",
      "[40]\ttraining's rmse: 3805.28\ttraining's l2: 1.44802e+07\tvalid_1's rmse: 5173.66\tvalid_1's l2: 2.67668e+07\n"
     ]
    },
    {
     "data": {
      "text/plain": [
       "'--------4번째 fold는 groupd_kfold4_gbm.pkl에 저장되었습니다.--------\\n\\n'"
      ]
     },
     "metadata": {},
     "output_type": "display_data"
    }
   ],
   "source": [
    "# 학습을 진행합니다.\n",
    "\n",
    "fold_save_files = []\n",
    "\n",
    "for fold_idx, (train_idx, valid_idx) in enumerate(train_folds):\n",
    "    display(f\"--------{fold_idx}번째 fold의 학습을 시작합니다.--------\")\n",
    "\n",
    "    # index를 통해 fold의 학습세트를 가져옵니다.\n",
    "    X_train_fold = X_train.iloc[train_idx, :]\n",
    "    Y_train_fold = Y_train[train_idx]\n",
    "\n",
    "    # index를 통해 fold의 평가세트를 가져옵니다.\n",
    "    X_valid_fold = X_train.iloc[valid_idx, :]\n",
    "    Y_valid_fold = Y_train[valid_idx]\n",
    "\n",
    "    # fold의 데이터로 학습을 진행합니다.\n",
    "    gbm = lgb.LGBMRegressor(n_estimators=1000)\n",
    "    gbm.fit(X_train_fold, Y_train_fold,                                               # 학습 데이터를 입력합니다.\n",
    "        eval_set=[(X_train_fold, Y_train_fold), (X_valid_fold, Y_valid_fold)], # 평가셋을 지정합니다.\n",
    "        eval_metric ='rmse',                                                               # 평가과정에서 사용할 평가함수를 지정합니다.\n",
    "        callbacks=[lgb.early_stopping(stopping_rounds=10),                                  # 10번의 성능향상이 없을 경우, 학습을 멈춥니다.\n",
    "                   lgb.log_evaluation(period=10, show_stdv=True)]                           # 매 iteration마다 학습결과를 출력합니다.\n",
    "    )\n",
    "\n",
    "    # 각 fold별 학습한 모델을 저장합니다.\n",
    "    file_name = f\"groupd_kfold{fold_idx}_gbm.pkl\"\n",
    "    joblib.dump(gbm, file_name)\n",
    "    display(f\"--------{fold_idx}번째 fold는 {file_name}에 저장되었습니다.--------\\n\\n\")\n",
    "    fold_save_files.append(file_name)\n"
   ]
  },
  {
   "cell_type": "code",
   "execution_count": 52,
   "metadata": {
    "colab": {
     "base_uri": "https://localhost:8080/"
    },
    "executionInfo": {
     "elapsed": 3,
     "status": "ok",
     "timestamp": 1696319591442,
     "user": {
      "displayName": "이동빈",
      "userId": "02086753221575393526"
     },
     "user_tz": -540
    },
    "id": "QjDjbM789439",
    "outputId": "16dc064a-f5ca-4dc3-a48d-ca7d1cdb9c16"
   },
   "outputs": [
    {
     "data": {
      "text/plain": [
       "'groupd_kfold0_gbm.pkl - Test rmse : 3777.0912527371615'"
      ]
     },
     "metadata": {},
     "output_type": "display_data"
    },
    {
     "data": {
      "text/plain": [
       "'groupd_kfold1_gbm.pkl - Test rmse : 17322.666178243846'"
      ]
     },
     "metadata": {},
     "output_type": "display_data"
    },
    {
     "data": {
      "text/plain": [
       "'groupd_kfold2_gbm.pkl - Test rmse : 3774.343636072981'"
      ]
     },
     "metadata": {},
     "output_type": "display_data"
    },
    {
     "data": {
      "text/plain": [
       "'groupd_kfold3_gbm.pkl - Test rmse : 3344.4582904072345'"
      ]
     },
     "metadata": {},
     "output_type": "display_data"
    },
    {
     "data": {
      "text/plain": [
       "'groupd_kfold4_gbm.pkl - Test rmse : 3924.876774977956'"
      ]
     },
     "metadata": {},
     "output_type": "display_data"
    },
    {
     "data": {
      "text/plain": [
       "'최종 Test rmse : 4949.843075140986'"
      ]
     },
     "metadata": {},
     "output_type": "display_data"
    }
   ],
   "source": [
    "# 저장한 학습모델들을 불러와, Testset에 대한 추론을 진행합니다.\n",
    "# 각 fold의 예측결과를 평균을 취하는 방식으로 진행합니다.\n",
    "total_predicts = np.zeros(len(X_test))\n",
    "\n",
    "for file_name in fold_save_files:\n",
    "    gbm_trained = joblib.load(file_name)\n",
    "    fold_predicts = gbm_trained.predict(X_test)\n",
    "\n",
    "    # 각 fold의 rmse를 측정합니다.\n",
    "    RMSE = mean_squared_error(Y_test, fold_predicts)**0.5\n",
    "    display(f\"{file_name} - Test rmse : {RMSE}\")\n",
    "\n",
    "    total_predicts += fold_predicts / len(fold_save_files)\n",
    "\n",
    "RMSE = mean_squared_error(Y_test, total_predicts)**0.5\n",
    "display(f\"최종 Test rmse : {RMSE}\")"
   ]
  },
  {
   "cell_type": "code",
   "execution_count": 53,
   "metadata": {
    "colab": {
     "base_uri": "https://localhost:8080/"
    },
    "executionInfo": {
     "elapsed": 592,
     "status": "ok",
     "timestamp": 1696319592032,
     "user": {
      "displayName": "이동빈",
      "userId": "02086753221575393526"
     },
     "user_tz": -540
    },
    "id": "Wx2Hain19439",
    "outputId": "a6dca4cf-2049-434e-e497-04bb1c8281bb"
   },
   "outputs": [
    {
     "data": {
      "text/plain": [
       "'groupd_kfold0_gbm.pkl - Test rmse : 3777.0912527371615'"
      ]
     },
     "metadata": {},
     "output_type": "display_data"
    },
    {
     "data": {
      "text/plain": [
       "'groupd_kfold2_gbm.pkl - Test rmse : 3774.343636072981'"
      ]
     },
     "metadata": {},
     "output_type": "display_data"
    },
    {
     "data": {
      "text/plain": [
       "'groupd_kfold4_gbm.pkl - Test rmse : 3924.876774977956'"
      ]
     },
     "metadata": {},
     "output_type": "display_data"
    },
    {
     "data": {
      "text/plain": [
       "'최종 Test rmse : 3351.8427399891707'"
      ]
     },
     "metadata": {},
     "output_type": "display_data"
    }
   ],
   "source": [
    "# 위 학습 로그에서 검증세트를 기준으로 rmse가 가장 낮은 3개의 모델을 선택후 추론을 진행합니다.\n",
    "top_3_files = [\"groupd_kfold0_gbm.pkl\", \"groupd_kfold2_gbm.pkl\", \"groupd_kfold4_gbm.pkl\"]\n",
    "total_predicts = np.zeros(len(X_test))\n",
    "\n",
    "for file_name in top_3_files:\n",
    "    gbm_trained = joblib.load(file_name)\n",
    "    fold_predicts = gbm_trained.predict(X_test)\n",
    "\n",
    "    # 각 fold의 rmse를 측정합니다.\n",
    "    RMSE = mean_squared_error(Y_test, fold_predicts)**0.5\n",
    "    display(f\"{file_name} - Test rmse : {RMSE}\")\n",
    "\n",
    "    total_predicts += fold_predicts / len(top_3_files)\n",
    "\n",
    "RMSE = mean_squared_error(Y_test, total_predicts)**0.5\n",
    "display(f\"최종 Test rmse : {RMSE}\")"
   ]
  },
  {
   "cell_type": "markdown",
   "metadata": {
    "id": "y5VSjK8u943-"
   },
   "source": [
    "- 종목별 Group Kfold 학습의 최종결과는 아래와 같습니다.\n",
    "  - Training Time : 50s\n",
    "  - Train RMSE : fold마다 다름\n",
    "  - Valid RMSE : fold마다 다름\n",
    "  - Test RMSE(ALL) : 4912.87\n",
    "  - Test RMSE(Top3) : 3442.06\n",
    "  - Test RMSE(Top1) : 3637.26\n",
    "\n",
    "- 현재까지 분할 별 Test RMSE 결과는 아래와 같습니다.\n",
    "  - Holdout : 3487.40\n",
    "  - KFold(Top3) : 3243.60\n",
    "  - Stratified KFold(Top) : 3237.07\n",
    "  - 종목별 Group KFold(Top3) : 3442.06"
   ]
  },
  {
   "cell_type": "markdown",
   "metadata": {
    "id": "yWevlm-FPKQn"
   },
   "source": [
    "- 위 예시는 종목별 구분이지만, IT와 같이 산업군으로 group을 나누어 적용해 볼 수 있습니다."
   ]
  },
  {
   "cell_type": "markdown",
   "metadata": {
    "id": "iTxQGUI3wBQd"
   },
   "source": [
    "#### 👨‍💻 코드 : (2-4)"
   ]
  },
  {
   "cell_type": "code",
   "execution_count": 54,
   "metadata": {
    "id": "olLTQLgfwBQe"
   },
   "outputs": [],
   "source": [
    "# 산업군(Industry)를 Group을 나누는 기준으로 사용합니다.\n",
    "groups = list(X_train['LEncodedIndustry'].astype('int'))"
   ]
  },
  {
   "cell_type": "code",
   "execution_count": 55,
   "metadata": {
    "id": "xs5oTGEvwBQe"
   },
   "outputs": [],
   "source": [
    "# GroupKfold 함수를 선언합니다.\n",
    "kf = GroupKFold(n_splits=5)"
   ]
  },
  {
   "cell_type": "code",
   "execution_count": 56,
   "metadata": {
    "colab": {
     "base_uri": "https://localhost:8080/",
     "height": 769
    },
    "executionInfo": {
     "elapsed": 29848,
     "status": "ok",
     "timestamp": 1696319621879,
     "user": {
      "displayName": "이동빈",
      "userId": "02086753221575393526"
     },
     "user_tz": -540
    },
    "id": "Vx3bZy7mwBQe",
    "outputId": "292f278a-5aa5-430a-e2f6-a924f5d797b9"
   },
   "outputs": [
    {
     "name": "stdout",
     "output_type": "stream",
     "text": [
      "Fold 0 :\n",
      "  Train : index=[2840 2841 2842 2843 2844]...\n",
      "  Valid : index=[0 1 2 3 4]...\n",
      "Fold 1 :\n",
      "  Train : index=[0 1 2 3 4]...\n",
      "  Valid : index=[27489 27490 27491 27492 27493]...\n",
      "Fold 2 :\n",
      "  Train : index=[0 1 2 3 4]...\n",
      "  Valid : index=[103947 103948 103949 103950 103951]...\n",
      "Fold 3 :\n",
      "  Train : index=[0 1 2 3 4]...\n",
      "  Valid : index=[78578 78579 78580 78581 78582]...\n",
      "Fold 4 :\n",
      "  Train : index=[0 1 2 3 4]...\n",
      "  Valid : index=[2840 2841 2842 2843 2844]...\n"
     ]
    },
    {
     "data": {
      "text/plain": [
       "<Axes: title={'center': 'Industry Group K-Fold'}, xlabel='Sample index', ylabel='CV iteration'>"
      ]
     },
     "execution_count": 56,
     "metadata": {},
     "output_type": "execute_result"
    },
    {
     "data": {
      "image/png": "[encoded data removed]",
      "text/plain": [
       "<Figure size 640x480 with 1 Axes>"
      ]
     },
     "metadata": {},
     "output_type": "display_data"
    }
   ],
   "source": [
    "# GroupKfold를 시각화합니다.\n",
    "fig, ax = plt.subplots()\n",
    "plot_cv_indices(x=X_train.sort_values(by='LEncodedIndustry'),\n",
    "                y=Y_train,\n",
    "                cv=kf,\n",
    "                group=groups,\n",
    "                ax=ax,\n",
    "                split_strategy='Industry Group K-Fold')"
   ]
  },
  {
   "cell_type": "code",
   "execution_count": 57,
   "metadata": {
    "colab": {
     "base_uri": "https://localhost:8080/"
    },
    "executionInfo": {
     "elapsed": 5,
     "status": "ok",
     "timestamp": 1696319621879,
     "user": {
      "displayName": "이동빈",
      "userId": "02086753221575393526"
     },
     "user_tz": -540
    },
    "id": "_LkoHliRwBQe",
    "outputId": "64bc4a4c-ff8e-4b81-af77-69970ab6ed19"
   },
   "outputs": [
    {
     "data": {
      "text/plain": [
       "<generator object _BaseKFold.split at 0x1733660e0>"
      ]
     },
     "metadata": {},
     "output_type": "display_data"
    }
   ],
   "source": [
    "# 학습 데이터를 GroupKfold로 나눕니다.\n",
    "train_folds = kf.split(X_train, Y_train, groups=groups)\n",
    "display(train_folds)"
   ]
  },
  {
   "cell_type": "markdown",
   "metadata": {
    "id": "V8fP07aBwBQe"
   },
   "source": [
    "- Kfold적용 시, 결과는 generator object로 반환됩니다.\n",
    "- python generator는 iterator를 생성해주는 함수이다.\n",
    "- 즉, loop를 통해 불러올때 값을 확인할 수 있습니다."
   ]
  },
  {
   "cell_type": "code",
   "execution_count": 59,
   "metadata": {
    "colab": {
     "base_uri": "https://localhost:8080/"
    },
    "executionInfo": {
     "elapsed": 44306,
     "status": "ok",
     "timestamp": 1696319666181,
     "user": {
      "displayName": "이동빈",
      "userId": "02086753221575393526"
     },
     "user_tz": -540
    },
    "id": "t7FfESmXwBQf",
    "outputId": "c6c4d60c-04b6-4435-a08e-0c8752d86c7a"
   },
   "outputs": [
    {
     "data": {
      "text/plain": [
       "'--------0번째 fold의 학습을 시작합니다.--------'"
      ]
     },
     "metadata": {},
     "output_type": "display_data"
    },
    {
     "name": "stdout",
     "output_type": "stream",
     "text": [
      "[LightGBM] [Warning] Auto-choosing row-wise multi-threading, the overhead of testing was 0.012624 seconds.\n",
      "You can set `force_row_wise=true` to remove the overhead.\n",
      "And if memory is not enough, you can set `force_col_wise=true`.\n",
      "[LightGBM] [Info] Total Bins 8084\n",
      "[LightGBM] [Info] Number of data points in the train set: 437099, number of used features: 42\n",
      "[LightGBM] [Info] Start training from score 44935.493529\n",
      "Training until validation scores don't improve for 10 rounds\n",
      "[10]\ttraining's rmse: 37949.3\ttraining's l2: 1.44015e+09\tvalid_1's rmse: 16004.7\tvalid_1's l2: 2.5615e+08\n",
      "[20]\ttraining's rmse: 13855.2\ttraining's l2: 1.91967e+08\tvalid_1's rmse: 5759.25\tvalid_1's l2: 3.3169e+07\n",
      "[30]\ttraining's rmse: 6049.96\ttraining's l2: 3.6602e+07\tvalid_1's rmse: 2442.23\tvalid_1's l2: 5.96447e+06\n",
      "[40]\ttraining's rmse: 4000.7\ttraining's l2: 1.60056e+07\tvalid_1's rmse: 1601.98\tvalid_1's l2: 2.56635e+06\n",
      "[50]\ttraining's rmse: 3528.66\ttraining's l2: 1.24514e+07\tvalid_1's rmse: 1462.44\tvalid_1's l2: 2.13874e+06\n",
      "[60]\ttraining's rmse: 3354.22\ttraining's l2: 1.12508e+07\tvalid_1's rmse: 1439.57\tvalid_1's l2: 2.07236e+06\n",
      "[70]\ttraining's rmse: 3245.43\ttraining's l2: 1.05328e+07\tvalid_1's rmse: 1434.1\tvalid_1's l2: 2.05664e+06\n",
      "[80]\ttraining's rmse: 3172.38\ttraining's l2: 1.0064e+07\tvalid_1's rmse: 1431.44\tvalid_1's l2: 2.04903e+06\n",
      "[90]\ttraining's rmse: 3106.31\ttraining's l2: 9.64913e+06\tvalid_1's rmse: 1430.75\tvalid_1's l2: 2.04704e+06\n",
      "[100]\ttraining's rmse: 3044.69\ttraining's l2: 9.27014e+06\tvalid_1's rmse: 1429.68\tvalid_1's l2: 2.04397e+06\n",
      "[110]\ttraining's rmse: 2985.42\ttraining's l2: 8.91276e+06\tvalid_1's rmse: 1430.62\tvalid_1's l2: 2.04667e+06\n",
      "Early stopping, best iteration is:\n",
      "[102]\ttraining's rmse: 3033.13\ttraining's l2: 9.1999e+06\tvalid_1's rmse: 1429.46\tvalid_1's l2: 2.04336e+06\n"
     ]
    },
    {
     "data": {
      "text/plain": [
       "'--------0번째 fold는 industry_groupd_kfold0_gbm.pkl에 저장되었습니다.--------\\n\\n'"
      ]
     },
     "metadata": {},
     "output_type": "display_data"
    },
    {
     "data": {
      "text/plain": [
       "'--------1번째 fold의 학습을 시작합니다.--------'"
      ]
     },
     "metadata": {},
     "output_type": "display_data"
    },
    {
     "name": "stdout",
     "output_type": "stream",
     "text": [
      "[LightGBM] [Warning] Auto-choosing row-wise multi-threading, the overhead of testing was 0.010507 seconds.\n",
      "You can set `force_row_wise=true` to remove the overhead.\n",
      "And if memory is not enough, you can set `force_col_wise=true`.\n",
      "[LightGBM] [Info] Total Bins 8079\n",
      "[LightGBM] [Info] Number of data points in the train set: 437121, number of used features: 42\n",
      "[LightGBM] [Info] Start training from score 44907.760821\n",
      "Training until validation scores don't improve for 10 rounds\n",
      "[10]\ttraining's rmse: 36010.3\ttraining's l2: 1.29674e+09\tvalid_1's rmse: 28190\tvalid_1's l2: 7.94678e+08\n",
      "[20]\ttraining's rmse: 13158.8\ttraining's l2: 1.73153e+08\tvalid_1's rmse: 9657.71\tvalid_1's l2: 9.32713e+07\n",
      "[30]\ttraining's rmse: 5763.65\ttraining's l2: 3.32197e+07\tvalid_1's rmse: 4842.58\tvalid_1's l2: 2.34506e+07\n",
      "[40]\ttraining's rmse: 3833.24\ttraining's l2: 1.46937e+07\tvalid_1's rmse: 4383.96\tvalid_1's l2: 1.92191e+07\n",
      "Early stopping, best iteration is:\n",
      "[37]\ttraining's rmse: 4152.37\ttraining's l2: 1.72421e+07\tvalid_1's rmse: 4357.13\tvalid_1's l2: 1.89846e+07\n"
     ]
    },
    {
     "data": {
      "text/plain": [
       "'--------1번째 fold는 industry_groupd_kfold1_gbm.pkl에 저장되었습니다.--------\\n\\n'"
      ]
     },
     "metadata": {},
     "output_type": "display_data"
    },
    {
     "data": {
      "text/plain": [
       "'--------2번째 fold의 학습을 시작합니다.--------'"
      ]
     },
     "metadata": {},
     "output_type": "display_data"
    },
    {
     "name": "stdout",
     "output_type": "stream",
     "text": [
      "[LightGBM] [Warning] Auto-choosing row-wise multi-threading, the overhead of testing was 0.011684 seconds.\n",
      "You can set `force_row_wise=true` to remove the overhead.\n",
      "And if memory is not enough, you can set `force_col_wise=true`.\n",
      "[LightGBM] [Info] Total Bins 8081\n",
      "[LightGBM] [Info] Number of data points in the train set: 437010, number of used features: 42\n",
      "[LightGBM] [Info] Start training from score 42223.873124\n",
      "Training until validation scores don't improve for 10 rounds\n",
      "[10]\ttraining's rmse: 35776.9\ttraining's l2: 1.27999e+09\tvalid_1's rmse: 29398.7\tvalid_1's l2: 8.64286e+08\n",
      "[20]\ttraining's rmse: 13068.4\ttraining's l2: 1.70784e+08\tvalid_1's rmse: 12935.1\tvalid_1's l2: 1.67316e+08\n",
      "[30]\ttraining's rmse: 5705.67\ttraining's l2: 3.25547e+07\tvalid_1's rmse: 10291.1\tvalid_1's l2: 1.05906e+08\n",
      "[40]\ttraining's rmse: 3765.43\ttraining's l2: 1.41785e+07\tvalid_1's rmse: 10206\tvalid_1's l2: 1.04163e+08\n",
      "Early stopping, best iteration is:\n",
      "[35]\ttraining's rmse: 4393.32\ttraining's l2: 1.93013e+07\tvalid_1's rmse: 10145.2\tvalid_1's l2: 1.02924e+08\n"
     ]
    },
    {
     "data": {
      "text/plain": [
       "'--------2번째 fold는 industry_groupd_kfold2_gbm.pkl에 저장되었습니다.--------\\n\\n'"
      ]
     },
     "metadata": {},
     "output_type": "display_data"
    },
    {
     "data": {
      "text/plain": [
       "'--------3번째 fold의 학습을 시작합니다.--------'"
      ]
     },
     "metadata": {},
     "output_type": "display_data"
    },
    {
     "name": "stdout",
     "output_type": "stream",
     "text": [
      "[LightGBM] [Warning] Auto-choosing row-wise multi-threading, the overhead of testing was 0.011614 seconds.\n",
      "You can set `force_row_wise=true` to remove the overhead.\n",
      "And if memory is not enough, you can set `force_col_wise=true`.\n",
      "[LightGBM] [Info] Total Bins 8077\n",
      "[LightGBM] [Info] Number of data points in the train set: 436997, number of used features: 42\n",
      "[LightGBM] [Info] Start training from score 41551.856155\n",
      "Training until validation scores don't improve for 10 rounds\n",
      "[10]\ttraining's rmse: 33542.4\ttraining's l2: 1.12509e+09\tvalid_1's rmse: 44084.3\tvalid_1's l2: 1.94342e+09\n",
      "[20]\ttraining's rmse: 12269.6\ttraining's l2: 1.50542e+08\tvalid_1's rmse: 22137.3\tvalid_1's l2: 4.9006e+08\n",
      "[30]\ttraining's rmse: 5380.98\ttraining's l2: 2.8955e+07\tvalid_1's rmse: 16036.1\tvalid_1's l2: 2.57155e+08\n",
      "[40]\ttraining's rmse: 3550.57\ttraining's l2: 1.26065e+07\tvalid_1's rmse: 14191.5\tvalid_1's l2: 2.01398e+08\n",
      "[50]\ttraining's rmse: 3115.57\ttraining's l2: 9.70679e+06\tvalid_1's rmse: 13579.3\tvalid_1's l2: 1.84398e+08\n",
      "[60]\ttraining's rmse: 2952.6\ttraining's l2: 8.71786e+06\tvalid_1's rmse: 13374.5\tvalid_1's l2: 1.78877e+08\n",
      "Early stopping, best iteration is:\n",
      "[58]\ttraining's rmse: 2978.67\ttraining's l2: 8.8725e+06\tvalid_1's rmse: 13350\tvalid_1's l2: 1.78223e+08\n"
     ]
    },
    {
     "data": {
      "text/plain": [
       "'--------3번째 fold는 industry_groupd_kfold3_gbm.pkl에 저장되었습니다.--------\\n\\n'"
      ]
     },
     "metadata": {},
     "output_type": "display_data"
    },
    {
     "data": {
      "text/plain": [
       "'--------4번째 fold의 학습을 시작합니다.--------'"
      ]
     },
     "metadata": {},
     "output_type": "display_data"
    },
    {
     "name": "stdout",
     "output_type": "stream",
     "text": [
      "[LightGBM] [Warning] Auto-choosing row-wise multi-threading, the overhead of testing was 0.013009 seconds.\n",
      "You can set `force_row_wise=true` to remove the overhead.\n",
      "And if memory is not enough, you can set `force_col_wise=true`.\n",
      "[LightGBM] [Info] Total Bins 8080\n",
      "[LightGBM] [Info] Number of data points in the train set: 437581, number of used features: 42\n",
      "[LightGBM] [Info] Start training from score 35598.745179\n",
      "Training until validation scores don't improve for 10 rounds\n",
      "[10]\ttraining's rmse: 29507\ttraining's l2: 8.70662e+08\tvalid_1's rmse: 69591.6\tvalid_1's l2: 4.84299e+09\n",
      "[20]\ttraining's rmse: 10905.5\ttraining's l2: 1.18931e+08\tvalid_1's rmse: 47835.2\tvalid_1's l2: 2.2882e+09\n",
      "[30]\ttraining's rmse: 4953.89\ttraining's l2: 2.4541e+07\tvalid_1's rmse: 42148.5\tvalid_1's l2: 1.77649e+09\n",
      "[40]\ttraining's rmse: 3408.72\ttraining's l2: 1.16194e+07\tvalid_1's rmse: 40431.1\tvalid_1's l2: 1.63467e+09\n",
      "[50]\ttraining's rmse: 3017.81\ttraining's l2: 9.10718e+06\tvalid_1's rmse: 39819.1\tvalid_1's l2: 1.58556e+09\n",
      "[60]\ttraining's rmse: 2863.28\ttraining's l2: 8.19835e+06\tvalid_1's rmse: 39610.6\tvalid_1's l2: 1.569e+09\n",
      "[70]\ttraining's rmse: 2757.24\ttraining's l2: 7.60237e+06\tvalid_1's rmse: 39768.7\tvalid_1's l2: 1.58155e+09\n",
      "Early stopping, best iteration is:\n",
      "[61]\ttraining's rmse: 2851.2\ttraining's l2: 8.12933e+06\tvalid_1's rmse: 39599.5\tvalid_1's l2: 1.56812e+09\n"
     ]
    },
    {
     "data": {
      "text/plain": [
       "'--------4번째 fold는 industry_groupd_kfold4_gbm.pkl에 저장되었습니다.--------\\n\\n'"
      ]
     },
     "metadata": {},
     "output_type": "display_data"
    }
   ],
   "source": [
    "# 학습을 진행합니다.\n",
    "\n",
    "fold_save_files = []\n",
    "\n",
    "for fold_idx, (train_idx, valid_idx) in enumerate(train_folds):\n",
    "    display(f\"--------{fold_idx}번째 fold의 학습을 시작합니다.--------\")\n",
    "\n",
    "    # index를 통해 fold의 학습세트를 가져옵니다.\n",
    "    X_train_fold = X_train.iloc[train_idx, :]\n",
    "    Y_train_fold = Y_train[train_idx]\n",
    "\n",
    "    # index를 통해 fold의 평가세트를 가져옵니다.\n",
    "    X_valid_fold = X_train.iloc[valid_idx, :]\n",
    "    Y_valid_fold = Y_train[valid_idx]\n",
    "\n",
    "    # fold의 데이터로 학습을 진행합니다.\n",
    "    gbm = lgb.LGBMRegressor(n_estimators=1000)\n",
    "    gbm.fit(X_train_fold, Y_train_fold,                                               # 학습 데이터를 입력합니다.\n",
    "        eval_set=[(X_train_fold, Y_train_fold), (X_valid_fold, Y_valid_fold)], # 평가셋을 지정합니다.\n",
    "        eval_metric ='rmse',                                                               # 평가과정에서 사용할 평가함수를 지정합니다.\n",
    "        callbacks=[lgb.early_stopping(stopping_rounds=10),                                  # 10번의 성능향상이 없을 경우, 학습을 멈춥니다.\n",
    "                   lgb.log_evaluation(period=10, show_stdv=True)]                           # 매 iteration마다 학습결과를 출력합니다.\n",
    "    )\n",
    "\n",
    "    # 각 fold별 학습한 모델을 저장합니다.\n",
    "    file_name = f\"industry_groupd_kfold{fold_idx}_gbm.pkl\"\n",
    "    joblib.dump(gbm, file_name)\n",
    "    display(f\"--------{fold_idx}번째 fold는 {file_name}에 저장되었습니다.--------\\n\\n\")\n",
    "    fold_save_files.append(file_name)\n"
   ]
  },
  {
   "cell_type": "code",
   "execution_count": 60,
   "metadata": {
    "colab": {
     "base_uri": "https://localhost:8080/"
    },
    "executionInfo": {
     "elapsed": 933,
     "status": "ok",
     "timestamp": 1696319667109,
     "user": {
      "displayName": "이동빈",
      "userId": "02086753221575393526"
     },
     "user_tz": -540
    },
    "id": "ESyfGgpWwBQf",
    "outputId": "7e455f89-5a0b-4055-cbb3-e5c0d8559c1a"
   },
   "outputs": [
    {
     "data": {
      "text/plain": [
       "'industry_groupd_kfold0_gbm.pkl - Test rmse : 3316.0408545452547'"
      ]
     },
     "metadata": {},
     "output_type": "display_data"
    },
    {
     "data": {
      "text/plain": [
       "'industry_groupd_kfold1_gbm.pkl - Test rmse : 3982.473364799556'"
      ]
     },
     "metadata": {},
     "output_type": "display_data"
    },
    {
     "data": {
      "text/plain": [
       "'industry_groupd_kfold2_gbm.pkl - Test rmse : 4201.362723333444'"
      ]
     },
     "metadata": {},
     "output_type": "display_data"
    },
    {
     "data": {
      "text/plain": [
       "'industry_groupd_kfold3_gbm.pkl - Test rmse : 3889.25395270525'"
      ]
     },
     "metadata": {},
     "output_type": "display_data"
    },
    {
     "data": {
      "text/plain": [
       "'industry_groupd_kfold4_gbm.pkl - Test rmse : 5946.272401575868'"
      ]
     },
     "metadata": {},
     "output_type": "display_data"
    },
    {
     "data": {
      "text/plain": [
       "'최종 Test rmse : 3512.3965118983656'"
      ]
     },
     "metadata": {},
     "output_type": "display_data"
    }
   ],
   "source": [
    "# 저장한 학습모델들을 불러와, Testset에 대한 추론을 진행합니다.\n",
    "# 각 fold의 예측결과를 평균을 취하는 방식으로 진행합니다.\n",
    "total_predicts = np.zeros(len(X_test))\n",
    "\n",
    "for file_name in fold_save_files:\n",
    "    gbm_trained = joblib.load(file_name)\n",
    "    fold_predicts = gbm_trained.predict(X_test)\n",
    "\n",
    "    # 각 fold의 rmse를 측정합니다.\n",
    "    RMSE = mean_squared_error(Y_test, fold_predicts)**0.5\n",
    "    display(f\"{file_name} - Test rmse : {RMSE}\")\n",
    "\n",
    "    total_predicts += fold_predicts / len(fold_save_files)\n",
    "\n",
    "RMSE = mean_squared_error(Y_test, total_predicts)**0.5\n",
    "display(f\"최종 Test rmse : {RMSE}\")"
   ]
  },
  {
   "cell_type": "code",
   "execution_count": 61,
   "metadata": {
    "colab": {
     "base_uri": "https://localhost:8080/"
    },
    "executionInfo": {
     "elapsed": 4,
     "status": "ok",
     "timestamp": 1696319667109,
     "user": {
      "displayName": "이동빈",
      "userId": "02086753221575393526"
     },
     "user_tz": -540
    },
    "id": "W6Fmm3A4wBQf",
    "outputId": "77681fed-19e0-4104-8169-6ae9bbda255c"
   },
   "outputs": [
    {
     "data": {
      "text/plain": [
       "'industry_groupd_kfold0_gbm.pkl - Test rmse : 3316.0408545452547'"
      ]
     },
     "metadata": {},
     "output_type": "display_data"
    },
    {
     "data": {
      "text/plain": [
       "'industry_groupd_kfold1_gbm.pkl - Test rmse : 3982.473364799556'"
      ]
     },
     "metadata": {},
     "output_type": "display_data"
    },
    {
     "data": {
      "text/plain": [
       "'industry_groupd_kfold2_gbm.pkl - Test rmse : 4201.362723333444'"
      ]
     },
     "metadata": {},
     "output_type": "display_data"
    },
    {
     "data": {
      "text/plain": [
       "'최종 Test rmse : 3411.9198210799836'"
      ]
     },
     "metadata": {},
     "output_type": "display_data"
    }
   ],
   "source": [
    "# 위 학습 로그에서 검증세트를 기준으로 rmse가 가장 낮은 3개의 모델을 선택후 추론을 진행합니다.\n",
    "top_3_files = [\"industry_groupd_kfold0_gbm.pkl\", \"industry_groupd_kfold1_gbm.pkl\", \"industry_groupd_kfold2_gbm.pkl\"]\n",
    "total_predicts = np.zeros(len(X_test))\n",
    "\n",
    "for file_name in top_3_files:\n",
    "    gbm_trained = joblib.load(file_name)\n",
    "    fold_predicts = gbm_trained.predict(X_test)\n",
    "\n",
    "    # 각 fold의 rmse를 측정합니다.\n",
    "    RMSE = mean_squared_error(Y_test, fold_predicts)**0.5\n",
    "    display(f\"{file_name} - Test rmse : {RMSE}\")\n",
    "\n",
    "    total_predicts += fold_predicts / len(top_3_files)\n",
    "\n",
    "RMSE = mean_squared_error(Y_test, total_predicts)**0.5\n",
    "display(f\"최종 Test rmse : {RMSE}\")"
   ]
  },
  {
   "cell_type": "markdown",
   "metadata": {
    "id": "h_ZPksvMwBQf"
   },
   "source": [
    "- 산업군별 Group Kfold 학습의 최종결과는 아래와 같습니다.\n",
    "  - Training Time : 29.9s\n",
    "  - Train RMSE : fold마다 다름\n",
    "  - Valid RMSE : fold마다 다름\n",
    "  - Test RMSE(ALL) : 3529.99\n",
    "  - Test RMSE(Top3) : 3288.77\n",
    "  - Test RMSE(Top1) : 3347.86\n",
    "\n",
    "- 현재까지 분할 별 Test RMSE 결과는 아래와 같습니다.\n",
    "  - Holdout : 3487.40\n",
    "  - KFold(Top3) : 3243.60\n",
    "  - Stratified KFold(Top) : 3237.07\n",
    "  - 종목별 Group KFold(Top3) : 3442.06\n",
    "  - 산업군별 Group KFold(Top3) : 3288.77"
   ]
  },
  {
   "cell_type": "markdown",
   "metadata": {
    "id": "uoyYRapb943-"
   },
   "source": [
    "#### 📚 자료\n",
    "\n",
    "- [GroupKFold - Scikit-Learn 공식문서](https://scikit-learn.org/stable/modules/generated/sklearn.model_selection.GroupKFold.html#sklearn.model_selection.GroupKFold)"
   ]
  },
  {
   "cell_type": "markdown",
   "metadata": {
    "id": "sey51-Zb97CN"
   },
   "source": [
    "### 2-5. Time-Series Split\n"
   ]
  },
  {
   "cell_type": "markdown",
   "metadata": {
    "id": "BPWS33Iw97CN"
   },
   "source": [
    "#### 📝 설명 : (2-5)\n",
    "\n",
    "- 시계열 데이터에 사용되는 확장된 K-Fold 방법입니다.\n",
    "- 과거의 데이터를 통해 미래를 예측하는 데이터의 구조를 유지한 채 Fold를 나누는 방법입니다.\n",
    "\n",
    "<br>\n",
    "<img src=\"https://velog.velcdn.com/images/dlehd1989/post/eedadef4-631b-4684-ad65-899db85192d9/image.png\">\n",
    "<br>\n"
   ]
  },
  {
   "cell_type": "markdown",
   "metadata": {
    "id": "82Ia0y7o97CN"
   },
   "source": [
    "#### 👨‍💻 코드 : (2-5)\n"
   ]
  },
  {
   "cell_type": "code",
   "execution_count": 62,
   "metadata": {
    "id": "NM-slMHD97CO"
   },
   "outputs": [],
   "source": [
    "# TimeSeriesSplit 함수를 선언합니다.\n",
    "kf = TimeSeriesSplit(n_splits=5)"
   ]
  },
  {
   "cell_type": "code",
   "execution_count": 63,
   "metadata": {
    "colab": {
     "base_uri": "https://localhost:8080/",
     "height": 769
    },
    "executionInfo": {
     "elapsed": 29119,
     "status": "ok",
     "timestamp": 1696319696224,
     "user": {
      "displayName": "이동빈",
      "userId": "02086753221575393526"
     },
     "user_tz": -540
    },
    "id": "cuHIt1io97CO",
    "outputId": "1e5168fe-f067-40c6-9531-e509aef8c602"
   },
   "outputs": [
    {
     "name": "stdout",
     "output_type": "stream",
     "text": [
      "Fold 0 :\n",
      "  Train : index=[0 1 2 3 4]...\n",
      "  Valid : index=[91077 91078 91079 91080 91081]...\n",
      "Fold 1 :\n",
      "  Train : index=[0 1 2 3 4]...\n",
      "  Valid : index=[182152 182153 182154 182155 182156]...\n",
      "Fold 2 :\n",
      "  Train : index=[0 1 2 3 4]...\n",
      "  Valid : index=[273227 273228 273229 273230 273231]...\n",
      "Fold 3 :\n",
      "  Train : index=[0 1 2 3 4]...\n",
      "  Valid : index=[364302 364303 364304 364305 364306]...\n",
      "Fold 4 :\n",
      "  Train : index=[0 1 2 3 4]...\n",
      "  Valid : index=[455377 455378 455379 455380 455381]...\n"
     ]
    },
    {
     "data": {
      "text/plain": [
       "<Axes: title={'center': 'Time-Series K-Fold'}, xlabel='Sample index', ylabel='CV iteration'>"
      ]
     },
     "execution_count": 63,
     "metadata": {},
     "output_type": "execute_result"
    },
    {
     "data": {
      "image/png": "[encoded data removed]",
      "text/plain": [
       "<Figure size 640x480 with 1 Axes>"
      ]
     },
     "metadata": {},
     "output_type": "display_data"
    }
   ],
   "source": [
    "# TimeSeriesSplit를 시각화합니다.\n",
    "fig, ax = plt.subplots()\n",
    "plot_cv_indices(x=X_train,\n",
    "                y=Y_train,\n",
    "                cv=kf,\n",
    "                ax=ax,\n",
    "                split_strategy='Time-Series K-Fold')"
   ]
  },
  {
   "cell_type": "code",
   "execution_count": 64,
   "metadata": {
    "colab": {
     "base_uri": "https://localhost:8080/"
    },
    "executionInfo": {
     "elapsed": 5,
     "status": "ok",
     "timestamp": 1696319696224,
     "user": {
      "displayName": "이동빈",
      "userId": "02086753221575393526"
     },
     "user_tz": -540
    },
    "id": "6rjVy5n997CO",
    "outputId": "1cf22e0e-f14d-4dcc-b607-5d7737d35840"
   },
   "outputs": [
    {
     "data": {
      "text/plain": [
       "<generator object TimeSeriesSplit.split at 0x286c13120>"
      ]
     },
     "metadata": {},
     "output_type": "display_data"
    }
   ],
   "source": [
    "# 학습 데이터를 TimeSeriesSplit로 나눕니다.\n",
    "train_folds = kf.split(X_train, Y_train)\n",
    "display(train_folds)"
   ]
  },
  {
   "cell_type": "code",
   "execution_count": 65,
   "metadata": {
    "colab": {
     "base_uri": "https://localhost:8080/"
    },
    "executionInfo": {
     "elapsed": 33415,
     "status": "ok",
     "timestamp": 1696319729635,
     "user": {
      "displayName": "이동빈",
      "userId": "02086753221575393526"
     },
     "user_tz": -540
    },
    "id": "_vlGrCT897CP",
    "outputId": "e0426fd3-d354-4d09-c793-7d1408ec2ef4"
   },
   "outputs": [
    {
     "data": {
      "text/plain": [
       "'--------0번째 fold의 학습을 시작합니다.--------'"
      ]
     },
     "metadata": {},
     "output_type": "display_data"
    },
    {
     "name": "stdout",
     "output_type": "stream",
     "text": [
      "[LightGBM] [Warning] Auto-choosing row-wise multi-threading, the overhead of testing was 0.002484 seconds.\n",
      "You can set `force_row_wise=true` to remove the overhead.\n",
      "And if memory is not enough, you can set `force_col_wise=true`.\n",
      "[LightGBM] [Info] Total Bins 7612\n",
      "[LightGBM] [Info] Number of data points in the train set: 91077, number of used features: 42\n",
      "[LightGBM] [Info] Start training from score 57027.638548\n",
      "Training until validation scores don't improve for 10 rounds\n",
      "[10]\ttraining's rmse: 46891.9\ttraining's l2: 2.19885e+09\tvalid_1's rmse: 46829\tvalid_1's l2: 2.19296e+09\n",
      "[20]\ttraining's rmse: 16756.1\ttraining's l2: 2.80768e+08\tvalid_1's rmse: 19959.4\tvalid_1's l2: 3.98378e+08\n",
      "[30]\ttraining's rmse: 6663.44\ttraining's l2: 4.44014e+07\tvalid_1's rmse: 12416\tvalid_1's l2: 1.54158e+08\n",
      "[40]\ttraining's rmse: 3756.12\ttraining's l2: 1.41084e+07\tvalid_1's rmse: 10693.1\tvalid_1's l2: 1.14343e+08\n",
      "[50]\ttraining's rmse: 3066.54\ttraining's l2: 9.40364e+06\tvalid_1's rmse: 10198.5\tvalid_1's l2: 1.0401e+08\n",
      "[60]\ttraining's rmse: 2840.98\ttraining's l2: 8.07117e+06\tvalid_1's rmse: 10058.5\tvalid_1's l2: 1.01174e+08\n",
      "[70]\ttraining's rmse: 2707.47\ttraining's l2: 7.33037e+06\tvalid_1's rmse: 10098.1\tvalid_1's l2: 1.01972e+08\n",
      "Early stopping, best iteration is:\n",
      "[68]\ttraining's rmse: 2730.52\ttraining's l2: 7.45572e+06\tvalid_1's rmse: 10033.8\tvalid_1's l2: 1.00676e+08\n"
     ]
    },
    {
     "data": {
      "text/plain": [
       "'--------0번째 fold는 timeseries_fold0_gbm.pkl에 저장되었습니다.--------\\n\\n'"
      ]
     },
     "metadata": {},
     "output_type": "display_data"
    },
    {
     "data": {
      "text/plain": [
       "'--------1번째 fold의 학습을 시작합니다.--------'"
      ]
     },
     "metadata": {},
     "output_type": "display_data"
    },
    {
     "name": "stdout",
     "output_type": "stream",
     "text": [
      "[LightGBM] [Warning] Auto-choosing row-wise multi-threading, the overhead of testing was 0.004775 seconds.\n",
      "You can set `force_row_wise=true` to remove the overhead.\n",
      "And if memory is not enough, you can set `force_col_wise=true`.\n",
      "[LightGBM] [Info] Total Bins 7840\n",
      "[LightGBM] [Info] Number of data points in the train set: 182152, number of used features: 42\n",
      "[LightGBM] [Info] Start training from score 60054.760321\n",
      "Training until validation scores don't improve for 10 rounds\n",
      "[10]\ttraining's rmse: 45683.7\ttraining's l2: 2.087e+09\tvalid_1's rmse: 29686.5\tvalid_1's l2: 8.81285e+08\n",
      "[20]\ttraining's rmse: 16550.5\ttraining's l2: 2.73919e+08\tvalid_1's rmse: 10710.5\tvalid_1's l2: 1.14715e+08\n",
      "[30]\ttraining's rmse: 7034.78\ttraining's l2: 4.94881e+07\tvalid_1's rmse: 4669.8\tvalid_1's l2: 2.1807e+07\n",
      "[40]\ttraining's rmse: 4475.55\ttraining's l2: 2.00306e+07\tvalid_1's rmse: 3261.42\tvalid_1's l2: 1.06368e+07\n",
      "[50]\ttraining's rmse: 3903.28\ttraining's l2: 1.52356e+07\tvalid_1's rmse: 2938.68\tvalid_1's l2: 8.63583e+06\n",
      "[60]\ttraining's rmse: 3702.8\ttraining's l2: 1.37107e+07\tvalid_1's rmse: 2888.64\tvalid_1's l2: 8.34423e+06\n",
      "[70]\ttraining's rmse: 3576.87\ttraining's l2: 1.2794e+07\tvalid_1's rmse: 2856.26\tvalid_1's l2: 8.1582e+06\n",
      "[80]\ttraining's rmse: 3484.01\ttraining's l2: 1.21383e+07\tvalid_1's rmse: 2854.16\tvalid_1's l2: 8.14624e+06\n",
      "[90]\ttraining's rmse: 3411.79\ttraining's l2: 1.16403e+07\tvalid_1's rmse: 2848.12\tvalid_1's l2: 8.11181e+06\n",
      "[100]\ttraining's rmse: 3344.6\ttraining's l2: 1.11863e+07\tvalid_1's rmse: 2843.79\tvalid_1's l2: 8.08715e+06\n",
      "[110]\ttraining's rmse: 3281.63\ttraining's l2: 1.07691e+07\tvalid_1's rmse: 2841.36\tvalid_1's l2: 8.07331e+06\n",
      "[120]\ttraining's rmse: 3222.21\ttraining's l2: 1.03826e+07\tvalid_1's rmse: 2834.75\tvalid_1's l2: 8.03582e+06\n",
      "[130]\ttraining's rmse: 3158.56\ttraining's l2: 9.97651e+06\tvalid_1's rmse: 2835.48\tvalid_1's l2: 8.03992e+06\n",
      "Early stopping, best iteration is:\n",
      "[123]\ttraining's rmse: 3199.76\ttraining's l2: 1.02385e+07\tvalid_1's rmse: 2830.83\tvalid_1's l2: 8.01358e+06\n"
     ]
    },
    {
     "data": {
      "text/plain": [
       "'--------1번째 fold는 timeseries_fold1_gbm.pkl에 저장되었습니다.--------\\n\\n'"
      ]
     },
     "metadata": {},
     "output_type": "display_data"
    },
    {
     "data": {
      "text/plain": [
       "'--------2번째 fold의 학습을 시작합니다.--------'"
      ]
     },
     "metadata": {},
     "output_type": "display_data"
    },
    {
     "name": "stdout",
     "output_type": "stream",
     "text": [
      "[LightGBM] [Warning] Auto-choosing row-wise multi-threading, the overhead of testing was 0.007057 seconds.\n",
      "You can set `force_row_wise=true` to remove the overhead.\n",
      "And if memory is not enough, you can set `force_col_wise=true`.\n",
      "[LightGBM] [Info] Total Bins 7888\n",
      "[LightGBM] [Info] Number of data points in the train set: 273227, number of used features: 42\n",
      "[LightGBM] [Info] Start training from score 49230.100049\n",
      "Training until validation scores don't improve for 10 rounds\n",
      "[10]\ttraining's rmse: 40925.8\ttraining's l2: 1.67492e+09\tvalid_1's rmse: 16958.6\tvalid_1's l2: 2.87593e+08\n",
      "[20]\ttraining's rmse: 14875.2\ttraining's l2: 2.2127e+08\tvalid_1's rmse: 6067.48\tvalid_1's l2: 3.68143e+07\n",
      "[30]\ttraining's rmse: 6382.46\ttraining's l2: 4.07357e+07\tvalid_1's rmse: 2442.71\tvalid_1's l2: 5.96685e+06\n",
      "[40]\ttraining's rmse: 4118.51\ttraining's l2: 1.69622e+07\tvalid_1's rmse: 1453.49\tvalid_1's l2: 2.11264e+06\n",
      "[50]\ttraining's rmse: 3588.59\ttraining's l2: 1.2878e+07\tvalid_1's rmse: 1270.1\tvalid_1's l2: 1.61316e+06\n",
      "[60]\ttraining's rmse: 3395.7\ttraining's l2: 1.15308e+07\tvalid_1's rmse: 1241.63\tvalid_1's l2: 1.54164e+06\n",
      "[70]\ttraining's rmse: 3287.38\ttraining's l2: 1.08069e+07\tvalid_1's rmse: 1234.87\tvalid_1's l2: 1.5249e+06\n",
      "[80]\ttraining's rmse: 3191.09\ttraining's l2: 1.01831e+07\tvalid_1's rmse: 1230.64\tvalid_1's l2: 1.51446e+06\n",
      "[90]\ttraining's rmse: 3115.3\ttraining's l2: 9.70508e+06\tvalid_1's rmse: 1228.74\tvalid_1's l2: 1.50979e+06\n",
      "[100]\ttraining's rmse: 3052.4\ttraining's l2: 9.31712e+06\tvalid_1's rmse: 1228.43\tvalid_1's l2: 1.50903e+06\n",
      "[110]\ttraining's rmse: 2992.76\ttraining's l2: 8.95659e+06\tvalid_1's rmse: 1227.8\tvalid_1's l2: 1.50749e+06\n",
      "[120]\ttraining's rmse: 2939.22\ttraining's l2: 8.63901e+06\tvalid_1's rmse: 1227.61\tvalid_1's l2: 1.50703e+06\n",
      "[130]\ttraining's rmse: 2892.26\ttraining's l2: 8.36516e+06\tvalid_1's rmse: 1227.69\tvalid_1's l2: 1.50721e+06\n",
      "Early stopping, best iteration is:\n",
      "[122]\ttraining's rmse: 2930.05\ttraining's l2: 8.58522e+06\tvalid_1's rmse: 1227.26\tvalid_1's l2: 1.50616e+06\n"
     ]
    },
    {
     "data": {
      "text/plain": [
       "'--------2번째 fold는 timeseries_fold2_gbm.pkl에 저장되었습니다.--------\\n\\n'"
      ]
     },
     "metadata": {},
     "output_type": "display_data"
    },
    {
     "data": {
      "text/plain": [
       "'--------3번째 fold의 학습을 시작합니다.--------'"
      ]
     },
     "metadata": {},
     "output_type": "display_data"
    },
    {
     "name": "stdout",
     "output_type": "stream",
     "text": [
      "[LightGBM] [Warning] Auto-choosing row-wise multi-threading, the overhead of testing was 0.011354 seconds.\n",
      "You can set `force_row_wise=true` to remove the overhead.\n",
      "And if memory is not enough, you can set `force_col_wise=true`.\n",
      "[LightGBM] [Info] Total Bins 7942\n",
      "[LightGBM] [Info] Number of data points in the train set: 364302, number of used features: 42\n",
      "[LightGBM] [Info] Start training from score 42853.119055\n",
      "Training until validation scores don't improve for 10 rounds\n",
      "[10]\ttraining's rmse: 36424.5\ttraining's l2: 1.32674e+09\tvalid_1's rmse: 33139\tvalid_1's l2: 1.0982e+09\n",
      "[20]\ttraining's rmse: 13321\ttraining's l2: 1.7745e+08\tvalid_1's rmse: 12585.1\tvalid_1's l2: 1.58385e+08\n",
      "[30]\ttraining's rmse: 5832.67\ttraining's l2: 3.40201e+07\tvalid_1's rmse: 6143.03\tvalid_1's l2: 3.77368e+07\n",
      "[40]\ttraining's rmse: 3848.92\ttraining's l2: 1.48142e+07\tvalid_1's rmse: 4495.89\tvalid_1's l2: 2.0213e+07\n",
      "[50]\ttraining's rmse: 3374.2\ttraining's l2: 1.13852e+07\tvalid_1's rmse: 4300.2\tvalid_1's l2: 1.84917e+07\n",
      "[60]\ttraining's rmse: 3189.02\ttraining's l2: 1.01698e+07\tvalid_1's rmse: 4289.2\tvalid_1's l2: 1.83972e+07\n",
      "Early stopping, best iteration is:\n",
      "[52]\ttraining's rmse: 3326.23\ttraining's l2: 1.10638e+07\tvalid_1's rmse: 4271.54\tvalid_1's l2: 1.8246e+07\n"
     ]
    },
    {
     "data": {
      "text/plain": [
       "'--------3번째 fold는 timeseries_fold3_gbm.pkl에 저장되었습니다.--------\\n\\n'"
      ]
     },
     "metadata": {},
     "output_type": "display_data"
    },
    {
     "data": {
      "text/plain": [
       "'--------4번째 fold의 학습을 시작합니다.--------'"
      ]
     },
     "metadata": {},
     "output_type": "display_data"
    },
    {
     "name": "stdout",
     "output_type": "stream",
     "text": [
      "[LightGBM] [Warning] Auto-choosing row-wise multi-threading, the overhead of testing was 0.012771 seconds.\n",
      "You can set `force_row_wise=true` to remove the overhead.\n",
      "And if memory is not enough, you can set `force_col_wise=true`.\n",
      "[LightGBM] [Info] Total Bins 7996\n",
      "[LightGBM] [Info] Number of data points in the train set: 455377, number of used features: 42\n",
      "[LightGBM] [Info] Start training from score 42374.640265\n",
      "Training until validation scores don't improve for 10 rounds\n",
      "[10]\ttraining's rmse: 35774.5\ttraining's l2: 1.27981e+09\tvalid_1's rmse: 28436.7\tvalid_1's l2: 8.08645e+08\n",
      "[20]\ttraining's rmse: 13072.2\ttraining's l2: 1.70884e+08\tvalid_1's rmse: 10365.1\tvalid_1's l2: 1.07435e+08\n",
      "[30]\ttraining's rmse: 5716.61\ttraining's l2: 3.26796e+07\tvalid_1's rmse: 4928.8\tvalid_1's l2: 2.42931e+07\n",
      "[40]\ttraining's rmse: 3778.9\ttraining's l2: 1.42801e+07\tvalid_1's rmse: 3805.41\tvalid_1's l2: 1.44812e+07\n",
      "[50]\ttraining's rmse: 3328.76\ttraining's l2: 1.10806e+07\tvalid_1's rmse: 3648.19\tvalid_1's l2: 1.33093e+07\n",
      "[60]\ttraining's rmse: 3153.7\ttraining's l2: 9.9458e+06\tvalid_1's rmse: 3637.16\tvalid_1's l2: 1.32289e+07\n",
      "[70]\ttraining's rmse: 3052.67\ttraining's l2: 9.31878e+06\tvalid_1's rmse: 3622.28\tvalid_1's l2: 1.31209e+07\n",
      "[80]\ttraining's rmse: 2975.03\ttraining's l2: 8.85083e+06\tvalid_1's rmse: 3615.6\tvalid_1's l2: 1.30726e+07\n",
      "[90]\ttraining's rmse: 2909.25\ttraining's l2: 8.46371e+06\tvalid_1's rmse: 3609.35\tvalid_1's l2: 1.30274e+07\n",
      "[100]\ttraining's rmse: 2854.42\ttraining's l2: 8.14771e+06\tvalid_1's rmse: 3609.8\tvalid_1's l2: 1.30307e+07\n",
      "[110]\ttraining's rmse: 2793.18\ttraining's l2: 7.80187e+06\tvalid_1's rmse: 3606.76\tvalid_1's l2: 1.30087e+07\n",
      "[120]\ttraining's rmse: 2749.2\ttraining's l2: 7.55811e+06\tvalid_1's rmse: 3600.64\tvalid_1's l2: 1.29646e+07\n",
      "[130]\ttraining's rmse: 2699.11\ttraining's l2: 7.28519e+06\tvalid_1's rmse: 3588.28\tvalid_1's l2: 1.28758e+07\n",
      "[140]\ttraining's rmse: 2660.11\ttraining's l2: 7.0762e+06\tvalid_1's rmse: 3585.4\tvalid_1's l2: 1.28551e+07\n",
      "Early stopping, best iteration is:\n",
      "[133]\ttraining's rmse: 2687.04\ttraining's l2: 7.2202e+06\tvalid_1's rmse: 3583.66\tvalid_1's l2: 1.28426e+07\n"
     ]
    },
    {
     "data": {
      "text/plain": [
       "'--------4번째 fold는 timeseries_fold4_gbm.pkl에 저장되었습니다.--------\\n\\n'"
      ]
     },
     "metadata": {},
     "output_type": "display_data"
    }
   ],
   "source": [
    "# 학습을 진행합니다.\n",
    "\n",
    "fold_save_files = []\n",
    "\n",
    "for fold_idx, (train_idx, valid_idx) in enumerate(train_folds):\n",
    "    display(f\"--------{fold_idx}번째 fold의 학습을 시작합니다.--------\")\n",
    "\n",
    "    # index를 통해 fold의 학습세트를 가져옵니다.\n",
    "    X_train_fold = X_train.iloc[train_idx, :]\n",
    "    Y_train_fold = Y_train[train_idx]\n",
    "\n",
    "    # index를 통해 fold의 평가세트를 가져옵니다.\n",
    "    X_valid_fold = X_train.iloc[valid_idx, :]\n",
    "    Y_valid_fold = Y_train[valid_idx]\n",
    "\n",
    "    # fold의 데이터로 학습을 진행합니다.\n",
    "    gbm = lgb.LGBMRegressor(n_estimators=1000)\n",
    "    gbm.fit(X_train_fold, Y_train_fold,                                               # 학습 데이터를 입력합니다.\n",
    "        eval_set=[(X_train_fold, Y_train_fold), (X_valid_fold, Y_valid_fold)], # 평가셋을 지정합니다.\n",
    "        eval_metric ='rmse',                                                               # 평가과정에서 사용할 평가함수를 지정합니다.\n",
    "        callbacks=[lgb.early_stopping(stopping_rounds=10),                                  # 10번의 성능향상이 없을 경우, 학습을 멈춥니다.\n",
    "                   lgb.log_evaluation(period=10, show_stdv=True)]                           # 매 iteration마다 학습결과를 출력합니다.\n",
    "    )\n",
    "\n",
    "    # 각 fold별 학습한 모델을 저장합니다.\n",
    "    file_name = f\"timeseries_fold{fold_idx}_gbm.pkl\"\n",
    "    joblib.dump(gbm, file_name)\n",
    "    display(f\"--------{fold_idx}번째 fold는 {file_name}에 저장되었습니다.--------\\n\\n\")\n",
    "    fold_save_files.append(file_name)\n"
   ]
  },
  {
   "cell_type": "code",
   "execution_count": 66,
   "metadata": {
    "colab": {
     "base_uri": "https://localhost:8080/"
    },
    "executionInfo": {
     "elapsed": 6,
     "status": "ok",
     "timestamp": 1696319729635,
     "user": {
      "displayName": "이동빈",
      "userId": "02086753221575393526"
     },
     "user_tz": -540
    },
    "id": "fG7AO-4X97CP",
    "outputId": "ecf494b3-593d-4d69-e0ad-3dc85b7d823b"
   },
   "outputs": [
    {
     "data": {
      "text/plain": [
       "'timeseries_fold0_gbm.pkl - Test rmse : 7533.697929290577'"
      ]
     },
     "metadata": {},
     "output_type": "display_data"
    },
    {
     "data": {
      "text/plain": [
       "'timeseries_fold1_gbm.pkl - Test rmse : 3513.3011589699204'"
      ]
     },
     "metadata": {},
     "output_type": "display_data"
    },
    {
     "data": {
      "text/plain": [
       "'timeseries_fold2_gbm.pkl - Test rmse : 3640.7054445984413'"
      ]
     },
     "metadata": {},
     "output_type": "display_data"
    },
    {
     "data": {
      "text/plain": [
       "'timeseries_fold3_gbm.pkl - Test rmse : 4140.965932922118'"
      ]
     },
     "metadata": {},
     "output_type": "display_data"
    },
    {
     "data": {
      "text/plain": [
       "'timeseries_fold4_gbm.pkl - Test rmse : 3656.298917638036'"
      ]
     },
     "metadata": {},
     "output_type": "display_data"
    },
    {
     "data": {
      "text/plain": [
       "'최종 Test rmse : 3636.231624841337'"
      ]
     },
     "metadata": {},
     "output_type": "display_data"
    }
   ],
   "source": [
    "# 저장한 학습모델들을 불러와, Testset에 대한 추론을 진행합니다.\n",
    "# 각 fold의 예측결과를 평균을 취하는 방식으로 진행합니다.\n",
    "total_predicts = np.zeros(len(X_test))\n",
    "\n",
    "for file_name in fold_save_files:\n",
    "    gbm_trained = joblib.load(file_name)\n",
    "    fold_predicts = gbm_trained.predict(X_test)\n",
    "\n",
    "    # 각 fold의 rmse를 측정합니다.\n",
    "    RMSE = mean_squared_error(Y_test, fold_predicts)**0.5\n",
    "    display(f\"{file_name} - Test rmse : {RMSE}\")\n",
    "\n",
    "    total_predicts += fold_predicts / len(fold_save_files)\n",
    "\n",
    "RMSE = mean_squared_error(Y_test, total_predicts)**0.5\n",
    "display(f\"최종 Test rmse : {RMSE}\")"
   ]
  },
  {
   "cell_type": "code",
   "execution_count": 67,
   "metadata": {
    "colab": {
     "base_uri": "https://localhost:8080/"
    },
    "executionInfo": {
     "elapsed": 5,
     "status": "ok",
     "timestamp": 1696319729635,
     "user": {
      "displayName": "이동빈",
      "userId": "02086753221575393526"
     },
     "user_tz": -540
    },
    "id": "-s67kvjH97CP",
    "outputId": "cfc309f2-a9bf-4bbe-9677-9a339880c172"
   },
   "outputs": [
    {
     "data": {
      "text/plain": [
       "'timeseries_fold0_gbm.pkl - Test rmse : 7533.697929290577'"
      ]
     },
     "metadata": {},
     "output_type": "display_data"
    },
    {
     "data": {
      "text/plain": [
       "'timeseries_fold2_gbm.pkl - Test rmse : 3640.7054445984413'"
      ]
     },
     "metadata": {},
     "output_type": "display_data"
    },
    {
     "data": {
      "text/plain": [
       "'timeseries_fold4_gbm.pkl - Test rmse : 3656.298917638036'"
      ]
     },
     "metadata": {},
     "output_type": "display_data"
    },
    {
     "data": {
      "text/plain": [
       "'최종 Test rmse : 4117.057315872517'"
      ]
     },
     "metadata": {},
     "output_type": "display_data"
    }
   ],
   "source": [
    "# 위 학습 로그에서 검증세트를 기준으로 rmse가 가장 낮은 3개의 모델을 선택후 추론을 진행합니다.\n",
    "top_3_files = [\"timeseries_fold0_gbm.pkl\", \"timeseries_fold2_gbm.pkl\", \"timeseries_fold4_gbm.pkl\"]\n",
    "total_predicts = np.zeros(len(X_test))\n",
    "\n",
    "for file_name in top_3_files:\n",
    "    gbm_trained = joblib.load(file_name)\n",
    "    fold_predicts = gbm_trained.predict(X_test)\n",
    "\n",
    "    # 각 fold의 rmse를 측정합니다.\n",
    "    RMSE = mean_squared_error(Y_test, fold_predicts)**0.5\n",
    "    display(f\"{file_name} - Test rmse : {RMSE}\")\n",
    "\n",
    "    total_predicts += fold_predicts / len(top_3_files)\n",
    "\n",
    "RMSE = mean_squared_error(Y_test, total_predicts)**0.5\n",
    "display(f\"최종 Test rmse : {RMSE}\")"
   ]
  },
  {
   "cell_type": "markdown",
   "metadata": {
    "id": "5Di4JCZb97CP"
   },
   "source": [
    "- Time-Series Split 학습의 최종결과는 아래와 같습니다.\n",
    "  - Training Time : 33.2 s\n",
    "  - Train RMSE : fold마다 다름\n",
    "  - Valid RMSE : fold마다 다름\n",
    "  - Test RMSE(ALL) : 3295.32\n",
    "  - Test RMSE(Top3) : 3211.75\n",
    "  - Test RMSE(Top1) : 3385.43\n",
    "\n",
    "- 현재까지 분할 별 Test RMSE 결과는 아래와 같습니다.\n",
    "  - Holdout : 3487.40\n",
    "  - KFold(Top3) : 3243.60\n",
    "  - Stratified KFold(Top) : 3237.07\n",
    "  - 종목별 Group KFold(Top3) : 3442.06\n",
    "  - 산업군별 Group KFold(Top3) : 3288.77\n",
    "  - TimeSeries KFold(Top3) : 3211.75"
   ]
  },
  {
   "cell_type": "markdown",
   "metadata": {
    "id": "uCBq6d2tjkaf"
   },
   "source": [
    "❗ **최종적으로 아래와 같은 결과를 얻을 수 있습니다.**\n",
    "\n",
    "\n",
    "| Method                 | Training Time | Test RMSE (ALL) | Test RMSE (Top3) | Test RMSE (Top1) |\n",
    "|------------------------|---------------|-----------------|------------------|------------------|\n",
    "| Holdout                | 29.9s         | 3487.40         | -                | -                |\n",
    "| K-Fold                 | 40.5s         | 5290.11         | 3243.60          | 3447.76          |\n",
    "| StratifiedKfold        | 101s      | 3292.13         | 3357.02          | 3237.07          |\n",
    "| 종목별 Group Kfold      | 50s           | 4912.87         | 3442.06          | 3637.26          |\n",
    "| 산업군별 Group Kfold     | 44.7s         | 3529.99         | 3288.77          | 3347.86          |\n",
    "| Time-Series Split      | 33.2s         | 3295.32         | 3211.75          | 3385.43          |\n",
    "\n",
    "\n",
    "- 주가데이터의 형태와 비슷한 Time-Series Split이 가장 좋은 성능을 보였습니다.\n",
    "- 따라서, 주어진 데이터를 분석하고 도메인에 맞는 분할을 적용하는 것이 중요합니다."
   ]
  },
  {
   "cell_type": "markdown",
   "metadata": {
    "id": "2nhiICCb97CP"
   },
   "source": [
    "#### 📚 자료\n",
    "\n",
    "- [TimeSeriesSplit - Scikit-Learn 공식문서](https://scikit-learn.org/stable/modules/generated/sklearn.model_selection.TimeSeriesSplit.html#sklearn.model_selection.TimeSeriesSplit)"
   ]
  },
  {
   "cell_type": "markdown",
   "metadata": {
    "id": "tZM86QtqqLmx"
   },
   "source": [
    "### Appendix. Time-Series Split (Split by Time index)\n"
   ]
  },
  {
   "cell_type": "markdown",
   "metadata": {
    "id": "rJ1hYIblqLmy"
   },
   "source": [
    "#### 📝 설명 : Appendix\n",
    "\n",
    "- 위 시계열 분할 과정에 대해, 데이터를 \"TimeSeries 정렬\"로 분할하여 학습을 진행하는 과정입니다.\n",
    "\n",
    "<br>\n",
    "<img src=\"https://velog.velcdn.com/images/dlehd1989/post/eedadef4-631b-4684-ad65-899db85192d9/image.png\">\n",
    "<br>\n"
   ]
  },
  {
   "cell_type": "markdown",
   "metadata": {
    "id": "1tUChQFUqLmy"
   },
   "source": [
    "#### 👨‍💻 코드 : Appendix\n"
   ]
  },
  {
   "cell_type": "code",
   "execution_count": 68,
   "metadata": {
    "executionInfo": {
     "elapsed": 11,
     "status": "ok",
     "timestamp": 1698150886818,
     "user": {
      "displayName": "이동빈",
      "userId": "02086753221575393526"
     },
     "user_tz": -540
    },
    "id": "9Jy0H5qgqLmy"
   },
   "outputs": [],
   "source": [
    "# TimeSeriesSplit 함수를 선언합니다.\n",
    "kf = TimeSeriesSplit(n_splits=5)"
   ]
  },
  {
   "cell_type": "code",
   "execution_count": 69,
   "metadata": {
    "executionInfo": {
     "elapsed": 353,
     "status": "ok",
     "timestamp": 1698151060208,
     "user": {
      "displayName": "이동빈",
      "userId": "02086753221575393526"
     },
     "user_tz": -540
    },
    "id": "wvKKHI2Tqz0P"
   },
   "outputs": [],
   "source": [
    "# 시간순 정렬을 위해 이전에 저장해두었던 시간정보를 붙입니다.\n",
    "X_train['Date'] = date_list\n",
    "\n",
    "X_train = X_train.sort_values(by='Date') # 시간순으로 정렬합니다.\n",
    "Y_train = Y_train.reindex(X_train.index) # 정렬된 X_train의 인덱스에 맞추어 Y_train도 정렬해줍니다.\n",
    "\n",
    "X_train = X_train.reset_index(drop=True) # 인덱스를 재정렬 해줍니다.\n",
    "Y_train = Y_train.reset_index(drop=True)\n",
    "\n",
    "del X_train['Date'] # 시간에 대한 정보를 지웁니다."
   ]
  },
  {
   "cell_type": "code",
   "execution_count": 70,
   "metadata": {
    "colab": {
     "base_uri": "https://localhost:8080/",
     "height": 769
    },
    "executionInfo": {
     "elapsed": 39826,
     "status": "ok",
     "timestamp": 1698151102017,
     "user": {
      "displayName": "이동빈",
      "userId": "02086753221575393526"
     },
     "user_tz": -540
    },
    "id": "iqLEb0yPqLmy",
    "outputId": "6145a800-8004-4062-f842-be12adb25611"
   },
   "outputs": [
    {
     "name": "stdout",
     "output_type": "stream",
     "text": [
      "Fold 0 :\n",
      "  Train : index=[0 1 2 3 4]...\n",
      "  Valid : index=[91077 91078 91079 91080 91081]...\n",
      "Fold 1 :\n",
      "  Train : index=[0 1 2 3 4]...\n",
      "  Valid : index=[182152 182153 182154 182155 182156]...\n",
      "Fold 2 :\n",
      "  Train : index=[0 1 2 3 4]...\n",
      "  Valid : index=[273227 273228 273229 273230 273231]...\n",
      "Fold 3 :\n",
      "  Train : index=[0 1 2 3 4]...\n",
      "  Valid : index=[364302 364303 364304 364305 364306]...\n",
      "Fold 4 :\n",
      "  Train : index=[0 1 2 3 4]...\n",
      "  Valid : index=[455377 455378 455379 455380 455381]...\n"
     ]
    },
    {
     "data": {
      "text/plain": [
       "<Axes: title={'center': 'Time-Series K-Fold'}, xlabel='Sample index', ylabel='CV iteration'>"
      ]
     },
     "execution_count": 70,
     "metadata": {},
     "output_type": "execute_result"
    },
    {
     "data": {
      "image/png": "[encoded data removed]",
      "text/plain": [
       "<Figure size 640x480 with 1 Axes>"
      ]
     },
     "metadata": {},
     "output_type": "display_data"
    }
   ],
   "source": [
    "# TimeSeriesSplit를 시각화합니다.\n",
    "fig, ax = plt.subplots()\n",
    "plot_cv_indices(x=X_train,\n",
    "                y=Y_train,\n",
    "                cv=kf,\n",
    "                ax=ax,\n",
    "                split_strategy='Time-Series K-Fold')"
   ]
  },
  {
   "cell_type": "code",
   "execution_count": 71,
   "metadata": {
    "colab": {
     "base_uri": "https://localhost:8080/",
     "height": 35
    },
    "executionInfo": {
     "elapsed": 4,
     "status": "ok",
     "timestamp": 1698151102880,
     "user": {
      "displayName": "이동빈",
      "userId": "02086753221575393526"
     },
     "user_tz": -540
    },
    "id": "iWygN9xdqLmy",
    "outputId": "2760b0ae-afea-43b2-f339-a6b9f5530fe3"
   },
   "outputs": [
    {
     "data": {
      "text/plain": [
       "<generator object TimeSeriesSplit.split at 0x286c11d00>"
      ]
     },
     "metadata": {},
     "output_type": "display_data"
    }
   ],
   "source": [
    "# 학습 데이터를 TimeSeriesSplit로 나눕니다.\n",
    "train_folds = kf.split(X_train, Y_train)\n",
    "display(train_folds)"
   ]
  },
  {
   "cell_type": "code",
   "execution_count": 72,
   "metadata": {
    "colab": {
     "base_uri": "https://localhost:8080/",
     "height": 1000
    },
    "executionInfo": {
     "elapsed": 33204,
     "status": "ok",
     "timestamp": 1698151136081,
     "user": {
      "displayName": "이동빈",
      "userId": "02086753221575393526"
     },
     "user_tz": -540
    },
    "id": "lzar768-qLmz",
    "outputId": "3a5cbc78-fe04-4cb0-d74f-67daab5994d7"
   },
   "outputs": [
    {
     "data": {
      "text/plain": [
       "'--------0번째 fold의 학습을 시작합니다.--------'"
      ]
     },
     "metadata": {},
     "output_type": "display_data"
    },
    {
     "name": "stdout",
     "output_type": "stream",
     "text": [
      "[LightGBM] [Warning] Auto-choosing row-wise multi-threading, the overhead of testing was 0.002287 seconds.\n",
      "You can set `force_row_wise=true` to remove the overhead.\n",
      "And if memory is not enough, you can set `force_col_wise=true`.\n",
      "[LightGBM] [Info] Total Bins 8119\n",
      "[LightGBM] [Info] Number of data points in the train set: 91077, number of used features: 41\n",
      "[LightGBM] [Info] Start training from score 36928.834514\n",
      "Training until validation scores don't improve for 10 rounds\n",
      "[10]\ttraining's rmse: 33560.2\ttraining's l2: 1.12629e+09\tvalid_1's rmse: 43470.5\tvalid_1's l2: 1.88969e+09\n",
      "[20]\ttraining's rmse: 12044.5\ttraining's l2: 1.45071e+08\tvalid_1's rmse: 19788.6\tvalid_1's l2: 3.9159e+08\n",
      "[30]\ttraining's rmse: 4899.54\ttraining's l2: 2.40055e+07\tvalid_1's rmse: 13024.8\tvalid_1's l2: 1.69645e+08\n",
      "[40]\ttraining's rmse: 2894.97\ttraining's l2: 8.38083e+06\tvalid_1's rmse: 11431.3\tvalid_1's l2: 1.30675e+08\n",
      "[50]\ttraining's rmse: 2419.94\ttraining's l2: 5.8561e+06\tvalid_1's rmse: 11000.5\tvalid_1's l2: 1.21011e+08\n",
      "[60]\ttraining's rmse: 2254.85\ttraining's l2: 5.08436e+06\tvalid_1's rmse: 10916.8\tvalid_1's l2: 1.19177e+08\n",
      "[70]\ttraining's rmse: 2145.66\ttraining's l2: 4.60386e+06\tvalid_1's rmse: 10854.3\tvalid_1's l2: 1.17817e+08\n",
      "Early stopping, best iteration is:\n",
      "[69]\ttraining's rmse: 2156.48\ttraining's l2: 4.65042e+06\tvalid_1's rmse: 10848.9\tvalid_1's l2: 1.17699e+08\n"
     ]
    },
    {
     "data": {
      "text/plain": [
       "'--------0번째 fold는 timeseries_fold0_gbm.pkl에 저장되었습니다.--------\\n\\n'"
      ]
     },
     "metadata": {},
     "output_type": "display_data"
    },
    {
     "data": {
      "text/plain": [
       "'--------1번째 fold의 학습을 시작합니다.--------'"
      ]
     },
     "metadata": {},
     "output_type": "display_data"
    },
    {
     "name": "stdout",
     "output_type": "stream",
     "text": [
      "[LightGBM] [Warning] Auto-choosing row-wise multi-threading, the overhead of testing was 0.004657 seconds.\n",
      "You can set `force_row_wise=true` to remove the overhead.\n",
      "And if memory is not enough, you can set `force_col_wise=true`.\n",
      "[LightGBM] [Info] Total Bins 8134\n",
      "[LightGBM] [Info] Number of data points in the train set: 182152, number of used features: 42\n",
      "[LightGBM] [Info] Start training from score 41859.213113\n",
      "Training until validation scores don't improve for 10 rounds\n",
      "[10]\ttraining's rmse: 37138.5\ttraining's l2: 1.37927e+09\tvalid_1's rmse: 35552\tvalid_1's l2: 1.26394e+09\n",
      "[20]\ttraining's rmse: 13464.7\ttraining's l2: 1.81298e+08\tvalid_1's rmse: 12500.3\tvalid_1's l2: 1.56258e+08\n",
      "[30]\ttraining's rmse: 5699.86\ttraining's l2: 3.24884e+07\tvalid_1's rmse: 9824.41\tvalid_1's l2: 9.6519e+07\n",
      "Early stopping, best iteration is:\n",
      "[28]\ttraining's rmse: 6603.38\ttraining's l2: 4.36046e+07\tvalid_1's rmse: 9698.8\tvalid_1's l2: 9.40668e+07\n"
     ]
    },
    {
     "data": {
      "text/plain": [
       "'--------1번째 fold는 timeseries_fold1_gbm.pkl에 저장되었습니다.--------\\n\\n'"
      ]
     },
     "metadata": {},
     "output_type": "display_data"
    },
    {
     "data": {
      "text/plain": [
       "'--------2번째 fold의 학습을 시작합니다.--------'"
      ]
     },
     "metadata": {},
     "output_type": "display_data"
    },
    {
     "name": "stdout",
     "output_type": "stream",
     "text": [
      "[LightGBM] [Warning] Auto-choosing row-wise multi-threading, the overhead of testing was 0.007605 seconds.\n",
      "You can set `force_row_wise=true` to remove the overhead.\n",
      "And if memory is not enough, you can set `force_col_wise=true`.\n",
      "[LightGBM] [Info] Total Bins 8137\n",
      "[LightGBM] [Info] Number of data points in the train set: 273227, number of used features: 42\n",
      "[LightGBM] [Info] Start training from score 43752.054797\n",
      "Training until validation scores don't improve for 10 rounds\n",
      "[10]\ttraining's rmse: 37879\ttraining's l2: 1.43482e+09\tvalid_1's rmse: 31169.6\tvalid_1's l2: 9.71544e+08\n",
      "[20]\ttraining's rmse: 13792.2\ttraining's l2: 1.90226e+08\tvalid_1's rmse: 12912.1\tvalid_1's l2: 1.66723e+08\n",
      "[30]\ttraining's rmse: 5950.1\ttraining's l2: 3.54037e+07\tvalid_1's rmse: 9952.94\tvalid_1's l2: 9.90609e+07\n",
      "[40]\ttraining's rmse: 3865.82\ttraining's l2: 1.49446e+07\tvalid_1's rmse: 10102\tvalid_1's l2: 1.0205e+08\n",
      "Early stopping, best iteration is:\n",
      "[32]\ttraining's rmse: 5260.76\ttraining's l2: 2.76756e+07\tvalid_1's rmse: 9892.21\tvalid_1's l2: 9.78558e+07\n"
     ]
    },
    {
     "data": {
      "text/plain": [
       "'--------2번째 fold는 timeseries_fold2_gbm.pkl에 저장되었습니다.--------\\n\\n'"
      ]
     },
     "metadata": {},
     "output_type": "display_data"
    },
    {
     "data": {
      "text/plain": [
       "'--------3번째 fold의 학습을 시작합니다.--------'"
      ]
     },
     "metadata": {},
     "output_type": "display_data"
    },
    {
     "name": "stdout",
     "output_type": "stream",
     "text": [
      "[LightGBM] [Warning] Auto-choosing row-wise multi-threading, the overhead of testing was 0.009004 seconds.\n",
      "You can set `force_row_wise=true` to remove the overhead.\n",
      "And if memory is not enough, you can set `force_col_wise=true`.\n",
      "[LightGBM] [Info] Total Bins 8137\n",
      "[LightGBM] [Info] Number of data points in the train set: 364302, number of used features: 42\n",
      "[LightGBM] [Info] Start training from score 43294.109972\n",
      "Training until validation scores don't improve for 10 rounds\n",
      "[10]\ttraining's rmse: 36560.7\ttraining's l2: 1.33668e+09\tvalid_1's rmse: 30377.9\tvalid_1's l2: 9.22817e+08\n",
      "[20]\ttraining's rmse: 13367\ttraining's l2: 1.78675e+08\tvalid_1's rmse: 11269.5\tvalid_1's l2: 1.27001e+08\n",
      "[30]\ttraining's rmse: 5853.07\ttraining's l2: 3.42584e+07\tvalid_1's rmse: 5251.98\tvalid_1's l2: 2.75833e+07\n",
      "[40]\ttraining's rmse: 3876.27\ttraining's l2: 1.50254e+07\tvalid_1's rmse: 3882.32\tvalid_1's l2: 1.50724e+07\n",
      "[50]\ttraining's rmse: 3397.22\ttraining's l2: 1.15411e+07\tvalid_1's rmse: 3651.48\tvalid_1's l2: 1.33333e+07\n",
      "[60]\ttraining's rmse: 3219.64\ttraining's l2: 1.03661e+07\tvalid_1's rmse: 3603.6\tvalid_1's l2: 1.29859e+07\n",
      "[70]\ttraining's rmse: 3098.08\ttraining's l2: 9.59808e+06\tvalid_1's rmse: 3625.34\tvalid_1's l2: 1.31431e+07\n",
      "Early stopping, best iteration is:\n",
      "[60]\ttraining's rmse: 3219.64\ttraining's l2: 1.03661e+07\tvalid_1's rmse: 3603.6\tvalid_1's l2: 1.29859e+07\n"
     ]
    },
    {
     "data": {
      "text/plain": [
       "'--------3번째 fold는 timeseries_fold3_gbm.pkl에 저장되었습니다.--------\\n\\n'"
      ]
     },
     "metadata": {},
     "output_type": "display_data"
    },
    {
     "data": {
      "text/plain": [
       "'--------4번째 fold의 학습을 시작합니다.--------'"
      ]
     },
     "metadata": {},
     "output_type": "display_data"
    },
    {
     "name": "stdout",
     "output_type": "stream",
     "text": [
      "[LightGBM] [Warning] Auto-choosing row-wise multi-threading, the overhead of testing was 0.011554 seconds.\n",
      "You can set `force_row_wise=true` to remove the overhead.\n",
      "And if memory is not enough, you can set `force_col_wise=true`.\n",
      "[LightGBM] [Info] Total Bins 8139\n",
      "[LightGBM] [Info] Number of data points in the train set: 455377, number of used features: 42\n",
      "[LightGBM] [Info] Start training from score 42313.000169\n",
      "Training until validation scores don't improve for 10 rounds\n",
      "[10]\ttraining's rmse: 35427.7\ttraining's l2: 1.25512e+09\tvalid_1's rmse: 30780\tvalid_1's l2: 9.47407e+08\n",
      "[20]\ttraining's rmse: 12974.4\ttraining's l2: 1.68335e+08\tvalid_1's rmse: 11408.2\tvalid_1's l2: 1.30148e+08\n",
      "[30]\ttraining's rmse: 5721.45\ttraining's l2: 3.2735e+07\tvalid_1's rmse: 5326.92\tvalid_1's l2: 2.83761e+07\n",
      "[40]\ttraining's rmse: 3840.61\ttraining's l2: 1.47503e+07\tvalid_1's rmse: 3907.13\tvalid_1's l2: 1.52657e+07\n",
      "[50]\ttraining's rmse: 3405.92\ttraining's l2: 1.16003e+07\tvalid_1's rmse: 3625.68\tvalid_1's l2: 1.31455e+07\n",
      "[60]\ttraining's rmse: 3243.18\ttraining's l2: 1.05182e+07\tvalid_1's rmse: 3575.67\tvalid_1's l2: 1.27854e+07\n",
      "[70]\ttraining's rmse: 3137.35\ttraining's l2: 9.84299e+06\tvalid_1's rmse: 3551.5\tvalid_1's l2: 1.26132e+07\n",
      "[80]\ttraining's rmse: 3055.4\ttraining's l2: 9.33545e+06\tvalid_1's rmse: 3552.11\tvalid_1's l2: 1.26175e+07\n",
      "[90]\ttraining's rmse: 2988.83\ttraining's l2: 8.93309e+06\tvalid_1's rmse: 3548.51\tvalid_1's l2: 1.25919e+07\n",
      "[100]\ttraining's rmse: 2914.73\ttraining's l2: 8.49565e+06\tvalid_1's rmse: 3533.7\tvalid_1's l2: 1.2487e+07\n",
      "[110]\ttraining's rmse: 2858.51\ttraining's l2: 8.17105e+06\tvalid_1's rmse: 3529.36\tvalid_1's l2: 1.24564e+07\n",
      "Early stopping, best iteration is:\n",
      "[109]\ttraining's rmse: 2867.53\ttraining's l2: 8.2227e+06\tvalid_1's rmse: 3527.76\tvalid_1's l2: 1.24451e+07\n"
     ]
    },
    {
     "data": {
      "text/plain": [
       "'--------4번째 fold는 timeseries_fold4_gbm.pkl에 저장되었습니다.--------\\n\\n'"
      ]
     },
     "metadata": {},
     "output_type": "display_data"
    }
   ],
   "source": [
    "# 학습을 진행합니다.\n",
    "\n",
    "fold_save_files = []\n",
    "\n",
    "for fold_idx, (train_idx, valid_idx) in enumerate(train_folds):\n",
    "    display(f\"--------{fold_idx}번째 fold의 학습을 시작합니다.--------\")\n",
    "\n",
    "    # index를 통해 fold의 학습세트를 가져옵니다.\n",
    "    X_train_fold = X_train.iloc[train_idx, :]\n",
    "    Y_train_fold = Y_train[train_idx]\n",
    "\n",
    "    # index를 통해 fold의 평가세트를 가져옵니다.\n",
    "    X_valid_fold = X_train.iloc[valid_idx, :]\n",
    "    Y_valid_fold = Y_train[valid_idx]\n",
    "\n",
    "    # fold의 데이터로 학습을 진행합니다.\n",
    "    gbm = lgb.LGBMRegressor(n_estimators=1000)\n",
    "    gbm.fit(X_train_fold, Y_train_fold,                                               # 학습 데이터를 입력합니다.\n",
    "        eval_set=[(X_train_fold, Y_train_fold), (X_valid_fold, Y_valid_fold)], # 평가셋을 지정합니다.\n",
    "        eval_metric ='rmse',                                                               # 평가과정에서 사용할 평가함수를 지정합니다.\n",
    "        callbacks=[lgb.early_stopping(stopping_rounds=10),                                  # 10번의 성능향상이 없을 경우, 학습을 멈춥니다.\n",
    "                   lgb.log_evaluation(period=10, show_stdv=True)]                           # 매 iteration마다 학습결과를 출력합니다.\n",
    "    )\n",
    "\n",
    "    # 각 fold별 학습한 모델을 저장합니다.\n",
    "    file_name = f\"timeseries_fold{fold_idx}_gbm.pkl\"\n",
    "    joblib.dump(gbm, file_name)\n",
    "    display(f\"--------{fold_idx}번째 fold는 {file_name}에 저장되었습니다.--------\\n\\n\")\n",
    "    fold_save_files.append(file_name)\n"
   ]
  },
  {
   "cell_type": "code",
   "execution_count": 73,
   "metadata": {
    "colab": {
     "base_uri": "https://localhost:8080/",
     "height": 128
    },
    "executionInfo": {
     "elapsed": 495,
     "status": "ok",
     "timestamp": 1698151136566,
     "user": {
      "displayName": "이동빈",
      "userId": "02086753221575393526"
     },
     "user_tz": -540
    },
    "id": "lt4wlFniqLmz",
    "outputId": "8e9ad338-dc76-4228-e3ea-5ce2943c6925"
   },
   "outputs": [
    {
     "data": {
      "text/plain": [
       "'timeseries_fold0_gbm.pkl - Test rmse : 32535.057330263837'"
      ]
     },
     "metadata": {},
     "output_type": "display_data"
    },
    {
     "data": {
      "text/plain": [
       "'timeseries_fold1_gbm.pkl - Test rmse : 8312.447774355289'"
      ]
     },
     "metadata": {},
     "output_type": "display_data"
    },
    {
     "data": {
      "text/plain": [
       "'timeseries_fold2_gbm.pkl - Test rmse : 4792.321715339006'"
      ]
     },
     "metadata": {},
     "output_type": "display_data"
    },
    {
     "data": {
      "text/plain": [
       "'timeseries_fold3_gbm.pkl - Test rmse : 3682.0384317728863'"
      ]
     },
     "metadata": {},
     "output_type": "display_data"
    },
    {
     "data": {
      "text/plain": [
       "'timeseries_fold4_gbm.pkl - Test rmse : 3587.9300777756707'"
      ]
     },
     "metadata": {},
     "output_type": "display_data"
    },
    {
     "data": {
      "text/plain": [
       "'최종 Test rmse : 8445.220911697392'"
      ]
     },
     "metadata": {},
     "output_type": "display_data"
    }
   ],
   "source": [
    "# 저장한 학습모델들을 불러와, Testset에 대한 추론을 진행합니다.\n",
    "# 각 fold의 예측결과를 평균을 취하는 방식으로 진행합니다.\n",
    "total_predicts = np.zeros(len(X_test))\n",
    "\n",
    "for file_name in fold_save_files:\n",
    "    gbm_trained = joblib.load(file_name)\n",
    "    fold_predicts = gbm_trained.predict(X_test)\n",
    "\n",
    "    # 각 fold의 rmse를 측정합니다.\n",
    "    RMSE = mean_squared_error(Y_test, fold_predicts)**0.5\n",
    "    display(f\"{file_name} - Test rmse : {RMSE}\")\n",
    "\n",
    "    total_predicts += fold_predicts / len(fold_save_files)\n",
    "\n",
    "RMSE = mean_squared_error(Y_test, total_predicts)**0.5\n",
    "display(f\"최종 Test rmse : {RMSE}\")"
   ]
  },
  {
   "cell_type": "code",
   "execution_count": 74,
   "metadata": {
    "colab": {
     "base_uri": "https://localhost:8080/",
     "height": 91
    },
    "executionInfo": {
     "elapsed": 3,
     "status": "ok",
     "timestamp": 1698151174321,
     "user": {
      "displayName": "이동빈",
      "userId": "02086753221575393526"
     },
     "user_tz": -540
    },
    "id": "G8BoV6AHqLmz",
    "outputId": "6fe5b3cb-944b-45ee-f975-c98a3e946489"
   },
   "outputs": [
    {
     "data": {
      "text/plain": [
       "'timeseries_fold2_gbm.pkl - Test rmse : 4792.321715339006'"
      ]
     },
     "metadata": {},
     "output_type": "display_data"
    },
    {
     "data": {
      "text/plain": [
       "'timeseries_fold3_gbm.pkl - Test rmse : 3682.0384317728863'"
      ]
     },
     "metadata": {},
     "output_type": "display_data"
    },
    {
     "data": {
      "text/plain": [
       "'timeseries_fold4_gbm.pkl - Test rmse : 3587.9300777756707'"
      ]
     },
     "metadata": {},
     "output_type": "display_data"
    },
    {
     "data": {
      "text/plain": [
       "'최종 Test rmse : 3607.4574120697384'"
      ]
     },
     "metadata": {},
     "output_type": "display_data"
    }
   ],
   "source": [
    "# 위 학습 로그에서 검증세트를 기준으로 rmse가 가장 낮은 3개의 모델을 선택후 추론을 진행합니다.\n",
    "top_3_files = [\"timeseries_fold2_gbm.pkl\", \"timeseries_fold3_gbm.pkl\", \"timeseries_fold4_gbm.pkl\"]\n",
    "total_predicts = np.zeros(len(X_test))\n",
    "\n",
    "for file_name in top_3_files:\n",
    "    gbm_trained = joblib.load(file_name)\n",
    "    fold_predicts = gbm_trained.predict(X_test)\n",
    "\n",
    "    # 각 fold의 rmse를 측정합니다.\n",
    "    RMSE = mean_squared_error(Y_test, fold_predicts)**0.5\n",
    "    display(f\"{file_name} - Test rmse : {RMSE}\")\n",
    "\n",
    "    total_predicts += fold_predicts / len(top_3_files)\n",
    "\n",
    "RMSE = mean_squared_error(Y_test, total_predicts)**0.5\n",
    "display(f\"최종 Test rmse : {RMSE}\")"
   ]
  },
  {
   "cell_type": "markdown",
   "metadata": {
    "id": "EYzqF3iAqLmz"
   },
   "source": [
    "# - 시간순으로 정렬된 Time-Series Split 학습의 최종결과는 아래와 같습니다.\n",
    "  - Training Time : 33.2 s\n",
    "  - Train RMSE : fold마다 다름\n",
    "  - Valid RMSE : fold마다 다름\n",
    "  - Test RMSE(ALL) : 8570.08\n",
    "  - Test RMSE(Top3) : 3578.11\n",
    "  - Test RMSE(Top1) : 3442.75\n",
    "\n",
    "- 현재까지 분할 별 Test RMSE 결과는 아래와 같습니다.\n",
    "  - Holdout : 3487.40\n",
    "  - KFold(Top3) : 3243.60\n",
    "  - Stratified KFold(Top) : 3237.07\n",
    "  - 종목별 Group KFold(Top3) : 3442.06\n",
    "  - 산업군별 Group KFold(Top3) : 3288.77\n",
    "  - TimeSeries KFold(Top3) : 3211.75\n",
    "  - 시간정렬 TimeSeries KFold(Top1) : 3442.75"
   ]
  },
  {
   "cell_type": "markdown",
   "metadata": {
    "id": "7WUGKuubqLmz"
   },
   "source": [
    "❗ **최종적으로 아래와 같은 결과를 얻을 수 있습니다.**\n",
    "\n",
    "\n",
    "| Method                 | Training Time | Test RMSE (ALL) | Test RMSE (Top3) | Test RMSE (Top1) |\n",
    "|------------------------|---------------|-----------------|------------------|------------------|\n",
    "| Holdout                | 29.9s         | 3487.40         | -                | -                |\n",
    "| K-Fold                 | 40.5s         | 5290.11         | 3243.60          | 3447.76          |\n",
    "| StratifiedKfold        | 101s      | 3292.13         | 3357.02          | 3237.07          |\n",
    "| 종목별 Group Kfold      | 50s           | 4912.87         | 3442.06          | 3637.26          |\n",
    "| 산업군별 Group Kfold     | 44.7s         | 3529.99         | 3288.77          | 3347.86          |\n",
    "| Time-Series Split      | 33.2s         | 3295.32         | 3211.75          | 3385.43          |\n",
    "| 시간정렬 Time-Series Split | 33.2s     | 8570.08         | 3578.11          | 3442.75       |\n"
   ]
  },
  {
   "cell_type": "markdown",
   "metadata": {
    "id": "uVHAQBYpqLm0"
   },
   "source": [
    "#### 📚 자료\n",
    "\n",
    "- [TimeSeriesSplit - Scikit-Learn 공식문서](https://scikit-learn.org/stable/modules/generated/sklearn.model_selection.TimeSeriesSplit.html#sklearn.model_selection.TimeSeriesSplit)"
   ]
  },
  {
   "cell_type": "markdown",
   "metadata": {
    "id": "lSVO_LtU2erF"
   },
   "source": [
    "#Reference\n",
    "\n",
    "- [LightGBM](https://lightgbm.readthedocs.io/en/latest/index.html)\n",
    "- [Scikit-Learn](https://scikit-learn.org/stable/index.html)"
   ]
  },
  {
   "cell_type": "markdown",
   "metadata": {
    "id": "4by_4X6tvaX6"
   },
   "source": [
    "## Required Package\n",
    "\n",
    "scikit-learn==1.3.0 <br>\n",
    "numpy==1.23.5 <br>\n",
    "lightgbm==4.0.0 <br>\n",
    "gdown==4.6.6 <br>\n",
    "pandas==1.5.3 <br>\n",
    "\n",
    "\n"
   ]
  }
 ],
 "metadata": {
  "colab": {
   "provenance": [
    {
     "file_id": "1jHsIfs1aNg0CQiVk9xN5oIWPXuksDY3A",
     "timestamp": 1694251867217
    }
   ]
  },
  "kernelspec": {
   "display_name": "Python 3 (ipykernel)",
   "language": "python",
   "name": "python3"
  },
  "language_info": {
   "codemirror_mode": {
    "name": "ipython",
    "version": 3
   },
   "file_extension": ".py",
   "mimetype": "text/x-python",
   "name": "python",
   "nbconvert_exporter": "python",
   "pygments_lexer": "ipython3",
   "version": "3.11.5"
  }
 },
 "nbformat": 4,
 "nbformat_minor": 1
}
